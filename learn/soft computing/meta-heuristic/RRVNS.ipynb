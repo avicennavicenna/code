{
 "cells": [
  {
   "cell_type": "markdown",
   "metadata": {},
   "source": [
    "This is the code to run the meta-heuristic algorithm of RRVNS"
   ]
  },
  {
   "cell_type": "markdown",
   "metadata": {},
   "source": [
    "### Importing necessary operation library"
   ]
  },
  {
   "cell_type": "code",
   "execution_count": 1,
   "metadata": {},
   "outputs": [],
   "source": [
    "import numpy as np\n",
    "import pandas as pd\n",
    "import random\n",
    "import itertools\n",
    "import time\n",
    "import math"
   ]
  },
  {
   "cell_type": "markdown",
   "metadata": {},
   "source": [
    "### Load CAB 10 Data"
   ]
  },
  {
   "cell_type": "code",
   "execution_count": 2,
   "metadata": {},
   "outputs": [],
   "source": [
    "CAB10and25 = pd.read_excel('CAB_TR_RGP_Datasets 2022.xlsx', sheet_name=\"CAB 10 and 25Nodes\", header=None)\n",
    "header_CAB10 = list(range(1,11))\n",
    "flow_CAB10 = CAB10and25[2:12][header_CAB10]\n",
    "flow_CAB10.index = flow_CAB10.index - 2\n",
    "flow_CAB10.columns = list(range(0,10))\n",
    "total_flow = flow_CAB10.to_numpy().sum()\n",
    "cost_CAB10 = CAB10and25[18:28][header_CAB10]\n",
    "cost_CAB10.index = cost_CAB10.index - 18\n",
    "cost_CAB10.columns = list(range(0,10))\n",
    "cost_CAB10=cost_CAB10/total_flow"
   ]
  },
  {
   "cell_type": "markdown",
   "metadata": {},
   "source": [
    "### Load CAB 25 Data"
   ]
  },
  {
   "cell_type": "code",
   "execution_count": 3,
   "metadata": {},
   "outputs": [],
   "source": [
    "header_CAB25 = list(range(1,26))\n",
    "flow_CAB25 = CAB10and25[34:59][header_CAB25]\n",
    "flow_CAB25.index = flow_CAB25.index - 34\n",
    "flow_CAB25.columns = list(range(0,25))\n",
    "total_flow_CAB25 = flow_CAB25.to_numpy().sum()\n",
    "cost_CAB25 = CAB10and25[62:87][header_CAB25]\n",
    "cost_CAB25.index = cost_CAB25.index - 62\n",
    "cost_CAB25.columns = list(range(0,25))\n",
    "cost_CAB25=cost_CAB25/total_flow_CAB25"
   ]
  },
  {
   "cell_type": "code",
   "execution_count": 4,
   "metadata": {},
   "outputs": [],
   "source": [
    "#convert to list\n",
    "flow_CAB25_list = []\n",
    "for i in range(0,25):\n",
    "    flow_CAB25_list.append(list(flow_CAB25[i]))\n",
    "    \n",
    "cost_CAB25_list = []\n",
    "for i in range(0,25):\n",
    "    cost_CAB25_list.append(list(cost_CAB25[i]))"
   ]
  },
  {
   "cell_type": "markdown",
   "metadata": {},
   "source": [
    "### Load TR 55 Data"
   ]
  },
  {
   "cell_type": "code",
   "execution_count": 5,
   "metadata": {},
   "outputs": [],
   "source": [
    "TR55 = pd.read_excel('CAB_TR_RGP_Datasets 2022.xlsx', sheet_name=\"TR 55 Nodes\", header=None)\n",
    "header_TR55 = list(range(3,58))\n",
    "flow_TR55 = TR55[5:60][header_TR55]\n",
    "flow_TR55.index = flow_TR55.index - 5\n",
    "flow_TR55.columns = list(range(0,55))\n",
    "total_flow_TR55 = flow_TR55.to_numpy().sum()\n",
    "\n",
    "cost_TR55 = TR55[63:118][header_TR55]\n",
    "cost_TR55.index = cost_TR55.index - 63\n",
    "cost_TR55.columns = list(range(0,55))\n",
    "cost_TR55=cost_TR55/total_flow_TR55"
   ]
  },
  {
   "cell_type": "code",
   "execution_count": 6,
   "metadata": {},
   "outputs": [],
   "source": [
    "#convert to list\n",
    "flow_TR_55_list = []\n",
    "for i in range(0,55):\n",
    "    flow_TR_55_list.append(list(flow_TR55[i]))\n",
    "    \n",
    "cost_TR_55_list = []\n",
    "for i in range(0,55):\n",
    "    cost_TR_55_list.append(list(cost_TR55[i]))"
   ]
  },
  {
   "cell_type": "markdown",
   "metadata": {},
   "source": [
    "### Load TR 81 Data"
   ]
  },
  {
   "cell_type": "code",
   "execution_count": 7,
   "metadata": {},
   "outputs": [],
   "source": [
    "TR81 = pd.read_excel('CAB_TR_RGP_Datasets 2022.xlsx', sheet_name=\"TR 81 Nodes\", header=None)\n",
    "header_TR81 = list(range(3,84))\n",
    "flow_TR81 = TR81[2:83][header_TR81]\n",
    "flow_TR81.index = flow_TR81.index - 2\n",
    "flow_TR81.columns = list(range(0,81))\n",
    "total_flow_TR81 = flow_TR81.to_numpy().sum()\n",
    "\n",
    "cost_TR81 = TR81[86:167][header_TR81]\n",
    "cost_TR81.index = cost_TR81.index - 86\n",
    "cost_TR81.columns = list(range(0,81))\n",
    "cost_TR81=cost_TR81/total_flow_TR81"
   ]
  },
  {
   "cell_type": "code",
   "execution_count": 8,
   "metadata": {},
   "outputs": [],
   "source": [
    "#convert to list\n",
    "flow_TR_81_list = []\n",
    "for i in range(0,81):\n",
    "    flow_TR_81_list.append(list(flow_TR81[i]))\n",
    "    \n",
    "cost_TR_81_list = []\n",
    "for i in range(0,81):\n",
    "    cost_TR_81_list.append(list(cost_TR81[i]))"
   ]
  },
  {
   "cell_type": "markdown",
   "metadata": {},
   "source": [
    "### Load RGP 100 Data"
   ]
  },
  {
   "cell_type": "code",
   "execution_count": 9,
   "metadata": {},
   "outputs": [],
   "source": [
    "RGP100 = pd.read_excel('CAB_TR_RGP_Datasets 2022.xlsx', sheet_name=\"RGP 100 Nodes\", header=None)\n",
    "header_RGP100 = list(range(1,101))\n",
    "flow_RGP100 = RGP100[3:103][header_RGP100]\n",
    "flow_RGP100.index = flow_RGP100.index - 3\n",
    "flow_RGP100.columns = list(range(0,100))\n",
    "total_flow_RGP100 = flow_RGP100.to_numpy().sum()\n",
    "\n",
    "cost_RGP100 = RGP100[107:209][header_RGP100]\n",
    "cost_RGP100.index = cost_RGP100.index - 107\n",
    "cost_RGP100.columns = list(range(0,100))\n",
    "cost_RGP100=cost_RGP100/total_flow_RGP100"
   ]
  },
  {
   "cell_type": "code",
   "execution_count": 10,
   "metadata": {},
   "outputs": [],
   "source": [
    "#convert to list\n",
    "flow_RGP_100_list = []\n",
    "for i in range(0,100):\n",
    "    flow_RGP_100_list.append(list(flow_RGP100[i]))\n",
    "    \n",
    "cost_RGP_100_list = []\n",
    "for i in range(0,100):\n",
    "    cost_RGP_100_list.append(list(cost_RGP100[i]))"
   ]
  },
  {
   "cell_type": "markdown",
   "metadata": {},
   "source": [
    "### RGP 130 Data"
   ]
  },
  {
   "cell_type": "code",
   "execution_count": 11,
   "metadata": {},
   "outputs": [],
   "source": [
    "RGP130 = pd.read_excel('CAB_TR_RGP_Datasets 2022.xlsx', sheet_name=\"RGP 130 Nodes\", header=None)\n",
    "header_RGP130 = list(range(1,131))\n",
    "flow_RGP130 = RGP130[3:133][header_RGP130]\n",
    "flow_RGP130.index = flow_RGP130.index - 3\n",
    "flow_RGP130.columns = list(range(0,130))\n",
    "total_flow_RGP130 = flow_RGP130.to_numpy().sum()\n",
    "\n",
    "cost_RGP130 = RGP130[137:269][header_RGP130]\n",
    "cost_RGP130.index = cost_RGP130.index - 137\n",
    "cost_RGP130.columns = list(range(0,130))\n",
    "cost_RGP130=cost_RGP130/total_flow_RGP130"
   ]
  },
  {
   "cell_type": "code",
   "execution_count": 12,
   "metadata": {},
   "outputs": [],
   "source": [
    "#convert to list\n",
    "flow_RGP_130_list = []\n",
    "for i in range(0,130):\n",
    "    flow_RGP_130_list.append(list(flow_RGP130[i]))\n",
    "    \n",
    "cost_RGP_130_list = []\n",
    "for i in range(0,130):\n",
    "    cost_RGP_130_list.append(list(cost_RGP130[i]))"
   ]
  },
  {
   "cell_type": "markdown",
   "metadata": {},
   "source": [
    "### Define random initial solution generator"
   ]
  },
  {
   "cell_type": "code",
   "execution_count": 13,
   "metadata": {},
   "outputs": [],
   "source": [
    "#define the random initial solution generator function\n",
    "def random_initial_solution_generator(no_nodes, no_hubs):\n",
    "    nodes = list(range(1, no_nodes+1))\n",
    "    hubs = random.sample(nodes, no_hubs)\n",
    "    solution = [0]*no_nodes\n",
    "    \n",
    "    #getting the hubs\n",
    "    for hub in hubs:\n",
    "        solution.pop(hub-1)\n",
    "        solution.insert(hub-1, hub)\n",
    "    \n",
    "    spoke_index_list = [node-1 for node in nodes if node not in hubs]\n",
    "\n",
    "    #getting the spoke nodes\n",
    "    random.shuffle(spoke_index_list)\n",
    "\n",
    "    for index in spoke_index_list:\n",
    "        solution.pop(index)\n",
    "        solution.insert(index, random.choice(hubs))\n",
    "\n",
    "    return solution"
   ]
  },
  {
   "cell_type": "code",
   "execution_count": 14,
   "metadata": {},
   "outputs": [],
   "source": [
    "#define the random initial solution generator function by least cost function\n",
    "def least_cost_random_hub_based_solution_generator(no_nodes, no_hubs, cost_matrix):\n",
    "\n",
    "    nodes = list(range(1, no_nodes+1))\n",
    "    hubs = random.sample(nodes, no_hubs)\n",
    "    solution = [0]*no_nodes\n",
    "    for hub in hubs:\n",
    "        nodes.remove(hub)\n",
    "        spokes=nodes\n",
    "    spoke_index_list = [(spoke-1) for spoke in spokes]\n",
    "    hub_index_list = [(hub-1) for hub in hubs]\n",
    "\n",
    "\n",
    "\n",
    "    for hub in hubs:\n",
    "        solution.pop(hub-1)\n",
    "        solution.insert(hub-1, hub)\n",
    "    \n",
    "    spoke_index_list = [node-1 for node in nodes if node not in hubs]\n",
    "\n",
    "    \n",
    "    #getting the hubs with the least cost\n",
    "    spoke_hub_cost={}\n",
    "    for spoke_index in spoke_index_list:\n",
    "        spoke_hub_cost[spoke_index+1] = [(cost_matrix[spoke_index][hub-1],hub) for hub in hubs]\n",
    "    spoke_hub_distribution = {}\n",
    "    for spoke in list(spoke_hub_cost.keys()):\n",
    "        costs = [ij[0] for ij in spoke_hub_cost[spoke]]\n",
    "        hub = [ij[1] for ij in spoke_hub_cost[spoke] if ij[0] == min(costs)][0]\n",
    "        spoke_hub_distribution[spoke] = hub  \n",
    "        \n",
    "    #creating the spoke and hub index list\n",
    "    spoke_hub_index_couples = [] \n",
    "    for spoke_index in spoke_index_list:\n",
    "        for hub in hubs:\n",
    "            if spoke_hub_distribution[spoke_index+1] == hub:\n",
    "                spoke_hub_index_couples.append((spoke_index, hub-1))\n",
    "    spoke_hubs_indexes = list(set(spoke_hub_index_couples))\n",
    "\n",
    "    #placing the spoke based on the previous result\n",
    "    for index_couple in spoke_hubs_indexes:\n",
    "        solution.pop(index_couple[0])\n",
    "        solution.insert(index_couple[0],index_couple[1]+1 )\n",
    "\n",
    "    return solution"
   ]
  },
  {
   "cell_type": "code",
   "execution_count": 24,
   "metadata": {},
   "outputs": [],
   "source": [
    "#function to generate the collection of random generated solution and get the best solution\n",
    "def least_cost_solution_collection(no_nodes, no_hubs, cost_matrix, flow_matrix, n_solution, alpha):\n",
    "    solution_list = []\n",
    "    for i in range(0, n_solution):\n",
    "        solution = {}\n",
    "        sol = least_cost_random_hub_based_solution_generator(no_nodes, no_hubs, cost_matrix)\n",
    "        solution['nodes'] = sol\n",
    "        solution['cost'] = total_network_cost(sol, no_nodes, flow_matrix, cost_matrix, alpha )\n",
    "        solution_list.append(solution)\n",
    "    best_solution = min(solution_list, key = lambda item: item['cost'])['nodes']\n",
    "    return best_solution"
   ]
  },
  {
   "cell_type": "markdown",
   "metadata": {},
   "source": [
    "### Define cost function"
   ]
  },
  {
   "cell_type": "code",
   "execution_count": 16,
   "metadata": {},
   "outputs": [],
   "source": [
    "#defining the total network cost\n",
    "def total_network_cost(solution, no_nodes, flow_matrix, cost_matrix, alpha):\n",
    "    total_flow_cost = 0\n",
    "    for i in range(0, no_nodes):\n",
    "        for j in range(0, no_nodes):\n",
    "            flow_cost = flow_matrix[i][j]*(cost_matrix[i][solution[i]-1] + alpha*cost_matrix[solution[i]-1][solution[j]-1] +cost_matrix[solution[j]-1][j] )\n",
    "            total_flow_cost = (total_flow_cost + flow_cost)\n",
    "    return total_flow_cost\n",
    "            "
   ]
  },
  {
   "cell_type": "markdown",
   "metadata": {},
   "source": [
    "### RRVNS"
   ]
  },
  {
   "cell_type": "markdown",
   "metadata": {},
   "source": [
    "#### Defining neighborhood structure"
   ]
  },
  {
   "cell_type": "code",
   "execution_count": 17,
   "metadata": {},
   "outputs": [],
   "source": [
    "def NS_a(solution, no_nodes):\n",
    "    hub_to_spoke = list(set(solution))\n",
    "    spokes = []\n",
    "\n",
    "    for y in hub_to_spoke:\n",
    "        spokes_p_hub = []\n",
    "        for x in range(0,len(solution)):\n",
    "            if solution[x]==y:\n",
    "                spokes_p_hub.append(x+1)\n",
    "            else:\n",
    "                pass\n",
    "        spokes.append(spokes_p_hub)\n",
    "\n",
    "    new_hub_list=[]\n",
    "    for order in range(0,len(spokes)):\n",
    "        random_spoke=[]\n",
    "        for spoke in spokes[order]:\n",
    "            if spoke != hub_to_spoke[order]:\n",
    "                random_spoke.append(spoke)\n",
    "            if random_spoke==[]:\n",
    "                pass\n",
    "            else:\n",
    "                new_spoke = random.choice(list(set(random_spoke)))\n",
    "                new_hub_list.append(new_spoke)\n",
    "\n",
    "    new_solution = list(range(1,no_nodes+1))\n",
    "    for order in range(0,len(spokes)):\n",
    "        for spoke in spokes[order]:\n",
    "            new_solution[spoke-1]=new_hub_list[order]\n",
    "    \n",
    "    return new_solution"
   ]
  },
  {
   "cell_type": "code",
   "execution_count": 31,
   "metadata": {},
   "outputs": [],
   "source": [
    "def NS_b(solution, no_hubs):\n",
    "    hub_to_spoke = list(set(solution))\n",
    "    spoke_index = []\n",
    "    for i in range(0,len(solution)):\n",
    "        if i+1 not in hub_to_spoke:\n",
    "            spoke_index.append(i)\n",
    "    k = 0\n",
    "    while k<1:    \n",
    "        spoke_1 =random.choice(spoke_index)  \n",
    "        spoke_2 =random.choice(spoke_index)  \n",
    "        while spoke_2 == spoke_1:\n",
    "            spoke_2 =random.choice(spoke_index)      \n",
    "        new_solution = solution.copy()\n",
    "        spoke_1_val = solution[spoke_1]\n",
    "        spoke_2_val = solution[spoke_2]\n",
    "        new_solution[spoke_1] = spoke_2_val\n",
    "        new_solution[spoke_2] = spoke_1_val\n",
    "        k+=1\n",
    "    \n",
    "    \n",
    "    return new_solution\n",
    "    "
   ]
  },
  {
   "cell_type": "code",
   "execution_count": 19,
   "metadata": {},
   "outputs": [],
   "source": [
    "#Neighborhood structure c\n",
    "def NS_c(solution, no_nodes):\n",
    "\n",
    "    hub_to_spoke = random.choice(list(set(solution)))\n",
    "\n",
    "    spokes = [node for node in range(1, no_nodes+1) if node not in set(solution)]\n",
    "\n",
    "    spoke_to_hub = random.choice(spokes)   \n",
    "\n",
    "    solution = [spoke_to_hub if x == hub_to_spoke else x for x in solution]\n",
    "    solution[spoke_to_hub -1 ] = spoke_to_hub\n",
    "    return solution\n",
    "    \n",
    "    "
   ]
  },
  {
   "cell_type": "code",
   "execution_count": 32,
   "metadata": {},
   "outputs": [],
   "source": [
    "#Neighborhood structure d\n",
    "def NS_d(solution, no_hubs):\n",
    "\n",
    "    hub1_to_swap = random.choice(list(set(solution)))\n",
    "    hubs_left = [hub for hub in set(solution) if hub != hub1_to_swap ]\n",
    "    hub2_to_swap = random.choice(hubs_left)\n",
    "\n",
    "\n",
    "    hub_spoke = {}\n",
    "    for hub in list(set(solution)):\n",
    "        hub_spoke[hub] = [i for i,val in enumerate(solution) if val==hub]\n",
    "        for spokes in list(hub_spoke.values()):\n",
    "            hub_spoke[hub] = [index for index in spokes if index != hub-1] #hubs and their spokes' indexes \n",
    "\n",
    "        \n",
    "    hub1_index = hub_spoke[hub1_to_swap]\n",
    "    hub2_index = hub_spoke[hub2_to_swap]\n",
    "    \n",
    "    for i in hub1_index:\n",
    "        solution[i] = hub2_to_swap\n",
    "    solution[(hub2_to_swap)-1] = hub2_to_swap\n",
    "    for i in hub2_index:\n",
    "        solution[i] = hub1_to_swap\n",
    "    solution[(hub1_to_swap)-1] = hub1_to_swap\n",
    "        \n",
    "\n",
    "    return solution\n",
    "\n"
   ]
  },
  {
   "cell_type": "code",
   "execution_count": 21,
   "metadata": {},
   "outputs": [],
   "source": [
    "# Neighborhood structure e\n",
    "def NS_e(solution,no_nodes):\n",
    "\n",
    "    hubs = list(set(solution))\n",
    "    nodes = list(range(1,no_nodes+1))\n",
    "    for hub in hubs:\n",
    "        nodes.remove(hub)\n",
    "\n",
    "    spoke = random.choice(nodes)\n",
    "\n",
    "    hub1 = solution[spoke-1]\n",
    "    hubs.remove(hub1)\n",
    "    hub2 = random.choice(hubs)\n",
    "\n",
    "    solution[spoke-1] = hub2\n",
    "    return solution\n",
    "    \n",
    "    "
   ]
  },
  {
   "cell_type": "code",
   "execution_count": 33,
   "metadata": {},
   "outputs": [],
   "source": [
    "# RRVNS function\n",
    "def RRVNS(no_nodes, no_hubs, flow_matrix, cost_matrix, alpha, n_iterations):\n",
    "    start = time.time()\n",
    "    solution = least_cost_solution_collection(no_nodes, no_hubs, cost_matrix, flow_matrix, 500, alpha)\n",
    "    solution_cost = total_network_cost(solution, no_nodes, flow_matrix, cost_matrix, alpha )\n",
    "    counter = 0\n",
    "    k = 1\n",
    "    while counter < n_iterations:\n",
    "\n",
    "        \n",
    "        sol1 = solution.copy()\n",
    "        while len(list(set(sol1))) < no_hubs:\n",
    "            solution = least_cost_solution_collection(no_nodes, no_hubs, cost_matrix, flow_matrix, 500, alpha)\n",
    "            solution_cost = total_network_cost(solution, no_nodes, flow_matrix, cost_matrix, alpha)\n",
    "            sol1 = solution.copy()\n",
    "        \n",
    "        structures= [NS_a, NS_b, NS_c, NS_d, NS_e]\n",
    "        random.shuffle(structures)\n",
    "        chosen = random.choice(structures)\n",
    "        \n",
    "        neighbours = []\n",
    "        for i in range(10):\n",
    "            n = chosen(sol1, no_nodes)\n",
    "            neighbour = n.copy()\n",
    "            neighbours.append(neighbour)\n",
    "        \n",
    "\n",
    "        neighbour_costs = [total_network_cost(neighbour, no_nodes, flow_matrix, cost_matrix, alpha) for neighbour in neighbours]\n",
    "        \n",
    "        if min(neighbour_costs) < solution_cost:\n",
    "            best_neighbour = [neighbour for neighbour in neighbours if min(neighbour_costs) == total_network_cost(neighbour, no_nodes, flow_matrix, cost_matrix, alpha)][0]\n",
    "            best_neighbour_cost = total_network_cost(best_neighbour, no_nodes, flow_matrix, cost_matrix, alpha )\n",
    "            solution = best_neighbour\n",
    "            solution_cost = best_neighbour_cost\n",
    "            counter = counter +1 \n",
    "            \n",
    "        else:\n",
    "            counter = counter + 1\n",
    "            \n",
    "    end = time.time()  \n",
    "    return (solution_cost, solution, end-start)\n",
    "                \n",
    "    \n",
    "    "
   ]
  },
  {
   "cell_type": "markdown",
   "metadata": {},
   "source": [
    "#### RRVNS run"
   ]
  },
  {
   "cell_type": "code",
   "execution_count": 34,
   "metadata": {},
   "outputs": [
    {
     "name": "stdout",
     "output_type": "stream",
     "text": [
      "CAB 25\n",
      "Iteration finished / 767.3493932427589 [4, 17, 17, 4, 4, 4, 4, 4, 4, 4, 4, 12, 4, 17, 4, 4, 17, 17, 12, 17, 4, 12, 12, 4, 17] 50.49221134185791\n",
      "Iteration finished / 775.09673571014 [5, 17, 17, 5, 5, 5, 5, 12, 5, 5, 5, 12, 5, 5, 5, 5, 17, 17, 12, 5, 5, 12, 12, 5, 17] 60.0810341835022\n",
      "Iteration finished / 767.3493932427589 [4, 17, 17, 4, 4, 4, 4, 4, 4, 4, 4, 12, 4, 17, 4, 4, 17, 17, 12, 17, 4, 12, 12, 4, 17] 55.16520285606384\n",
      "Iteration finished / 767.3493932427589 [4, 17, 17, 4, 4, 4, 4, 4, 4, 4, 4, 12, 4, 17, 4, 4, 17, 17, 12, 17, 4, 12, 12, 4, 17] 46.24565100669861\n",
      "Iteration finished / 767.3493932427589 [4, 17, 17, 4, 4, 4, 4, 4, 4, 4, 4, 12, 4, 17, 4, 4, 17, 17, 12, 17, 4, 12, 12, 4, 17] 44.448837995529175\n",
      "Iteration finished / 774.3090521916829 [21, 17, 17, 21, 21, 17, 21, 21, 21, 21, 21, 12, 21, 21, 21, 21, 17, 17, 12, 17, 21, 12, 12, 21, 17] 45.23187470436096\n",
      "Iteration finished / 767.3493932427589 [4, 17, 17, 4, 4, 4, 4, 4, 4, 4, 4, 12, 4, 17, 4, 4, 17, 17, 12, 17, 4, 12, 12, 4, 17] 50.98678517341614\n",
      "Iteration finished / 767.3493932427589 [4, 17, 17, 4, 4, 4, 4, 4, 4, 4, 4, 12, 4, 17, 4, 4, 17, 17, 12, 17, 4, 12, 12, 4, 17] 49.091174840927124\n",
      "Iteration finished / 767.3493932427589 [4, 17, 17, 4, 4, 4, 4, 4, 4, 4, 4, 12, 4, 17, 4, 4, 17, 17, 12, 17, 4, 12, 12, 4, 17] 52.50668001174927\n",
      "Iteration finished / 767.3493932427589 [4, 17, 17, 4, 4, 4, 4, 4, 4, 4, 4, 12, 4, 17, 4, 4, 17, 17, 12, 17, 4, 12, 12, 4, 17] 49.242603063583374\n",
      "All finished\n"
     ]
    }
   ],
   "source": [
    "print(\"CAB 25\")\n",
    "\n",
    "\n",
    "global_best_solution = []\n",
    "replication = 0\n",
    "n_replication = 10\n",
    "\n",
    "while replication < n_replication:\n",
    "    best_solution = {}\n",
    "    best_run_cost, best_sol , runtime= a = RRVNS(25, 3, flow_CAB25_list, cost_CAB25_list, 0.2, 15000)\n",
    "    best_solution['solution'] = best_sol\n",
    "    best_solution['cost'] = best_run_cost\n",
    "    global_best_solution.append(best_solution)\n",
    "    replication += 1\n",
    "    print('Iteration finished /',best_run_cost, best_sol , runtime)\n",
    "print('All finished')   \n",
    "\n"
   ]
  },
  {
   "cell_type": "code",
   "execution_count": 46,
   "metadata": {},
   "outputs": [],
   "source": [
    "CAB25_3_2_RRVNS = global_best_solution.copy()"
   ]
  },
  {
   "cell_type": "code",
   "execution_count": 47,
   "metadata": {},
   "outputs": [
    {
     "name": "stdout",
     "output_type": "stream",
     "text": [
      "CAB25:  Best solution : 767.3493932427589  gap:  -7.907177183083286e-05 %\n"
     ]
    }
   ],
   "source": [
    "best_cost = min(CAB25_3_2_RRVNS, key = lambda item: item['cost'])['cost']\n",
    "best_solution = min(CAB25_3_2_RRVNS, key = lambda item: item['cost'])['solution']\n",
    "gap = (best_cost-767.35)*100/767.35\n",
    "print('CAB25: ','Best solution :',str(best_cost),' gap: ',gap,'%')"
   ]
  },
  {
   "cell_type": "code",
   "execution_count": 48,
   "metadata": {},
   "outputs": [
    {
     "data": {
      "text/plain": [
       "770.5438444212834"
      ]
     },
     "execution_count": 48,
     "metadata": {},
     "output_type": "execute_result"
    }
   ],
   "source": [
    "pd.DataFrame(CAB25_3_2_RRVNS).to_csv('CAB25_3_2_RRVNS.csv')\n",
    "pd.DataFrame(global_best_solution)['cost'].mean()"
   ]
  },
  {
   "cell_type": "code",
   "execution_count": 50,
   "metadata": {},
   "outputs": [
    {
     "name": "stdout",
     "output_type": "stream",
     "text": [
      "CAB 25\n",
      "Iteration finished / 1158.831054255274 [2, 2, 2, 4, 4, 2, 4, 4, 4, 4, 4, 12, 4, 2, 4, 4, 2, 2, 12, 2, 4, 12, 12, 2, 2] 44.611027002334595\n",
      "Iteration finished / 1158.831054255274 [2, 2, 2, 4, 4, 2, 4, 4, 4, 4, 4, 12, 4, 2, 4, 4, 2, 2, 12, 2, 4, 12, 12, 2, 2] 44.814998149871826\n",
      "Iteration finished / 1158.831054255274 [2, 2, 2, 4, 4, 2, 4, 4, 4, 4, 4, 12, 4, 2, 4, 4, 2, 2, 12, 2, 4, 12, 12, 2, 2] 44.59806990623474\n",
      "Iteration finished / 1166.3107089119273 [25, 25, 25, 21, 25, 25, 21, 21, 25, 21, 21, 12, 21, 25, 21, 21, 25, 25, 12, 25, 21, 12, 12, 25, 25] 44.443572998046875\n",
      "Iteration finished / 1158.831054255274 [2, 2, 2, 4, 4, 2, 4, 4, 4, 4, 4, 12, 4, 2, 4, 4, 2, 2, 12, 2, 4, 12, 12, 2, 2] 45.27371406555176\n",
      "Iteration finished / 1166.3107089119273 [25, 25, 25, 21, 25, 25, 21, 21, 25, 21, 21, 12, 21, 25, 21, 21, 25, 25, 12, 25, 21, 12, 12, 25, 25] 47.24323391914368\n",
      "Iteration finished / 1175.2141831561148 [2, 2, 2, 4, 4, 2, 4, 8, 4, 4, 4, 8, 4, 2, 4, 4, 2, 2, 8, 2, 4, 8, 8, 2, 2] 46.16134810447693\n",
      "Iteration finished / 1158.831054255274 [2, 2, 2, 4, 4, 2, 4, 4, 4, 4, 4, 12, 4, 2, 4, 4, 2, 2, 12, 2, 4, 12, 12, 2, 2] 44.7913122177124\n",
      "Iteration finished / 1175.2141831561148 [2, 2, 2, 4, 4, 2, 4, 8, 4, 4, 4, 8, 4, 2, 4, 4, 2, 2, 8, 2, 4, 8, 8, 2, 2] 44.582722902297974\n",
      "Iteration finished / 1158.831054255274 [2, 2, 2, 4, 4, 2, 4, 4, 4, 4, 4, 12, 4, 2, 4, 4, 2, 2, 12, 2, 4, 12, 12, 2, 2] 44.73757004737854\n",
      "All finished\n"
     ]
    }
   ],
   "source": [
    "print(\"CAB 25\")\n",
    "\n",
    "\n",
    "global_best_solution = []\n",
    "replication = 0\n",
    "n_replication = 10\n",
    "\n",
    "while replication < n_replication:\n",
    "    best_solution = {}\n",
    "    best_run_cost, best_sol , runtime= a = RRVNS(25, 3, flow_CAB25_list, cost_CAB25_list, 0.8, 15000)\n",
    "    best_solution['solution'] = best_sol\n",
    "    best_solution['cost'] = best_run_cost\n",
    "    global_best_solution.append(best_solution)\n",
    "    replication += 1\n",
    "    print('Iteration finished /',best_run_cost, best_sol , runtime)\n",
    "print('All finished')   \n",
    "\n"
   ]
  },
  {
   "cell_type": "code",
   "execution_count": 51,
   "metadata": {},
   "outputs": [],
   "source": [
    "CAB25_3_8_RRVNS = global_best_solution.copy()"
   ]
  },
  {
   "cell_type": "code",
   "execution_count": 52,
   "metadata": {},
   "outputs": [
    {
     "name": "stdout",
     "output_type": "stream",
     "text": [
      "CAB25:  Best solution : 1158.831054255274  gap:  9.097583546201133e-05 %\n"
     ]
    }
   ],
   "source": [
    "best_cost = min(CAB25_3_8_RRVNS, key = lambda item: item['cost'])['cost']\n",
    "best_solution = min(CAB25_3_8_RRVNS, key = lambda item: item['cost'])['solution']\n",
    "gap = (best_cost-1158.83)*100/1158.83\n",
    "print('CAB25: ','Best solution :',str(best_cost),' gap: ',gap,'%')"
   ]
  },
  {
   "cell_type": "code",
   "execution_count": 53,
   "metadata": {},
   "outputs": [
    {
     "data": {
      "text/plain": [
       "1163.6036109667727"
      ]
     },
     "execution_count": 53,
     "metadata": {},
     "output_type": "execute_result"
    }
   ],
   "source": [
    "pd.DataFrame(CAB25_3_8_RRVNS).to_csv('CAB25_3_8_RRVNS.csv')\n",
    "pd.DataFrame(global_best_solution)['cost'].mean()"
   ]
  },
  {
   "cell_type": "code",
   "execution_count": 54,
   "metadata": {},
   "outputs": [
    {
     "name": "stdout",
     "output_type": "stream",
     "text": [
      "CAB 25\n",
      "Iteration finished / 538.3741044834153 [4, 17, 17, 4, 4, 4, 7, 7, 4, 7, 4, 12, 7, 14, 4, 7, 17, 17, 12, 17, 4, 12, 12, 14, 17] 45.86617398262024\n",
      "Iteration finished / 590.328929706663 [16, 17, 17, 4, 6, 6, 16, 4, 6, 16, 4, 12, 16, 16, 4, 16, 17, 17, 12, 6, 4, 12, 12, 16, 17] 44.73178791999817\n",
      "Iteration finished / 541.1941264611194 [24, 17, 17, 4, 4, 4, 7, 7, 4, 7, 4, 12, 7, 24, 4, 7, 17, 17, 12, 17, 4, 12, 12, 24, 17] 45.11930823326111\n",
      "Iteration finished / 541.1941264611194 [24, 17, 17, 4, 4, 4, 7, 7, 4, 7, 4, 12, 7, 24, 4, 7, 17, 17, 12, 17, 4, 12, 12, 24, 17] 46.81515598297119\n",
      "Iteration finished / 538.3741044834153 [4, 17, 17, 4, 4, 4, 7, 7, 4, 7, 4, 12, 7, 14, 4, 7, 17, 17, 12, 17, 4, 12, 12, 14, 17] 44.80964112281799\n",
      "Iteration finished / 538.3741044834153 [4, 17, 17, 4, 4, 4, 7, 7, 4, 7, 4, 12, 7, 14, 4, 7, 17, 17, 12, 17, 4, 12, 12, 14, 17] 44.98163294792175\n",
      "Iteration finished / 541.1941264611194 [24, 17, 17, 4, 4, 4, 7, 7, 4, 7, 4, 12, 7, 24, 4, 7, 17, 17, 12, 17, 4, 12, 12, 24, 17] 44.965397119522095\n",
      "Iteration finished / 538.3741044834153 [4, 17, 17, 4, 4, 4, 7, 7, 4, 7, 4, 12, 7, 14, 4, 7, 17, 17, 12, 17, 4, 12, 12, 14, 17] 45.05037999153137\n",
      "Iteration finished / 541.1941264611194 [24, 17, 17, 4, 4, 4, 7, 7, 4, 7, 4, 12, 7, 24, 4, 7, 17, 17, 12, 17, 4, 12, 12, 24, 17] 45.03261995315552\n",
      "Iteration finished / 538.3741044834153 [4, 17, 17, 4, 4, 4, 7, 7, 4, 7, 4, 12, 7, 14, 4, 7, 17, 17, 12, 17, 4, 12, 12, 14, 17] 44.886306047439575\n",
      "All finished\n"
     ]
    }
   ],
   "source": [
    "print(\"CAB 25\")\n",
    "\n",
    "\n",
    "global_best_solution = []\n",
    "replication = 0\n",
    "n_replication = 10\n",
    "\n",
    "while replication < n_replication:\n",
    "    best_solution = {}\n",
    "    best_run_cost, best_sol , runtime= a = RRVNS(25, 5, flow_CAB25_list, cost_CAB25_list, 0.2, 15000)\n",
    "    best_solution['solution'] = best_sol\n",
    "    best_solution['cost'] = best_run_cost\n",
    "    global_best_solution.append(best_solution)\n",
    "    replication += 1\n",
    "    print('Iteration finished /',best_run_cost, best_sol , runtime)\n",
    "print('All finished')   \n",
    "\n"
   ]
  },
  {
   "cell_type": "code",
   "execution_count": 55,
   "metadata": {},
   "outputs": [
    {
     "name": "stdout",
     "output_type": "stream",
     "text": [
      "CAB25:  Best solution : 538.3741044834153  gap:  0.0007623908121347597 %\n"
     ]
    }
   ],
   "source": [
    "best_cost = min(global_best_solution, key = lambda item: item['cost'])['cost']\n",
    "best_solution = min(global_best_solution, key = lambda item: item['cost'])['solution']\n",
    "gap = (best_cost-538.37)*100/538.37\n",
    "print('CAB25: ','Best solution :',str(best_cost),' gap: ',gap,'%')"
   ]
  },
  {
   "cell_type": "code",
   "execution_count": 56,
   "metadata": {},
   "outputs": [],
   "source": [
    "CAB25_5_2_RRVNS = global_best_solution.copy()"
   ]
  },
  {
   "cell_type": "code",
   "execution_count": 57,
   "metadata": {},
   "outputs": [
    {
     "data": {
      "text/plain": [
       "544.6975957968217"
      ]
     },
     "execution_count": 57,
     "metadata": {},
     "output_type": "execute_result"
    }
   ],
   "source": [
    "pd.DataFrame(CAB25_5_2_RRVNS).to_csv('CAB25_5_2_RRVNS.csv')\n",
    "pd.DataFrame(global_best_solution)['cost'].mean()"
   ]
  },
  {
   "cell_type": "code",
   "execution_count": 58,
   "metadata": {},
   "outputs": [
    {
     "name": "stdout",
     "output_type": "stream",
     "text": [
      "CAB 25\n",
      "Iteration finished / 1034.1028455791147 [1, 18, 18, 4, 4, 4, 7, 7, 4, 7, 4, 12, 1, 1, 4, 1, 18, 18, 12, 18, 4, 12, 12, 1, 18] 46.20102000236511\n",
      "Iteration finished / 1043.6689737437891 [1, 17, 17, 4, 6, 6, 1, 4, 6, 1, 4, 12, 1, 1, 4, 1, 17, 17, 12, 6, 4, 12, 12, 1, 17] 45.44517207145691\n",
      "Iteration finished / 1034.1028455791147 [1, 18, 18, 4, 4, 4, 7, 7, 4, 7, 4, 12, 1, 1, 4, 1, 18, 18, 12, 18, 4, 12, 12, 1, 18] 45.48676872253418\n",
      "Iteration finished / 1034.1028455791147 [1, 18, 18, 4, 4, 4, 7, 7, 4, 7, 4, 12, 1, 1, 4, 1, 18, 18, 12, 18, 4, 12, 12, 1, 18] 46.05865693092346\n",
      "Iteration finished / 1034.1028455791147 [1, 18, 18, 4, 4, 4, 7, 7, 4, 7, 4, 12, 1, 1, 4, 1, 18, 18, 12, 18, 4, 12, 12, 1, 18] 45.43866515159607\n",
      "Iteration finished / 1034.1028455791147 [1, 18, 18, 4, 4, 4, 7, 7, 4, 7, 4, 12, 1, 1, 4, 1, 18, 18, 12, 18, 4, 12, 12, 1, 18] 45.276872396469116\n",
      "Iteration finished / 1034.1028455791147 [1, 18, 18, 4, 4, 4, 7, 7, 4, 7, 4, 12, 1, 1, 4, 1, 18, 18, 12, 18, 4, 12, 12, 1, 18] 45.685338258743286\n",
      "Iteration finished / 1034.1028455791147 [1, 18, 18, 4, 4, 4, 7, 7, 4, 7, 4, 12, 1, 1, 4, 1, 18, 18, 12, 18, 4, 12, 12, 1, 18] 45.58904004096985\n",
      "Iteration finished / 1034.1028455791147 [1, 18, 18, 4, 4, 4, 7, 7, 4, 7, 4, 12, 1, 1, 4, 1, 18, 18, 12, 18, 4, 12, 12, 1, 18] 45.41002607345581\n",
      "Iteration finished / 1068.810550934863 [1, 18, 18, 4, 4, 4, 21, 8, 4, 21, 21, 8, 21, 1, 4, 1, 18, 18, 8, 18, 21, 8, 8, 1, 18] 45.24944472312927\n",
      "All finished\n"
     ]
    }
   ],
   "source": [
    "print(\"CAB 25\")\n",
    "\n",
    "\n",
    "global_best_solution = []\n",
    "replication = 0\n",
    "n_replication = 10\n",
    "\n",
    "while replication < n_replication:\n",
    "    best_solution = {}\n",
    "    best_run_cost, best_sol , runtime= a = RRVNS(25, 5, flow_CAB25_list, cost_CAB25_list, 0.8, 15000)\n",
    "    best_solution['solution'] = best_sol\n",
    "    best_solution['cost'] = best_run_cost\n",
    "    global_best_solution.append(best_solution)\n",
    "    replication += 1\n",
    "    print('Iteration finished /',best_run_cost, best_sol , runtime)\n",
    "print('All finished')   \n",
    "\n"
   ]
  },
  {
   "cell_type": "code",
   "execution_count": 59,
   "metadata": {},
   "outputs": [
    {
     "name": "stdout",
     "output_type": "stream",
     "text": [
      "CAB25:  Best solution : 1034.1028455791147  gap:  0.00027517446231689147 %\n"
     ]
    }
   ],
   "source": [
    "best_cost = min(global_best_solution, key = lambda item: item['cost'])['cost']\n",
    "best_solution = min(global_best_solution, key = lambda item: item['cost'])['solution']\n",
    "gap = (best_cost-1034.1)*100/1034.1\n",
    "print('CAB25: ','Best solution :',str(best_cost),' gap: ',gap,'%')"
   ]
  },
  {
   "cell_type": "code",
   "execution_count": 60,
   "metadata": {},
   "outputs": [],
   "source": [
    "CAB25_5_8_RRVNS = global_best_solution.copy()"
   ]
  },
  {
   "cell_type": "code",
   "execution_count": 61,
   "metadata": {},
   "outputs": [
    {
     "data": {
      "text/plain": [
       "1038.5302289311571"
      ]
     },
     "execution_count": 61,
     "metadata": {},
     "output_type": "execute_result"
    }
   ],
   "source": [
    "pd.DataFrame(CAB25_5_8_RRVNS).to_csv('CAB25_5_8_RRVNS.csv')\n",
    "pd.DataFrame(global_best_solution)['cost'].mean()"
   ]
  },
  {
   "cell_type": "code",
   "execution_count": 62,
   "metadata": {},
   "outputs": [
    {
     "name": "stdout",
     "output_type": "stream",
     "text": [
      "TR 55\n",
      "Iteration finished / 592.6383578725273 [19, 19, 19, 4, 4, 19, 30, 30, 19, 19, 4, 30, 30, 4, 19, 30, 19, 30, 19, 4, 4, 19, 19, 4, 19, 30, 30, 4, 4, 30, 4, 30, 30, 19, 19, 19, 4, 19, 4, 30, 19, 19, 4, 30, 4, 4, 4, 19, 4, 19, 19, 30, 4, 19, 19] 206.9911711215973\n",
      "Iteration finished / 592.6383578725273 [19, 19, 19, 4, 4, 19, 30, 30, 19, 19, 4, 30, 30, 4, 19, 30, 19, 30, 19, 4, 4, 19, 19, 4, 19, 30, 30, 4, 4, 30, 4, 30, 30, 19, 19, 19, 4, 19, 4, 30, 19, 19, 4, 30, 4, 4, 4, 19, 4, 19, 19, 30, 4, 19, 19] 205.60889506340027\n",
      "Iteration finished / 619.3316489101366 [34, 34, 34, 32, 32, 34, 32, 32, 34, 34, 32, 32, 26, 32, 34, 26, 34, 32, 34, 34, 34, 34, 34, 32, 34, 26, 32, 34, 34, 26, 32, 32, 32, 34, 34, 34, 34, 34, 26, 26, 34, 34, 34, 26, 34, 34, 32, 34, 26, 34, 34, 26, 26, 34, 34] 206.51125478744507\n",
      "Iteration finished / 592.6383578725273 [19, 19, 19, 4, 4, 19, 30, 30, 19, 19, 4, 30, 30, 4, 19, 30, 19, 30, 19, 4, 4, 19, 19, 4, 19, 30, 30, 4, 4, 30, 4, 30, 30, 19, 19, 19, 4, 19, 4, 30, 19, 19, 4, 30, 4, 4, 4, 19, 4, 19, 19, 30, 4, 19, 19] 207.88542485237122\n",
      "Iteration finished / 603.3083832086837 [45, 15, 15, 45, 45, 15, 30, 30, 15, 15, 45, 30, 30, 45, 15, 30, 15, 30, 15, 45, 15, 15, 45, 45, 45, 30, 30, 45, 45, 30, 45, 30, 30, 45, 15, 15, 45, 15, 30, 30, 15, 15, 45, 30, 45, 15, 45, 15, 30, 15, 15, 30, 30, 15, 45] 205.25709795951843\n",
      "Iteration finished / 592.6383578725273 [19, 19, 19, 4, 4, 19, 30, 30, 19, 19, 4, 30, 30, 4, 19, 30, 19, 30, 19, 4, 4, 19, 19, 4, 19, 30, 30, 4, 4, 30, 4, 30, 30, 19, 19, 19, 4, 19, 4, 30, 19, 19, 4, 30, 4, 4, 4, 19, 4, 19, 19, 30, 4, 19, 19] 206.8106780052185\n",
      "Iteration finished / 603.3083832086837 [45, 15, 15, 45, 45, 15, 30, 30, 15, 15, 45, 30, 30, 45, 15, 30, 15, 30, 15, 45, 15, 15, 45, 45, 45, 30, 30, 45, 45, 30, 45, 30, 30, 45, 15, 15, 45, 15, 30, 30, 15, 15, 45, 30, 45, 15, 45, 15, 30, 15, 15, 30, 30, 15, 45] 205.88566088676453\n",
      "Iteration finished / 592.6383578725273 [19, 19, 19, 4, 4, 19, 30, 30, 19, 19, 4, 30, 30, 4, 19, 30, 19, 30, 19, 4, 4, 19, 19, 4, 19, 30, 30, 4, 4, 30, 4, 30, 30, 19, 19, 19, 4, 19, 4, 30, 19, 19, 4, 30, 4, 4, 4, 19, 4, 19, 19, 30, 4, 19, 19] 208.2220687866211\n",
      "Iteration finished / 592.6383578725273 [19, 19, 19, 4, 4, 19, 30, 30, 19, 19, 4, 30, 30, 4, 19, 30, 19, 30, 19, 4, 4, 19, 19, 4, 19, 30, 30, 4, 4, 30, 4, 30, 30, 19, 19, 19, 4, 19, 4, 30, 19, 19, 4, 30, 4, 4, 4, 19, 4, 19, 19, 30, 4, 19, 19] 209.3049910068512\n",
      "Iteration finished / 640.2094457441757 [34, 34, 34, 30, 24, 34, 30, 30, 34, 34, 24, 30, 30, 30, 34, 30, 34, 30, 34, 34, 34, 34, 34, 24, 34, 30, 24, 34, 34, 30, 24, 30, 24, 34, 34, 34, 30, 34, 30, 30, 34, 34, 34, 30, 24, 34, 24, 34, 30, 34, 34, 30, 30, 34, 34] 208.22076797485352\n",
      "All finished\n"
     ]
    }
   ],
   "source": [
    "print(\"TR 55\")\n",
    "\n",
    "\n",
    "global_best_solution = []\n",
    "replication = 0\n",
    "n_replication = 10\n",
    "\n",
    "while replication < n_replication:\n",
    "    best_solution = {}\n",
    "    best_run_cost, best_sol , runtime= a = RRVNS(55, 3, flow_TR_55_list, cost_TR_55_list, 0.2, 15000)\n",
    "    best_solution['solution'] = best_sol\n",
    "    best_solution['cost'] = best_run_cost\n",
    "    global_best_solution.append(best_solution)\n",
    "    replication += 1\n",
    "    print('Iteration finished /',best_run_cost, best_sol , runtime)\n",
    "print('All finished')   \n",
    "\n"
   ]
  },
  {
   "cell_type": "code",
   "execution_count": 63,
   "metadata": {},
   "outputs": [
    {
     "name": "stdout",
     "output_type": "stream",
     "text": [
      "TR55:  Best solution : 592.6383578725273  gap:  -0.00027708684406690606 %\n"
     ]
    }
   ],
   "source": [
    "best_cost = min(global_best_solution, key = lambda item: item['cost'])['cost']\n",
    "best_solution = min(global_best_solution, key = lambda item: item['cost'])['solution']\n",
    "gap = (best_cost-592.64)*100/592.64\n",
    "print('TR55: ','Best solution :',str(best_cost),' gap: ',gap,'%')"
   ]
  },
  {
   "cell_type": "code",
   "execution_count": 64,
   "metadata": {},
   "outputs": [],
   "source": [
    "TR55_3_2_RRVNS = global_best_solution.copy()"
   ]
  },
  {
   "cell_type": "code",
   "execution_count": 65,
   "metadata": {},
   "outputs": [
    {
     "data": {
      "text/plain": [
       "602.1988008306843"
      ]
     },
     "execution_count": 65,
     "metadata": {},
     "output_type": "execute_result"
    }
   ],
   "source": [
    "pd.DataFrame(TR55_3_2_RRVNS).to_csv('TR55_3_2_RRVNS.csv')\n",
    "pd.DataFrame(global_best_solution)['cost'].mean()"
   ]
  },
  {
   "cell_type": "code",
   "execution_count": 66,
   "metadata": {},
   "outputs": [
    {
     "name": "stdout",
     "output_type": "stream",
     "text": [
      "TR 55\n",
      "Iteration finished / 432.1893108255854 [1, 15, 15, 4, 33, 15, 33, 26, 15, 15, 33, 26, 26, 4, 15, 26, 15, 4, 1, 4, 15, 15, 1, 33, 1, 26, 33, 4, 4, 26, 4, 4, 33, 1, 15, 15, 4, 15, 4, 26, 15, 15, 4, 4, 4, 15, 1, 15, 4, 15, 15, 26, 4, 1, 1] 205.96670603752136\n",
      "Iteration finished / 432.1893108255854 [1, 15, 15, 4, 33, 15, 33, 26, 15, 15, 33, 26, 26, 4, 15, 26, 15, 4, 1, 4, 15, 15, 1, 33, 1, 26, 33, 4, 4, 26, 4, 4, 33, 1, 15, 15, 4, 15, 4, 26, 15, 15, 4, 4, 4, 15, 1, 15, 4, 15, 15, 26, 4, 1, 1] 205.50761699676514\n",
      "Iteration finished / 432.1893108255854 [1, 15, 15, 4, 33, 15, 33, 26, 15, 15, 33, 26, 26, 4, 15, 26, 15, 4, 1, 4, 15, 15, 1, 33, 1, 26, 33, 4, 4, 26, 4, 4, 33, 1, 15, 15, 4, 15, 4, 26, 15, 15, 4, 4, 4, 15, 1, 15, 4, 15, 15, 26, 4, 1, 1] 206.3214190006256\n",
      "Iteration finished / 432.1893108255854 [1, 15, 15, 4, 33, 15, 33, 26, 15, 15, 33, 26, 26, 4, 15, 26, 15, 4, 1, 4, 15, 15, 1, 33, 1, 26, 33, 4, 4, 26, 4, 4, 33, 1, 15, 15, 4, 15, 4, 26, 15, 15, 4, 4, 4, 15, 1, 15, 4, 15, 15, 26, 4, 1, 1] 205.17113971710205\n",
      "Iteration finished / 432.1893108255854 [1, 15, 15, 4, 33, 15, 33, 26, 15, 15, 33, 26, 26, 4, 15, 26, 15, 4, 1, 4, 15, 15, 1, 33, 1, 26, 33, 4, 4, 26, 4, 4, 33, 1, 15, 15, 4, 15, 4, 26, 15, 15, 4, 4, 4, 15, 1, 15, 4, 15, 15, 26, 4, 1, 1] 206.05117392539978\n",
      "Iteration finished / 432.1893108255854 [1, 15, 15, 4, 33, 15, 33, 26, 15, 15, 33, 26, 26, 4, 15, 26, 15, 4, 1, 4, 15, 15, 1, 33, 1, 26, 33, 4, 4, 26, 4, 4, 33, 1, 15, 15, 4, 15, 4, 26, 15, 15, 4, 4, 4, 15, 1, 15, 4, 15, 15, 26, 4, 1, 1] 206.79514694213867\n",
      "Iteration finished / 432.1893108255854 [1, 15, 15, 4, 33, 15, 33, 26, 15, 15, 33, 26, 26, 4, 15, 26, 15, 4, 1, 4, 15, 15, 1, 33, 1, 26, 33, 4, 4, 26, 4, 4, 33, 1, 15, 15, 4, 15, 4, 26, 15, 15, 4, 4, 4, 15, 1, 15, 4, 15, 15, 26, 4, 1, 1] 206.4651210308075\n",
      "Iteration finished / 432.1893108255854 [1, 15, 15, 4, 33, 15, 33, 26, 15, 15, 33, 26, 26, 4, 15, 26, 15, 4, 1, 4, 15, 15, 1, 33, 1, 26, 33, 4, 4, 26, 4, 4, 33, 1, 15, 15, 4, 15, 4, 26, 15, 15, 4, 4, 4, 15, 1, 15, 4, 15, 15, 26, 4, 1, 1] 210.86473608016968\n",
      "Iteration finished / 432.1893108255854 [1, 15, 15, 4, 33, 15, 33, 26, 15, 15, 33, 26, 26, 4, 15, 26, 15, 4, 1, 4, 15, 15, 1, 33, 1, 26, 33, 4, 4, 26, 4, 4, 33, 1, 15, 15, 4, 15, 4, 26, 15, 15, 4, 4, 4, 15, 1, 15, 4, 15, 15, 26, 4, 1, 1] 209.10799503326416\n",
      "Iteration finished / 432.1893108255854 [1, 15, 15, 4, 33, 15, 33, 26, 15, 15, 33, 26, 26, 4, 15, 26, 15, 4, 1, 4, 15, 15, 1, 33, 1, 26, 33, 4, 4, 26, 4, 4, 33, 1, 15, 15, 4, 15, 4, 26, 15, 15, 4, 4, 4, 15, 1, 15, 4, 15, 15, 26, 4, 1, 1] 209.10350394248962\n",
      "All finished\n"
     ]
    }
   ],
   "source": [
    "print(\"TR 55\")\n",
    "\n",
    "\n",
    "global_best_solution = []\n",
    "replication = 0\n",
    "n_replication = 10\n",
    "\n",
    "while replication < n_replication:\n",
    "    best_solution = {}\n",
    "    best_run_cost, best_sol , runtime= a = RRVNS(55, 5, flow_TR_55_list, cost_TR_55_list, 0.2, 15000)\n",
    "    best_solution['solution'] = best_sol\n",
    "    best_solution['cost'] = best_run_cost\n",
    "    global_best_solution.append(best_solution)\n",
    "    replication += 1\n",
    "    print('Iteration finished /',best_run_cost, best_sol , runtime)\n",
    "print('All finished')   \n",
    "\n"
   ]
  },
  {
   "cell_type": "code",
   "execution_count": 67,
   "metadata": {},
   "outputs": [],
   "source": [
    "TR55_5_2_RRVNS = global_best_solution.copy()"
   ]
  },
  {
   "cell_type": "code",
   "execution_count": 68,
   "metadata": {},
   "outputs": [
    {
     "name": "stdout",
     "output_type": "stream",
     "text": [
      "TR55:  Best solution : 432.1893108255854  gap:  -0.0001594609811928446 %\n"
     ]
    }
   ],
   "source": [
    "best_cost = min(TR55_5_2_RRVNS, key = lambda item: item['cost'])['cost']\n",
    "best_solution = min(TR55_5_2_RRVNS, key = lambda item: item['cost'])['solution']\n",
    "gap = (best_cost-432.19)*100/432.19\n",
    "print('TR55: ','Best solution :',str(best_cost),' gap: ',gap,'%')"
   ]
  },
  {
   "cell_type": "code",
   "execution_count": 69,
   "metadata": {},
   "outputs": [
    {
     "data": {
      "text/plain": [
       "432.1893108255854"
      ]
     },
     "execution_count": 69,
     "metadata": {},
     "output_type": "execute_result"
    }
   ],
   "source": [
    "pd.DataFrame(TR55_5_2_RRVNS).to_csv('TR55_5_2_RRVNS.csv')\n",
    "pd.DataFrame(global_best_solution)['cost'].mean()"
   ]
  },
  {
   "cell_type": "code",
   "execution_count": 78,
   "metadata": {},
   "outputs": [
    {
     "name": "stdout",
     "output_type": "stream",
     "text": [
      "TR 55\n",
      "Iteration finished / 853.3503624802506 [1, 1, 4, 4, 4, 4, 30, 30, 1, 1, 4, 30, 30, 4, 1, 30, 1, 4, 1, 4, 4, 1, 1, 4, 1, 30, 30, 4, 4, 30, 4, 30, 30, 1, 1, 1, 4, 1, 4, 30, 1, 1, 4, 30, 4, 4, 4, 1, 4, 4, 4, 30, 4, 1, 1] 207.00286388397217\n",
      "Iteration finished / 853.3503624802506 [1, 1, 4, 4, 4, 4, 30, 30, 1, 1, 4, 30, 30, 4, 1, 30, 1, 4, 1, 4, 4, 1, 1, 4, 1, 30, 30, 4, 4, 30, 4, 30, 30, 1, 1, 1, 4, 1, 4, 30, 1, 1, 4, 30, 4, 4, 4, 1, 4, 4, 4, 30, 4, 1, 1] 207.30772805213928\n",
      "Iteration finished / 886.7936066973355 [1, 1, 17, 4, 4, 17, 4, 4, 17, 17, 4, 4, 4, 4, 17, 4, 17, 4, 1, 4, 17, 17, 1, 4, 1, 4, 4, 4, 4, 4, 4, 4, 4, 1, 17, 17, 4, 17, 4, 4, 17, 1, 4, 4, 4, 17, 4, 17, 4, 17, 17, 4, 4, 1, 1] 206.63456201553345\n",
      "Iteration finished / 853.3503624802506 [1, 1, 4, 4, 4, 4, 30, 30, 1, 1, 4, 30, 30, 4, 1, 30, 1, 4, 1, 4, 4, 1, 1, 4, 1, 30, 30, 4, 4, 30, 4, 30, 30, 1, 1, 1, 4, 1, 4, 30, 1, 1, 4, 30, 4, 4, 4, 1, 4, 4, 4, 30, 4, 1, 1] 206.17212796211243\n",
      "Iteration finished / 853.3503624802506 [1, 1, 4, 4, 4, 4, 30, 30, 1, 1, 4, 30, 30, 4, 1, 30, 1, 4, 1, 4, 4, 1, 1, 4, 1, 30, 30, 4, 4, 30, 4, 30, 30, 1, 1, 1, 4, 1, 4, 30, 1, 1, 4, 30, 4, 4, 4, 1, 4, 4, 4, 30, 4, 1, 1] 208.0490219593048\n",
      "Iteration finished / 853.3503624802506 [1, 1, 4, 4, 4, 4, 30, 30, 1, 1, 4, 30, 30, 4, 1, 30, 1, 4, 1, 4, 4, 1, 1, 4, 1, 30, 30, 4, 4, 30, 4, 30, 30, 1, 1, 1, 4, 1, 4, 30, 1, 1, 4, 30, 4, 4, 4, 1, 4, 4, 4, 30, 4, 1, 1] 207.2855989933014\n",
      "Iteration finished / 880.4118241448508 [45, 45, 45, 4, 45, 4, 30, 30, 45, 45, 4, 30, 30, 4, 45, 30, 45, 4, 45, 4, 45, 45, 45, 4, 45, 30, 30, 45, 45, 30, 45, 30, 30, 45, 45, 45, 4, 45, 4, 30, 45, 45, 4, 30, 45, 45, 45, 45, 4, 45, 45, 30, 4, 45, 45] 206.07697582244873\n",
      "Iteration finished / 853.3503624802506 [1, 1, 4, 4, 4, 4, 30, 30, 1, 1, 4, 30, 30, 4, 1, 30, 1, 4, 1, 4, 4, 1, 1, 4, 1, 30, 30, 4, 4, 30, 4, 30, 30, 1, 1, 1, 4, 1, 4, 30, 1, 1, 4, 30, 4, 4, 4, 1, 4, 4, 4, 30, 4, 1, 1] 207.9352309703827\n",
      "Iteration finished / 853.3503624802506 [1, 1, 4, 4, 4, 4, 30, 30, 1, 1, 4, 30, 30, 4, 1, 30, 1, 4, 1, 4, 4, 1, 1, 4, 1, 30, 30, 4, 4, 30, 4, 30, 30, 1, 1, 1, 4, 1, 4, 30, 1, 1, 4, 30, 4, 4, 4, 1, 4, 4, 4, 30, 4, 1, 1] 208.51733899116516\n",
      "Iteration finished / 853.3503624802506 [1, 1, 4, 4, 4, 4, 30, 30, 1, 1, 4, 30, 30, 4, 1, 30, 1, 4, 1, 4, 4, 1, 1, 4, 1, 30, 30, 4, 4, 30, 4, 30, 30, 1, 1, 1, 4, 1, 4, 30, 1, 1, 4, 30, 4, 4, 4, 1, 4, 4, 4, 30, 4, 1, 1] 206.73660802841187\n",
      "All finished\n"
     ]
    }
   ],
   "source": [
    "print(\"TR 55\")\n",
    "\n",
    "\n",
    "global_best_solution = []\n",
    "replication = 0\n",
    "n_replication = 10\n",
    "\n",
    "while replication < n_replication:\n",
    "    best_solution = {}\n",
    "    best_run_cost, best_sol , runtime= a = RRVNS(55, 3, flow_TR_55_list, cost_TR_55_list, 0.8, 15000)\n",
    "    best_solution['solution'] = best_sol\n",
    "    best_solution['cost'] = best_run_cost\n",
    "    global_best_solution.append(best_solution)\n",
    "    replication += 1\n",
    "    print('Iteration finished /',best_run_cost, best_sol , runtime)\n",
    "print('All finished')   \n",
    "\n"
   ]
  },
  {
   "cell_type": "code",
   "execution_count": 79,
   "metadata": {},
   "outputs": [],
   "source": [
    "TR55_3_8_RRVNS = global_best_solution.copy()"
   ]
  },
  {
   "cell_type": "code",
   "execution_count": 80,
   "metadata": {},
   "outputs": [
    {
     "name": "stdout",
     "output_type": "stream",
     "text": [
      "TR55:  Best solution : 853.3503624802506  gap:  4.2477324732060496e-05 %\n"
     ]
    }
   ],
   "source": [
    "best_cost = min(TR55_3_8_RRVNS, key = lambda item: item['cost'])['cost']\n",
    "best_solution = min(TR55_3_8_RRVNS, key = lambda item: item['cost'])['solution']\n",
    "gap = (best_cost-853.35)*100/853.35\n",
    "print('TR55: ','Best solution :',str(best_cost),' gap: ',gap,'%')"
   ]
  },
  {
   "cell_type": "code",
   "execution_count": 81,
   "metadata": {},
   "outputs": [
    {
     "data": {
      "text/plain": [
       "859.4008330684192"
      ]
     },
     "execution_count": 81,
     "metadata": {},
     "output_type": "execute_result"
    }
   ],
   "source": [
    "pd.DataFrame(TR55_3_8_RRVNS).to_csv('TR55_3_8_RRVNS.csv')\n",
    "pd.DataFrame(global_best_solution)['cost'].mean()"
   ]
  },
  {
   "cell_type": "code",
   "execution_count": 311,
   "metadata": {},
   "outputs": [
    {
     "name": "stdout",
     "output_type": "stream",
     "text": [
      "TR 55\n",
      "Iteration finished / 782.6306156538808 [1, 1, 4, 4, 31, 4, 33, 30, 1, 1, 31, 30, 30, 4, 1, 30, 1, 4, 1, 4, 4, 1, 1, 31, 1, 30, 33, 4, 4, 30, 31, 4, 33, 1, 1, 1, 4, 1, 4, 30, 1, 1, 4, 4, 31, 4, 31, 1, 4, 4, 4, 30, 4, 1, 1] 164.72928404808044\n",
      "Iteration finished / 782.6306156538808 [1, 1, 4, 4, 31, 4, 33, 30, 1, 1, 31, 30, 30, 4, 1, 30, 1, 4, 1, 4, 4, 1, 1, 31, 1, 30, 33, 4, 4, 30, 31, 4, 33, 1, 1, 1, 4, 1, 4, 30, 1, 1, 4, 4, 31, 4, 31, 1, 4, 4, 4, 30, 4, 1, 1] 174.48860001564026\n",
      "Iteration finished / 781.1936136858767 [1, 1, 17, 4, 32, 17, 32, 32, 17, 17, 32, 30, 30, 4, 17, 30, 17, 32, 1, 4, 17, 17, 1, 32, 1, 30, 32, 4, 4, 30, 4, 32, 32, 1, 17, 17, 4, 17, 4, 30, 17, 1, 4, 4, 4, 17, 4, 17, 4, 17, 17, 30, 4, 1, 1] 167.9738471508026\n",
      "Iteration finished / 791.7108406868629 [1, 34, 34, 4, 32, 4, 32, 32, 34, 34, 32, 30, 30, 4, 34, 30, 34, 32, 34, 4, 4, 34, 1, 32, 1, 30, 32, 4, 4, 30, 4, 32, 32, 34, 34, 34, 4, 34, 4, 30, 34, 34, 4, 4, 4, 4, 4, 34, 4, 34, 34, 30, 4, 34, 1] 167.2532501220703\n",
      "Iteration finished / 791.7108406868629 [1, 34, 34, 4, 32, 4, 32, 32, 34, 34, 32, 30, 30, 4, 34, 30, 34, 32, 34, 4, 4, 34, 1, 32, 1, 30, 32, 4, 4, 30, 4, 32, 32, 34, 34, 34, 4, 34, 4, 30, 34, 34, 4, 4, 4, 4, 4, 34, 4, 34, 34, 30, 4, 34, 1] 167.64362907409668\n",
      "Iteration finished / 778.7868574698606 [1, 1, 17, 4, 4, 17, 30, 30, 17, 17, 4, 30, 30, 4, 17, 30, 17, 4, 1, 4, 17, 17, 1, 4, 1, 30, 33, 4, 4, 30, 4, 4, 33, 1, 17, 17, 4, 17, 4, 30, 17, 1, 4, 4, 4, 17, 4, 17, 4, 17, 17, 30, 4, 1, 1] 167.52288007736206\n",
      "Iteration finished / 789.6575927023915 [1, 1, 4, 4, 32, 4, 32, 32, 1, 1, 32, 32, 26, 4, 1, 26, 1, 32, 1, 4, 4, 1, 1, 32, 1, 26, 33, 4, 4, 26, 4, 32, 33, 1, 1, 1, 4, 1, 4, 26, 1, 1, 4, 4, 4, 4, 4, 1, 4, 4, 4, 32, 4, 1, 1] 168.48550081253052\n",
      "Iteration finished / 797.9021195424724 [1, 1, 45, 4, 32, 4, 32, 32, 1, 1, 32, 32, 26, 4, 1, 26, 1, 32, 1, 4, 45, 1, 1, 32, 1, 26, 32, 45, 45, 26, 45, 32, 32, 1, 1, 1, 4, 1, 4, 26, 1, 1, 4, 4, 45, 45, 45, 1, 4, 45, 45, 32, 4, 1, 1] 167.94475293159485\n",
      "Iteration finished / 789.6575927023915 [1, 1, 4, 4, 32, 4, 32, 32, 1, 1, 32, 32, 26, 4, 1, 26, 1, 32, 1, 4, 4, 1, 1, 32, 1, 26, 33, 4, 4, 26, 4, 32, 33, 1, 1, 1, 4, 1, 4, 26, 1, 1, 4, 4, 4, 4, 4, 1, 4, 4, 4, 32, 4, 1, 1] 167.4641091823578\n",
      "Iteration finished / 790.2853321153096 [1, 1, 4, 4, 31, 4, 12, 12, 1, 1, 31, 12, 12, 4, 1, 26, 1, 12, 1, 4, 4, 1, 1, 31, 1, 26, 12, 4, 4, 12, 31, 12, 12, 1, 1, 1, 4, 1, 4, 26, 1, 1, 4, 4, 31, 4, 31, 1, 4, 4, 4, 12, 4, 1, 1] 167.60931396484375\n",
      "All finished\n"
     ]
    }
   ],
   "source": [
    "print(\"TR 55\")\n",
    "\n",
    "\n",
    "global_best_solution = []\n",
    "replication = 0\n",
    "n_replication = 10\n",
    "\n",
    "while replication < n_replication:\n",
    "    best_solution = {}\n",
    "    best_run_cost, best_sol , runtime= a = RRVNS(55, 5, flow_TR_55_list, cost_TR_55_list, 0.8, 10000)\n",
    "    best_solution['solution'] = best_sol\n",
    "    best_solution['cost'] = best_run_cost\n",
    "    global_best_solution.append(best_solution)\n",
    "    replication += 1\n",
    "    print('Iteration finished /',best_run_cost, best_sol , runtime)\n",
    "print('All finished')   \n",
    "\n"
   ]
  },
  {
   "cell_type": "code",
   "execution_count": 312,
   "metadata": {},
   "outputs": [],
   "source": [
    "TR55_5_8_RRVNS = global_best_solution.copy()"
   ]
  },
  {
   "cell_type": "code",
   "execution_count": 313,
   "metadata": {},
   "outputs": [
    {
     "name": "stdout",
     "output_type": "stream",
     "text": [
      "TR55:  Best solution : 778.7868574698606  gap:  -0.0004035144441211427 %\n"
     ]
    }
   ],
   "source": [
    "best_cost = min(TR55_5_8_RRVNS, key = lambda item: item['cost'])['cost']\n",
    "best_solution = min(TR55_5_8_RRVNS, key = lambda item: item['cost'])['solution']\n",
    "gap = (best_cost-778.79)*100/778.79\n",
    "print('TR55: ','Best solution :',str(best_cost),' gap: ',gap,'%')"
   ]
  },
  {
   "cell_type": "code",
   "execution_count": 314,
   "metadata": {},
   "outputs": [
    {
     "data": {
      "text/plain": [
       "787.6166020899789"
      ]
     },
     "execution_count": 314,
     "metadata": {},
     "output_type": "execute_result"
    }
   ],
   "source": [
    "pd.DataFrame(TR55_5_8_RRVNS).to_csv('TR55_5_8_RRVNS.csv')\n",
    "pd.DataFrame(global_best_solution)['cost'].mean()"
   ]
  },
  {
   "cell_type": "code",
   "execution_count": 208,
   "metadata": {},
   "outputs": [
    {
     "name": "stdout",
     "output_type": "stream",
     "text": [
      "TR 81\n",
      "Iteration finished / 515.7881697536902 [27, 27, 6, 60, 60, 6, 45, 60, 45, 45, 34, 27, 27, 6, 45, 34, 34, 6, 60, 45, 27, 34, 27, 60, 60, 6, 27, 60, 60, 27, 27, 45, 27, 34, 45, 60, 6, 60, 34, 6, 34, 6, 6, 27, 45, 27, 27, 45, 27, 6, 6, 60, 60, 34, 60, 27, 60, 60, 34, 60, 60, 60, 27, 45, 27, 6, 6, 6, 60, 6, 6, 27, 27, 6, 60, 60, 34, 6, 27, 27, 6] 432.1164357662201\n",
      "Iteration finished / 507.1690397571583 [27, 27, 6, 28, 6, 6, 45, 28, 45, 45, 34, 27, 27, 6, 45, 34, 34, 6, 6, 45, 27, 34, 27, 28, 28, 6, 27, 28, 28, 27, 27, 45, 27, 34, 45, 28, 6, 6, 34, 6, 34, 6, 6, 27, 45, 27, 27, 45, 27, 6, 6, 28, 28, 34, 28, 27, 28, 28, 34, 28, 28, 28, 27, 45, 27, 6, 6, 6, 28, 6, 6, 27, 27, 6, 28, 28, 34, 6, 27, 27, 6] 430.31088185310364\n",
      "Iteration finished / 522.1258625798262 [68, 21, 64, 21, 52, 68, 64, 52, 64, 64, 64, 21, 21, 34, 64, 34, 34, 68, 68, 64, 21, 34, 21, 52, 21, 64, 21, 52, 52, 21, 68, 64, 68, 34, 64, 21, 68, 68, 34, 68, 34, 68, 64, 21, 64, 68, 21, 64, 21, 68, 68, 52, 52, 34, 52, 21, 52, 68, 34, 52, 52, 21, 21, 64, 21, 68, 34, 68, 52, 68, 68, 21, 21, 34, 52, 21, 34, 34, 21, 68, 34] 430.5598840713501\n",
      "Iteration finished / 525.4156061342351 [68, 21, 41, 21, 52, 68, 68, 52, 35, 35, 41, 21, 21, 41, 35, 41, 35, 68, 68, 35, 21, 41, 21, 52, 21, 41, 21, 52, 52, 21, 68, 68, 68, 41, 35, 21, 41, 68, 41, 68, 41, 68, 41, 21, 35, 68, 21, 35, 21, 68, 68, 52, 52, 41, 52, 21, 52, 68, 41, 52, 52, 21, 21, 35, 21, 68, 41, 68, 52, 68, 68, 21, 21, 41, 52, 21, 41, 41, 21, 68, 41] 431.07536578178406\n",
      "Iteration finished / 542.0770648800493 [1, 21, 6, 21, 6, 6, 6, 52, 41, 41, 41, 21, 21, 41, 6, 41, 41, 6, 6, 6, 21, 41, 21, 52, 21, 6, 1, 52, 52, 21, 1, 6, 1, 41, 41, 21, 6, 6, 41, 6, 41, 6, 41, 21, 41, 1, 21, 6, 21, 6, 1, 52, 52, 41, 52, 21, 52, 52, 41, 52, 52, 21, 21, 6, 21, 6, 41, 6, 52, 1, 6, 21, 21, 6, 52, 21, 41, 6, 1, 1, 41] 431.05998373031616\n",
      "Iteration finished / 501.8508450589904 [80, 80, 6, 12, 6, 6, 45, 12, 45, 45, 34, 12, 12, 6, 45, 34, 34, 6, 6, 45, 12, 34, 12, 12, 12, 6, 80, 6, 12, 12, 80, 45, 80, 34, 45, 12, 6, 6, 34, 6, 34, 6, 6, 12, 45, 80, 12, 45, 12, 6, 80, 6, 12, 34, 6, 12, 6, 6, 34, 6, 12, 12, 80, 45, 12, 6, 6, 6, 12, 6, 6, 12, 12, 6, 12, 12, 34, 6, 80, 80, 6] 430.54115414619446\n",
      "Iteration finished / 542.0770648800493 [1, 21, 6, 21, 6, 6, 6, 52, 41, 41, 41, 21, 21, 41, 6, 41, 41, 6, 6, 6, 21, 41, 21, 52, 21, 6, 1, 52, 52, 21, 1, 6, 1, 41, 41, 21, 6, 6, 41, 6, 41, 6, 41, 21, 41, 1, 21, 6, 21, 6, 1, 52, 52, 41, 52, 21, 52, 52, 41, 52, 52, 21, 21, 6, 21, 6, 41, 6, 52, 1, 6, 21, 21, 6, 52, 21, 41, 6, 1, 1, 41] 428.2430160045624\n",
      "Iteration finished / 527.64482786985 [38, 21, 6, 21, 6, 6, 45, 21, 45, 45, 34, 21, 21, 6, 45, 34, 34, 6, 6, 45, 21, 34, 21, 38, 21, 6, 38, 38, 38, 21, 38, 45, 38, 34, 45, 21, 6, 38, 34, 38, 34, 6, 6, 21, 45, 38, 21, 45, 21, 38, 38, 38, 38, 34, 6, 21, 6, 38, 34, 38, 38, 21, 21, 45, 21, 38, 6, 38, 21, 38, 6, 21, 21, 6, 21, 21, 34, 6, 38, 38, 6] 431.92482113838196\n",
      "Iteration finished / 504.1997875245807 [46, 46, 6, 25, 6, 6, 45, 25, 45, 45, 34, 25, 25, 6, 45, 34, 34, 6, 6, 45, 25, 34, 46, 25, 25, 6, 46, 25, 25, 25, 46, 45, 46, 34, 45, 25, 6, 46, 34, 6, 34, 6, 6, 46, 45, 46, 46, 45, 25, 6, 6, 25, 25, 34, 6, 25, 6, 46, 34, 6, 25, 25, 46, 45, 25, 6, 6, 6, 25, 6, 6, 25, 25, 6, 25, 25, 34, 6, 46, 46, 6] 434.7479329109192\n",
      "Iteration finished / 501.8508450589904 [80, 80, 6, 12, 6, 6, 45, 12, 45, 45, 34, 12, 12, 6, 45, 34, 34, 6, 6, 45, 12, 34, 12, 12, 12, 6, 80, 6, 12, 12, 80, 45, 80, 34, 45, 12, 6, 6, 34, 6, 34, 6, 6, 12, 45, 80, 12, 45, 12, 6, 80, 6, 12, 34, 6, 12, 6, 6, 34, 6, 12, 12, 80, 45, 12, 6, 6, 6, 12, 6, 6, 12, 12, 6, 12, 12, 34, 6, 80, 80, 6] 431.01824402809143\n",
      "All finished\n"
     ]
    }
   ],
   "source": [
    "print(\"TR 81\")\n",
    "\n",
    "\n",
    "global_best_solution = []\n",
    "replication = 0\n",
    "n_replication = 10\n",
    "\n",
    "while replication < n_replication:\n",
    "    best_solution = {}\n",
    "    best_run_cost, best_sol , runtime= a = RRVNS(81, 5, flow_TR_81_list, cost_TR_81_list, 0.2, 15000)\n",
    "    best_solution['solution'] = best_sol\n",
    "    best_solution['cost'] = best_run_cost\n",
    "    global_best_solution.append(best_solution)\n",
    "    replication += 1\n",
    "    print('Iteration finished /',best_run_cost, best_sol , runtime)\n",
    "print('All finished')   \n",
    "\n"
   ]
  },
  {
   "cell_type": "code",
   "execution_count": 209,
   "metadata": {},
   "outputs": [],
   "source": [
    "TR81_5_2_RRVNS = global_best_solution.copy()"
   ]
  },
  {
   "cell_type": "code",
   "execution_count": 210,
   "metadata": {},
   "outputs": [
    {
     "name": "stdout",
     "output_type": "stream",
     "text": [
      "TR81:  Best solution : 501.8508450589904  gap:  0.00016838875966216553 %\n"
     ]
    }
   ],
   "source": [
    "best_cost = min(TR81_5_2_RRVNS, key = lambda item: item['cost'])['cost']\n",
    "best_solution = min(TR81_5_2_RRVNS, key = lambda item: item['cost'])['solution']\n",
    "gap = (best_cost-501.85)*100/501.85\n",
    "print('TR81: ','Best solution :',str(best_cost),' gap: ',gap,'%')"
   ]
  },
  {
   "cell_type": "code",
   "execution_count": 211,
   "metadata": {},
   "outputs": [
    {
     "data": {
      "text/plain": [
       "519.0199113497421"
      ]
     },
     "execution_count": 211,
     "metadata": {},
     "output_type": "execute_result"
    }
   ],
   "source": [
    "pd.DataFrame(TR81_5_2_RRVNS).to_csv('TR81_5_2_RRVNS.csv')\n",
    "pd.DataFrame(global_best_solution)['cost'].mean()"
   ]
  },
  {
   "cell_type": "code",
   "execution_count": 83,
   "metadata": {},
   "outputs": [
    {
     "name": "stdout",
     "output_type": "stream",
     "text": [
      "TR 81\n",
      "Iteration finished / 846.458980752209 [1, 1, 6, 60, 60, 6, 6, 60, 6, 41, 41, 23, 23, 6, 6, 41, 41, 6, 6, 6, 23, 41, 23, 60, 60, 6, 1, 60, 60, 23, 1, 6, 1, 41, 41, 60, 6, 6, 41, 6, 41, 6, 6, 23, 41, 1, 23, 6, 23, 6, 6, 60, 60, 41, 60, 23, 6, 60, 41, 60, 60, 23, 1, 6, 23, 6, 6, 6, 60, 6, 6, 23, 23, 6, 60, 60, 41, 6, 1, 1, 41] 439.6823401451111\n",
      "Iteration finished / 871.3446345949252 [68, 58, 3, 58, 58, 68, 3, 58, 3, 16, 16, 58, 58, 41, 3, 16, 16, 68, 68, 3, 58, 41, 58, 58, 58, 3, 68, 58, 58, 58, 68, 3, 68, 41, 3, 58, 68, 68, 41, 68, 41, 68, 3, 58, 3, 68, 58, 3, 58, 68, 68, 58, 58, 41, 58, 58, 58, 58, 41, 58, 58, 58, 58, 3, 58, 68, 41, 68, 58, 68, 68, 58, 58, 41, 58, 58, 41, 41, 68, 68, 41] 440.1800129413605\n",
      "Iteration finished / 853.9918060753186 [68, 46, 6, 60, 60, 6, 68, 60, 6, 41, 41, 46, 46, 6, 6, 41, 41, 6, 6, 6, 46, 41, 46, 60, 60, 6, 46, 60, 60, 46, 46, 6, 68, 41, 41, 60, 6, 68, 41, 68, 41, 68, 6, 46, 41, 46, 46, 6, 46, 68, 68, 60, 60, 41, 60, 46, 6, 60, 41, 60, 60, 60, 46, 6, 46, 6, 6, 68, 60, 68, 6, 46, 46, 6, 60, 60, 41, 6, 46, 46, 41] 440.3402769565582\n",
      "Iteration finished / 849.9979865894384 [68, 68, 3, 23, 71, 71, 3, 23, 3, 41, 41, 23, 23, 41, 3, 41, 41, 71, 71, 3, 23, 41, 23, 23, 23, 3, 68, 71, 71, 23, 68, 3, 68, 41, 3, 23, 71, 68, 41, 71, 41, 68, 3, 23, 3, 68, 23, 3, 23, 68, 68, 71, 71, 41, 71, 23, 71, 71, 41, 71, 71, 23, 68, 3, 23, 71, 41, 68, 71, 68, 71, 23, 23, 71, 23, 23, 41, 71, 68, 68, 41] 440.2981882095337\n",
      "Iteration finished / 845.6751299203928 [38, 38, 3, 38, 19, 6, 3, 19, 3, 41, 41, 38, 38, 6, 3, 41, 41, 6, 19, 3, 38, 41, 38, 38, 38, 3, 38, 19, 19, 38, 38, 3, 38, 41, 3, 38, 6, 38, 41, 6, 41, 6, 3, 38, 3, 38, 38, 3, 38, 38, 38, 19, 19, 41, 19, 38, 19, 38, 41, 19, 19, 38, 38, 3, 38, 19, 6, 38, 19, 6, 6, 38, 38, 6, 38, 38, 41, 6, 38, 38, 41] 438.9896879196167\n",
      "Iteration finished / 828.35916121991 [46, 46, 3, 60, 60, 6, 3, 60, 3, 41, 41, 46, 46, 6, 3, 41, 41, 6, 6, 3, 46, 41, 46, 60, 60, 3, 46, 60, 60, 46, 46, 3, 46, 41, 3, 60, 6, 6, 41, 6, 41, 6, 3, 46, 3, 46, 46, 3, 46, 6, 6, 60, 60, 41, 60, 46, 6, 60, 41, 60, 60, 60, 46, 3, 46, 6, 6, 6, 60, 6, 6, 46, 46, 6, 60, 60, 41, 6, 46, 46, 41] 439.2796769142151\n",
      "Iteration finished / 824.5531705003464 [1, 1, 3, 58, 6, 6, 3, 58, 3, 41, 41, 58, 58, 6, 3, 41, 41, 6, 6, 3, 58, 41, 58, 58, 58, 3, 1, 58, 58, 1, 1, 3, 1, 41, 3, 58, 6, 6, 41, 6, 41, 6, 3, 58, 3, 1, 1, 3, 58, 6, 6, 58, 58, 41, 6, 58, 6, 58, 41, 58, 58, 58, 1, 3, 58, 6, 6, 6, 58, 6, 6, 58, 1, 6, 58, 58, 41, 6, 1, 1, 41] 438.2506248950958\n",
      "Iteration finished / 824.5531705003464 [1, 1, 3, 58, 6, 6, 3, 58, 3, 41, 41, 58, 58, 6, 3, 41, 41, 6, 6, 3, 58, 41, 58, 58, 58, 3, 1, 58, 58, 1, 1, 3, 1, 41, 3, 58, 6, 6, 41, 6, 41, 6, 3, 58, 3, 1, 1, 3, 58, 6, 6, 58, 58, 41, 6, 58, 6, 58, 41, 58, 58, 58, 1, 3, 58, 6, 6, 6, 58, 6, 6, 58, 1, 6, 58, 58, 41, 6, 1, 1, 41] 437.74679708480835\n",
      "Iteration finished / 840.6545920731675 [68, 58, 3, 58, 6, 6, 3, 58, 3, 41, 41, 58, 58, 6, 3, 41, 41, 6, 6, 3, 58, 41, 58, 58, 58, 3, 68, 58, 58, 58, 68, 3, 68, 41, 3, 58, 6, 68, 41, 68, 41, 68, 3, 58, 3, 68, 58, 3, 58, 68, 68, 58, 58, 41, 6, 58, 6, 58, 41, 58, 58, 58, 68, 3, 58, 6, 6, 68, 58, 68, 6, 58, 58, 6, 58, 58, 41, 6, 68, 68, 41] 438.8594539165497\n",
      "Iteration finished / 840.6545920731675 [68, 58, 3, 58, 6, 6, 3, 58, 3, 41, 41, 58, 58, 6, 3, 41, 41, 6, 6, 3, 58, 41, 58, 58, 58, 3, 68, 58, 58, 58, 68, 3, 68, 41, 3, 58, 6, 68, 41, 68, 41, 68, 3, 58, 3, 68, 58, 3, 58, 68, 68, 58, 58, 41, 6, 58, 6, 58, 41, 58, 58, 58, 68, 3, 58, 6, 6, 68, 58, 68, 6, 58, 58, 6, 58, 58, 41, 6, 68, 68, 41] 439.04887890815735\n",
      "All finished\n"
     ]
    }
   ],
   "source": [
    "print(\"TR 81\")\n",
    "\n",
    "\n",
    "global_best_solution = []\n",
    "replication = 0\n",
    "n_replication = 10\n",
    "\n",
    "while replication < n_replication:\n",
    "    best_solution = {}\n",
    "    best_run_cost, best_sol , runtime= a = RRVNS(81, 5, flow_TR_81_list, cost_TR_81_list, 0.8, 15000)\n",
    "    best_solution['solution'] = best_sol\n",
    "    best_solution['cost'] = best_run_cost\n",
    "    global_best_solution.append(best_solution)\n",
    "    replication += 1\n",
    "    print('Iteration finished /',best_run_cost, best_sol , runtime)\n",
    "print('All finished')   \n",
    "\n"
   ]
  },
  {
   "cell_type": "code",
   "execution_count": 84,
   "metadata": {},
   "outputs": [],
   "source": [
    "TR81_5_8_RRVNS = global_best_solution.copy()"
   ]
  },
  {
   "cell_type": "code",
   "execution_count": 85,
   "metadata": {},
   "outputs": [
    {
     "name": "stdout",
     "output_type": "stream",
     "text": [
      "TR81:  Best solution : 824.5531705003464  gap:  0.00038451280655072144 %\n"
     ]
    }
   ],
   "source": [
    "best_cost = min(TR81_5_8_RRVNS, key = lambda item: item['cost'])['cost']\n",
    "best_solution = min(TR81_5_8_RRVNS, key = lambda item: item['cost'])['solution']\n",
    "gap = (best_cost-824.55)*100/824.55\n",
    "print('TR81: ','Best solution :',str(best_cost),' gap: ',gap,'%')"
   ]
  },
  {
   "cell_type": "code",
   "execution_count": 86,
   "metadata": {},
   "outputs": [
    {
     "data": {
      "text/plain": [
       "842.6243224299221"
      ]
     },
     "execution_count": 86,
     "metadata": {},
     "output_type": "execute_result"
    }
   ],
   "source": [
    "pd.DataFrame(TR81_5_8_RRVNS).to_csv('TR81_5_8_RRVNS.csv')\n",
    "pd.DataFrame(TR81_5_8_RRVNS)['cost'].mean()"
   ]
  },
  {
   "cell_type": "code",
   "execution_count": 247,
   "metadata": {},
   "outputs": [
    {
     "name": "stdout",
     "output_type": "stream",
     "text": [
      "TR 81\n",
      "Iteration finished / 439.2245040198974 [1, 63, 64, 49, 6, 6, 64, 52, 64, 64, 64, 49, 49, 6, 64, 34, 34, 6, 6, 64, 63, 34, 49, 52, 49, 6, 63, 52, 52, 49, 1, 64, 1, 34, 64, 49, 6, 6, 34, 6, 34, 6, 64, 63, 64, 1, 63, 64, 49, 6, 1, 52, 52, 34, 52, 49, 52, 52, 34, 52, 52, 49, 63, 64, 49, 6, 6, 6, 52, 1, 6, 49, 49, 6, 49, 49, 34, 6, 63, 1, 6] 433.11962604522705\n",
      "Iteration finished / 438.13605034780625 [1, 27, 6, 12, 60, 6, 45, 12, 45, 45, 34, 12, 12, 6, 45, 34, 34, 6, 60, 45, 12, 34, 12, 60, 12, 6, 27, 60, 60, 12, 1, 45, 1, 34, 45, 12, 6, 60, 34, 6, 34, 6, 6, 27, 45, 27, 12, 45, 12, 6, 1, 60, 60, 34, 60, 12, 60, 60, 34, 60, 60, 12, 27, 45, 12, 6, 6, 6, 12, 1, 6, 12, 12, 6, 12, 12, 34, 6, 27, 1, 6] 434.5377941131592\n",
      "Iteration finished / 433.2548221547325 [1, 21, 64, 25, 6, 6, 64, 25, 64, 64, 64, 21, 21, 6, 64, 34, 34, 6, 6, 64, 21, 34, 21, 25, 25, 6, 1, 52, 52, 21, 1, 64, 1, 34, 64, 25, 6, 6, 34, 6, 34, 6, 64, 21, 64, 1, 21, 64, 25, 6, 1, 52, 52, 34, 52, 21, 52, 52, 34, 52, 52, 25, 21, 64, 21, 6, 6, 6, 25, 1, 6, 21, 21, 6, 25, 25, 34, 6, 1, 1, 6] 433.00980710983276\n",
      "Iteration finished / 422.0621867543446 [1, 21, 42, 21, 6, 6, 42, 52, 35, 35, 34, 21, 21, 6, 42, 34, 34, 6, 6, 35, 21, 34, 21, 52, 21, 6, 1, 52, 52, 21, 1, 42, 1, 34, 35, 21, 6, 42, 34, 6, 34, 42, 6, 21, 35, 1, 21, 35, 21, 42, 1, 52, 52, 34, 52, 21, 52, 52, 34, 52, 52, 21, 21, 35, 21, 6, 6, 42, 52, 42, 6, 21, 21, 6, 52, 21, 34, 6, 1, 1, 6] 431.84831190109253\n",
      "Iteration finished / 437.3813496251016 [1, 63, 6, 25, 60, 6, 45, 25, 45, 45, 34, 25, 25, 6, 45, 34, 34, 6, 60, 45, 63, 34, 63, 25, 25, 6, 63, 60, 25, 63, 1, 45, 1, 34, 45, 25, 6, 60, 34, 6, 34, 6, 6, 63, 45, 1, 63, 45, 25, 6, 1, 60, 25, 34, 60, 63, 60, 60, 34, 60, 25, 25, 63, 45, 25, 6, 6, 6, 25, 1, 6, 63, 63, 6, 25, 25, 34, 6, 63, 1, 6] 432.4911780357361\n",
      "Iteration finished / 426.18208782295494 [1, 21, 3, 29, 71, 71, 3, 29, 35, 35, 3, 21, 21, 71, 3, 34, 34, 71, 71, 3, 21, 34, 21, 29, 29, 3, 1, 29, 29, 21, 1, 3, 1, 34, 35, 29, 71, 71, 34, 71, 34, 3, 3, 21, 35, 1, 21, 35, 21, 71, 1, 29, 29, 34, 71, 21, 71, 71, 34, 71, 29, 29, 21, 3, 21, 71, 71, 71, 29, 1, 71, 21, 21, 71, 29, 29, 34, 71, 1, 1, 34] 431.72339367866516\n",
      "Iteration finished / 455.55816754402605 [1, 27, 20, 29, 71, 71, 20, 29, 20, 41, 41, 21, 21, 41, 20, 41, 41, 71, 71, 20, 21, 41, 21, 29, 29, 41, 27, 29, 29, 21, 1, 20, 1, 41, 20, 29, 71, 71, 41, 71, 41, 71, 41, 27, 20, 27, 21, 20, 21, 71, 1, 29, 29, 41, 71, 21, 71, 71, 41, 71, 29, 29, 27, 20, 21, 71, 41, 71, 29, 1, 71, 21, 21, 41, 29, 29, 41, 71, 27, 1, 41] 432.64461970329285\n",
      "Iteration finished / 429.7390690544342 [1, 21, 6, 25, 6, 6, 45, 25, 45, 45, 34, 21, 21, 6, 45, 34, 34, 6, 6, 45, 21, 34, 21, 25, 25, 6, 1, 52, 52, 21, 1, 45, 1, 34, 45, 25, 6, 6, 34, 6, 34, 6, 6, 21, 45, 1, 21, 45, 25, 6, 1, 52, 52, 34, 52, 21, 52, 52, 34, 52, 52, 25, 21, 45, 21, 6, 6, 6, 25, 1, 6, 21, 21, 6, 25, 25, 34, 6, 1, 1, 6] 443.47237396240234\n",
      "Iteration finished / 475.6069725406914 [38, 21, 15, 21, 6, 6, 15, 21, 35, 16, 16, 21, 21, 6, 15, 16, 16, 6, 6, 15, 21, 34, 21, 38, 21, 16, 38, 38, 38, 21, 38, 15, 38, 34, 35, 21, 6, 38, 34, 38, 34, 6, 16, 21, 35, 38, 21, 15, 21, 38, 38, 38, 38, 34, 6, 21, 6, 38, 34, 38, 38, 21, 21, 15, 21, 38, 6, 38, 21, 38, 6, 21, 21, 6, 21, 21, 16, 6, 38, 38, 6] 441.7328038215637\n",
      "Iteration finished / 423.7439631113679 [80, 80, 3, 12, 6, 6, 3, 52, 35, 35, 3, 12, 12, 6, 3, 34, 34, 6, 6, 3, 12, 34, 12, 12, 12, 3, 80, 52, 52, 12, 80, 3, 80, 34, 35, 12, 6, 6, 34, 6, 34, 3, 3, 12, 35, 80, 12, 35, 12, 6, 80, 52, 52, 34, 52, 12, 52, 52, 34, 52, 52, 12, 80, 3, 12, 6, 6, 6, 52, 3, 6, 12, 12, 6, 12, 12, 34, 6, 80, 80, 6] 443.21085381507874\n",
      "All finished\n"
     ]
    }
   ],
   "source": [
    "print(\"TR 81\")\n",
    "\n",
    "\n",
    "global_best_solution = []\n",
    "replication = 0\n",
    "n_replication = 10\n",
    "\n",
    "while replication < n_replication:\n",
    "    best_solution = {}\n",
    "    best_run_cost, best_sol , runtime= a = RRVNS(81, 7, flow_TR_81_list, cost_TR_81_list, 0.2, 15000)\n",
    "    best_solution['solution'] = best_sol\n",
    "    best_solution['cost'] = best_run_cost\n",
    "    global_best_solution.append(best_solution)\n",
    "    replication += 1\n",
    "    print('Iteration finished /',best_run_cost, best_sol , runtime)\n",
    "print('All finished')   \n",
    "\n"
   ]
  },
  {
   "cell_type": "code",
   "execution_count": 248,
   "metadata": {},
   "outputs": [],
   "source": [
    "TR81_7_2_RRVNS = global_best_solution.copy()"
   ]
  },
  {
   "cell_type": "code",
   "execution_count": 249,
   "metadata": {},
   "outputs": [
    {
     "name": "stdout",
     "output_type": "stream",
     "text": [
      "TR81:  Best solution : 422.0621867543446  gap:  0.25468223813976903 %\n"
     ]
    }
   ],
   "source": [
    "best_cost = min(TR81_7_2_RRVNS, key = lambda item: item['cost'])['cost']\n",
    "best_solution = min(TR81_7_2_RRVNS, key = lambda item: item['cost'])['solution']\n",
    "gap = (best_cost-420.99)*100/420.99\n",
    "print('TR81: ','Best solution :',str(best_cost),' gap: ',gap,'%')"
   ]
  },
  {
   "cell_type": "code",
   "execution_count": 250,
   "metadata": {},
   "outputs": [
    {
     "data": {
      "text/plain": [
       "438.08891729753566"
      ]
     },
     "execution_count": 250,
     "metadata": {},
     "output_type": "execute_result"
    }
   ],
   "source": [
    "pd.DataFrame(TR81_7_2_RRVNS).to_csv('TR81_7_2_RRVNS.csv')\n",
    "pd.DataFrame(TR81_7_2_RRVNS)['cost'].mean()"
   ]
  },
  {
   "cell_type": "code",
   "execution_count": 220,
   "metadata": {},
   "outputs": [
    {
     "name": "stdout",
     "output_type": "stream",
     "text": [
      "TR 81\n",
      "Iteration finished / 791.4493219954313 [1, 63, 3, 24, 19, 6, 3, 24, 3, 41, 41, 24, 63, 6, 3, 41, 41, 6, 19, 3, 63, 41, 24, 24, 24, 3, 1, 19, 24, 63, 1, 3, 1, 41, 3, 24, 6, 6, 41, 6, 41, 6, 3, 1, 3, 1, 63, 3, 24, 6, 6, 19, 24, 41, 19, 63, 19, 19, 41, 19, 24, 24, 63, 3, 24, 19, 6, 6, 24, 6, 6, 63, 63, 6, 24, 24, 41, 6, 1, 1, 41] 430.2549960613251\n",
      "Iteration finished / 825.4759347893834 [68, 46, 6, 60, 60, 6, 68, 60, 6, 41, 41, 44, 21, 6, 6, 41, 41, 6, 6, 6, 21, 41, 44, 60, 60, 6, 46, 60, 60, 21, 46, 6, 68, 41, 41, 60, 6, 68, 41, 68, 41, 68, 6, 44, 41, 46, 21, 6, 44, 68, 68, 60, 60, 41, 60, 21, 6, 60, 41, 60, 60, 44, 46, 6, 21, 6, 6, 68, 60, 68, 6, 21, 21, 6, 60, 60, 41, 6, 46, 46, 41] 433.1942992210388\n",
      "Iteration finished / 826.6676977992539 [68, 44, 6, 60, 60, 6, 68, 60, 16, 16, 16, 44, 44, 6, 6, 16, 16, 6, 6, 6, 44, 34, 44, 60, 60, 6, 38, 60, 60, 44, 68, 6, 68, 34, 16, 60, 6, 38, 34, 68, 16, 68, 16, 44, 16, 38, 44, 6, 44, 68, 68, 60, 60, 16, 60, 44, 6, 60, 34, 60, 60, 44, 44, 6, 44, 6, 6, 68, 60, 68, 6, 44, 44, 6, 60, 60, 16, 6, 38, 68, 6] 432.0987648963928\n",
      "Iteration finished / 873.2341743238902 [1, 63, 6, 25, 55, 6, 6, 25, 6, 6, 6, 25, 63, 6, 6, 6, 6, 6, 6, 6, 63, 6, 58, 58, 25, 6, 1, 55, 58, 63, 1, 6, 1, 6, 6, 25, 6, 40, 6, 40, 6, 6, 6, 58, 6, 1, 63, 6, 25, 40, 40, 55, 55, 6, 55, 63, 55, 58, 6, 58, 55, 58, 63, 6, 25, 40, 6, 40, 58, 40, 6, 63, 63, 6, 25, 25, 6, 6, 1, 1, 6] 432.08089089393616\n",
      "Iteration finished / 819.2350327353408 [68, 46, 6, 25, 60, 6, 68, 25, 6, 41, 41, 23, 23, 6, 6, 41, 41, 6, 6, 6, 23, 41, 23, 60, 25, 6, 46, 60, 60, 23, 46, 6, 68, 41, 41, 25, 6, 68, 41, 68, 41, 68, 6, 23, 41, 46, 23, 6, 23, 68, 68, 60, 60, 41, 60, 23, 6, 60, 41, 60, 60, 23, 46, 6, 23, 6, 6, 68, 25, 68, 6, 23, 23, 6, 25, 25, 41, 6, 46, 46, 41] 432.30546593666077\n",
      "Iteration finished / 785.2766287935201 [1, 46, 3, 60, 60, 6, 3, 60, 3, 41, 41, 23, 23, 6, 3, 41, 41, 6, 6, 3, 23, 41, 23, 60, 60, 3, 46, 60, 60, 23, 1, 3, 1, 41, 3, 60, 6, 6, 41, 6, 41, 6, 3, 23, 3, 46, 23, 3, 23, 6, 6, 60, 60, 41, 60, 23, 6, 60, 41, 60, 60, 23, 46, 3, 23, 6, 6, 6, 60, 6, 6, 23, 23, 6, 60, 60, 41, 6, 46, 1, 41] 430.50104904174805\n",
      "Iteration finished / 816.0080556671219 [68, 38, 3, 24, 6, 6, 3, 24, 3, 16, 16, 24, 24, 6, 3, 16, 16, 6, 6, 3, 38, 41, 38, 24, 24, 3, 38, 38, 24, 24, 68, 3, 68, 41, 3, 24, 6, 38, 41, 68, 41, 68, 3, 38, 3, 38, 38, 3, 24, 68, 68, 38, 24, 41, 6, 38, 6, 38, 41, 38, 24, 24, 38, 3, 24, 6, 6, 68, 24, 68, 6, 38, 38, 6, 24, 24, 41, 6, 38, 68, 41] 433.2156059741974\n",
      "Iteration finished / 803.5761320531368 [1, 1, 3, 60, 60, 6, 3, 60, 3, 16, 16, 60, 1, 6, 3, 16, 16, 6, 6, 3, 1, 41, 60, 60, 60, 3, 1, 60, 60, 1, 1, 3, 1, 41, 3, 60, 6, 68, 41, 68, 41, 68, 3, 60, 3, 1, 1, 3, 60, 68, 68, 60, 60, 41, 60, 1, 6, 60, 41, 60, 60, 60, 1, 3, 1, 6, 6, 68, 60, 68, 6, 1, 1, 6, 60, 60, 41, 6, 1, 1, 41] 431.2598009109497\n",
      "Iteration finished / 825.4627063107006 [1, 46, 6, 23, 55, 6, 68, 55, 6, 41, 41, 23, 23, 6, 6, 41, 41, 6, 6, 6, 23, 41, 23, 23, 23, 6, 46, 55, 55, 23, 1, 6, 1, 41, 41, 23, 6, 68, 41, 68, 41, 68, 6, 23, 41, 46, 23, 6, 23, 68, 68, 55, 55, 41, 55, 23, 55, 68, 41, 55, 55, 23, 46, 6, 23, 6, 6, 68, 55, 68, 6, 23, 23, 6, 55, 23, 41, 6, 46, 1, 41] 430.946809053421\n",
      "Iteration finished / 813.6472621922995 [1, 1, 6, 58, 6, 6, 6, 58, 45, 16, 54, 58, 58, 54, 6, 16, 16, 6, 6, 45, 58, 34, 58, 58, 58, 6, 1, 58, 58, 1, 1, 6, 1, 34, 45, 58, 6, 6, 34, 6, 54, 6, 16, 58, 45, 1, 1, 45, 58, 6, 6, 58, 58, 54, 6, 58, 6, 58, 34, 58, 58, 58, 1, 6, 58, 6, 54, 6, 58, 6, 6, 58, 1, 6, 58, 58, 16, 6, 1, 1, 54] 431.5511329174042\n",
      "All finished\n"
     ]
    }
   ],
   "source": [
    "print(\"TR 81\")\n",
    "\n",
    "\n",
    "global_best_solution = []\n",
    "replication = 0\n",
    "n_replication = 10\n",
    "\n",
    "while replication < n_replication:\n",
    "    best_solution = {}\n",
    "    best_run_cost, best_sol , runtime= a = RRVNS(81, 7, flow_TR_81_list, cost_TR_81_list, 0.8, 15000)\n",
    "    best_solution['solution'] = best_sol\n",
    "    best_solution['cost'] = best_run_cost\n",
    "    global_best_solution.append(best_solution)\n",
    "    replication += 1\n",
    "    print('Iteration finished /',best_run_cost, best_sol , runtime)\n",
    "print('All finished')   \n",
    "\n"
   ]
  },
  {
   "cell_type": "code",
   "execution_count": 221,
   "metadata": {},
   "outputs": [],
   "source": [
    "TR81_7_8_RRVNS = global_best_solution.copy()"
   ]
  },
  {
   "cell_type": "code",
   "execution_count": 222,
   "metadata": {},
   "outputs": [
    {
     "name": "stdout",
     "output_type": "stream",
     "text": [
      "TR81:  Best solution : 785.2766287935201  gap:  -0.00042929992867120207 %\n"
     ]
    }
   ],
   "source": [
    "best_cost = min(TR81_7_8_RRVNS, key = lambda item: item['cost'])['cost']\n",
    "best_solution = min(TR81_7_8_RRVNS, key = lambda item: item['cost'])['solution']\n",
    "gap = (best_cost-785.28)*100/785.28\n",
    "print('TR81: ','Best solution :',str(best_cost),' gap: ',gap,'%')"
   ]
  },
  {
   "cell_type": "code",
   "execution_count": 223,
   "metadata": {},
   "outputs": [
    {
     "data": {
      "text/plain": [
       "818.0032946660078"
      ]
     },
     "execution_count": 223,
     "metadata": {},
     "output_type": "execute_result"
    }
   ],
   "source": [
    "pd.DataFrame(TR81_7_8_RRVNS).to_csv('TR81_7_8_RRVNS.csv')\n",
    "pd.DataFrame(TR81_7_8_RRVNS)['cost'].mean()"
   ]
  },
  {
   "cell_type": "code",
   "execution_count": 224,
   "metadata": {},
   "outputs": [
    {
     "name": "stdout",
     "output_type": "stream",
     "text": [
      "RGP 100\n",
      "Iteration finished / 1246.8289165424142 [73, 95, 20, 20, 74, 20, 73, 25, 20, 74, 67, 73, 74, 20, 25, 95, 67, 73, 67, 20, 67, 95, 74, 67, 25, 20, 73, 73, 20, 95, 95, 95, 71, 74, 74, 73, 73, 74, 95, 74, 73, 73, 20, 95, 25, 73, 73, 25, 73, 20, 73, 71, 20, 20, 95, 95, 74, 20, 95, 73, 95, 74, 73, 20, 20, 73, 67, 20, 71, 67, 71, 71, 73, 74, 20, 71, 20, 20, 20, 20, 74, 73, 73, 25, 71, 67, 73, 95, 95, 71, 73, 95, 25, 74, 95, 74, 67, 67, 20, 67] 660.3721611499786\n",
      "Iteration finished / 1259.6588380993946 [28, 7, 34, 35, 85, 85, 7, 35, 35, 35, 85, 34, 35, 35, 18, 35, 35, 18, 35, 34, 28, 34, 7, 35, 7, 34, 94, 28, 94, 18, 28, 94, 7, 34, 35, 34, 85, 85, 28, 34, 35, 34, 94, 94, 18, 18, 18, 7, 85, 34, 18, 28, 35, 85, 7, 7, 18, 28, 85, 18, 94, 94, 94, 7, 18, 7, 94, 34, 34, 7, 85, 94, 7, 34, 35, 7, 94, 35, 35, 28, 34, 35, 34, 94, 85, 85, 7, 28, 18, 85, 7, 85, 85, 94, 85, 34, 85, 7, 7, 35] 661.5756320953369\n",
      "Iteration finished / 1262.4723925989765 [91, 69, 15, 29, 87, 29, 87, 69, 53, 29, 53, 31, 91, 15, 15, 15, 31, 15, 15, 53, 29, 69, 87, 29, 15, 29, 53, 29, 29, 29, 31, 15, 29, 69, 29, 29, 29, 15, 69, 15, 87, 69, 31, 53, 53, 53, 15, 53, 15, 69, 91, 69, 53, 91, 15, 29, 31, 31, 29, 69, 69, 31, 53, 91, 53, 87, 69, 53, 69, 91, 69, 53, 87, 53, 29, 31, 87, 53, 29, 91, 31, 69, 31, 69, 87, 53, 87, 31, 31, 91, 91, 53, 31, 29, 31, 15, 69, 87, 29, 53] 659.0512807369232\n",
      "Iteration finished / 1265.0775411874263 [5, 5, 61, 5, 5, 52, 5, 52, 100, 21, 11, 11, 100, 61, 52, 21, 52, 11, 100, 61, 21, 61, 52, 92, 100, 100, 100, 52, 52, 5, 11, 52, 100, 52, 100, 11, 52, 100, 21, 52, 5, 61, 5, 61, 61, 21, 5, 5, 92, 52, 5, 52, 100, 52, 61, 11, 92, 100, 52, 52, 61, 100, 52, 5, 100, 5, 21, 5, 52, 92, 52, 52, 52, 5, 11, 5, 21, 21, 100, 11, 5, 5, 52, 5, 5, 52, 5, 61, 21, 11, 5, 92, 21, 61, 92, 5, 52, 52, 52, 100] 657.2643022537231\n",
      "Iteration finished / 1252.7815313210003 [79, 43, 8, 79, 74, 8, 8, 8, 9, 74, 27, 79, 74, 9, 27, 8, 43, 43, 79, 9, 88, 79, 27, 8, 8, 8, 27, 74, 27, 43, 88, 74, 8, 74, 74, 8, 8, 74, 43, 27, 27, 27, 43, 88, 43, 8, 79, 79, 9, 74, 8, 8, 27, 8, 79, 8, 27, 8, 43, 43, 88, 74, 79, 8, 88, 43, 43, 88, 8, 88, 74, 27, 79, 74, 8, 27, 43, 43, 79, 8, 79, 74, 88, 27, 27, 79, 74, 88, 74, 43, 79, 27, 88, 43, 88, 74, 8, 43, 74, 27] 662.4123318195343\n",
      "Iteration finished / 1236.5961398697405 [1, 54, 1, 91, 47, 34, 91, 54, 26, 1, 1, 47, 91, 1, 47, 34, 26, 47, 1, 34, 54, 34, 54, 26, 1, 26, 26, 1, 26, 91, 31, 26, 47, 34, 1, 54, 1, 54, 1, 1, 1, 54, 31, 91, 26, 1, 47, 1, 91, 26, 91, 54, 91, 54, 54, 26, 26, 1, 31, 1, 26, 31, 26, 91, 91, 1, 34, 34, 26, 91, 1, 1, 91, 34, 47, 1, 54, 91, 47, 1, 91, 34, 1, 1, 54, 1, 47, 31, 31, 91, 91, 47, 54, 47, 34, 34, 47, 31, 91, 26] 656.8344600200653\n",
      "Iteration finished / 1254.7818721170097 [19, 48, 59, 46, 74, 52, 48, 52, 19, 74, 46, 65, 74, 59, 52, 59, 59, 46, 19, 65, 46, 65, 52, 59, 48, 19, 19, 52, 59, 59, 59, 74, 19, 74, 19, 46, 52, 74, 59, 59, 19, 46, 59, 19, 48, 46, 46, 48, 19, 52, 65, 52, 74, 52, 65, 48, 74, 65, 59, 48, 48, 74, 59, 46, 65, 59, 19, 19, 59, 59, 74, 52, 46, 74, 65, 59, 48, 19, 19, 48, 74, 74, 74, 74, 74, 52, 74, 65, 48, 59, 65, 59, 19, 74, 65, 74, 65, 48, 52, 19] 659.177628993988\n",
      "Iteration finished / 1255.522981975092 [76, 49, 76, 12, 47, 49, 76, 79, 49, 67, 67, 12, 76, 67, 76, 76, 67, 47, 79, 79, 67, 12, 12, 67, 49, 67, 12, 30, 79, 30, 76, 67, 47, 76, 79, 67, 30, 49, 79, 76, 67, 49, 67, 49, 79, 47, 47, 79, 49, 76, 76, 79, 79, 47, 79, 49, 30, 30, 76, 47, 67, 67, 79, 12, 12, 67, 67, 79, 76, 12, 76, 76, 49, 12, 47, 76, 67, 49, 79, 47, 79, 12, 49, 76, 49, 49, 47, 79, 12, 30, 79, 49, 12, 47, 30, 79, 76, 12, 12, 79] 663.972491979599\n",
      "Iteration finished / 1249.3489451245064 [53, 11, 90, 29, 5, 11, 5, 90, 53, 5, 11, 11, 38, 11, 38, 90, 11, 11, 5, 53, 38, 90, 90, 11, 38, 29, 53, 29, 29, 38, 53, 5, 38, 11, 29, 11, 97, 38, 53, 38, 5, 97, 90, 53, 97, 53, 5, 5, 38, 11, 5, 97, 53, 38, 97, 11, 5, 11, 29, 5, 53, 97, 53, 5, 97, 38, 11, 5, 97, 38, 53, 53, 97, 5, 11, 97, 53, 53, 29, 11, 5, 38, 90, 5, 5, 11, 53, 53, 53, 90, 90, 53, 97, 29, 53, 5, 97, 11, 29, 53] 657.8674528598785\n",
      "Iteration finished / 1264.4649951784845 [39, 5, 88, 5, 5, 5, 39, 51, 65, 10, 51, 65, 10, 88, 39, 71, 71, 51, 65, 65, 88, 51, 88, 88, 65, 10, 88, 39, 88, 5, 88, 71, 71, 88, 10, 51, 5, 65, 39, 65, 5, 65, 5, 88, 71, 39, 5, 5, 5, 65, 51, 5, 88, 65, 65, 5, 51, 65, 39, 5, 88, 39, 71, 5, 65, 39, 10, 5, 39, 88, 71, 71, 51, 5, 65, 71, 39, 39, 88, 10, 5, 5, 88, 5, 71, 39, 5, 88, 5, 5, 51, 51, 39, 88, 39, 39, 65, 39, 39, 51] 659.5158698558807\n",
      "All finished\n"
     ]
    }
   ],
   "source": [
    "print(\"RGP 100\")\n",
    "\n",
    "\n",
    "global_best_solution = []\n",
    "replication = 0\n",
    "n_replication = 10\n",
    "\n",
    "while replication < n_replication:\n",
    "    best_solution = {}\n",
    "    best_run_cost, best_sol , runtime= a = RRVNS(100, 7, flow_RGP_100_list, cost_RGP_100_list, 0.2, 15000)\n",
    "    best_solution['solution'] = best_sol\n",
    "    best_solution['cost'] = best_run_cost\n",
    "    global_best_solution.append(best_solution)\n",
    "    replication += 1\n",
    "    print('Iteration finished /',best_run_cost, best_sol , runtime)\n",
    "print('All finished')   \n",
    "\n"
   ]
  },
  {
   "cell_type": "code",
   "execution_count": 225,
   "metadata": {},
   "outputs": [],
   "source": [
    "RGP100_7_2_RRVNS = global_best_solution.copy()"
   ]
  },
  {
   "cell_type": "code",
   "execution_count": 226,
   "metadata": {},
   "outputs": [
    {
     "name": "stdout",
     "output_type": "stream",
     "text": [
      "RGP100:  Best solution : 1236.5961398697405  gap:  0.40994276467132246 %\n"
     ]
    }
   ],
   "source": [
    "best_cost = min(RGP100_7_2_RRVNS, key = lambda item: item['cost'])['cost']\n",
    "best_solution = min(RGP100_7_2_RRVNS, key = lambda item: item['cost'])['solution']\n",
    "gap = (best_cost-1231.5475)*100/1231.5475\n",
    "print('RGP100: ','Best solution :',str(best_cost),' gap: ',gap,'%')"
   ]
  },
  {
   "cell_type": "code",
   "execution_count": 227,
   "metadata": {},
   "outputs": [
    {
     "data": {
      "text/plain": [
       "1254.7534154014045"
      ]
     },
     "execution_count": 227,
     "metadata": {},
     "output_type": "execute_result"
    }
   ],
   "source": [
    "pd.DataFrame(RGP100_7_2_RRVNS).to_csv('RGP100_7_2_RRVNS.csv')\n",
    "pd.DataFrame(RGP100_7_2_RRVNS)['cost'].mean()"
   ]
  },
  {
   "cell_type": "code",
   "execution_count": 133,
   "metadata": {},
   "outputs": [
    {
     "name": "stdout",
     "output_type": "stream",
     "text": [
      "RGP 100\n",
      "Iteration finished / 1461.0157907126945 [1, 14, 14, 14, 5, 14, 14, 37, 14, 14, 14, 14, 14, 14, 14, 14, 14, 14, 14, 14, 14, 14, 14, 14, 14, 14, 14, 14, 14, 14, 14, 14, 14, 14, 14, 14, 37, 68, 14, 1, 14, 14, 14, 14, 14, 14, 14, 14, 14, 14, 51, 14, 14, 54, 14, 14, 14, 14, 14, 1, 14, 14, 68, 14, 14, 14, 14, 68, 14, 14, 14, 14, 37, 14, 14, 14, 14, 14, 14, 14, 14, 14, 14, 14, 14, 14, 14, 14, 14, 14, 14, 14, 14, 14, 14, 14, 14, 37, 14, 14] 229.7083821296692\n",
      "Iteration finished / 1444.8727046125423 [1, 1, 1, 35, 1, 1, 1, 1, 1, 1, 1, 1, 1, 14, 14, 1, 1, 1, 19, 1, 1, 1, 1, 1, 1, 1, 1, 1, 1, 1, 1, 1, 1, 1, 35, 1, 1, 1, 1, 1, 1, 1, 1, 1, 1, 1, 1, 1, 1, 1, 1, 1, 1, 1, 1, 1, 1, 1, 1, 1, 14, 1, 79, 1, 1, 1, 1, 1, 69, 1, 1, 1, 1, 1, 1, 1, 1, 1, 79, 1, 1, 1, 1, 1, 1, 1, 1, 88, 1, 1, 1, 1, 1, 1, 1, 79, 69, 1, 1, 1] 227.5821099281311\n",
      "Iteration finished / 1484.5057252263298 [5, 5, 5, 5, 5, 5, 5, 5, 5, 74, 5, 5, 5, 5, 5, 5, 5, 41, 5, 82, 5, 5, 5, 5, 5, 5, 5, 5, 5, 82, 62, 5, 5, 5, 5, 5, 5, 74, 43, 5, 41, 5, 43, 5, 5, 5, 5, 5, 5, 62, 5, 5, 5, 5, 5, 5, 5, 5, 5, 43, 5, 62, 5, 5, 5, 66, 41, 5, 5, 5, 74, 5, 5, 74, 5, 5, 5, 5, 5, 5, 5, 82, 5, 5, 5, 5, 5, 5, 5, 5, 5, 5, 5, 5, 5, 5, 5, 5, 5, 5] 228.87658596038818\n",
      "Iteration finished / 1461.5881191689305 [58, 58, 58, 58, 58, 58, 58, 58, 58, 58, 58, 58, 58, 58, 58, 58, 58, 18, 58, 58, 58, 68, 58, 58, 58, 58, 58, 58, 58, 58, 58, 58, 58, 58, 58, 58, 58, 38, 58, 58, 58, 58, 58, 58, 58, 58, 58, 58, 58, 58, 58, 68, 58, 58, 89, 58, 58, 58, 58, 60, 58, 58, 68, 58, 58, 58, 58, 68, 58, 58, 58, 76, 58, 58, 58, 76, 58, 58, 58, 58, 58, 58, 58, 58, 58, 58, 58, 68, 89, 58, 58, 58, 58, 58, 58, 58, 58, 58, 58, 58] 228.32697081565857\n",
      "Iteration finished / 1570.63535872051 [58, 17, 52, 4, 52, 52, 94, 58, 9, 17, 17, 4, 17, 94, 52, 17, 17, 52, 94, 9, 17, 94, 17, 52, 17, 17, 58, 52, 94, 58, 58, 94, 58, 52, 17, 58, 52, 49, 58, 17, 52, 58, 17, 94, 58, 52, 17, 94, 49, 52, 17, 52, 52, 52, 4, 17, 17, 58, 17, 52, 94, 94, 94, 9, 17, 17, 17, 17, 52, 52, 17, 52, 49, 94, 58, 17, 94, 58, 52, 94, 49, 52, 52, 17, 58, 52, 94, 94, 17, 17, 94, 17, 17, 94, 94, 94, 52, 17, 52, 52] 228.21460819244385\n",
      "Iteration finished / 1534.1144307599843 [28, 28, 58, 58, 28, 58, 28, 28, 28, 28, 28, 28, 28, 28, 28, 28, 28, 58, 28, 28, 28, 58, 23, 28, 28, 29, 58, 28, 29, 28, 28, 32, 28, 58, 28, 58, 28, 28, 28, 58, 28, 28, 28, 28, 58, 58, 28, 28, 28, 28, 28, 52, 28, 52, 52, 28, 28, 58, 28, 60, 28, 28, 28, 28, 58, 28, 58, 28, 58, 28, 58, 28, 28, 28, 58, 28, 58, 58, 28, 28, 58, 58, 28, 28, 28, 52, 28, 28, 58, 28, 58, 28, 28, 28, 28, 28, 52, 28, 28, 58] 228.67281889915466\n",
      "Iteration finished / 1481.5690205401781 [91, 4, 4, 4, 4, 58, 4, 58, 4, 4, 4, 4, 91, 4, 4, 4, 4, 4, 4, 4, 4, 4, 4, 4, 84, 4, 4, 58, 4, 4, 4, 4, 4, 4, 4, 4, 91, 4, 55, 55, 4, 4, 4, 4, 4, 4, 4, 4, 91, 4, 91, 4, 91, 55, 55, 4, 4, 58, 4, 91, 55, 94, 4, 91, 4, 4, 4, 4, 4, 91, 4, 4, 4, 4, 4, 4, 4, 4, 4, 4, 4, 4, 4, 84, 4, 4, 4, 4, 4, 90, 91, 4, 4, 94, 4, 4, 4, 4, 91, 4] 228.79253816604614\n",
      "Iteration finished / 1422.8895205585818 [58, 58, 3, 58, 58, 58, 58, 58, 58, 58, 58, 58, 58, 58, 58, 58, 58, 58, 58, 58, 58, 58, 58, 58, 58, 26, 58, 28, 58, 58, 58, 58, 33, 58, 58, 58, 58, 58, 58, 58, 58, 58, 58, 58, 58, 58, 47, 58, 58, 58, 58, 58, 58, 58, 58, 58, 58, 58, 58, 58, 58, 58, 58, 58, 58, 58, 58, 58, 58, 58, 58, 58, 58, 58, 58, 58, 58, 58, 58, 58, 58, 58, 58, 58, 58, 58, 58, 58, 58, 58, 58, 58, 58, 94, 58, 58, 58, 58, 58, 58] 228.8035180568695\n",
      "Iteration finished / 1457.3563095694096 [58, 4, 58, 4, 5, 58, 4, 4, 4, 4, 11, 4, 4, 4, 4, 4, 4, 4, 5, 4, 4, 4, 4, 24, 4, 4, 58, 58, 4, 4, 58, 4, 4, 4, 4, 4, 91, 4, 4, 4, 4, 4, 4, 4, 4, 4, 4, 48, 4, 4, 91, 4, 4, 4, 4, 4, 4, 58, 4, 4, 4, 4, 4, 4, 4, 4, 4, 4, 4, 4, 58, 4, 4, 4, 4, 4, 4, 4, 4, 4, 4, 4, 4, 4, 4, 4, 4, 4, 4, 4, 91, 4, 4, 4, 4, 4, 4, 4, 4, 4] 228.67216300964355\n",
      "Iteration finished / 1462.987659017199 [73, 49, 73, 73, 73, 73, 73, 73, 73, 49, 73, 73, 73, 15, 15, 73, 73, 73, 73, 20, 28, 73, 73, 73, 73, 73, 73, 28, 73, 73, 31, 32, 73, 73, 73, 73, 73, 73, 73, 73, 73, 73, 73, 73, 73, 73, 73, 73, 49, 73, 73, 73, 20, 73, 73, 73, 73, 73, 73, 73, 73, 73, 73, 73, 73, 73, 73, 73, 73, 73, 73, 73, 73, 20, 73, 73, 20, 73, 73, 73, 73, 73, 73, 73, 73, 49, 73, 73, 73, 73, 73, 73, 73, 73, 73, 73, 73, 73, 73, 73] 227.9441909790039\n",
      "All finished\n"
     ]
    }
   ],
   "source": [
    "print(\"RGP 100\")\n",
    "\n",
    "\n",
    "global_best_solution = []\n",
    "replication = 0\n",
    "n_replication = 10\n",
    "\n",
    "while replication < n_replication:\n",
    "    best_solution = {}\n",
    "    best_run_cost, best_sol , runtime= a = RRVNS(100, 7, flow_RGP_100_list, cost_RGP_100_list, 0.8, 5000)\n",
    "    best_solution['solution'] = best_sol\n",
    "    best_solution['cost'] = best_run_cost\n",
    "    global_best_solution.append(best_solution)\n",
    "    replication += 1\n",
    "    print('Iteration finished /',best_run_cost, best_sol , runtime)\n",
    "print('All finished')   \n",
    "\n"
   ]
  },
  {
   "cell_type": "code",
   "execution_count": 134,
   "metadata": {},
   "outputs": [],
   "source": [
    "RGP100_7_8_RRVNS = global_best_solution.copy()"
   ]
  },
  {
   "cell_type": "code",
   "execution_count": 135,
   "metadata": {},
   "outputs": [
    {
     "name": "stdout",
     "output_type": "stream",
     "text": [
      "RGP100:  Best solution : 1422.8895205585818  gap:  0.31257375510621155 %\n"
     ]
    }
   ],
   "source": [
    "best_cost = min(RGP100_7_8_RRVNS, key = lambda item: item['cost'])['cost']\n",
    "best_solution = min(RGP100_7_8_RRVNS, key = lambda item: item['cost'])['solution']\n",
    "gap = (best_cost-1418.4558)*100/1418.4558 \n",
    "print('RGP100: ','Best solution :',str(best_cost),' gap: ',gap,'%')"
   ]
  },
  {
   "cell_type": "code",
   "execution_count": 136,
   "metadata": {},
   "outputs": [
    {
     "data": {
      "text/plain": [
       "1478.153463888636"
      ]
     },
     "execution_count": 136,
     "metadata": {},
     "output_type": "execute_result"
    }
   ],
   "source": [
    "pd.DataFrame(RGP100_7_8_RRVNS).to_csv('RGP100_7_8_RRVNS.csv')\n",
    "pd.DataFrame(RGP100_7_8_RRVNS)['cost'].mean()"
   ]
  },
  {
   "cell_type": "code",
   "execution_count": 232,
   "metadata": {},
   "outputs": [
    {
     "name": "stdout",
     "output_type": "stream",
     "text": [
      "RGP 100\n",
      "Iteration finished / 1205.6488391469725 [35, 24, 15, 24, 15, 21, 15, 51, 38, 35, 24, 21, 35, 15, 15, 40, 35, 30, 35, 38, 21, 40, 24, 24, 15, 24, 40, 30, 35, 30, 35, 15, 38, 40, 35, 15, 21, 38, 69, 40, 35, 69, 78, 24, 40, 21, 15, 21, 38, 69, 51, 15, 78, 38, 15, 15, 24, 24, 24, 69, 24, 78, 78, 38, 40, 38, 21, 38, 69, 38, 69, 24, 15, 38, 35, 40, 30, 78, 35, 40, 69, 38, 30, 78, 38, 40, 78, 51, 21, 38, 30, 24, 40, 40, 30, 15, 38, 21, 15, 35] 660.4336898326874\n",
      "Iteration finished / 1198.7544419086723 [39, 14, 14, 11, 14, 11, 73, 14, 14, 10, 11, 79, 83, 14, 14, 83, 67, 39, 79, 79, 67, 79, 39, 67, 14, 10, 73, 39, 79, 83, 39, 67, 93, 83, 10, 11, 73, 78, 39, 93, 67, 73, 39, 10, 79, 73, 79, 79, 73, 10, 73, 83, 78, 93, 39, 93, 67, 39, 39, 73, 14, 67, 78, 79, 83, 39, 67, 14, 39, 83, 10, 93, 73, 10, 11, 67, 67, 78, 79, 11, 79, 73, 83, 78, 11, 39, 73, 79, 83, 11, 73, 11, 93, 67, 39, 79, 67, 67, 83, 14] 666.4755640029907\n",
      "Iteration finished / 1201.051512550536 [23, 5, 3, 5, 5, 3, 87, 3, 3, 39, 27, 27, 63, 3, 39, 23, 84, 39, 5, 62, 39, 5, 23, 92, 84, 63, 27, 39, 27, 62, 62, 84, 62, 3, 3, 87, 5, 63, 39, 27, 5, 62, 27, 62, 3, 39, 5, 5, 92, 23, 5, 3, 27, 23, 39, 3, 27, 27, 3, 92, 3, 62, 63, 5, 62, 39, 62, 5, 39, 92, 63, 27, 87, 5, 63, 5, 87, 39, 63, 3, 5, 5, 39, 84, 5, 39, 87, 27, 5, 5, 5, 92, 39, 62, 39, 39, 63, 87, 39, 27] 665.1694440841675\n",
      "Iteration finished / 1208.418526908824 [66, 2, 56, 29, 5, 5, 56, 90, 26, 26, 90, 93, 42, 5, 5, 90, 26, 90, 5, 78, 78, 78, 90, 26, 93, 26, 29, 29, 29, 5, 93, 5, 93, 26, 29, 93, 56, 90, 78, 26, 5, 42, 90, 66, 26, 42, 5, 56, 2, 56, 5, 5, 78, 42, 66, 56, 26, 78, 29, 93, 26, 78, 78, 5, 66, 66, 26, 5, 26, 78, 66, 93, 42, 5, 29, 5, 66, 78, 29, 26, 5, 2, 42, 5, 5, 90, 5, 93, 93, 90, 90, 66, 93, 29, 66, 5, 42, 56, 29, 26] 661.7070388793945\n",
      "Iteration finished / 1203.3023254086345 [28, 48, 36, 45, 74, 35, 99, 35, 100, 35, 36, 99, 35, 100, 36, 35, 35, 18, 100, 74, 48, 94, 48, 35, 48, 45, 100, 28, 94, 35, 28, 74, 45, 74, 35, 36, 94, 74, 28, 45, 45, 99, 94, 94, 45, 18, 18, 48, 35, 28, 18, 28, 45, 74, 99, 48, 18, 28, 36, 48, 94, 74, 94, 100, 100, 36, 100, 74, 35, 99, 74, 45, 28, 74, 35, 36, 48, 100, 48, 99, 74, 74, 99, 94, 74, 45, 36, 28, 18, 48, 99, 48, 36, 94, 100, 74, 45, 48, 99, 100] 669.7707841396332\n",
      "Iteration finished / 1212.5081742705931 [83, 82, 52, 52, 68, 52, 68, 52, 49, 83, 36, 49, 63, 68, 96, 89, 52, 89, 68, 68, 89, 68, 68, 52, 89, 63, 43, 52, 36, 83, 89, 52, 89, 68, 49, 36, 52, 68, 96, 89, 52, 83, 43, 52, 43, 36, 68, 89, 49, 52, 68, 52, 63, 52, 68, 68, 68, 36, 63, 43, 96, 63, 63, 68, 83, 43, 43, 68, 52, 83, 68, 52, 49, 96, 63, 63, 43, 63, 96, 36, 49, 82, 83, 96, 49, 52, 36, 83, 89, 43, 68, 49, 36, 43, 68, 96, 63, 82, 83, 52] 672.8801772594452\n",
      "Iteration finished / 1181.660107424188 [39, 24, 59, 20, 15, 20, 39, 24, 20, 39, 11, 82, 59, 15, 15, 15, 59, 39, 15, 20, 24, 82, 50, 24, 15, 24, 53, 39, 59, 82, 59, 32, 32, 20, 24, 11, 11, 15, 39, 59, 50, 50, 39, 24, 53, 53, 15, 53, 15, 50, 39, 15, 53, 20, 15, 50, 24, 32, 59, 39, 24, 20, 53, 20, 20, 39, 24, 20, 39, 59, 32, 32, 82, 82, 11, 15, 20, 39, 20, 11, 82, 82, 39, 32, 11, 39, 53, 53, 53, 11, 53, 24, 39, 32, 39, 15, 53, 82, 39, 53] 675.8981137275696\n",
      "Iteration finished / 1203.0172555732097 [28, 2, 36, 29, 48, 2, 25, 25, 48, 39, 36, 22, 36, 25, 25, 36, 25, 39, 86, 29, 48, 22, 48, 2, 25, 29, 29, 28, 29, 28, 28, 93, 93, 22, 29, 36, 29, 25, 39, 22, 86, 93, 39, 29, 86, 39, 86, 48, 2, 22, 39, 86, 48, 2, 39, 93, 36, 28, 29, 48, 48, 28, 28, 36, 22, 39, 48, 22, 39, 22, 86, 93, 28, 28, 48, 36, 48, 39, 48, 86, 39, 2, 39, 25, 86, 86, 25, 28, 93, 86, 39, 86, 93, 29, 39, 39, 36, 48, 29, 36] 676.1595168113708\n",
      "Iteration finished / 1188.731005556316 [58, 49, 58, 4, 4, 8, 4, 8, 49, 67, 36, 4, 36, 88, 36, 36, 67, 60, 67, 4, 67, 4, 60, 67, 8, 8, 88, 58, 4, 58, 31, 58, 58, 36, 49, 36, 8, 70, 60, 58, 70, 60, 60, 88, 58, 4, 4, 60, 49, 58, 8, 4, 88, 8, 4, 4, 36, 58, 31, 60, 88, 31, 58, 8, 88, 36, 67, 88, 60, 70, 88, 36, 49, 88, 58, 4, 67, 70, 88, 70, 49, 58, 49, 4, 58, 49, 36, 88, 31, 8, 4, 49, 36, 88, 88, 4, 4, 36, 70, 36] 684.0907299518585\n",
      "Iteration finished / 1181.8591314120015 [1, 1, 3, 58, 47, 58, 76, 58, 3, 1, 36, 47, 1, 1, 76, 76, 17, 47, 3, 38, 17, 95, 1, 58, 17, 17, 58, 58, 36, 95, 76, 95, 38, 76, 17, 36, 42, 38, 95, 76, 1, 42, 17, 95, 58, 58, 47, 1, 38, 76, 36, 17, 1, 42, 1, 3, 17, 58, 17, 1, 3, 42, 38, 38, 58, 1, 17, 17, 42, 38, 76, 76, 42, 38, 58, 76, 36, 58, 47, 1, 47, 38, 42, 17, 58, 1, 36, 3, 17, 38, 1, 95, 42, 47, 95, 76, 42, 36, 42, 58] 686.2382688522339\n",
      "All finished\n"
     ]
    }
   ],
   "source": [
    "print(\"RGP 100\")\n",
    "\n",
    "\n",
    "global_best_solution = []\n",
    "replication = 0\n",
    "n_replication = 10\n",
    "\n",
    "while replication < n_replication:\n",
    "    best_solution = {}\n",
    "    best_run_cost, best_sol , runtime= a = RRVNS(100, 10, flow_RGP_100_list, cost_RGP_100_list, 0.2, 15000)\n",
    "    best_solution['solution'] = best_sol\n",
    "    best_solution['cost'] = best_run_cost\n",
    "    global_best_solution.append(best_solution)\n",
    "    replication += 1\n",
    "    print('Iteration finished /',best_run_cost, best_sol , runtime)\n",
    "print('All finished')   \n",
    "\n"
   ]
  },
  {
   "cell_type": "code",
   "execution_count": 233,
   "metadata": {},
   "outputs": [],
   "source": [
    "RGP100_10_2_RRVNS = global_best_solution.copy()"
   ]
  },
  {
   "cell_type": "code",
   "execution_count": 234,
   "metadata": {},
   "outputs": [
    {
     "name": "stdout",
     "output_type": "stream",
     "text": [
      "RGP100:  Best solution : 1181.660107424188  gap:  0.19570979861720145 %\n"
     ]
    }
   ],
   "source": [
    "best_cost = min(RGP100_10_2_RRVNS, key = lambda item: item['cost'])['cost']\n",
    "best_solution = min(RGP100_10_2_RRVNS, key = lambda item: item['cost'])['solution']\n",
    "gap = (best_cost-1179.352)*100/1179.352\n",
    "print('RGP100: ','Best solution :',str(best_cost),' gap: ',gap,'%')"
   ]
  },
  {
   "cell_type": "code",
   "execution_count": 235,
   "metadata": {},
   "outputs": [
    {
     "data": {
      "text/plain": [
       "1198.4951320159948"
      ]
     },
     "execution_count": 235,
     "metadata": {},
     "output_type": "execute_result"
    }
   ],
   "source": [
    "pd.DataFrame(RGP100_10_2_RRVNS).to_csv('RGP100_10_2_RRVNS.csv')\n",
    "pd.DataFrame(RGP100_10_2_RRVNS)['cost'].mean()"
   ]
  },
  {
   "cell_type": "code",
   "execution_count": 236,
   "metadata": {},
   "outputs": [
    {
     "name": "stdout",
     "output_type": "stream",
     "text": [
      "RGP 100\n",
      "Iteration finished / 1446.4865275185537 [1, 1, 3, 76, 5, 1, 76, 1, 1, 1, 1, 1, 1, 1, 76, 76, 1, 1, 1, 20, 1, 1, 1, 1, 1, 1, 1, 1, 29, 1, 1, 1, 1, 34, 1, 36, 1, 1, 1, 40, 1, 1, 3, 1, 1, 1, 1, 1, 83, 76, 1, 1, 1, 1, 1, 1, 76, 1, 1, 1, 3, 1, 1, 5, 1, 1, 1, 1, 1, 76, 1, 1, 1, 5, 1, 76, 1, 1, 1, 1, 1, 1, 83, 1, 1, 1, 1, 1, 1, 1, 1, 1, 36, 1, 1, 34, 76, 1, 83, 1] 680.9001750946045\n",
      "Iteration finished / 1426.2100867445613 [26, 26, 26, 26, 26, 6, 87, 26, 26, 26, 26, 26, 26, 26, 26, 26, 26, 18, 26, 26, 26, 26, 26, 26, 26, 26, 26, 26, 26, 26, 26, 26, 26, 26, 26, 26, 26, 97, 26, 26, 26, 26, 26, 26, 26, 46, 26, 48, 26, 26, 26, 26, 26, 26, 26, 26, 26, 26, 26, 26, 26, 26, 26, 26, 26, 26, 26, 26, 26, 26, 26, 26, 26, 26, 26, 26, 77, 26, 26, 26, 26, 26, 26, 26, 85, 26, 87, 26, 26, 26, 26, 26, 93, 26, 26, 26, 97, 48, 26, 26] 688.1831431388855\n",
      "Iteration finished / 1509.87572200673 [1, 5, 3, 5, 5, 5, 7, 51, 19, 5, 11, 5, 5, 5, 5, 5, 68, 5, 19, 53, 5, 5, 1, 19, 7, 19, 19, 1, 5, 5, 1, 5, 19, 68, 19, 11, 5, 68, 5, 19, 5, 5, 5, 19, 53, 5, 5, 5, 19, 56, 51, 5, 53, 5, 68, 56, 5, 1, 19, 5, 5, 19, 68, 5, 19, 5, 19, 68, 19, 5, 68, 53, 7, 5, 5, 5, 19, 53, 19, 1, 5, 5, 1, 5, 5, 19, 5, 68, 5, 5, 1, 5, 56, 19, 5, 5, 5, 19, 7, 19] 691.1187880039215\n",
      "Iteration finished / 1469.2112889337768 [20, 54, 20, 20, 20, 20, 20, 8, 20, 20, 20, 79, 20, 20, 15, 20, 20, 20, 79, 20, 20, 79, 54, 20, 20, 20, 20, 20, 29, 20, 20, 79, 20, 20, 20, 20, 20, 20, 20, 20, 66, 54, 20, 20, 79, 20, 79, 79, 79, 20, 8, 54, 20, 54, 54, 20, 20, 20, 20, 20, 20, 20, 63, 20, 20, 66, 20, 20, 20, 20, 20, 20, 20, 20, 20, 20, 77, 20, 79, 20, 79, 20, 20, 20, 20, 20, 20, 79, 20, 20, 91, 20, 54, 20, 20, 20, 63, 20, 20, 79] 685.4082629680634\n",
      "Iteration finished / 1532.306753726863 [19, 5, 19, 12, 5, 5, 73, 26, 19, 19, 27, 12, 27, 15, 15, 15, 26, 15, 19, 73, 5, 15, 27, 26, 15, 26, 27, 32, 27, 5, 27, 32, 19, 19, 19, 15, 27, 15, 15, 27, 5, 27, 27, 19, 26, 5, 5, 5, 19, 56, 5, 15, 27, 15, 15, 56, 27, 27, 19, 19, 26, 19, 26, 5, 19, 5, 19, 5, 19, 5, 32, 27, 73, 5, 19, 15, 27, 27, 19, 26, 5, 82, 73, 27, 5, 19, 5, 27, 5, 5, 5, 27, 56, 19, 32, 15, 27, 19, 15, 19] 676.9837303161621\n",
      "Iteration finished / 1554.9571934030994 [60, 17, 43, 43, 43, 8, 73, 8, 43, 43, 17, 17, 17, 8, 73, 17, 17, 60, 60, 43, 17, 34, 17, 8, 17, 17, 43, 17, 60, 43, 43, 32, 33, 34, 17, 17, 8, 43, 43, 17, 73, 60, 43, 17, 43, 73, 17, 60, 17, 17, 8, 17, 71, 8, 33, 17, 17, 8, 17, 60, 17, 60, 43, 17, 17, 43, 17, 17, 60, 43, 71, 17, 73, 34, 60, 17, 43, 43, 73, 98, 17, 98, 17, 17, 71, 17, 73, 34, 17, 43, 60, 17, 60, 43, 32, 34, 8, 98, 17, 33] 666.4755520820618\n",
      "Iteration finished / 1469.540497329579 [53, 53, 53, 4, 53, 52, 53, 53, 53, 44, 53, 4, 53, 53, 52, 53, 53, 53, 53, 53, 53, 53, 53, 24, 45, 45, 53, 53, 53, 53, 53, 97, 53, 53, 53, 53, 97, 53, 53, 53, 53, 42, 53, 44, 45, 53, 53, 53, 53, 53, 53, 52, 53, 52, 97, 4, 53, 53, 53, 53, 53, 97, 53, 53, 53, 45, 53, 53, 97, 53, 53, 53, 42, 53, 53, 97, 53, 53, 53, 53, 53, 53, 53, 53, 97, 86, 53, 53, 53, 53, 53, 53, 93, 53, 53, 53, 97, 52, 52, 53] 668.2259268760681\n",
      "Iteration finished / 1566.6149128590641 [1, 49, 1, 11, 81, 49, 86, 79, 49, 35, 11, 49, 35, 11, 49, 81, 11, 11, 79, 79, 49, 79, 1, 11, 49, 86, 11, 1, 79, 35, 89, 81, 86, 81, 35, 11, 11, 49, 86, 1, 86, 42, 79, 49, 86, 1, 47, 79, 49, 42, 11, 86, 11, 42, 79, 11, 81, 1, 86, 1, 86, 42, 79, 79, 86, 1, 11, 79, 1, 49, 86, 49, 49, 81, 11, 1, 11, 49, 79, 86, 81, 11, 49, 79, 86, 86, 49, 79, 89, 11, 1, 49, 42, 49, 11, 79, 42, 49, 86, 79] 668.7053937911987\n",
      "Iteration finished / 1478.8954044948123 [23, 17, 99, 47, 47, 17, 99, 17, 17, 17, 17, 17, 17, 17, 17, 17, 17, 89, 17, 17, 17, 17, 23, 17, 17, 17, 23, 17, 17, 95, 17, 17, 47, 17, 17, 17, 17, 17, 17, 17, 17, 17, 17, 17, 17, 47, 47, 17, 17, 17, 17, 17, 17, 23, 68, 17, 17, 17, 17, 60, 17, 17, 17, 17, 17, 17, 17, 68, 17, 99, 17, 17, 73, 99, 47, 17, 17, 17, 47, 99, 17, 17, 17, 17, 68, 17, 17, 68, 89, 90, 99, 17, 17, 17, 95, 17, 17, 17, 99, 17] 675.4376480579376\n",
      "Iteration finished / 1473.1646691736958 [33, 33, 33, 55, 74, 33, 7, 33, 9, 33, 33, 33, 33, 9, 55, 33, 33, 33, 33, 33, 21, 33, 75, 33, 33, 33, 55, 33, 29, 33, 55, 33, 33, 33, 33, 36, 33, 33, 55, 33, 33, 33, 33, 33, 33, 21, 33, 21, 9, 33, 33, 33, 33, 55, 55, 33, 33, 33, 33, 33, 33, 33, 33, 75, 55, 33, 33, 33, 33, 33, 33, 33, 33, 74, 75, 33, 33, 21, 33, 99, 33, 33, 33, 9, 33, 33, 33, 33, 33, 33, 33, 33, 33, 33, 33, 33, 55, 33, 99, 33] 681.1208500862122\n",
      "All finished\n"
     ]
    }
   ],
   "source": [
    "print(\"RGP 100\")\n",
    "\n",
    "\n",
    "global_best_solution = []\n",
    "replication = 0\n",
    "n_replication = 10\n",
    "\n",
    "while replication < n_replication:\n",
    "    best_solution = {}\n",
    "    best_run_cost, best_sol , runtime= a = RRVNS(100, 10, flow_RGP_100_list, cost_RGP_100_list, 0.8, 15000)\n",
    "    best_solution['solution'] = best_sol\n",
    "    best_solution['cost'] = best_run_cost\n",
    "    global_best_solution.append(best_solution)\n",
    "    replication += 1\n",
    "    print('Iteration finished /',best_run_cost, best_sol , runtime)\n",
    "print('All finished')   \n",
    "\n"
   ]
  },
  {
   "cell_type": "code",
   "execution_count": 140,
   "metadata": {},
   "outputs": [
    {
     "name": "stdout",
     "output_type": "stream",
     "text": [
      "RGP 100\n",
      "Iteration finished / 1423.3200759943895 [58, 58, 58, 58, 58, 58, 58, 58, 58, 58, 58, 58, 58, 28, 58, 58, 17, 58, 58, 20, 58, 58, 58, 58, 25, 58, 58, 28, 58, 58, 58, 58, 58, 58, 58, 58, 58, 58, 58, 58, 58, 42, 43, 58, 58, 58, 58, 58, 58, 58, 58, 28, 58, 58, 58, 58, 58, 58, 58, 58, 58, 58, 58, 58, 58, 58, 58, 68, 58, 58, 58, 58, 73, 58, 58, 58, 58, 58, 58, 58, 58, 58, 58, 58, 58, 58, 25, 58, 58, 58, 58, 58, 58, 58, 58, 58, 42, 58, 99, 58] 677.7609758377075\n",
      "Iteration finished / 1417.7337162320653 [58, 58, 58, 4, 58, 58, 58, 8, 58, 58, 58, 4, 58, 58, 58, 58, 58, 58, 58, 58, 58, 58, 58, 24, 58, 58, 58, 58, 58, 58, 58, 58, 33, 58, 58, 58, 58, 38, 58, 58, 58, 42, 58, 58, 58, 58, 58, 58, 58, 58, 58, 58, 58, 58, 58, 58, 58, 58, 58, 58, 58, 58, 58, 58, 58, 58, 58, 58, 58, 58, 58, 58, 58, 58, 75, 58, 58, 58, 58, 58, 58, 58, 42, 58, 85, 58, 58, 88, 58, 58, 58, 58, 58, 58, 58, 58, 58, 58, 58, 58] 673.4085719585419\n",
      "Iteration finished / 1435.3867641902305 [58, 4, 4, 4, 4, 20, 4, 4, 9, 4, 4, 4, 4, 4, 4, 4, 4, 4, 4, 20, 4, 4, 4, 24, 4, 4, 4, 58, 29, 4, 4, 4, 4, 4, 4, 4, 29, 38, 4, 4, 4, 4, 4, 4, 4, 4, 4, 4, 4, 4, 4, 52, 4, 4, 4, 4, 4, 58, 4, 58, 4, 4, 4, 4, 4, 4, 4, 20, 4, 4, 4, 4, 4, 4, 4, 4, 4, 4, 4, 4, 4, 4, 4, 84, 4, 4, 4, 4, 4, 4, 4, 4, 4, 94, 4, 4, 4, 4, 4, 4] 676.1812448501587\n",
      "Iteration finished / 1415.289450994124 [58, 58, 58, 4, 58, 58, 7, 8, 58, 58, 58, 4, 58, 58, 58, 58, 58, 58, 58, 58, 58, 58, 58, 58, 58, 58, 58, 58, 58, 58, 58, 32, 58, 58, 58, 36, 58, 58, 58, 58, 41, 42, 58, 58, 58, 58, 58, 58, 58, 58, 58, 58, 58, 58, 58, 4, 58, 58, 58, 58, 58, 58, 58, 58, 58, 58, 58, 58, 58, 58, 58, 58, 58, 58, 58, 58, 58, 58, 58, 58, 58, 58, 58, 84, 58, 58, 58, 58, 58, 58, 58, 58, 58, 58, 58, 58, 58, 58, 58, 100] 674.6760342121124\n",
      "Iteration finished / 1510.7249936609878 [58, 17, 9, 4, 68, 58, 68, 58, 9, 17, 17, 17, 17, 68, 38, 17, 17, 68, 68, 68, 21, 68, 68, 58, 17, 17, 58, 17, 4, 58, 58, 32, 58, 68, 17, 17, 68, 38, 17, 17, 68, 17, 17, 17, 68, 68, 17, 17, 17, 68, 68, 17, 68, 68, 68, 56, 17, 58, 17, 17, 68, 17, 68, 68, 17, 17, 17, 68, 17, 38, 68, 17, 68, 68, 58, 17, 68, 58, 68, 68, 17, 17, 17, 17, 68, 17, 68, 68, 17, 90, 68, 17, 68, 17, 68, 68, 68, 17, 17, 17] 676.4742088317871\n",
      "Iteration finished / 1409.44443445629 [58, 58, 58, 58, 58, 58, 58, 58, 58, 58, 58, 58, 58, 58, 58, 58, 58, 58, 58, 58, 21, 58, 58, 58, 58, 58, 58, 28, 58, 58, 58, 58, 58, 58, 58, 58, 58, 38, 58, 58, 41, 58, 58, 58, 58, 58, 58, 58, 58, 58, 58, 52, 58, 58, 58, 58, 58, 58, 58, 58, 58, 58, 58, 58, 58, 58, 58, 68, 58, 58, 58, 58, 73, 74, 58, 58, 58, 58, 58, 58, 58, 82, 58, 58, 58, 58, 58, 58, 58, 58, 58, 58, 58, 58, 58, 58, 58, 58, 58, 58] 676.4385857582092\n",
      "Iteration finished / 1485.8198346518911 [76, 97, 76, 4, 5, 97, 76, 8, 97, 97, 97, 4, 97, 14, 97, 76, 97, 97, 97, 4, 97, 4, 97, 97, 42, 97, 97, 97, 97, 97, 76, 97, 97, 97, 4, 97, 97, 97, 97, 76, 97, 42, 97, 97, 97, 97, 97, 67, 97, 97, 97, 97, 97, 97, 97, 4, 97, 4, 97, 97, 61, 97, 97, 97, 97, 97, 67, 97, 97, 76, 76, 97, 97, 97, 97, 76, 97, 97, 79, 97, 42, 97, 97, 4, 97, 97, 4, 97, 97, 97, 4, 97, 97, 97, 97, 97, 97, 97, 97, 97] 672.9315602779388\n",
      "Iteration finished / 1498.048550751319 [68, 17, 68, 68, 68, 17, 68, 17, 9, 10, 17, 17, 17, 68, 68, 17, 17, 68, 68, 68, 17, 68, 68, 67, 17, 17, 68, 17, 17, 17, 17, 17, 71, 68, 17, 17, 68, 68, 66, 17, 68, 17, 17, 17, 68, 68, 17, 17, 17, 68, 68, 17, 68, 68, 68, 68, 17, 58, 17, 17, 61, 17, 68, 68, 17, 66, 67, 68, 17, 68, 71, 17, 68, 68, 68, 17, 17, 61, 68, 68, 17, 17, 17, 17, 68, 17, 68, 68, 17, 68, 68, 92, 68, 17, 68, 68, 68, 17, 17, 17] 672.9801206588745\n",
      "Iteration finished / 1417.5053845926036 [1, 58, 58, 58, 58, 6, 58, 58, 58, 58, 58, 58, 58, 58, 58, 58, 58, 58, 58, 20, 21, 58, 58, 24, 58, 26, 58, 58, 58, 58, 58, 58, 58, 58, 1, 58, 58, 58, 58, 58, 58, 58, 58, 58, 58, 58, 58, 58, 58, 58, 58, 58, 58, 58, 58, 58, 58, 58, 58, 58, 58, 58, 58, 58, 58, 58, 58, 58, 58, 58, 58, 58, 91, 58, 58, 76, 58, 58, 58, 58, 58, 58, 58, 58, 85, 58, 58, 58, 58, 58, 91, 58, 58, 58, 58, 58, 58, 58, 58, 58] 674.1642971038818\n",
      "Iteration finished / 1408.049567943788 [58, 58, 58, 58, 5, 58, 58, 58, 58, 10, 58, 58, 58, 14, 58, 58, 58, 58, 19, 20, 58, 58, 58, 58, 58, 58, 58, 58, 58, 58, 58, 58, 58, 58, 35, 58, 58, 58, 58, 58, 58, 58, 58, 58, 58, 58, 58, 58, 58, 58, 58, 58, 58, 58, 58, 56, 58, 58, 58, 60, 58, 58, 58, 58, 58, 58, 58, 58, 58, 58, 58, 58, 58, 58, 58, 58, 58, 58, 58, 58, 58, 58, 58, 58, 58, 58, 58, 58, 58, 58, 91, 58, 58, 58, 58, 58, 58, 58, 58, 58] 669.9440410137177\n",
      "All finished\n"
     ]
    }
   ],
   "source": [
    "print(\"RGP 100\")\n",
    "\n",
    "\n",
    "global_best_solution = []\n",
    "replication = 0\n",
    "n_replication = 10\n",
    "\n",
    "while replication < n_replication:\n",
    "    best_solution = {}\n",
    "    best_run_cost, best_sol , runtime= a = RRVNS(100, 10, flow_RGP_100_list, cost_RGP_100_list, 0.8, 15000)\n",
    "    best_solution['solution'] = best_sol\n",
    "    best_solution['cost'] = best_run_cost\n",
    "    global_best_solution.append(best_solution)\n",
    "    replication += 1\n",
    "    print('Iteration finished /',best_run_cost, best_sol , runtime)\n",
    "print('All finished')   \n",
    "\n"
   ]
  },
  {
   "cell_type": "code",
   "execution_count": 141,
   "metadata": {},
   "outputs": [],
   "source": [
    "RGP100_10_8_RRVNS = global_best_solution.copy()"
   ]
  },
  {
   "cell_type": "code",
   "execution_count": 142,
   "metadata": {},
   "outputs": [
    {
     "name": "stdout",
     "output_type": "stream",
     "text": [
      "RGP100:  Best solution : 1408.049567943788  gap:  -0.010959496434576683 %\n"
     ]
    }
   ],
   "source": [
    "best_cost = min(RGP100_10_8_RRVNS, key = lambda item: item['cost'])['cost']\n",
    "best_solution = min(RGP100_10_8_RRVNS, key = lambda item: item['cost'])['solution']\n",
    "gap = (best_cost-1408.2039)*100/1408.2039\n",
    "print('RGP100: ','Best solution :',str(best_cost),' gap: ',gap,'%')"
   ]
  },
  {
   "cell_type": "code",
   "execution_count": 143,
   "metadata": {},
   "outputs": [
    {
     "data": {
      "text/plain": [
       "1442.132277346769"
      ]
     },
     "execution_count": 143,
     "metadata": {},
     "output_type": "execute_result"
    }
   ],
   "source": [
    "pd.DataFrame(RGP100_10_8_RRVNS).to_csv('RGP100_10_8_RRVNS.csv')\n",
    "pd.DataFrame(RGP100_10_8_RRVNS)['cost'].mean()"
   ]
  },
  {
   "cell_type": "code",
   "execution_count": 240,
   "metadata": {},
   "outputs": [
    {
     "name": "stdout",
     "output_type": "stream",
     "text": [
      "RGP 130\n",
      "Iteration finished / 1279.3116804741685 [45, 42, 42, 122, 42, 52, 57, 122, 57, 122, 57, 122, 42, 57, 57, 45, 52, 57, 122, 97, 104, 45, 52, 57, 57, 42, 104, 57, 57, 45, 104, 97, 42, 57, 45, 52, 45, 57, 45, 122, 104, 42, 122, 45, 45, 45, 104, 104, 42, 97, 52, 52, 57, 52, 122, 42, 57, 57, 45, 45, 52, 45, 42, 52, 104, 45, 122, 52, 52, 52, 45, 57, 42, 57, 104, 97, 42, 122, 122, 42, 45, 52, 45, 57, 52, 45, 57, 57, 122, 57, 42, 45, 57, 42, 122, 97, 97, 57, 122, 45, 45, 45, 122, 104, 122, 42, 122, 122, 57, 122, 52, 122, 57, 104, 52, 97, 42, 42, 52, 45, 52, 122, 42, 97, 42, 52, 42, 52, 52, 52] 1148.1273539066315\n",
      "Iteration finished / 1274.9776637204366 [10, 20, 3, 23, 120, 20, 20, 23, 51, 10, 12, 12, 51, 51, 10, 20, 20, 10, 12, 20, 20, 120, 23, 10, 120, 10, 3, 120, 120, 10, 20, 120, 10, 120, 12, 23, 3, 10, 51, 120, 120, 120, 12, 12, 120, 120, 12, 20, 120, 20, 51, 12, 120, 51, 12, 120, 20, 20, 51, 23, 120, 10, 23, 120, 10, 23, 120, 120, 20, 120, 10, 10, 51, 20, 3, 3, 20, 3, 51, 120, 12, 20, 12, 10, 51, 10, 12, 51, 120, 10, 10, 12, 12, 120, 10, 3, 20, 3, 23, 120, 20, 10, 20, 12, 10, 51, 51, 10, 120, 23, 10, 120, 12, 3, 12, 10, 20, 10, 10, 120, 10, 120, 10, 51, 23, 20, 20, 23, 12, 20] 1146.6471691131592\n",
      "Iteration finished / 1283.426298145837 [1, 126, 80, 61, 125, 126, 126, 125, 61, 16, 1, 16, 1, 57, 57, 16, 57, 126, 16, 16, 126, 126, 125, 57, 125, 61, 57, 57, 57, 80, 126, 125, 126, 57, 57, 80, 16, 57, 61, 57, 125, 1, 1, 80, 1, 1, 125, 126, 125, 126, 80, 61, 57, 57, 16, 126, 57, 57, 1, 80, 61, 16, 57, 57, 80, 61, 61, 125, 57, 80, 126, 126, 80, 57, 61, 80, 1, 80, 57, 80, 126, 80, 16, 57, 61, 1, 1, 80, 57, 126, 61, 80, 57, 61, 126, 61, 61, 80, 16, 125, 125, 16, 125, 61, 61, 80, 16, 80, 16, 126, 61, 61, 57, 125, 61, 125, 61, 80, 61, 80, 125, 57, 16, 61, 125, 126, 16, 125, 1, 1] 1129.685357093811\n",
      "Iteration finished / 1275.0907415491326 [110, 110, 27, 84, 90, 47, 17, 84, 84, 84, 17, 47, 90, 17, 94, 110, 17, 27, 110, 17, 17, 90, 110, 90, 84, 17, 27, 17, 94, 17, 94, 17, 90, 17, 94, 84, 94, 94, 84, 94, 84, 94, 17, 47, 90, 90, 47, 94, 110, 27, 17, 17, 47, 94, 27, 94, 17, 27, 84, 47, 94, 90, 94, 27, 17, 27, 47, 27, 17, 94, 84, 90, 94, 47, 17, 110, 90, 94, 47, 17, 84, 17, 47, 84, 110, 47, 47, 90, 17, 90, 17, 94, 17, 94, 110, 27, 90, 84, 17, 47, 90, 84, 90, 27, 110, 17, 47, 90, 17, 110, 17, 47, 94, 17, 84, 110, 27, 47, 94, 94, 17, 110, 17, 17, 47, 90, 47, 110, 90, 47] 1137.4042596817017\n",
      "Iteration finished / 1275.4615563483567 [46, 73, 95, 95, 95, 119, 12, 111, 95, 95, 63, 12, 12, 119, 111, 12, 111, 119, 46, 63, 111, 12, 119, 111, 63, 63, 46, 119, 63, 95, 119, 119, 111, 63, 73, 111, 73, 119, 63, 95, 95, 63, 119, 12, 95, 46, 12, 63, 111, 111, 73, 119, 46, 46, 95, 119, 63, 73, 95, 73, 111, 119, 63, 46, 95, 63, 63, 119, 73, 73, 73, 73, 73, 95, 73, 12, 63, 95, 63, 73, 73, 95, 12, 73, 95, 111, 119, 73, 63, 95, 73, 46, 95, 73, 95, 63, 119, 46, 73, 63, 12, 95, 73, 73, 111, 46, 119, 63, 111, 95, 111, 12, 46, 73, 95, 63, 63, 95, 119, 46, 111, 12, 63, 12, 73, 95, 63, 111, 12, 46] 1140.5949010849\n",
      "Iteration finished / 1291.7822575563844 [127, 92, 4, 4, 89, 64, 4, 4, 4, 127, 64, 4, 89, 25, 4, 127, 89, 64, 89, 97, 64, 64, 4, 97, 25, 64, 64, 25, 25, 92, 4, 97, 127, 89, 127, 92, 89, 4, 97, 64, 127, 127, 4, 92, 92, 64, 127, 89, 25, 127, 4, 64, 25, 89, 4, 25, 89, 64, 64, 92, 4, 25, 25, 64, 64, 97, 4, 92, 92, 4, 4, 64, 64, 127, 4, 127, 92, 4, 25, 92, 127, 92, 64, 25, 92, 25, 127, 4, 89, 4, 92, 92, 64, 92, 4, 25, 97, 64, 92, 25, 89, 92, 4, 4, 89, 4, 64, 25, 92, 92, 92, 127, 4, 92, 4, 97, 4, 25, 97, 64, 4, 4, 64, 97, 25, 127, 127, 4, 89, 89] 1133.6698851585388\n",
      "Iteration finished / 1278.0631344871595 [70, 63, 117, 70, 70, 79, 123, 123, 22, 120, 63, 63, 123, 117, 123, 123, 123, 117, 117, 117, 117, 22, 63, 123, 63, 63, 117, 120, 120, 117, 120, 117, 79, 63, 79, 70, 70, 63, 79, 120, 120, 63, 117, 117, 120, 120, 79, 70, 22, 117, 79, 70, 120, 22, 63, 70, 63, 70, 70, 120, 117, 120, 63, 120, 117, 63, 63, 70, 123, 70, 22, 123, 63, 117, 117, 123, 63, 70, 79, 120, 117, 123, 123, 123, 123, 117, 22, 79, 63, 22, 63, 22, 70, 63, 123, 117, 70, 117, 70, 117, 120, 117, 117, 70, 63, 22, 22, 63, 70, 70, 123, 79, 22, 117, 117, 70, 117, 120, 70, 120, 117, 120, 123, 79, 22, 22, 63, 123, 22, 117] 1138.072063922882\n",
      "Iteration finished / 1286.6670329375415 [21, 92, 103, 103, 66, 24, 103, 23, 67, 24, 21, 92, 23, 21, 24, 24, 21, 23, 21, 103, 21, 92, 23, 24, 21, 24, 66, 23, 21, 92, 23, 67, 67, 103, 21, 23, 103, 66, 103, 92, 66, 66, 67, 92, 66, 92, 24, 21, 21, 103, 24, 21, 21, 24, 66, 24, 24, 21, 103, 23, 67, 24, 66, 21, 67, 66, 67, 66, 92, 23, 92, 21, 23, 21, 66, 67, 92, 103, 66, 67, 67, 92, 103, 66, 92, 23, 21, 103, 24, 21, 92, 92, 66, 92, 21, 103, 24, 67, 92, 24, 24, 92, 103, 21, 103, 21, 21, 23, 92, 23, 21, 24, 24, 103, 103, 21, 66, 21, 23, 67, 92, 103, 21, 67, 23, 92, 21, 103, 103, 24] 1136.6494739055634\n",
      "Iteration finished / 1280.1756136534495 [101, 101, 114, 16, 101, 6, 6, 6, 9, 101, 9, 101, 16, 114, 9, 16, 114, 18, 6, 101, 101, 9, 18, 101, 101, 6, 18, 114, 9, 9, 18, 18, 6, 6, 35, 101, 18, 6, 9, 9, 114, 9, 114, 9, 6, 101, 9, 114, 101, 6, 9, 6, 35, 114, 16, 114, 9, 6, 114, 114, 9, 9, 6, 18, 101, 9, 9, 114, 114, 6, 114, 18, 35, 6, 9, 16, 114, 114, 9, 6, 35, 18, 114, 9, 9, 9, 101, 9, 101, 101, 35, 114, 18, 114, 35, 18, 18, 18, 101, 9, 101, 101, 114, 114, 6, 18, 16, 101, 16, 16, 18, 114, 114, 114, 35, 114, 18, 114, 18, 16, 114, 9, 16, 35, 114, 18, 16, 35, 16, 9] 1138.3947520256042\n",
      "Iteration finished / 1283.0455654491698 [13, 121, 95, 121, 95, 74, 13, 13, 77, 95, 121, 13, 13, 28, 13, 13, 121, 28, 121, 74, 74, 121, 28, 25, 25, 74, 74, 28, 25, 25, 77, 74, 95, 74, 74, 28, 28, 13, 74, 74, 95, 13, 13, 13, 74, 95, 74, 25, 25, 74, 13, 121, 13, 13, 121, 25, 28, 121, 95, 13, 13, 25, 25, 74, 77, 74, 25, 28, 121, 74, 77, 121, 95, 74, 25, 28, 77, 95, 74, 121, 95, 25, 13, 25, 95, 25, 28, 74, 13, 13, 95, 77, 74, 28, 95, 25, 95, 95, 121, 13, 74, 95, 25, 25, 25, 95, 121, 25, 25, 95, 121, 121, 13, 77, 95, 74, 74, 95, 95, 25, 121, 95, 13, 74, 25, 95, 74, 95, 95, 77] 1127.0350060462952\n",
      "All finished\n"
     ]
    }
   ],
   "source": [
    "print(\"RGP 130\")\n",
    "\n",
    "\n",
    "global_best_solution = []\n",
    "replication = 0\n",
    "n_replication = 10\n",
    "\n",
    "while replication < n_replication:\n",
    "    best_solution = {}\n",
    "    best_run_cost, best_sol , runtime= RRVNS(130, 7, flow_RGP_130_list, cost_RGP_130_list, 0.2, 15000)\n",
    "    best_solution['solution'] = best_sol\n",
    "    best_solution['cost'] = best_run_cost\n",
    "    global_best_solution.append(best_solution)\n",
    "    replication += 1\n",
    "    print('Iteration finished /',best_run_cost, best_sol , runtime)\n",
    "print('All finished')   \n",
    "\n"
   ]
  },
  {
   "cell_type": "code",
   "execution_count": 241,
   "metadata": {},
   "outputs": [],
   "source": [
    "RGP130_7_2_RRVNS = global_best_solution.copy()"
   ]
  },
  {
   "cell_type": "code",
   "execution_count": 245,
   "metadata": {},
   "outputs": [
    {
     "name": "stdout",
     "output_type": "stream",
     "text": [
      "RGP130:  Best solution : 1274.9776637204366  gap:  1.7885531074862582 %\n"
     ]
    }
   ],
   "source": [
    "\n",
    "best_cost = min(RGP130_7_2_RRVNS, key = lambda item: item['cost'])['cost']\n",
    "best_solution = min(RGP130_7_2_RRVNS, key = lambda item: item['cost'])['solution']\n",
    "gap = (best_cost-1252.5747)*100/1252.5747\n",
    "print('RGP130: ','Best solution :',str(best_cost),' gap: ',gap,'%')"
   ]
  },
  {
   "cell_type": "code",
   "execution_count": 243,
   "metadata": {},
   "outputs": [
    {
     "data": {
      "text/plain": [
       "1280.8001544321637"
      ]
     },
     "execution_count": 243,
     "metadata": {},
     "output_type": "execute_result"
    }
   ],
   "source": [
    "pd.DataFrame(RGP130_7_2_RRVNS).to_csv('RGP130_7_2_RRVNS.csv')\n",
    "pd.DataFrame(RGP130_7_2_RRVNS)['cost'].mean()"
   ]
  },
  {
   "cell_type": "code",
   "execution_count": 149,
   "metadata": {},
   "outputs": [
    {
     "name": "stdout",
     "output_type": "stream",
     "text": [
      "RGP 130\n",
      "Iteration finished / 1434.592093748568 [87, 87, 87, 87, 87, 87, 87, 87, 87, 10, 87, 87, 87, 87, 87, 87, 87, 87, 87, 87, 87, 22, 87, 87, 87, 87, 87, 87, 87, 87, 87, 87, 87, 87, 87, 87, 37, 87, 87, 87, 87, 87, 87, 87, 87, 87, 87, 87, 87, 87, 87, 87, 87, 87, 87, 87, 87, 87, 87, 87, 87, 87, 87, 87, 87, 87, 87, 87, 87, 87, 86, 87, 87, 87, 87, 87, 87, 87, 87, 37, 87, 82, 87, 87, 87, 86, 87, 87, 87, 87, 87, 87, 87, 87, 87, 87, 87, 87, 87, 87, 87, 87, 87, 87, 87, 87, 87, 87, 109, 87, 87, 87, 87, 87, 87, 87, 87, 87, 87, 87, 87, 87, 87, 87, 87, 87, 87, 87, 87, 87] 1142.7905490398407\n",
      "Iteration finished / 1430.6980394430138 [87, 87, 87, 87, 87, 87, 87, 87, 87, 87, 87, 12, 87, 87, 87, 87, 87, 87, 87, 87, 87, 87, 87, 87, 87, 87, 87, 87, 87, 30, 31, 87, 87, 87, 87, 87, 87, 87, 87, 87, 87, 87, 87, 87, 87, 87, 87, 87, 87, 87, 87, 87, 87, 87, 87, 126, 87, 87, 87, 87, 87, 87, 87, 87, 87, 87, 87, 87, 87, 87, 87, 87, 87, 87, 87, 87, 87, 87, 87, 87, 87, 87, 87, 87, 87, 87, 87, 87, 87, 87, 87, 92, 93, 87, 87, 87, 87, 87, 87, 87, 87, 87, 87, 87, 87, 87, 87, 87, 87, 87, 87, 87, 87, 87, 87, 87, 87, 87, 87, 87, 87, 87, 87, 87, 87, 126, 87, 87, 87, 87] 1138.4562358856201\n",
      "Iteration finished / 1426.6004568714532 [87, 2, 87, 87, 87, 87, 87, 87, 87, 87, 87, 12, 87, 87, 87, 87, 87, 87, 87, 87, 87, 87, 87, 87, 87, 87, 87, 87, 87, 87, 87, 87, 87, 87, 87, 87, 87, 87, 87, 40, 87, 87, 87, 87, 87, 87, 87, 87, 87, 50, 87, 87, 87, 87, 87, 87, 87, 87, 87, 87, 87, 87, 87, 87, 87, 87, 87, 87, 87, 87, 87, 87, 87, 87, 87, 87, 87, 87, 87, 87, 87, 87, 87, 87, 87, 87, 87, 87, 87, 87, 87, 87, 87, 87, 87, 87, 87, 87, 99, 87, 87, 87, 87, 87, 87, 87, 87, 87, 87, 87, 87, 87, 87, 87, 87, 87, 117, 87, 87, 87, 87, 87, 87, 87, 87, 87, 87, 87, 87, 87] 1138.3758630752563\n",
      "Iteration finished / 1427.6432140902316 [87, 87, 87, 87, 87, 87, 7, 87, 87, 87, 87, 87, 87, 87, 87, 87, 87, 87, 87, 87, 87, 22, 87, 87, 87, 87, 87, 87, 87, 87, 87, 87, 87, 87, 87, 87, 87, 87, 39, 40, 87, 87, 87, 87, 87, 87, 87, 87, 87, 87, 87, 87, 87, 87, 87, 87, 87, 87, 87, 87, 87, 87, 87, 87, 87, 87, 87, 87, 87, 87, 87, 87, 87, 87, 87, 87, 87, 87, 87, 87, 87, 87, 87, 87, 87, 87, 87, 87, 87, 87, 87, 87, 87, 87, 87, 87, 87, 87, 99, 87, 87, 87, 87, 87, 87, 87, 87, 87, 87, 87, 87, 87, 87, 87, 87, 87, 87, 87, 87, 87, 87, 87, 123, 87, 87, 87, 87, 87, 87, 87] 1159.8860681056976\n",
      "Iteration finished / 1426.0414181016472 [87, 87, 87, 87, 87, 87, 87, 87, 87, 87, 87, 87, 87, 87, 87, 87, 87, 87, 87, 87, 87, 87, 87, 87, 87, 87, 87, 87, 87, 87, 87, 87, 87, 87, 87, 87, 87, 87, 87, 87, 87, 87, 87, 87, 87, 87, 87, 87, 87, 87, 87, 87, 87, 87, 87, 87, 57, 87, 87, 87, 87, 87, 87, 87, 87, 87, 87, 87, 87, 87, 87, 87, 87, 87, 87, 76, 87, 87, 87, 87, 87, 87, 87, 87, 87, 87, 87, 87, 87, 87, 87, 87, 87, 87, 87, 87, 87, 87, 99, 87, 87, 87, 87, 87, 105, 87, 87, 87, 87, 87, 87, 87, 87, 87, 87, 116, 87, 87, 87, 87, 87, 87, 87, 87, 87, 87, 87, 87, 129, 87] 1138.9015820026398\n",
      "Iteration finished / 1434.1979557734862 [87, 87, 87, 87, 87, 87, 87, 87, 87, 87, 87, 87, 87, 87, 87, 87, 87, 87, 87, 87, 87, 87, 87, 87, 87, 87, 87, 87, 87, 87, 87, 87, 87, 87, 87, 87, 87, 87, 87, 87, 87, 42, 87, 87, 87, 87, 87, 87, 87, 87, 87, 87, 87, 87, 87, 56, 87, 87, 87, 87, 87, 87, 87, 87, 87, 87, 87, 87, 87, 56, 87, 87, 73, 87, 87, 87, 87, 87, 87, 87, 87, 123, 87, 87, 87, 87, 87, 87, 87, 87, 87, 87, 87, 87, 87, 87, 87, 87, 87, 87, 87, 87, 87, 87, 87, 106, 87, 87, 87, 87, 87, 112, 87, 87, 87, 87, 87, 87, 87, 87, 87, 87, 123, 87, 87, 87, 87, 87, 87, 87] 1140.7554709911346\n",
      "Iteration finished / 1426.6719496297087 [87, 87, 87, 4, 87, 87, 87, 8, 87, 87, 87, 87, 87, 87, 87, 87, 87, 87, 87, 87, 87, 87, 87, 87, 87, 87, 87, 87, 87, 87, 31, 87, 87, 87, 87, 87, 87, 87, 87, 87, 87, 87, 87, 87, 87, 87, 87, 87, 87, 50, 87, 87, 87, 87, 87, 87, 87, 87, 87, 87, 87, 87, 87, 87, 87, 87, 87, 87, 87, 87, 87, 87, 87, 87, 87, 87, 87, 87, 87, 87, 87, 87, 87, 87, 87, 87, 87, 87, 87, 87, 87, 87, 87, 87, 87, 87, 87, 87, 87, 87, 87, 87, 87, 87, 87, 87, 87, 87, 87, 87, 87, 87, 113, 87, 87, 87, 87, 118, 87, 87, 87, 87, 87, 87, 87, 87, 87, 87, 87, 87] 1141.6331741809845\n",
      "Iteration finished / 1430.9251312016852 [87, 87, 87, 87, 87, 87, 87, 87, 87, 87, 87, 87, 13, 87, 87, 87, 87, 18, 87, 20, 87, 87, 87, 87, 87, 87, 87, 87, 87, 87, 87, 87, 87, 87, 87, 87, 87, 87, 87, 87, 87, 87, 87, 87, 87, 87, 87, 87, 87, 87, 87, 87, 87, 87, 87, 87, 87, 87, 87, 87, 61, 87, 87, 87, 87, 87, 87, 87, 87, 87, 87, 87, 87, 87, 87, 87, 87, 87, 87, 87, 87, 87, 87, 87, 87, 87, 87, 87, 87, 87, 87, 87, 87, 87, 95, 87, 87, 87, 87, 87, 87, 87, 87, 87, 87, 87, 87, 87, 87, 87, 87, 87, 87, 18, 87, 87, 87, 87, 87, 87, 87, 87, 87, 87, 87, 126, 87, 87, 87, 87] 1141.1309099197388\n",
      "Iteration finished / 1428.9545838154052 [87, 87, 87, 87, 87, 87, 87, 87, 87, 87, 87, 87, 87, 87, 87, 87, 87, 87, 87, 87, 87, 87, 87, 87, 87, 87, 87, 87, 87, 87, 87, 87, 87, 87, 87, 87, 87, 38, 87, 87, 87, 87, 87, 87, 87, 87, 87, 87, 87, 87, 87, 87, 87, 87, 87, 87, 87, 87, 87, 87, 61, 87, 87, 87, 65, 87, 87, 87, 87, 87, 87, 87, 87, 87, 87, 87, 87, 87, 87, 87, 87, 87, 87, 87, 87, 87, 87, 87, 87, 87, 87, 87, 87, 94, 87, 87, 87, 87, 87, 87, 87, 87, 87, 87, 87, 87, 87, 87, 87, 110, 87, 87, 87, 87, 87, 87, 87, 118, 87, 87, 118, 87, 87, 87, 87, 87, 87, 87, 87, 87] 1140.3823778629303\n",
      "Iteration finished / 1425.9176492389652 [87, 87, 87, 87, 87, 87, 87, 87, 87, 87, 87, 12, 87, 14, 87, 87, 87, 87, 87, 87, 87, 87, 87, 87, 87, 87, 87, 87, 87, 30, 87, 87, 87, 87, 87, 87, 87, 87, 87, 87, 87, 87, 87, 87, 87, 87, 87, 87, 87, 87, 87, 87, 87, 87, 87, 87, 87, 87, 87, 87, 87, 87, 87, 87, 87, 87, 87, 87, 87, 87, 87, 87, 87, 87, 87, 87, 87, 87, 87, 87, 87, 87, 87, 87, 87, 87, 87, 88, 87, 87, 87, 87, 93, 87, 95, 87, 87, 87, 87, 87, 87, 87, 87, 87, 87, 87, 87, 87, 87, 87, 87, 87, 87, 87, 87, 87, 87, 87, 87, 87, 87, 87, 87, 87, 87, 87, 87, 87, 87, 87] 1140.7075109481812\n",
      "All finished\n"
     ]
    }
   ],
   "source": [
    "print(\"RGP 130\")\n",
    "\n",
    "\n",
    "global_best_solution = []\n",
    "replication = 0\n",
    "n_replication = 10\n",
    "\n",
    "while replication < n_replication:\n",
    "    best_solution = {}\n",
    "    best_run_cost, best_sol , runtime= RRVNS(130, 7, flow_RGP_130_list, cost_RGP_130_list, 0.8, 15000)\n",
    "    best_solution['solution'] = best_sol\n",
    "    best_solution['cost'] = best_run_cost\n",
    "    global_best_solution.append(best_solution)\n",
    "    replication += 1\n",
    "    print('Iteration finished /',best_run_cost, best_sol , runtime)\n",
    "print('All finished')   \n",
    "\n"
   ]
  },
  {
   "cell_type": "code",
   "execution_count": 150,
   "metadata": {},
   "outputs": [],
   "source": [
    "RGP130_7_8_RRVNS = global_best_solution.copy()"
   ]
  },
  {
   "cell_type": "code",
   "execution_count": 151,
   "metadata": {},
   "outputs": [
    {
     "name": "stdout",
     "output_type": "stream",
     "text": [
      "RGP130:  Best solution : 1425.9176492389652  gap:  -0.5569377719000724 %\n"
     ]
    }
   ],
   "source": [
    "best_cost = min(RGP130_7_8_RRVNS, key = lambda item: item['cost'])['cost']\n",
    "best_solution = min(RGP130_7_8_RRVNS, key = lambda item: item['cost'])['solution']\n",
    "gap = (best_cost-1433.9036 )*100/1433.9036 \n",
    "print('RGP130: ','Best solution :',str(best_cost),' gap: ',gap,'%')"
   ]
  },
  {
   "cell_type": "code",
   "execution_count": 152,
   "metadata": {},
   "outputs": [
    {
     "data": {
      "text/plain": [
       "1429.2242491914164"
      ]
     },
     "execution_count": 152,
     "metadata": {},
     "output_type": "execute_result"
    }
   ],
   "source": [
    "pd.DataFrame(RGP130_7_8_RRVNS).to_csv('RGP130_7_8_RRVNS.csv')\n",
    "pd.DataFrame(RGP130_7_8_RRVNS)['cost'].mean()"
   ]
  },
  {
   "cell_type": "code",
   "execution_count": 154,
   "metadata": {
    "scrolled": true
   },
   "outputs": [
    {
     "name": "stdout",
     "output_type": "stream",
     "text": [
      "RGP 130\n",
      "Iteration finished / 1208.6735210761587 [1, 105, 37, 7, 7, 119, 7, 7, 127, 10, 1, 10, 1, 68, 105, 127, 7, 10, 106, 120, 106, 106, 119, 10, 120, 10, 68, 37, 120, 10, 119, 7, 106, 7, 127, 105, 37, 10, 37, 120, 127, 127, 119, 106, 120, 120, 127, 106, 37, 127, 106, 119, 37, 68, 7, 106, 7, 120, 68, 106, 105, 10, 127, 120, 10, 68, 68, 68, 105, 68, 10, 10, 119, 37, 68, 127, 1, 105, 105, 120, 127, 127, 105, 10, 7, 68, 119, 7, 37, 10, 10, 68, 68, 119, 10, 68, 119, 68, 68, 120, 10, 10, 7, 68, 105, 106, 105, 10, 105, 1, 105, 127, 127, 68, 119, 37, 10, 106, 119, 120, 10, 120, 7, 127, 68, 7, 127, 37, 1, 1] 1128.3715460300446\n",
      "Iteration finished / 1220.2529413438733 [59, 59, 95, 121, 59, 28, 126, 75, 75, 95, 121, 44, 121, 28, 75, 120, 75, 106, 106, 126, 106, 106, 28, 28, 120, 106, 59, 28, 120, 95, 126, 32, 106, 59, 75, 28, 28, 28, 44, 120, 95, 106, 106, 44, 44, 106, 106, 106, 59, 126, 106, 126, 75, 44, 121, 126, 28, 32, 59, 106, 59, 75, 32, 120, 121, 75, 32, 59, 75, 44, 59, 126, 44, 121, 75, 32, 28, 106, 32, 44, 95, 106, 32, 59, 95, 28, 59, 59, 59, 126, 44, 44, 95, 75, 95, 44, 95, 59, 59, 120, 120, 95, 59, 75, 95, 106, 75, 126, 44, 95, 121, 121, 106, 28, 95, 106, 121, 95, 59, 120, 121, 120, 95, 59, 121, 126, 126, 59, 75, 126] 1132.5569229125977\n",
      "Iteration finished / 1221.6940666085804 [127, 112, 114, 90, 90, 64, 83, 39, 39, 71, 83, 83, 90, 68, 83, 127, 114, 114, 64, 48, 48, 90, 48, 112, 48, 39, 64, 114, 68, 112, 48, 83, 90, 71, 39, 112, 39, 64, 39, 39, 127, 127, 114, 39, 83, 64, 83, 48, 71, 127, 39, 68, 83, 64, 114, 114, 90, 112, 68, 114, 112, 83, 127, 64, 68, 68, 39, 68, 83, 68, 71, 83, 114, 71, 68, 112, 114, 114, 39, 112, 90, 127, 83, 39, 71, 68, 112, 90, 48, 90, 112, 114, 68, 48, 90, 114, 39, 48, 71, 39, 90, 90, 114, 68, 83, 48, 39, 90, 71, 83, 83, 112, 114, 114, 83, 114, 114, 114, 114, 64, 112, 112, 64, 48, 114, 90, 127, 112, 90, 68] 1202.9195582866669\n",
      "Iteration finished / 1212.8722703299438 [127, 59, 45, 128, 93, 8, 8, 8, 61, 26, 74, 93, 8, 26, 46, 127, 26, 93, 46, 74, 74, 45, 8, 26, 8, 26, 8, 26, 127, 45, 59, 8, 93, 74, 74, 74, 128, 59, 26, 74, 93, 127, 46, 45, 45, 46, 127, 128, 59, 127, 26, 128, 46, 46, 74, 8, 74, 8, 59, 45, 61, 127, 127, 46, 93, 45, 61, 59, 128, 74, 59, 93, 46, 74, 8, 127, 8, 8, 74, 59, 26, 127, 45, 8, 26, 45, 8, 59, 46, 26, 26, 45, 93, 61, 93, 26, 61, 59, 59, 45, 46, 45, 59, 61, 61, 46, 74, 26, 128, 128, 8, 61, 46, 61, 61, 74, 74, 59, 59, 45, 74, 8, 128, 74, 128, 127, 127, 128, 45, 46] 1149.617828130722\n",
      "Iteration finished / 1215.4544534478016 [45, 52, 117, 103, 22, 52, 17, 84, 22, 84, 52, 52, 43, 17, 94, 94, 17, 106, 43, 117, 17, 22, 52, 17, 17, 106, 117, 17, 94, 17, 94, 17, 106, 17, 45, 52, 103, 94, 103, 22, 84, 106, 43, 45, 45, 106, 106, 94, 22, 103, 106, 52, 17, 52, 22, 106, 17, 43, 103, 45, 94, 106, 94, 103, 17, 45, 43, 106, 52, 52, 84, 84, 94, 117, 17, 84, 106, 106, 22, 17, 84, 52, 103, 84, 22, 22, 22, 103, 17, 22, 17, 94, 17, 94, 106, 117, 117, 117, 17, 117, 45, 45, 103, 43, 103, 106, 22, 117, 17, 22, 17, 22, 22, 43, 84, 22, 117, 106, 52, 45, 17, 43, 45, 17, 22, 22, 84, 52, 22, 52] 1190.6790890693665\n",
      "Iteration finished / 1220.2384980171275 [127, 50, 95, 95, 95, 50, 123, 123, 57, 10, 113, 10, 43, 57, 123, 127, 69, 10, 43, 50, 53, 113, 10, 10, 95, 10, 50, 57, 53, 10, 10, 43, 95, 57, 95, 53, 53, 10, 113, 69, 127, 127, 43, 50, 123, 43, 53, 43, 95, 50, 113, 69, 53, 69, 95, 127, 57, 43, 95, 69, 10, 10, 123, 57, 10, 50, 43, 127, 69, 95, 10, 10, 123, 50, 69, 127, 95, 43, 57, 53, 95, 123, 69, 10, 123, 123, 123, 57, 113, 10, 10, 69, 95, 53, 95, 53, 95, 50, 113, 10, 10, 95, 50, 43, 69, 95, 123, 10, 113, 95, 123, 127, 113, 43, 95, 10, 10, 95, 43, 10, 10, 43, 123, 127, 127, 95, 127, 123, 95, 10] 1179.2086629867554\n",
      "Iteration finished / 1217.351004716444 [13, 99, 95, 84, 41, 84, 13, 84, 9, 95, 9, 13, 13, 104, 13, 13, 99, 9, 99, 99, 53, 9, 99, 99, 84, 41, 104, 77, 53, 95, 59, 59, 95, 99, 95, 13, 53, 13, 84, 41, 41, 99, 13, 41, 9, 99, 53, 104, 59, 41, 13, 99, 53, 13, 95, 99, 53, 41, 59, 13, 9, 9, 13, 41, 77, 9, 9, 59, 99, 99, 59, 53, 99, 59, 9, 99, 77, 95, 9, 59, 84, 9, 13, 84, 95, 9, 59, 9, 99, 13, 99, 99, 41, 99, 95, 99, 95, 59, 99, 9, 99, 95, 59, 104, 104, 95, 41, 41, 104, 95, 99, 59, 99, 77, 84, 41, 59, 95, 59, 41, 13, 99, 13, 59, 41, 95, 41, 59, 41, 41] 1157.0904898643494\n",
      "Iteration finished / 1212.773818348611 [17, 50, 95, 95, 90, 50, 17, 57, 57, 95, 57, 44, 90, 57, 57, 76, 17, 27, 76, 50, 17, 40, 63, 57, 63, 17, 27, 57, 17, 17, 17, 17, 95, 17, 95, 76, 17, 57, 40, 40, 40, 63, 17, 44, 44, 95, 40, 50, 76, 50, 76, 17, 57, 44, 95, 40, 57, 27, 95, 95, 17, 50, 63, 27, 17, 63, 76, 27, 17, 44, 27, 57, 44, 50, 17, 76, 90, 95, 57, 44, 90, 95, 90, 57, 40, 40, 40, 57, 17, 90, 44, 44, 95, 40, 95, 27, 50, 50, 76, 63, 90, 95, 50, 27, 63, 44, 76, 90, 44, 76, 17, 76, 57, 17, 95, 40, 27, 40, 95, 40, 17, 40, 63, 17, 76, 90, 50, 44, 95, 57] 1154.8442330360413\n",
      "Iteration finished / 1213.0622809384256 [13, 59, 95, 95, 112, 74, 83, 111, 9, 95, 9, 13, 13, 58, 111, 112, 111, 9, 95, 74, 111, 9, 13, 111, 95, 74, 58, 112, 94, 112, 59, 83, 111, 74, 74, 111, 94, 13, 9, 94, 95, 94, 13, 58, 83, 95, 83, 94, 111, 74, 13, 94, 13, 13, 95, 59, 9, 58, 59, 13, 112, 9, 94, 59, 58, 9, 9, 59, 83, 58, 59, 83, 94, 74, 9, 112, 112, 95, 112, 59, 95, 9, 83, 9, 95, 111, 59, 9, 111, 13, 112, 94, 74, 94, 95, 9, 95, 59, 111, 9, 74, 58, 59, 13, 83, 95, 74, 58, 111, 95, 111, 112, 112, 112, 83, 74, 74, 95, 94, 112, 111, 9, 111, 74, 58, 95, 112, 112, 95, 9] 1230.8304572105408\n",
      "Iteration finished / 1217.718506350551 [87, 99, 99, 99, 87, 45, 91, 87, 66, 91, 21, 87, 87, 28, 28, 19, 21, 96, 19, 99, 21, 87, 99, 91, 96, 91, 96, 28, 21, 45, 99, 49, 49, 99, 91, 28, 87, 66, 45, 87, 99, 99, 19, 45, 45, 19, 87, 21, 49, 87, 91, 99, 21, 45, 66, 99, 28, 21, 99, 45, 91, 45, 66, 21, 96, 66, 96, 66, 99, 99, 99, 96, 99, 21, 66, 99, 28, 91, 66, 91, 21, 87, 45, 99, 28, 87, 87, 49, 19, 21, 91, 99, 66, 21, 49, 96, 96, 87, 99, 45, 99, 45, 96, 21, 91, 19, 21, 49, 96, 19, 99, 91, 99, 28, 28, 21, 96, 21, 87, 45, 19, 99, 87, 87, 28, 87, 21, 66, 45, 99] 1248.6906402111053\n",
      "All finished\n"
     ]
    }
   ],
   "source": [
    "print(\"RGP 130\")\n",
    "\n",
    "\n",
    "global_best_solution = []\n",
    "replication = 0\n",
    "n_replication = 10\n",
    "\n",
    "while replication < n_replication:\n",
    "    best_solution = {}\n",
    "    best_run_cost, best_sol , runtime= a = RRVNS(130, 10, flow_RGP_130_list, cost_RGP_130_list, 0.2, 15000)\n",
    "    best_solution['solution'] = best_sol\n",
    "    best_solution['cost'] = best_run_cost\n",
    "    global_best_solution.append(best_solution)\n",
    "    replication += 1\n",
    "    print('Iteration finished /',best_run_cost, best_sol , runtime)\n",
    "print('All finished')   \n",
    "\n"
   ]
  },
  {
   "cell_type": "code",
   "execution_count": 155,
   "metadata": {},
   "outputs": [],
   "source": [
    "RGP130_10_2_RRVNS = global_best_solution.copy()"
   ]
  },
  {
   "cell_type": "code",
   "execution_count": 156,
   "metadata": {},
   "outputs": [
    {
     "name": "stdout",
     "output_type": "stream",
     "text": [
      "RGP130:  Best solution : 1208.6735210761587  gap:  -0.2076867378948561 %\n"
     ]
    }
   ],
   "source": [
    "best_cost = min(RGP130_10_2_RRVNS, key = lambda item: item['cost'])['cost']\n",
    "best_solution = min(RGP130_10_2_RRVNS, key = lambda item: item['cost'])['solution']\n",
    "gap = (best_cost-1211.189 )*100/1211.189 \n",
    "print('RGP130: ','Best solution :',str(best_cost),' gap: ',gap,'%')"
   ]
  },
  {
   "cell_type": "code",
   "execution_count": 157,
   "metadata": {},
   "outputs": [
    {
     "data": {
      "text/plain": [
       "1216.0091361177517"
      ]
     },
     "execution_count": 157,
     "metadata": {},
     "output_type": "execute_result"
    }
   ],
   "source": [
    "pd.DataFrame(RGP130_10_2_RRVNS).to_csv('RGP130_10_2_RRVNS.csv')\n",
    "pd.DataFrame(RGP130_10_2_RRVNS)['cost'].mean()"
   ]
  },
  {
   "cell_type": "code",
   "execution_count": 145,
   "metadata": {},
   "outputs": [
    {
     "name": "stdout",
     "output_type": "stream",
     "text": [
      "RGP 130\n",
      "Iteration finished / 1431.266527156262 [1, 87, 87, 87, 87, 87, 7, 8, 87, 87, 87, 87, 87, 87, 87, 87, 87, 87, 87, 87, 87, 87, 87, 87, 87, 39, 87, 87, 29, 87, 87, 87, 87, 87, 87, 87, 87, 87, 39, 40, 87, 87, 87, 87, 87, 87, 87, 87, 87, 87, 39, 87, 87, 87, 87, 87, 87, 87, 87, 87, 112, 87, 87, 87, 87, 87, 87, 87, 87, 87, 87, 87, 87, 87, 87, 87, 87, 87, 87, 87, 87, 87, 87, 8, 87, 87, 87, 87, 87, 87, 87, 87, 93, 87, 87, 87, 87, 87, 87, 87, 87, 87, 87, 104, 87, 87, 87, 87, 87, 87, 87, 112, 87, 87, 87, 87, 87, 87, 87, 87, 87, 87, 87, 87, 87, 87, 87, 87, 87, 87] 1137.8042390346527\n",
      "Iteration finished / 1438.5743905371714 [87, 87, 87, 87, 87, 87, 87, 87, 87, 10, 87, 87, 87, 87, 87, 87, 87, 18, 87, 87, 87, 87, 87, 87, 87, 87, 87, 87, 87, 87, 31, 37, 87, 87, 87, 87, 37, 87, 87, 87, 87, 87, 87, 87, 37, 87, 87, 87, 87, 87, 87, 87, 87, 87, 31, 87, 87, 87, 87, 87, 87, 37, 87, 64, 87, 87, 87, 87, 87, 87, 87, 87, 87, 87, 87, 87, 87, 87, 87, 87, 87, 87, 87, 37, 87, 87, 87, 87, 87, 87, 87, 87, 87, 87, 87, 87, 87, 87, 87, 87, 87, 87, 87, 87, 105, 87, 87, 87, 87, 87, 87, 87, 87, 87, 87, 87, 87, 87, 87, 87, 87, 87, 87, 87, 125, 126, 127, 87, 87, 37] 1147.4630317687988\n",
      "Iteration finished / 1448.657257468099 [17, 17, 17, 17, 17, 17, 17, 17, 17, 17, 17, 17, 17, 17, 17, 17, 17, 17, 17, 20, 21, 17, 17, 17, 17, 17, 17, 17, 17, 17, 17, 17, 17, 17, 75, 17, 17, 17, 17, 17, 17, 17, 17, 17, 17, 17, 17, 17, 17, 17, 17, 17, 17, 17, 17, 17, 17, 17, 17, 17, 17, 17, 17, 17, 17, 75, 75, 75, 69, 17, 17, 17, 17, 17, 75, 17, 17, 17, 17, 17, 17, 82, 17, 17, 17, 17, 17, 17, 17, 17, 17, 17, 17, 17, 17, 17, 17, 17, 17, 17, 17, 75, 17, 75, 17, 17, 17, 17, 17, 17, 17, 17, 69, 17, 17, 17, 117, 21, 17, 17, 17, 17, 123, 17, 17, 17, 17, 128, 129, 17] 1141.3339009284973\n",
      "Iteration finished / 1455.5806287399298 [10, 101, 10, 10, 10, 10, 10, 8, 86, 10, 10, 10, 13, 10, 10, 10, 10, 10, 10, 10, 10, 10, 10, 10, 10, 10, 27, 10, 10, 10, 10, 10, 38, 10, 10, 38, 10, 38, 10, 86, 99, 10, 10, 10, 10, 10, 10, 10, 10, 10, 10, 10, 10, 10, 38, 10, 38, 10, 10, 10, 10, 10, 10, 10, 10, 10, 10, 10, 10, 10, 10, 10, 10, 10, 10, 99, 38, 10, 10, 10, 10, 10, 10, 10, 10, 86, 10, 10, 10, 10, 10, 10, 10, 10, 10, 10, 10, 10, 99, 10, 101, 10, 103, 10, 10, 10, 10, 10, 10, 10, 10, 10, 10, 10, 10, 10, 10, 10, 10, 10, 10, 10, 123, 10, 10, 10, 10, 10, 10, 10] 1141.396952867508\n",
      "Iteration finished / 1449.9541704911223 [87, 87, 87, 87, 87, 87, 87, 87, 87, 87, 11, 87, 87, 87, 87, 87, 87, 87, 87, 87, 87, 87, 87, 87, 87, 87, 27, 87, 87, 30, 31, 87, 87, 87, 31, 87, 37, 87, 87, 40, 87, 87, 87, 87, 87, 87, 87, 87, 87, 87, 87, 87, 87, 87, 87, 87, 87, 87, 87, 87, 87, 37, 87, 11, 37, 87, 87, 87, 87, 87, 87, 87, 87, 87, 87, 87, 87, 87, 87, 98, 87, 87, 87, 87, 87, 87, 87, 88, 37, 87, 87, 87, 87, 87, 87, 87, 87, 98, 87, 11, 87, 87, 87, 87, 87, 87, 87, 87, 87, 87, 87, 87, 87, 87, 87, 87, 27, 87, 87, 87, 87, 87, 87, 87, 87, 87, 87, 128, 37, 87] 1145.8154392242432\n",
      "Iteration finished / 1431.2201944737772 [87, 87, 87, 87, 87, 87, 87, 87, 87, 87, 87, 87, 87, 87, 87, 87, 87, 87, 87, 87, 87, 87, 87, 87, 87, 37, 87, 37, 87, 87, 87, 87, 87, 87, 87, 87, 37, 87, 87, 40, 41, 87, 87, 87, 87, 87, 87, 87, 87, 87, 87, 87, 87, 87, 87, 87, 87, 87, 87, 87, 87, 87, 87, 87, 87, 87, 87, 87, 87, 87, 71, 87, 87, 87, 87, 87, 87, 87, 87, 87, 87, 87, 87, 87, 87, 87, 87, 87, 87, 40, 87, 92, 93, 87, 95, 87, 87, 87, 99, 87, 87, 87, 87, 87, 87, 87, 87, 87, 87, 87, 87, 87, 87, 87, 87, 87, 87, 87, 87, 87, 87, 40, 87, 87, 87, 87, 87, 87, 129, 87] 1145.2431378364563\n",
      "Iteration finished / 1435.6397867585645 [87, 87, 99, 4, 87, 87, 87, 87, 87, 87, 11, 87, 87, 87, 87, 87, 87, 87, 87, 87, 87, 87, 87, 87, 87, 87, 87, 87, 29, 87, 31, 87, 87, 87, 87, 87, 87, 87, 87, 40, 87, 87, 87, 87, 87, 87, 87, 87, 87, 87, 87, 87, 87, 87, 87, 87, 87, 87, 59, 87, 87, 87, 87, 87, 87, 87, 87, 87, 87, 87, 87, 87, 87, 93, 87, 87, 87, 87, 87, 87, 87, 87, 87, 87, 87, 87, 87, 87, 87, 87, 99, 87, 93, 87, 87, 87, 87, 87, 99, 87, 87, 87, 87, 87, 87, 87, 87, 87, 87, 87, 87, 87, 113, 87, 87, 87, 87, 87, 87, 87, 87, 40, 87, 87, 87, 87, 87, 87, 87, 99] 1147.5825490951538\n",
      "Iteration finished / 1444.9421121158184 [10, 10, 10, 10, 5, 10, 10, 10, 10, 10, 10, 10, 10, 14, 10, 10, 10, 10, 10, 10, 10, 86, 10, 10, 10, 10, 10, 10, 10, 10, 10, 10, 10, 10, 10, 10, 10, 10, 10, 10, 10, 10, 10, 10, 45, 10, 10, 10, 10, 10, 10, 10, 10, 10, 14, 10, 10, 10, 10, 45, 10, 10, 10, 10, 10, 10, 10, 10, 10, 10, 10, 72, 10, 10, 10, 10, 10, 10, 10, 10, 10, 10, 83, 10, 10, 86, 10, 10, 10, 90, 10, 45, 10, 10, 10, 10, 10, 10, 10, 10, 10, 10, 10, 10, 10, 10, 86, 10, 10, 10, 111, 10, 10, 10, 10, 10, 10, 10, 10, 10, 10, 10, 10, 10, 10, 10, 127, 10, 10, 10] 1144.8520939350128\n",
      "Iteration finished / 1428.0688043238033 [87, 87, 87, 4, 87, 87, 87, 87, 87, 10, 87, 87, 87, 87, 87, 87, 17, 87, 87, 87, 87, 87, 87, 87, 87, 87, 87, 87, 87, 87, 87, 87, 87, 87, 87, 87, 87, 38, 39, 87, 87, 87, 87, 87, 87, 87, 87, 87, 87, 87, 87, 87, 87, 87, 87, 87, 87, 87, 87, 87, 61, 87, 123, 87, 87, 87, 87, 87, 69, 87, 87, 87, 87, 87, 87, 87, 87, 87, 87, 87, 87, 87, 87, 39, 87, 87, 87, 87, 87, 87, 87, 87, 87, 87, 87, 87, 87, 87, 99, 87, 87, 87, 87, 87, 87, 87, 87, 87, 87, 87, 87, 87, 87, 87, 87, 87, 87, 87, 87, 87, 87, 87, 123, 87, 87, 87, 87, 87, 87, 99] 1149.94788813591\n",
      "Iteration finished / 1422.8693124338786 [87, 87, 87, 87, 87, 87, 87, 87, 87, 87, 87, 87, 87, 87, 87, 87, 87, 87, 87, 87, 87, 87, 87, 87, 87, 87, 87, 87, 87, 30, 87, 87, 87, 87, 87, 87, 37, 87, 87, 87, 87, 87, 87, 87, 87, 87, 47, 87, 87, 87, 87, 87, 53, 87, 87, 87, 87, 87, 59, 87, 87, 87, 87, 87, 87, 87, 67, 87, 87, 87, 87, 87, 87, 87, 87, 87, 87, 87, 87, 87, 67, 87, 87, 87, 87, 87, 87, 87, 87, 87, 87, 87, 87, 87, 87, 87, 87, 87, 99, 87, 87, 87, 87, 104, 87, 87, 87, 87, 87, 87, 87, 87, 87, 87, 87, 87, 87, 87, 87, 87, 87, 87, 87, 124, 87, 87, 87, 87, 87, 87] 1140.7319209575653\n",
      "All finished\n"
     ]
    }
   ],
   "source": [
    "print(\"RGP 130\")\n",
    "\n",
    "\n",
    "global_best_solution = []\n",
    "replication = 0\n",
    "n_replication = 10\n",
    "\n",
    "while replication < n_replication:\n",
    "    best_solution = {}\n",
    "    best_run_cost, best_sol , runtime= a = RRVNS(130, 10, flow_RGP_130_list, cost_RGP_130_list, 0.8, 15000)\n",
    "    best_solution['solution'] = best_sol\n",
    "    best_solution['cost'] = best_run_cost\n",
    "    global_best_solution.append(best_solution)\n",
    "    replication += 1\n",
    "    print('Iteration finished /',best_run_cost, best_sol , runtime)\n",
    "print('All finished')   \n",
    "\n"
   ]
  },
  {
   "cell_type": "code",
   "execution_count": 146,
   "metadata": {},
   "outputs": [],
   "source": [
    "RGP130_10_8_RRVNS = global_best_solution.copy()"
   ]
  },
  {
   "cell_type": "code",
   "execution_count": 147,
   "metadata": {},
   "outputs": [
    {
     "name": "stdout",
     "output_type": "stream",
     "text": [
      "RGP130:  Best solution : 1422.8693124338786  gap:  0.6020779548850141 %\n"
     ]
    }
   ],
   "source": [
    "best_cost = min(RGP130_10_8_RRVNS, key = lambda item: item['cost'])['cost']\n",
    "best_solution = min(RGP130_10_8_RRVNS, key = lambda item: item['cost'])['solution']\n",
    "gap = (best_cost-1414.3538)*100/1414.3538\n",
    "print('RGP130: ','Best solution :',str(best_cost),' gap: ',gap,'%')"
   ]
  },
  {
   "cell_type": "code",
   "execution_count": 148,
   "metadata": {},
   "outputs": [
    {
     "data": {
      "text/plain": [
       "1438.6773184498427"
      ]
     },
     "execution_count": 148,
     "metadata": {},
     "output_type": "execute_result"
    }
   ],
   "source": [
    "pd.DataFrame(RGP130_10_8_RRVNS).to_csv('RGP130_10_8_RRVNS.csv')\n",
    "pd.DataFrame(RGP130_10_8_RRVNS)['cost'].mean()"
   ]
  },
  {
   "cell_type": "code",
   "execution_count": null,
   "metadata": {},
   "outputs": [],
   "source": []
  }
 ],
 "metadata": {
  "kernelspec": {
   "display_name": "Python 3",
   "language": "python",
   "name": "python3"
  },
  "language_info": {
   "codemirror_mode": {
    "name": "ipython",
    "version": 3
   },
   "file_extension": ".py",
   "mimetype": "text/x-python",
   "name": "python",
   "nbconvert_exporter": "python",
   "pygments_lexer": "ipython3",
   "version": "3.8.5"
  }
 },
 "nbformat": 4,
 "nbformat_minor": 5
}
