{
 "cells": [
  {
   "cell_type": "markdown",
   "metadata": {},
   "source": [
    "This is the code to run genetic algorithm"
   ]
  },
  {
   "cell_type": "markdown",
   "metadata": {},
   "source": [
    "### Importing necessary operation library"
   ]
  },
  {
   "cell_type": "code",
   "execution_count": 1,
   "metadata": {},
   "outputs": [],
   "source": [
    "import numpy as np\n",
    "import pandas as pd\n",
    "import random\n",
    "import itertools\n",
    "import time\n",
    "import math"
   ]
  },
  {
   "cell_type": "markdown",
   "metadata": {},
   "source": [
    "### Load CAB 10 Data"
   ]
  },
  {
   "cell_type": "code",
   "execution_count": 2,
   "metadata": {},
   "outputs": [],
   "source": [
    "CAB10and25 = pd.read_excel('CAB_TR_RGP_Datasets 2022.xlsx', sheet_name=\"CAB 10 and 25Nodes\", header=None)\n",
    "header_CAB10 = list(range(1,11))\n",
    "flow_CAB10 = CAB10and25[2:12][header_CAB10]\n",
    "flow_CAB10.index = flow_CAB10.index - 2\n",
    "flow_CAB10.columns = list(range(0,10))\n",
    "total_flow = flow_CAB10.to_numpy().sum()\n",
    "cost_CAB10 = CAB10and25[18:28][header_CAB10]\n",
    "cost_CAB10.index = cost_CAB10.index - 18\n",
    "cost_CAB10.columns = list(range(0,10))\n",
    "cost_CAB10=cost_CAB10/total_flow"
   ]
  },
  {
   "cell_type": "markdown",
   "metadata": {},
   "source": [
    "### Load CAB 25 Data"
   ]
  },
  {
   "cell_type": "code",
   "execution_count": 3,
   "metadata": {},
   "outputs": [],
   "source": [
    "header_CAB25 = list(range(1,26))\n",
    "flow_CAB25 = CAB10and25[34:59][header_CAB25]\n",
    "flow_CAB25.index = flow_CAB25.index - 34\n",
    "flow_CAB25.columns = list(range(0,25))\n",
    "total_flow_CAB25 = flow_CAB25.to_numpy().sum()\n",
    "cost_CAB25 = CAB10and25[62:87][header_CAB25]\n",
    "cost_CAB25.index = cost_CAB25.index - 62\n",
    "cost_CAB25.columns = list(range(0,25))\n",
    "cost_CAB25=cost_CAB25/total_flow_CAB25"
   ]
  },
  {
   "cell_type": "code",
   "execution_count": 4,
   "metadata": {},
   "outputs": [],
   "source": [
    "#convert to list\n",
    "flow_CAB25_list = []\n",
    "for i in range(0,25):\n",
    "    flow_CAB25_list.append(list(flow_CAB25[i]))\n",
    "    \n",
    "cost_CAB25_list = []\n",
    "for i in range(0,25):\n",
    "    cost_CAB25_list.append(list(cost_CAB25[i]))"
   ]
  },
  {
   "cell_type": "markdown",
   "metadata": {},
   "source": [
    "### Load TR 55 Data"
   ]
  },
  {
   "cell_type": "code",
   "execution_count": 5,
   "metadata": {},
   "outputs": [],
   "source": [
    "TR55 = pd.read_excel('CAB_TR_RGP_Datasets 2022.xlsx', sheet_name=\"TR 55 Nodes\", header=None)\n",
    "header_TR55 = list(range(3,58))\n",
    "flow_TR55 = TR55[5:60][header_TR55]\n",
    "flow_TR55.index = flow_TR55.index - 5\n",
    "flow_TR55.columns = list(range(0,55))\n",
    "total_flow_TR55 = flow_TR55.to_numpy().sum()\n",
    "\n",
    "cost_TR55 = TR55[63:118][header_TR55]\n",
    "cost_TR55.index = cost_TR55.index - 63\n",
    "cost_TR55.columns = list(range(0,55))\n",
    "cost_TR55=cost_TR55/total_flow_TR55"
   ]
  },
  {
   "cell_type": "code",
   "execution_count": 6,
   "metadata": {},
   "outputs": [],
   "source": [
    "#convert to list\n",
    "flow_TR_55_list = []\n",
    "for i in range(0,55):\n",
    "    flow_TR_55_list.append(list(flow_TR55[i]))\n",
    "    \n",
    "cost_TR_55_list = []\n",
    "for i in range(0,55):\n",
    "    cost_TR_55_list.append(list(cost_TR55[i]))"
   ]
  },
  {
   "cell_type": "markdown",
   "metadata": {},
   "source": [
    "### Load TR 81 Data"
   ]
  },
  {
   "cell_type": "code",
   "execution_count": 7,
   "metadata": {},
   "outputs": [],
   "source": [
    "TR81 = pd.read_excel('CAB_TR_RGP_Datasets 2022.xlsx', sheet_name=\"TR 81 Nodes\", header=None)\n",
    "header_TR81 = list(range(3,84))\n",
    "flow_TR81 = TR81[2:83][header_TR81]\n",
    "flow_TR81.index = flow_TR81.index - 2\n",
    "flow_TR81.columns = list(range(0,81))\n",
    "total_flow_TR81 = flow_TR81.to_numpy().sum()\n",
    "\n",
    "cost_TR81 = TR81[86:167][header_TR81]\n",
    "cost_TR81.index = cost_TR81.index - 86\n",
    "cost_TR81.columns = list(range(0,81))\n",
    "cost_TR81=cost_TR81/total_flow_TR81"
   ]
  },
  {
   "cell_type": "code",
   "execution_count": 8,
   "metadata": {},
   "outputs": [],
   "source": [
    "#convert to list\n",
    "flow_TR_81_list = []\n",
    "for i in range(0,81):\n",
    "    flow_TR_81_list.append(list(flow_TR81[i]))\n",
    "    \n",
    "cost_TR_81_list = []\n",
    "for i in range(0,81):\n",
    "    cost_TR_81_list.append(list(cost_TR81[i]))"
   ]
  },
  {
   "cell_type": "markdown",
   "metadata": {},
   "source": [
    "### Load RGP 100 Data"
   ]
  },
  {
   "cell_type": "code",
   "execution_count": 9,
   "metadata": {},
   "outputs": [],
   "source": [
    "RGP100 = pd.read_excel('CAB_TR_RGP_Datasets 2022.xlsx', sheet_name=\"RGP 100 Nodes\", header=None)\n",
    "header_RGP100 = list(range(1,101))\n",
    "flow_RGP100 = RGP100[3:103][header_RGP100]\n",
    "flow_RGP100.index = flow_RGP100.index - 3\n",
    "flow_RGP100.columns = list(range(0,100))\n",
    "total_flow_RGP100 = flow_RGP100.to_numpy().sum()\n",
    "\n",
    "cost_RGP100 = RGP100[107:209][header_RGP100]\n",
    "cost_RGP100.index = cost_RGP100.index - 107\n",
    "cost_RGP100.columns = list(range(0,100))\n",
    "cost_RGP100=cost_RGP100/total_flow_RGP100"
   ]
  },
  {
   "cell_type": "code",
   "execution_count": 10,
   "metadata": {},
   "outputs": [],
   "source": [
    "#convert to list\n",
    "flow_RGP_100_list = []\n",
    "for i in range(0,100):\n",
    "    flow_RGP_100_list.append(list(flow_RGP100[i]))\n",
    "    \n",
    "cost_RGP_100_list = []\n",
    "for i in range(0,100):\n",
    "    cost_RGP_100_list.append(list(cost_RGP100[i]))"
   ]
  },
  {
   "cell_type": "markdown",
   "metadata": {},
   "source": [
    "### RGP 130 Data"
   ]
  },
  {
   "cell_type": "code",
   "execution_count": 11,
   "metadata": {},
   "outputs": [],
   "source": [
    "RGP130 = pd.read_excel('CAB_TR_RGP_Datasets 2022.xlsx', sheet_name=\"RGP 130 Nodes\", header=None)\n",
    "header_RGP130 = list(range(1,131))\n",
    "flow_RGP130 = RGP130[3:133][header_RGP130]\n",
    "flow_RGP130.index = flow_RGP130.index - 3\n",
    "flow_RGP130.columns = list(range(0,130))\n",
    "total_flow_RGP130 = flow_RGP130.to_numpy().sum()\n",
    "\n",
    "cost_RGP130 = RGP130[137:269][header_RGP130]\n",
    "cost_RGP130.index = cost_RGP130.index - 137\n",
    "cost_RGP130.columns = list(range(0,130))\n",
    "cost_RGP130=cost_RGP130/total_flow_RGP130"
   ]
  },
  {
   "cell_type": "code",
   "execution_count": 12,
   "metadata": {},
   "outputs": [],
   "source": [
    "#convert to list\n",
    "flow_RGP_130_list = []\n",
    "for i in range(0,130):\n",
    "    flow_RGP_130_list.append(list(flow_RGP130[i]))\n",
    "    \n",
    "cost_RGP_130_list = []\n",
    "for i in range(0,130):\n",
    "    cost_RGP_130_list.append(list(cost_RGP130[i]))"
   ]
  },
  {
   "cell_type": "markdown",
   "metadata": {},
   "source": [
    "### Define random initial solution generator"
   ]
  },
  {
   "cell_type": "code",
   "execution_count": 13,
   "metadata": {},
   "outputs": [],
   "source": [
    "#define the random initial solution generator function\n",
    "def random_initial_solution_generator(no_nodes, no_hubs):\n",
    "    nodes = list(range(1, no_nodes+1))\n",
    "    hubs = random.sample(nodes, no_hubs)\n",
    "    solution = [0]*no_nodes\n",
    "    \n",
    "    #getting the hubs\n",
    "    for hub in hubs:\n",
    "        solution.pop(hub-1)\n",
    "        solution.insert(hub-1, hub)\n",
    "    \n",
    "    spoke_index_list = [node-1 for node in nodes if node not in hubs]\n",
    "\n",
    "    #getting the spoke nodes\n",
    "    random.shuffle(spoke_index_list)\n",
    "\n",
    "    for index in spoke_index_list:\n",
    "        solution.pop(index)\n",
    "        solution.insert(index, random.choice(hubs))\n",
    "\n",
    "    return solution"
   ]
  },
  {
   "cell_type": "code",
   "execution_count": 14,
   "metadata": {},
   "outputs": [],
   "source": [
    "#define the random initial solution generator function by least cost function\n",
    "def least_cost_random_hub_based_solution_generator(no_nodes, no_hubs, cost_matrix):\n",
    "\n",
    "    nodes = list(range(1, no_nodes+1))\n",
    "    hubs = random.sample(nodes, no_hubs)\n",
    "    solution = [0]*no_nodes\n",
    "    for hub in hubs:\n",
    "        nodes.remove(hub)\n",
    "        spokes=nodes\n",
    "    spoke_index_list = [(spoke-1) for spoke in spokes]\n",
    "    hub_index_list = [(hub-1) for hub in hubs]\n",
    "\n",
    "\n",
    "\n",
    "    for hub in hubs:\n",
    "        solution.pop(hub-1)\n",
    "        solution.insert(hub-1, hub)\n",
    "    \n",
    "    spoke_index_list = [node-1 for node in nodes if node not in hubs]\n",
    "\n",
    "    \n",
    "    #getting the hubs with the least cost\n",
    "    spoke_hub_cost={}\n",
    "    for spoke_index in spoke_index_list:\n",
    "        spoke_hub_cost[spoke_index+1] = [(cost_matrix[spoke_index][hub-1],hub) for hub in hubs]\n",
    "    spoke_hub_distribution = {}\n",
    "    for spoke in list(spoke_hub_cost.keys()):\n",
    "        costs = [ij[0] for ij in spoke_hub_cost[spoke]]\n",
    "        hub = [ij[1] for ij in spoke_hub_cost[spoke] if ij[0] == min(costs)][0]\n",
    "        spoke_hub_distribution[spoke] = hub  \n",
    "        \n",
    "    #creating the spoke and hub index list\n",
    "    spoke_hub_index_couples = [] \n",
    "    for spoke_index in spoke_index_list:\n",
    "        for hub in hubs:\n",
    "            if spoke_hub_distribution[spoke_index+1] == hub:\n",
    "                spoke_hub_index_couples.append((spoke_index, hub-1))\n",
    "    spoke_hubs_indexes = list(set(spoke_hub_index_couples))\n",
    "\n",
    "    #placing the spoke based on the previous result\n",
    "    for index_couple in spoke_hubs_indexes:\n",
    "        solution.pop(index_couple[0])\n",
    "        solution.insert(index_couple[0],index_couple[1]+1 )\n",
    "\n",
    "    return solution"
   ]
  },
  {
   "cell_type": "code",
   "execution_count": 30,
   "metadata": {},
   "outputs": [],
   "source": [
    "#function to generate the collection of random generated solution and get the best solution\n",
    "def least_cost_solution_collection(no_nodes, no_hubs, cost_matrix, flow_matrix, n_solution, alpha):\n",
    "    solution_list = []\n",
    "    for i in range(0, n_solution):\n",
    "        solution = {}\n",
    "        sol = least_cost_random_hub_based_solution_generator(no_nodes, no_hubs, cost_matrix)\n",
    "        solution['nodes'] = sol\n",
    "        solution['cost'] = total_network_cost(sol, no_nodes, flow_matrix, cost_matrix, alpha )\n",
    "        solution_list.append(solution)\n",
    "    best_solution = min(solution_list, key = lambda item: item['cost'])['nodes']\n",
    "    return best_solution"
   ]
  },
  {
   "cell_type": "markdown",
   "metadata": {},
   "source": [
    "### Define cost function"
   ]
  },
  {
   "cell_type": "code",
   "execution_count": 16,
   "metadata": {},
   "outputs": [],
   "source": [
    "#defining the total network cost\n",
    "def total_network_cost(solution, no_nodes, flow_matrix, cost_matrix, alpha):\n",
    "    total_flow_cost = 0\n",
    "    for i in range(0, no_nodes):\n",
    "        for j in range(0, no_nodes):\n",
    "            flow_cost = flow_matrix[i][j]*(cost_matrix[i][solution[i]-1] + alpha*cost_matrix[solution[i]-1][solution[j]-1] +cost_matrix[solution[j]-1][j] )\n",
    "            total_flow_cost = (total_flow_cost + flow_cost)\n",
    "    return total_flow_cost\n",
    "            "
   ]
  },
  {
   "cell_type": "markdown",
   "metadata": {},
   "source": [
    "### Genetic Algorithm\n"
   ]
  },
  {
   "cell_type": "code",
   "execution_count": 39,
   "metadata": {},
   "outputs": [],
   "source": [
    "#function for initial population\n",
    "def GA_init_pop(max_gen, pop_size, no_nodes, no_hubs, flow_matrix, cost_matrix, alpha):\n",
    "    init_pop = []\n",
    "    for i in range(0,pop_size):\n",
    "        pop_dict = {}\n",
    "        \n",
    "        \n",
    "        \n",
    "        pop_dict['solution'] = least_cost_solution_collection(no_nodes, no_hubs, cost_matrix, flow_matrix, 100, alpha)\n",
    "        pop_dict['cost'] = total_network_cost(pop_dict['solution'], no_nodes, flow_matrix, cost_matrix, alpha)\n",
    "        \n",
    "        init_pop.append(pop_dict)\n",
    "    return init_pop\n",
    "\n",
    "    "
   ]
  },
  {
   "cell_type": "code",
   "execution_count": 18,
   "metadata": {},
   "outputs": [],
   "source": [
    "#function for crossover model using single point crossover\n",
    "def GA_crossover_model(parent1, parent2, no_nodes):\n",
    "    random_point = random.choice(range(0, no_nodes))\n",
    "    offspring = [0]*no_nodes\n",
    "    \n",
    "    for i in range(0, random_point):\n",
    "        offspring.pop(i)\n",
    "        offspring.insert(i, parent1[i])\n",
    "\n",
    "    for i in range(random_point, no_nodes):\n",
    "        offspring.pop(i)\n",
    "        offspring.insert(i, parent2[i])\n",
    "        \n",
    "    return offspring"
   ]
  },
  {
   "cell_type": "code",
   "execution_count": 19,
   "metadata": {},
   "outputs": [],
   "source": [
    "#function for gene reallocation for the offspring\n",
    "def GA_gene_reallocation(offspring, no_nodes, cost_matrix, unique_hub):\n",
    "    spoke_list = list(range(1,no_nodes+1))\n",
    "    \n",
    "    # Getting only the feasible solution\n",
    "    for hub in unique_hub:\n",
    "        if offspring[hub-1] != hub:\n",
    "            offspring[hub-1] = hub\n",
    "        else:\n",
    "            pass\n",
    "    \n",
    "    for hub in unique_hub:\n",
    "        spoke_list.remove(hub)\n",
    "    \n",
    "    spoke_index_list = [(spoke-1) for spoke in spoke_list]\n",
    "    hub_index_list = [(hub-1) for hub in unique_hub]\n",
    "\n",
    "    #Map the potential hub with the cost\n",
    "    spoke_hub_cost={}\n",
    "    for index in spoke_index_list:\n",
    "        spoke_hub_cost[index+1] = [(cost_matrix[index][hub-1],hub) for hub in unique_hub]\n",
    "    else:\n",
    "        pass\n",
    "\n",
    "    # Get the option with the least cost\n",
    "    spoke_hub_mapping_with_lowest_cost = {}\n",
    "    for spoke in list(spoke_hub_cost.keys()):\n",
    "        cost = [ij[0] for ij in spoke_hub_cost[spoke]]\n",
    "        hub = [ij[1] for ij in spoke_hub_cost[spoke] if ij[0] == min(cost)][0]\n",
    "        spoke_hub_mapping_with_lowest_cost[spoke] = hub \n",
    "\n",
    "    # Map spoke index to hub index\n",
    "    spoke_hub_index_mapping_with_lowest_cost = [] \n",
    "    for index in spoke_index_list:\n",
    "        for hub in unique_hub:\n",
    "            if spoke_hub_mapping_with_lowest_cost[index+1] == hub:\n",
    "                spoke_hub_index_mapping_with_lowest_cost.append((index, hub-1))\n",
    "    spoke_hub_index_mapping_with_lowest_cost = list(set(spoke_hub_index_mapping_with_lowest_cost))\n",
    "\n",
    "    # Create the solution\n",
    "    solution = offspring.copy()\n",
    "    for index_mapping in spoke_hub_index_mapping_with_lowest_cost:\n",
    "        solution.pop(index_mapping[0])\n",
    "        solution.insert(index_mapping[0],index_mapping[1]+1 )\n",
    "\n",
    "    return solution"
   ]
  },
  {
   "cell_type": "code",
   "execution_count": 36,
   "metadata": {},
   "outputs": [],
   "source": [
    "#defining the function for offspring reparation\n",
    "def GA_repair_offspring(offspring, no_nodes, no_hubs, cost_matrix):\n",
    "\n",
    "    hubs_offspring = []\n",
    "    \n",
    "    # Getting the unique hub\n",
    "    unique_hub = [hub for hub in list(set(offspring)) if hub != 0]\n",
    "\n",
    "    # Getting the feasible solution\n",
    "    for hub in unique_hub:\n",
    "        if offspring[hub-1] != hub:\n",
    "            offspring[hub-1] = hub\n",
    "        else:\n",
    "            pass\n",
    "\n",
    "    # Creating a dictionary of offspring\n",
    "    offspring_dict = dict(zip(list(range(0,no_nodes)), offspring))\n",
    "\n",
    "    # Gene repair operatoration\n",
    "    if len(unique_hub) == no_hubs: #If the current hub same with no of hub\n",
    "        for key in offspring_dict:\n",
    "            if offspring_dict[key] == 0:\n",
    "                offspring[key] = random.choice(unique_hub) # Get random hub to assign the unfilled node\n",
    "            else:\n",
    "                pass # Else, leave it as is\n",
    "        offspring_repaired = GA_gene_reallocation(offspring, no_nodes, cost_matrix, unique_hub) # Reallocate spoke based on its lowest-cost hub\n",
    "            \n",
    "    elif len(unique_hub) > no_hubs: # If the number of unique hub is greater than the desired number of unique hub\n",
    "        repaired_hub_candidate = []\n",
    "        for hub_combination in itertools.combinations(unique_hub, no_hubs):\n",
    "            repaired_hub_candidate.append(hub_combination) \n",
    "        repaired_unique_hub = random.choice(repaired_hub_candidate) # Reduce the number of unique hub by selecting hubs randomly\n",
    "        for key in offspring_dict:\n",
    "            if offspring_dict[key] == 0:\n",
    "                offspring[key] = random.choice(repaired_unique_hub) # Fill unassigned gene to random hub\n",
    "            elif offspring_dict[key] not in repaired_unique_hub:\n",
    "                offspring[key] = random.choice(repaired_unique_hub) # Fill infeasible gene to random hub\n",
    "            else:\n",
    "                pass      \n",
    "        offspring_repaired = GA_gene_reallocation(offspring, no_nodes, cost_matrix, repaired_unique_hub) # Reallocate spoke based on its lowest-cost hub\n",
    "        \n",
    "    elif len(unique_hub) < no_hubs:\n",
    "        new_hub_required = no_hubs - len(unique_hub)\n",
    "        possible_new_hub = list(range(1,no_nodes+1))\n",
    "        for hub in unique_hub:\n",
    "            possible_new_hub.remove(hub)\n",
    "        random_new_hub = random.choices(possible_new_hub, k=new_hub_required)\n",
    "        \n",
    "        repaired_unique_hub = unique_hub + random_new_hub\n",
    "        \n",
    "        for hub in random_new_hub: # Place new hub to chromosome\n",
    "            if offspring[hub-1] != hub:\n",
    "                offspring[hub-1] = hub\n",
    "            else:\n",
    "                pass\n",
    "        \n",
    "        for key in offspring_dict:\n",
    "            if offspring_dict[key] == 0:\n",
    "                offspring[key] = random.choice(repaired_unique_hub) # Fill unassigned gene to random hub\n",
    "            elif offspring_dict[key] not in repaired_unique_hub:\n",
    "                offspring[key] = random.choice(repaired_unique_hub) # Fill infeasible gene to random hub\n",
    "            else:\n",
    "                pass  \n",
    "            \n",
    "        offspring_repaired = GA_gene_reallocation(offspring, no_nodes, cost_matrix, repaired_unique_hub) # Reallocate spoke based on its lowest-cost hub\n",
    "    else:\n",
    "        pass\n",
    "            \n",
    "    return offspring_repaired"
   ]
  },
  {
   "cell_type": "code",
   "execution_count": 21,
   "metadata": {},
   "outputs": [],
   "source": [
    "# Mutation operator No. 1: Reassign random spoke to an available hub\n",
    "def GA_mutation_operator_1(offspring, no_nodes, mutation_rate):\n",
    "    unique_hub = list(set(offspring))\n",
    "    node_list = list(range(1,no_nodes+1))\n",
    "    \n",
    "    for hub in unique_hub:\n",
    "        spoke_index_list = [node-1 for node in node_list if node not in unique_hub]\n",
    "    \n",
    "    mutation_counter = mutation_rate * no_nodes\n",
    "    counter = 0\n",
    "    mutated_offspring = offspring.copy()\n",
    "    while counter < mutation_counter:\n",
    "        node_index_to_reassign = random.choice(spoke_index_list)\n",
    "        mutated_offspring[node_index_to_reassign] = random.choice([hub for hub in unique_hub if hub != offspring[node_index_to_reassign]])\n",
    "        counter += 1\n",
    "    \n",
    "    return mutated_offspring"
   ]
  },
  {
   "cell_type": "code",
   "execution_count": 32,
   "metadata": {},
   "outputs": [],
   "source": [
    "# Mutation operator No 2. Swapping random spoke\n",
    "def GA_mutation_operator_2(offspring, no_nodes, mutation_rate):\n",
    "    unique_hub = list(set(offspring))\n",
    "    node_list = list(range(1,no_nodes+1))\n",
    "    \n",
    "    for hub in unique_hub:\n",
    "        spoke_index_list = [node-1 for node in node_list if node not in unique_hub]\n",
    "\n",
    "    mutation_counter = mutation_rate * no_nodes\n",
    "    counter = 0\n",
    "    mutated_offspring = offspring.copy()\n",
    "    while counter < mutation_counter:\n",
    "        node_index_to_swap = random.choices(spoke_index_list,k=2)\n",
    "        mutated_offspring[node_index_to_swap[0]] = offspring[node_index_to_swap[1]]\n",
    "        mutated_offspring[node_index_to_swap[1]] = offspring[node_index_to_swap[0]]\n",
    "        counter += 1\n",
    "    \n",
    "    return mutated_offspring"
   ]
  },
  {
   "cell_type": "code",
   "execution_count": 23,
   "metadata": {},
   "outputs": [],
   "source": [
    "#defining GA operator to choose which operator\n",
    "def GA_mutation(offspring, no_nodes, mutation_rate):\n",
    "    chosen_operation = random.choice(list(range(1,3)))\n",
    "    if chosen_operation == 1:\n",
    "        return GA_mutation_operator_1(offspring, no_nodes, mutation_rate)\n",
    "    elif chosen_operation == 2:\n",
    "        return GA_mutation_operator_2(offspring, no_nodes, mutation_rate)\n",
    "    else:\n",
    "        pass\n",
    "    return mutated_offspring"
   ]
  },
  {
   "cell_type": "code",
   "execution_count": 34,
   "metadata": {},
   "outputs": [],
   "source": [
    "# function integrating functions to define a generation\n",
    "def GA_define_generation(gen, gen_pop, pop_size, mut_prob, no_nodes ,no_hubs ,flow_matrix ,cost_matrix ,alpha, cross_over_num):\n",
    "    startTime_init_pop = time.time()\n",
    "    gen += 1\n",
    "    chosen_pop = 0\n",
    "    generation_pop = []\n",
    "    pop_it = 0\n",
    "    while pop_it < cross_over_num:\n",
    "        \n",
    "        result_dict = {}\n",
    "\n",
    "        choice_1 = random.randint(0,pop_size-1)\n",
    "        choice_2 = random.randint(0,pop_size-1)\n",
    "\n",
    " \n",
    "        parent_1 = gen_pop[choice_1]['solution']\n",
    "        parent_2 = gen_pop[choice_2]['solution']\n",
    "\n",
    "        if random.uniform(0,1) >= mut_prob:\n",
    "            offspring = GA_crossover_model(parent_1, parent_2, no_nodes)\n",
    "            offspring = GA_repair_offspring(offspring, no_nodes,  no_hubs, cost_matrix)\n",
    "            mutation = GA_mutation(offspring, no_nodes, 0.1)\n",
    "            offspring_cost = total_network_cost(offspring, no_nodes, flow_matrix, cost_matrix, alpha)\n",
    "            mutation_cost = total_network_cost(mutation, no_nodes, flow_matrix, cost_matrix, alpha)\n",
    "            if mutation_cost<= offspring_cost:\n",
    "                result_dict['solution'] = mutation\n",
    "                result_dict['cost'] = mutation_cost\n",
    "            else:\n",
    "                result_dict['solution'] = offspring\n",
    "                result_dict['cost'] = offspring_cost\n",
    "        else:\n",
    "            if  random.randint(0,1) == 0:\n",
    "                parent = parent_1.copy()\n",
    "            else:\n",
    "                parent = parent_2.copy()\n",
    "            parent_cost = total_network_cost(parent, no_nodes, flow_matrix, cost_matrix, alpha)\n",
    "            if random.uniform(0,1) <= mut_prob:\n",
    "                mutation = GA_mutation(parent, no_nodes, 0.1)\n",
    "                mutation_cost = total_network_cost(mutation, no_nodes, flow_matrix, cost_matrix, alpha)\n",
    "                if mutation_cost<= parent_cost:\n",
    "                    result_dict['solution'] = mutation\n",
    "                    result_dict['cost'] = mutation_cost\n",
    "\n",
    "                else:\n",
    "                    result_dict['solution'] = parent\n",
    "                    result_dict['cost'] = parent_cost\n",
    "\n",
    "            else:\n",
    "                result_dict['solution'] = parent\n",
    "                result_dict['cost'] = parent_cost\n",
    "        generation_pop.append(result_dict)\n",
    "        pop_it+=1\n",
    "    result = gen_pop+generation_pop\n",
    "    result = sorted(result, key = lambda item: item['cost'])\n",
    "\n",
    "    return gen, result[:pop_size]\n",
    "    "
   ]
  },
  {
   "cell_type": "code",
   "execution_count": 25,
   "metadata": {},
   "outputs": [],
   "source": [
    "# function to the integration for GA\n",
    "def GA(gen, max_gen, pop_size, mut_prob, no_nodes, no_hubs, flow_matrix, cost_matrix, alpha, cross_overnum):\n",
    "    best_cost = 9999999999999999999\n",
    "    start = time.time()\n",
    "    gen_pop = GA_init_pop(max_gen, pop_size, no_nodes, no_hubs, flow_matrix, cost_matrix, alpha)\n",
    "    while gen<=max_gen:\n",
    "        for member in range(0, pop_size):\n",
    "            gen, gen_pop = GA_define_generation(gen, gen_pop, pop_size, mut_prob ,no_nodes ,no_hubs ,flow_matrix ,cost_matrix ,alpha, cross_overnum)\n",
    "            gen_cost = min(gen_pop, key = lambda item: item['cost'])['cost']\n",
    "            if gen_cost < best_cost:\n",
    "                best_cost = gen_cost\n",
    "                best_solution = min(gen_pop, key = lambda item: item['cost'])['solution']\n",
    "    end = time.time()\n",
    "    return best_cost, best_solution, end-start"
   ]
  },
  {
   "cell_type": "markdown",
   "metadata": {},
   "source": [
    "#### GA run"
   ]
  },
  {
   "cell_type": "code",
   "execution_count": 40,
   "metadata": {},
   "outputs": [
    {
     "name": "stdout",
     "output_type": "stream",
     "text": [
      "Iteration finished / 767.3493932427589 [4, 17, 17, 4, 4, 4, 4, 4, 4, 4, 4, 12, 4, 17, 4, 4, 17, 17, 12, 17, 4, 12, 12, 4, 17] 45.342344999313354\n",
      "Iteration finished / 767.3493932427589 [4, 17, 17, 4, 4, 4, 4, 4, 4, 4, 4, 12, 4, 17, 4, 4, 17, 17, 12, 17, 4, 12, 12, 4, 17] 45.35909581184387\n",
      "Iteration finished / 767.3493932427589 [4, 17, 17, 4, 4, 4, 4, 4, 4, 4, 4, 12, 4, 17, 4, 4, 17, 17, 12, 17, 4, 12, 12, 4, 17] 46.15136194229126\n",
      "Iteration finished / 767.3493932427589 [4, 17, 17, 4, 4, 4, 4, 4, 4, 4, 4, 12, 4, 17, 4, 4, 17, 17, 12, 17, 4, 12, 12, 4, 17] 45.08627700805664\n",
      "Iteration finished / 769.3994537190207 [4, 18, 18, 4, 4, 4, 4, 4, 4, 4, 4, 12, 4, 18, 4, 4, 18, 18, 12, 18, 4, 12, 12, 18, 18] 45.18025088310242\n",
      "Iteration finished / 767.3493932427589 [4, 17, 17, 4, 4, 4, 4, 4, 4, 4, 4, 12, 4, 17, 4, 4, 17, 17, 12, 17, 4, 12, 12, 4, 17] 45.000981092453\n",
      "Iteration finished / 767.3493932427589 [4, 17, 17, 4, 4, 4, 4, 4, 4, 4, 4, 12, 4, 17, 4, 4, 17, 17, 12, 17, 4, 12, 12, 4, 17] 45.566916704177856\n",
      "Iteration finished / 767.3493932427589 [4, 17, 17, 4, 4, 4, 4, 4, 4, 4, 4, 12, 4, 17, 4, 4, 17, 17, 12, 17, 4, 12, 12, 4, 17] 45.311939001083374\n",
      "Iteration finished / 767.3493932427589 [4, 17, 17, 4, 4, 4, 4, 4, 4, 4, 4, 12, 4, 17, 4, 4, 17, 17, 12, 17, 4, 12, 12, 4, 17] 45.448354959487915\n",
      "Iteration finished / 767.3493932427589 [4, 17, 17, 4, 4, 4, 4, 4, 4, 4, 4, 12, 4, 17, 4, 4, 17, 17, 12, 17, 4, 12, 12, 4, 17] 45.315317153930664\n",
      "All finished\n"
     ]
    }
   ],
   "source": [
    "replication = 0\n",
    "n_replication = 10\n",
    "global_best_solution = []\n",
    "\n",
    "while replication < n_replication:\n",
    "    best_solution = {}\n",
    "    best_run_cost, best_sol , runtime= GA(0, 5, 500, 0.9, 25, 3, flow_CAB25_list, cost_CAB25_list, 0.2, 100)\n",
    "    best_solution['solution'] = best_sol\n",
    "    best_solution['cost'] = best_run_cost\n",
    "    global_best_solution.append(best_solution)\n",
    "    replication += 1\n",
    "    print('Iteration finished /',best_run_cost, best_sol , runtime)\n",
    "print('All finished')   "
   ]
  },
  {
   "cell_type": "code",
   "execution_count": 370,
   "metadata": {},
   "outputs": [
    {
     "name": "stdout",
     "output_type": "stream",
     "text": [
      "CAB25:  Best solution : 767.3493932427589  gap:  -7.907177183083286e-05 %\n"
     ]
    }
   ],
   "source": [
    "best_cost = min(global_best_solution, key = lambda item: item['cost'])['cost']\n",
    "best_solution = min(global_best_solution, key = lambda item: item['cost'])['solution']\n",
    "print('CAB25: ','Best solution :',str(best_cost),' / ', best_solution)"
   ]
  },
  {
   "cell_type": "code",
   "execution_count": 371,
   "metadata": {},
   "outputs": [],
   "source": [
    "cab25_3 = global_best_solution.copy()"
   ]
  },
  {
   "cell_type": "code",
   "execution_count": 372,
   "metadata": {},
   "outputs": [],
   "source": [
    "pd.DataFrame(cab25_3).to_csv('CAB25_3_2.csv')"
   ]
  },
  {
   "cell_type": "code",
   "execution_count": 373,
   "metadata": {},
   "outputs": [
    {
     "data": {
      "text/plain": [
       "768.2503651852776"
      ]
     },
     "execution_count": 373,
     "metadata": {},
     "output_type": "execute_result"
    }
   ],
   "source": [
    "pd.DataFrame(global_best_solution)['cost'].mean()"
   ]
  },
  {
   "cell_type": "code",
   "execution_count": 364,
   "metadata": {},
   "outputs": [
    {
     "name": "stdout",
     "output_type": "stream",
     "text": [
      "Iteration finished / 538.3741044834153 [4, 17, 17, 4, 4, 4, 7, 7, 4, 7, 4, 12, 7, 14, 4, 7, 17, 17, 12, 17, 4, 12, 12, 14, 17] 29.25354814529419\n",
      "Iteration finished / 553.7464976315663 [13, 17, 17, 4, 4, 4, 13, 13, 4, 13, 13, 12, 13, 14, 4, 13, 17, 17, 12, 17, 4, 12, 12, 14, 17] 28.450452089309692\n",
      "Iteration finished / 541.1941264611194 [24, 17, 17, 4, 4, 4, 7, 7, 4, 7, 4, 12, 7, 24, 4, 7, 17, 17, 12, 17, 4, 12, 12, 24, 17] 30.396260023117065\n",
      "Iteration finished / 541.1941264611194 [24, 17, 17, 4, 4, 4, 7, 7, 4, 7, 4, 12, 7, 24, 4, 7, 17, 17, 12, 17, 4, 12, 12, 24, 17] 28.629799127578735\n",
      "Iteration finished / 549.5985623126443 [4, 17, 17, 4, 4, 4, 10, 4, 4, 10, 4, 12, 4, 14, 4, 10, 17, 17, 12, 17, 4, 12, 12, 14, 17] 29.35130500793457\n",
      "Iteration finished / 552.6077470403604 [24, 17, 17, 4, 4, 4, 10, 4, 4, 10, 4, 12, 4, 24, 4, 10, 17, 17, 12, 17, 4, 12, 12, 24, 17] 29.099765062332153\n",
      "Iteration finished / 586.5002701657496 [24, 17, 17, 4, 4, 4, 11, 11, 4, 11, 11, 22, 11, 24, 4, 24, 17, 17, 22, 17, 11, 22, 22, 24, 17] 28.459988832473755\n",
      "Iteration finished / 538.3741044834153 [4, 17, 17, 4, 4, 4, 7, 7, 4, 7, 4, 12, 7, 14, 4, 7, 17, 17, 12, 17, 4, 12, 12, 14, 17] 30.375839948654175\n",
      "Iteration finished / 553.4351833500299 [24, 18, 18, 4, 4, 4, 7, 7, 4, 7, 4, 12, 7, 24, 4, 7, 18, 18, 12, 18, 4, 12, 12, 24, 18] 28.575911045074463\n",
      "Iteration finished / 553.7464976315663 [13, 17, 17, 4, 4, 4, 13, 13, 4, 13, 13, 12, 13, 14, 4, 13, 17, 17, 12, 17, 4, 12, 12, 14, 17] 28.289000988006592\n",
      "All finished\n"
     ]
    }
   ],
   "source": [
    "replication = 0\n",
    "n_replication = 10\n",
    "global_best_solution = []\n",
    "\n",
    "while replication < n_replication:\n",
    "    best_solution = {}\n",
    "    best_run_cost, best_sol , runtime= GA(0, 5, 500, 0.9, 25, 5, flow_CAB25_list, cost_CAB25_list, 0.2, 100)\n",
    "    best_solution['solution'] = best_sol\n",
    "    best_solution['cost'] = best_run_cost\n",
    "    global_best_solution.append(best_solution)\n",
    "    replication += 1\n",
    "    print('Iteration finished /',best_run_cost, best_sol , runtime)\n",
    "print('All finished')   "
   ]
  },
  {
   "cell_type": "code",
   "execution_count": 365,
   "metadata": {},
   "outputs": [
    {
     "name": "stdout",
     "output_type": "stream",
     "text": [
      "CAB25:  Best solution : 538.3741044834153  gap:  0.0007623908121347597 %\n"
     ]
    }
   ],
   "source": [
    "best_cost = min(global_best_solution, key = lambda item: item['cost'])['cost']\n",
    "best_solution = min(global_best_solution, key = lambda item: item['cost'])['solution']\n",
    "gap = (best_cost-538.37)*100/538.37\n",
    "print('CAB25: ','Best solution :',str(best_cost),' gap: ',gap,'%')"
   ]
  },
  {
   "cell_type": "code",
   "execution_count": 366,
   "metadata": {},
   "outputs": [],
   "source": [
    "cab25_5 = global_best_solution.copy()"
   ]
  },
  {
   "cell_type": "code",
   "execution_count": 367,
   "metadata": {},
   "outputs": [],
   "source": [
    "pd.DataFrame(cab25_5).to_csv('CAB25_5_2.csv')"
   ]
  },
  {
   "cell_type": "code",
   "execution_count": 368,
   "metadata": {},
   "outputs": [
    {
     "data": {
      "text/plain": [
       "550.8771220020985"
      ]
     },
     "execution_count": 368,
     "metadata": {},
     "output_type": "execute_result"
    }
   ],
   "source": [
    "pd.DataFrame(global_best_solution)['cost'].mean()"
   ]
  },
  {
   "cell_type": "code",
   "execution_count": 344,
   "metadata": {},
   "outputs": [
    {
     "name": "stdout",
     "output_type": "stream",
     "text": [
      "Iteration finished / 1158.831054255274 [2, 2, 2, 4, 4, 2, 4, 4, 4, 4, 4, 12, 4, 2, 4, 4, 2, 2, 12, 2, 4, 12, 12, 2, 2] 27.940062046051025\n",
      "Iteration finished / 1169.0549374320583 [2, 2, 2, 21, 2, 2, 21, 21, 2, 21, 21, 12, 21, 2, 21, 21, 2, 2, 12, 2, 21, 12, 12, 2, 2] 27.881610870361328\n",
      "Iteration finished / 1159.7447772339594 [25, 25, 25, 4, 4, 25, 4, 4, 4, 4, 4, 12, 4, 25, 4, 4, 25, 25, 12, 25, 4, 12, 12, 25, 25] 27.80717897415161\n",
      "Iteration finished / 1169.0549374320583 [2, 2, 2, 21, 2, 2, 21, 21, 2, 21, 21, 12, 21, 2, 21, 21, 2, 2, 12, 2, 21, 12, 12, 2, 2] 27.945488929748535\n",
      "Iteration finished / 1166.3107089119273 [25, 25, 25, 21, 25, 25, 21, 21, 25, 21, 21, 12, 21, 25, 21, 21, 25, 25, 12, 25, 21, 12, 12, 25, 25] 27.72805094718933\n",
      "Iteration finished / 1169.0549374320583 [2, 2, 2, 21, 2, 2, 21, 21, 2, 21, 21, 12, 21, 2, 21, 21, 2, 2, 12, 2, 21, 12, 12, 2, 2] 27.893930912017822\n",
      "Iteration finished / 1158.831054255274 [2, 2, 2, 4, 4, 2, 4, 4, 4, 4, 4, 12, 4, 2, 4, 4, 2, 2, 12, 2, 4, 12, 12, 2, 2] 27.837605953216553\n",
      "Iteration finished / 1166.3107089119273 [25, 25, 25, 21, 25, 25, 21, 21, 25, 21, 21, 12, 21, 25, 21, 21, 25, 25, 12, 25, 21, 12, 12, 25, 25] 27.850331783294678\n",
      "Iteration finished / 1174.7753296563965 [5, 18, 18, 5, 5, 5, 5, 5, 5, 5, 5, 12, 5, 5, 5, 5, 18, 18, 12, 18, 5, 12, 12, 5, 18] 27.826612949371338\n",
      "Iteration finished / 1176.7903510476456 [5, 17, 17, 5, 5, 5, 5, 5, 5, 5, 5, 12, 5, 5, 5, 5, 17, 17, 12, 5, 5, 12, 12, 5, 17] 27.83668088912964\n",
      "All finished\n"
     ]
    }
   ],
   "source": [
    "replication = 0\n",
    "n_replication = 10\n",
    "global_best_solution = []\n",
    "\n",
    "while replication < n_replication:\n",
    "    best_solution = {}\n",
    "    best_run_cost, best_sol , runtime= GA(0, 5, 500, 0.9, 25, 3, flow_CAB25_list, cost_CAB25_list, 0.8, 100)\n",
    "    best_solution['solution'] = best_sol\n",
    "    best_solution['cost'] = best_run_cost\n",
    "    global_best_solution.append(best_solution)\n",
    "    replication += 1\n",
    "    print('Iteration finished /',best_run_cost, best_sol , runtime)\n",
    "print('All finished')   "
   ]
  },
  {
   "cell_type": "code",
   "execution_count": 345,
   "metadata": {},
   "outputs": [
    {
     "name": "stdout",
     "output_type": "stream",
     "text": [
      "CAB25:  Best solution : 1158.831054255274  gap:  9.097583546201133e-05 %\n"
     ]
    }
   ],
   "source": [
    "best_cost = min(global_best_solution, key = lambda item: item['cost'])['cost']\n",
    "best_solution = min(global_best_solution, key = lambda item: item['cost'])['solution']\n",
    "gap = (best_cost-1158.83)*100/1158.83\n",
    "print('CAB25: ','Best solution :',str(best_cost),' gap: ',gap,'%')"
   ]
  },
  {
   "cell_type": "code",
   "execution_count": 346,
   "metadata": {},
   "outputs": [],
   "source": [
    "cab25_3_8 = global_best_solution.copy()"
   ]
  },
  {
   "cell_type": "code",
   "execution_count": 347,
   "metadata": {},
   "outputs": [],
   "source": [
    "pd.DataFrame(cab25_3_8).to_csv('CAB25_3_8.csv')"
   ]
  },
  {
   "cell_type": "code",
   "execution_count": 348,
   "metadata": {},
   "outputs": [
    {
     "data": {
      "text/plain": [
       "1166.875879656858"
      ]
     },
     "execution_count": 348,
     "metadata": {},
     "output_type": "execute_result"
    }
   ],
   "source": [
    "pd.DataFrame(global_best_solution)['cost'].mean()"
   ]
  },
  {
   "cell_type": "code",
   "execution_count": 349,
   "metadata": {},
   "outputs": [
    {
     "name": "stdout",
     "output_type": "stream",
     "text": [
      "Iteration finished / 1037.3936599717474 [1, 17, 17, 4, 4, 4, 7, 7, 4, 7, 4, 12, 1, 1, 4, 1, 17, 17, 12, 17, 4, 12, 12, 1, 17] 29.20223331451416\n",
      "Iteration finished / 1034.1028455791147 [1, 18, 18, 4, 4, 4, 7, 7, 4, 7, 4, 12, 1, 1, 4, 1, 18, 18, 12, 18, 4, 12, 12, 1, 18] 28.49462080001831\n",
      "Iteration finished / 1038.6179060228571 [1, 2, 2, 4, 4, 2, 7, 7, 4, 7, 4, 12, 1, 1, 4, 1, 2, 2, 12, 2, 4, 12, 12, 1, 2] 28.413511037826538\n",
      "Iteration finished / 1038.6179060228571 [1, 2, 2, 4, 4, 2, 7, 7, 4, 7, 4, 12, 1, 1, 4, 1, 2, 2, 12, 2, 4, 12, 12, 1, 2] 28.60572576522827\n",
      "Iteration finished / 1038.6179060228571 [1, 2, 2, 4, 4, 2, 7, 7, 4, 7, 4, 12, 1, 1, 4, 1, 2, 2, 12, 2, 4, 12, 12, 1, 2] 28.547822952270508\n",
      "Iteration finished / 1034.1028455791147 [1, 18, 18, 4, 4, 4, 7, 7, 4, 7, 4, 12, 1, 1, 4, 1, 18, 18, 12, 18, 4, 12, 12, 1, 18] 28.40259885787964\n",
      "Iteration finished / 1050.482250653955 [1, 17, 17, 4, 4, 4, 21, 21, 4, 21, 21, 12, 21, 1, 4, 1, 17, 17, 12, 17, 21, 12, 12, 1, 17] 28.349040269851685\n",
      "Iteration finished / 1037.3936599717474 [1, 17, 17, 4, 4, 4, 7, 7, 4, 7, 4, 12, 1, 1, 4, 1, 17, 17, 12, 17, 4, 12, 12, 1, 17] 28.452143907546997\n",
      "Iteration finished / 1050.482250653955 [1, 17, 17, 4, 4, 4, 21, 21, 4, 21, 21, 12, 21, 1, 4, 1, 17, 17, 12, 17, 21, 12, 12, 1, 17] 28.331176042556763\n",
      "Iteration finished / 1047.2809192418076 [1, 18, 18, 4, 4, 4, 21, 21, 4, 21, 21, 12, 21, 1, 4, 1, 18, 18, 12, 18, 21, 12, 12, 1, 18] 28.428707122802734\n",
      "All finished\n"
     ]
    }
   ],
   "source": [
    "replication = 0\n",
    "n_replication = 10\n",
    "global_best_solution = []\n",
    "\n",
    "while replication < n_replication:\n",
    "    best_solution = {}\n",
    "    best_run_cost, best_sol , runtime= GA(0, 3, 500, 0.9, 25, 5, flow_CAB25_list, cost_CAB25_list, 0.8, 100)\n",
    "    best_solution['solution'] = best_sol\n",
    "    best_solution['cost'] = best_run_cost\n",
    "    global_best_solution.append(best_solution)\n",
    "    replication += 1\n",
    "    print('Iteration finished /',best_run_cost, best_sol , runtime)\n",
    "print('All finished')   "
   ]
  },
  {
   "cell_type": "code",
   "execution_count": 350,
   "metadata": {},
   "outputs": [
    {
     "name": "stdout",
     "output_type": "stream",
     "text": [
      "CAB25:  Best solution : 1034.1028455791147  gap:  0.00027517446231689147 %\n"
     ]
    }
   ],
   "source": [
    "best_cost = min(global_best_solution, key = lambda item: item['cost'])['cost']\n",
    "best_solution = min(global_best_solution, key = lambda item: item['cost'])['solution']\n",
    "gap = (best_cost-1034.1)*100/1034.1\n",
    "print('CAB25: ','Best solution :',str(best_cost),' gap: ',gap,'%')"
   ]
  },
  {
   "cell_type": "code",
   "execution_count": 351,
   "metadata": {},
   "outputs": [],
   "source": [
    "cab25_5_8 = global_best_solution.copy()"
   ]
  },
  {
   "cell_type": "code",
   "execution_count": 352,
   "metadata": {},
   "outputs": [],
   "source": [
    "pd.DataFrame(cab25_5_8).to_csv('CAB25_5_8.csv')"
   ]
  },
  {
   "cell_type": "code",
   "execution_count": 353,
   "metadata": {},
   "outputs": [
    {
     "data": {
      "text/plain": [
       "1040.7092149720013"
      ]
     },
     "execution_count": 353,
     "metadata": {},
     "output_type": "execute_result"
    }
   ],
   "source": [
    "pd.DataFrame(global_best_solution)['cost'].mean()"
   ]
  },
  {
   "cell_type": "code",
   "execution_count": 359,
   "metadata": {},
   "outputs": [
    {
     "name": "stdout",
     "output_type": "stream",
     "text": [
      "Iteration finished / 592.8221439866647 [19, 19, 19, 4, 4, 19, 30, 30, 19, 19, 4, 30, 30, 4, 19, 30, 19, 30, 19, 4, 19, 19, 19, 4, 19, 30, 30, 4, 4, 30, 4, 30, 30, 19, 19, 19, 4, 19, 4, 30, 19, 19, 4, 30, 4, 19, 4, 19, 4, 19, 19, 30, 4, 19, 19] 130.5526659488678\n",
      "Iteration finished / 603.3083832086837 [45, 15, 15, 45, 45, 15, 30, 30, 15, 15, 45, 30, 30, 45, 15, 30, 15, 30, 15, 45, 15, 15, 45, 45, 45, 30, 30, 45, 45, 30, 45, 30, 30, 45, 15, 15, 45, 15, 30, 30, 15, 15, 45, 30, 45, 15, 45, 15, 30, 15, 15, 30, 30, 15, 45] 130.47418928146362\n",
      "Iteration finished / 592.8215139432074 [19, 19, 19, 4, 4, 19, 30, 30, 19, 19, 4, 30, 30, 4, 19, 30, 19, 30, 19, 4, 19, 19, 19, 4, 19, 30, 30, 4, 4, 30, 4, 30, 30, 19, 19, 19, 4, 19, 4, 30, 19, 19, 4, 30, 4, 4, 4, 19, 4, 19, 19, 30, 4, 19, 19] 133.0497281551361\n",
      "Iteration finished / 608.2978099733766 [19, 19, 19, 45, 45, 19, 30, 30, 19, 19, 45, 30, 30, 45, 19, 30, 19, 30, 19, 45, 45, 19, 19, 45, 45, 30, 30, 45, 45, 30, 45, 30, 30, 19, 19, 19, 45, 19, 30, 30, 19, 19, 45, 30, 45, 45, 45, 19, 30, 19, 19, 30, 30, 19, 19] 129.90277290344238\n",
      "Iteration finished / 604.8041355377432 [45, 42, 42, 45, 45, 42, 30, 30, 42, 42, 45, 30, 30, 45, 42, 30, 42, 30, 42, 45, 42, 42, 42, 45, 45, 30, 30, 45, 45, 30, 45, 30, 30, 42, 42, 42, 45, 42, 30, 30, 42, 42, 45, 30, 45, 42, 45, 42, 30, 42, 42, 30, 30, 42, 42] 129.4275541305542\n",
      "Iteration finished / 596.2177000844606 [34, 34, 34, 4, 4, 34, 30, 30, 34, 34, 4, 30, 30, 4, 34, 30, 34, 30, 34, 4, 34, 34, 34, 4, 34, 30, 30, 4, 4, 30, 4, 30, 30, 34, 34, 34, 4, 34, 4, 30, 34, 34, 4, 30, 4, 34, 4, 34, 4, 34, 34, 30, 4, 34, 34] 130.23878383636475\n",
      "Iteration finished / 603.3083832086837 [45, 15, 15, 45, 45, 15, 30, 30, 15, 15, 45, 30, 30, 45, 15, 30, 15, 30, 15, 45, 15, 15, 45, 45, 45, 30, 30, 45, 45, 30, 45, 30, 30, 45, 15, 15, 45, 15, 30, 30, 15, 15, 45, 30, 45, 15, 45, 15, 30, 15, 15, 30, 30, 15, 45] 129.4134738445282\n",
      "Iteration finished / 592.6383578725273 [19, 19, 19, 4, 4, 19, 30, 30, 19, 19, 4, 30, 30, 4, 19, 30, 19, 30, 19, 4, 4, 19, 19, 4, 19, 30, 30, 4, 4, 30, 4, 30, 30, 19, 19, 19, 4, 19, 4, 30, 19, 19, 4, 30, 4, 4, 4, 19, 4, 19, 19, 30, 4, 19, 19] 130.2393000125885\n",
      "Iteration finished / 592.8221439866647 [19, 19, 19, 4, 4, 19, 30, 30, 19, 19, 4, 30, 30, 4, 19, 30, 19, 30, 19, 4, 19, 19, 19, 4, 19, 30, 30, 4, 4, 30, 4, 30, 30, 19, 19, 19, 4, 19, 4, 30, 19, 19, 4, 30, 4, 19, 4, 19, 4, 19, 19, 30, 4, 19, 19] 129.93217992782593\n",
      "Iteration finished / 592.6425418049347 [19, 19, 19, 4, 4, 19, 30, 30, 19, 19, 4, 30, 30, 4, 19, 30, 19, 30, 19, 4, 4, 19, 19, 4, 19, 30, 30, 4, 4, 30, 4, 30, 30, 19, 19, 19, 4, 19, 4, 30, 19, 19, 4, 30, 4, 19, 4, 19, 4, 19, 19, 30, 4, 19, 19] 128.371178150177\n",
      "All finished\n"
     ]
    }
   ],
   "source": [
    "replication = 0\n",
    "n_replication = 10\n",
    "global_best_solution = []\n",
    "\n",
    "while replication < n_replication:\n",
    "    best_solution = {}\n",
    "    best_run_cost, best_sol , runtime= GA(0, 3, 500, 0.9, 55, 3, flow_TR_55_list, cost_TR_55_list, 0.2, 100)\n",
    "    best_solution['solution'] = best_sol\n",
    "    best_solution['cost'] = best_run_cost\n",
    "    global_best_solution.append(best_solution)\n",
    "    replication += 1\n",
    "    print('Iteration finished /',best_run_cost, best_sol , runtime)\n",
    "print('All finished')   "
   ]
  },
  {
   "cell_type": "code",
   "execution_count": 360,
   "metadata": {},
   "outputs": [
    {
     "name": "stdout",
     "output_type": "stream",
     "text": [
      "TR55:  Best solution : 592.6383578725273  gap:  -0.00027708684406690606 %\n"
     ]
    }
   ],
   "source": [
    "best_cost = min(global_best_solution, key = lambda item: item['cost'])['cost']\n",
    "best_solution = min(global_best_solution, key = lambda item: item['cost'])['solution']\n",
    "gap = (best_cost-592.64)*100/592.64\n",
    "print('TR55: ','Best solution :',str(best_cost),' gap: ',gap,'%')"
   ]
  },
  {
   "cell_type": "code",
   "execution_count": 361,
   "metadata": {},
   "outputs": [],
   "source": [
    "TR55_3_2 = global_best_solution.copy()"
   ]
  },
  {
   "cell_type": "code",
   "execution_count": 362,
   "metadata": {},
   "outputs": [],
   "source": [
    "pd.DataFrame(TR55_3_2).to_csv('TR55_3_2.csv')"
   ]
  },
  {
   "cell_type": "code",
   "execution_count": 363,
   "metadata": {},
   "outputs": [
    {
     "data": {
      "text/plain": [
       "597.9683113606947"
      ]
     },
     "execution_count": 363,
     "metadata": {},
     "output_type": "execute_result"
    }
   ],
   "source": [
    "pd.DataFrame(global_best_solution)['cost'].mean()"
   ]
  },
  {
   "cell_type": "code",
   "execution_count": 354,
   "metadata": {},
   "outputs": [
    {
     "name": "stdout",
     "output_type": "stream",
     "text": [
      "Iteration finished / 432.1893108255854 [1, 15, 15, 4, 33, 15, 33, 26, 15, 15, 33, 26, 26, 4, 15, 26, 15, 4, 1, 4, 15, 15, 1, 33, 1, 26, 33, 4, 4, 26, 4, 4, 33, 1, 15, 15, 4, 15, 4, 26, 15, 15, 4, 4, 4, 15, 1, 15, 4, 15, 15, 26, 4, 1, 1] 132.10441398620605\n",
      "Iteration finished / 459.6430397090208 [1, 15, 15, 29, 27, 15, 27, 26, 15, 15, 27, 26, 26, 29, 15, 26, 15, 26, 1, 29, 15, 15, 1, 27, 1, 26, 27, 29, 29, 26, 29, 27, 27, 1, 15, 15, 29, 15, 29, 26, 15, 15, 29, 26, 29, 15, 1, 15, 26, 15, 15, 26, 26, 1, 1] 129.40579509735107\n",
      "Iteration finished / 442.87384510375233 [55, 55, 48, 4, 33, 48, 33, 26, 48, 48, 33, 26, 26, 4, 48, 26, 48, 4, 55, 4, 48, 48, 55, 33, 55, 26, 33, 4, 4, 26, 4, 4, 33, 55, 48, 48, 4, 48, 4, 26, 48, 55, 4, 4, 4, 48, 4, 48, 4, 48, 48, 26, 4, 55, 55] 129.1203098297119\n",
      "Iteration finished / 484.57170867884656 [1, 42, 42, 43, 27, 42, 27, 26, 42, 42, 27, 26, 26, 43, 42, 26, 42, 26, 42, 43, 43, 42, 1, 27, 1, 26, 27, 43, 43, 26, 1, 27, 27, 1, 42, 42, 43, 42, 43, 26, 42, 42, 43, 26, 43, 43, 1, 42, 26, 42, 42, 26, 26, 42, 1] 128.99882125854492\n",
      "Iteration finished / 432.1893108255854 [1, 15, 15, 4, 33, 15, 33, 26, 15, 15, 33, 26, 26, 4, 15, 26, 15, 4, 1, 4, 15, 15, 1, 33, 1, 26, 33, 4, 4, 26, 4, 4, 33, 1, 15, 15, 4, 15, 4, 26, 15, 15, 4, 4, 4, 15, 1, 15, 4, 15, 15, 26, 4, 1, 1] 128.524249792099\n",
      "Iteration finished / 483.36979882940454 [1, 15, 15, 29, 7, 15, 7, 30, 15, 15, 7, 30, 7, 29, 15, 30, 15, 30, 1, 29, 15, 15, 1, 7, 1, 30, 7, 29, 29, 30, 29, 7, 7, 1, 15, 15, 29, 15, 29, 30, 15, 15, 29, 30, 29, 15, 1, 15, 30, 15, 15, 30, 30, 1, 1] 132.78322219848633\n",
      "Iteration finished / 454.3857050378862 [55, 42, 42, 4, 33, 42, 33, 26, 42, 42, 33, 26, 26, 4, 42, 26, 42, 4, 55, 4, 42, 42, 55, 33, 55, 26, 33, 4, 4, 26, 4, 4, 33, 55, 42, 42, 4, 42, 4, 26, 42, 42, 4, 4, 4, 42, 4, 42, 4, 42, 42, 26, 4, 55, 55] 131.23971796035767\n",
      "Iteration finished / 442.87384510375233 [55, 55, 48, 4, 33, 48, 33, 26, 48, 48, 33, 26, 26, 4, 48, 26, 48, 4, 55, 4, 48, 48, 55, 33, 55, 26, 33, 4, 4, 26, 4, 4, 33, 55, 48, 48, 4, 48, 4, 26, 48, 55, 4, 4, 4, 48, 4, 48, 4, 48, 48, 26, 4, 55, 55] 130.597989320755\n",
      "Iteration finished / 441.7539148527283 [55, 55, 9, 4, 27, 9, 27, 26, 9, 9, 27, 26, 26, 4, 9, 26, 9, 4, 55, 9, 9, 9, 55, 27, 55, 26, 27, 4, 4, 26, 4, 4, 27, 55, 9, 9, 4, 9, 4, 26, 9, 55, 4, 4, 4, 9, 4, 9, 4, 9, 9, 26, 4, 55, 55] 130.97638201713562\n",
      "Iteration finished / 467.7978812108545 [34, 34, 17, 4, 7, 17, 7, 7, 17, 17, 7, 7, 7, 4, 17, 26, 17, 4, 34, 17, 17, 17, 34, 7, 34, 26, 7, 34, 4, 26, 4, 7, 7, 34, 17, 17, 4, 17, 4, 26, 17, 34, 4, 4, 4, 17, 4, 17, 4, 17, 17, 26, 4, 34, 34] 130.63692998886108\n",
      "All finished\n"
     ]
    }
   ],
   "source": [
    "replication = 0\n",
    "n_replication = 10\n",
    "global_best_solution = []\n",
    "\n",
    "while replication < n_replication:\n",
    "    best_solution = {}\n",
    "    best_run_cost, best_sol , runtime= GA(0, 3, 500, 0.9, 55, 5, flow_TR_55_list, cost_TR_55_list, 0.2, 100)\n",
    "    best_solution['solution'] = best_sol\n",
    "    best_solution['cost'] = best_run_cost\n",
    "    global_best_solution.append(best_solution)\n",
    "    replication += 1\n",
    "    print('Iteration finished /',best_run_cost, best_sol , runtime)\n",
    "print('All finished')   "
   ]
  },
  {
   "cell_type": "code",
   "execution_count": 355,
   "metadata": {},
   "outputs": [
    {
     "name": "stdout",
     "output_type": "stream",
     "text": [
      "TR55:  Best solution : 432.1893108255854  gap:  -0.0001594609811928446 %\n"
     ]
    }
   ],
   "source": [
    "best_cost = min(global_best_solution, key = lambda item: item['cost'])['cost']\n",
    "best_solution = min(global_best_solution, key = lambda item: item['cost'])['solution']\n",
    "gap = (best_cost-432.19)*100/432.19\n",
    "print('TR55: ','Best solution :',str(best_cost),' gap: ',gap,'%')"
   ]
  },
  {
   "cell_type": "code",
   "execution_count": 356,
   "metadata": {},
   "outputs": [],
   "source": [
    "TR55_5_2 = global_best_solution.copy()"
   ]
  },
  {
   "cell_type": "code",
   "execution_count": 357,
   "metadata": {},
   "outputs": [],
   "source": [
    "pd.DataFrame(TR55_5_2).to_csv('TR55_5_2.csv')"
   ]
  },
  {
   "cell_type": "code",
   "execution_count": 358,
   "metadata": {},
   "outputs": [
    {
     "data": {
      "text/plain": [
       "454.1648360177416"
      ]
     },
     "execution_count": 358,
     "metadata": {},
     "output_type": "execute_result"
    }
   ],
   "source": [
    "pd.DataFrame(global_best_solution)['cost'].mean()"
   ]
  },
  {
   "cell_type": "code",
   "execution_count": 410,
   "metadata": {},
   "outputs": [
    {
     "name": "stdout",
     "output_type": "stream",
     "text": [
      "Iteration finished / 854.0299009136304 [1, 1, 4, 4, 4, 4, 30, 30, 1, 1, 4, 30, 30, 4, 1, 30, 1, 4, 1, 4, 4, 1, 1, 4, 1, 30, 30, 4, 4, 30, 4, 30, 30, 1, 1, 1, 4, 1, 4, 30, 4, 1, 4, 30, 4, 4, 4, 1, 4, 1, 4, 30, 4, 1, 1] 256.53908586502075\n",
      "Iteration finished / 853.8895306039057 [1, 1, 4, 4, 4, 4, 30, 30, 1, 1, 4, 30, 30, 4, 1, 30, 1, 4, 1, 4, 4, 1, 1, 4, 1, 30, 30, 4, 4, 30, 4, 30, 30, 1, 1, 1, 4, 1, 4, 30, 1, 1, 4, 30, 4, 4, 4, 1, 4, 4, 1, 30, 4, 1, 1] 255.46053194999695\n",
      "Iteration finished / 854.0299009136304 [1, 1, 4, 4, 4, 4, 30, 30, 1, 1, 4, 30, 30, 4, 1, 30, 1, 4, 1, 4, 4, 1, 1, 4, 1, 30, 30, 4, 4, 30, 4, 30, 30, 1, 1, 1, 4, 1, 4, 30, 4, 1, 4, 30, 4, 4, 4, 1, 4, 1, 4, 30, 4, 1, 1] 255.98245406150818\n",
      "Iteration finished / 853.968011240164 [1, 1, 4, 4, 4, 4, 30, 30, 1, 1, 4, 30, 30, 4, 1, 30, 1, 4, 1, 4, 4, 1, 1, 4, 1, 30, 30, 4, 4, 30, 4, 30, 30, 1, 1, 1, 4, 1, 4, 30, 1, 1, 4, 30, 4, 4, 4, 1, 4, 1, 4, 30, 4, 1, 1] 255.03991103172302\n",
      "Iteration finished / 854.5652214136825 [1, 1, 4, 4, 4, 4, 30, 30, 1, 1, 4, 30, 30, 4, 1, 30, 1, 4, 1, 4, 4, 1, 1, 4, 1, 30, 30, 4, 4, 30, 4, 30, 30, 1, 1, 1, 4, 1, 4, 30, 4, 1, 4, 30, 4, 4, 4, 1, 4, 1, 1, 30, 4, 1, 1] 256.0789477825165\n",
      "Iteration finished / 853.3503624802506 [1, 1, 4, 4, 4, 4, 30, 30, 1, 1, 4, 30, 30, 4, 1, 30, 1, 4, 1, 4, 4, 1, 1, 4, 1, 30, 30, 4, 4, 30, 4, 30, 30, 1, 1, 1, 4, 1, 4, 30, 1, 1, 4, 30, 4, 4, 4, 1, 4, 4, 4, 30, 4, 1, 1] 256.35533595085144\n",
      "Iteration finished / 854.8215835047065 [1, 1, 4, 4, 4, 4, 30, 30, 1, 1, 4, 30, 30, 4, 1, 30, 1, 4, 1, 4, 4, 1, 1, 4, 1, 30, 30, 4, 4, 30, 4, 30, 30, 1, 1, 1, 4, 1, 4, 30, 1, 1, 4, 30, 4, 4, 1, 1, 4, 4, 1, 30, 4, 1, 1] 255.77897882461548\n",
      "Iteration finished / 853.8895306039057 [1, 1, 4, 4, 4, 4, 30, 30, 1, 1, 4, 30, 30, 4, 1, 30, 1, 4, 1, 4, 4, 1, 1, 4, 1, 30, 30, 4, 4, 30, 4, 30, 30, 1, 1, 1, 4, 1, 4, 30, 1, 1, 4, 30, 4, 4, 4, 1, 4, 4, 1, 30, 4, 1, 1] 256.7498059272766\n",
      "Iteration finished / 858.5841692765938 [55, 55, 4, 4, 4, 4, 30, 30, 55, 55, 4, 30, 30, 4, 55, 30, 55, 4, 55, 4, 4, 55, 55, 4, 55, 30, 30, 4, 4, 30, 4, 30, 30, 55, 55, 55, 4, 55, 4, 30, 55, 55, 4, 30, 4, 4, 4, 55, 4, 55, 4, 30, 4, 55, 55] 256.3653199672699\n",
      "Iteration finished / 854.9578406115525 [1, 1, 4, 4, 4, 4, 30, 30, 1, 1, 4, 30, 30, 4, 1, 30, 1, 4, 1, 4, 4, 1, 1, 4, 1, 30, 30, 4, 4, 30, 4, 30, 30, 1, 1, 1, 4, 1, 4, 30, 1, 1, 4, 30, 4, 4, 4, 1, 30, 1, 1, 30, 4, 1, 1] 256.47137117385864\n",
      "All finished\n"
     ]
    }
   ],
   "source": [
    "replication = 0\n",
    "n_replication = 10\n",
    "global_best_solution = []\n",
    "\n",
    "while replication < n_replication:\n",
    "    best_solution = {}\n",
    "    best_run_cost, best_sol , runtime= GA(0, 3, 1000, 0.9, 55, 3, flow_TR_55_list, cost_TR_55_list, 0.8, 100)\n",
    "    best_solution['solution'] = best_sol\n",
    "    best_solution['cost'] = best_run_cost\n",
    "    global_best_solution.append(best_solution)\n",
    "    replication += 1\n",
    "    print('Iteration finished /',best_run_cost, best_sol , runtime)\n",
    "print('All finished')   "
   ]
  },
  {
   "cell_type": "code",
   "execution_count": 411,
   "metadata": {},
   "outputs": [
    {
     "name": "stdout",
     "output_type": "stream",
     "text": [
      "TR55:  Best solution : 853.3503624802506  gap:  4.2477324732060496e-05 %\n"
     ]
    }
   ],
   "source": [
    "best_cost = min(global_best_solution, key = lambda item: item['cost'])['cost']\n",
    "best_solution = min(global_best_solution, key = lambda item: item['cost'])['solution']\n",
    "gap = (best_cost-853.35)*100/853.35\n",
    "print('TR55: ','Best solution :',str(best_cost),' gap: ',gap,'%')"
   ]
  },
  {
   "cell_type": "code",
   "execution_count": 412,
   "metadata": {},
   "outputs": [],
   "source": [
    "TR55_3_8 = global_best_solution.copy()"
   ]
  },
  {
   "cell_type": "code",
   "execution_count": 413,
   "metadata": {},
   "outputs": [],
   "source": [
    "pd.DataFrame(TR55_3_8).to_csv('TR55_3_8.csv')"
   ]
  },
  {
   "cell_type": "code",
   "execution_count": 414,
   "metadata": {},
   "outputs": [
    {
     "data": {
      "text/plain": [
       "854.6086051562022"
      ]
     },
     "execution_count": 414,
     "metadata": {},
     "output_type": "execute_result"
    }
   ],
   "source": [
    "pd.DataFrame(global_best_solution)['cost'].mean()"
   ]
  },
  {
   "cell_type": "code",
   "execution_count": 42,
   "metadata": {},
   "outputs": [
    {
     "name": "stdout",
     "output_type": "stream",
     "text": [
      "Iteration finished / 782.6306156538808 [1, 1, 4, 4, 31, 4, 33, 30, 1, 1, 31, 30, 30, 4, 1, 30, 1, 4, 1, 4, 4, 1, 1, 31, 1, 30, 33, 4, 4, 30, 31, 4, 33, 1, 1, 1, 4, 1, 4, 30, 1, 1, 4, 4, 31, 4, 31, 1, 4, 4, 4, 30, 4, 1, 1] 468.60425090789795\n",
      "Iteration finished / 786.8882913010284 [1, 1, 1, 4, 31, 4, 33, 30, 1, 1, 31, 30, 33, 4, 1, 30, 1, 30, 1, 4, 4, 1, 1, 31, 1, 30, 33, 31, 4, 30, 31, 30, 33, 1, 1, 1, 4, 1, 4, 30, 1, 1, 4, 30, 31, 4, 31, 1, 4, 1, 1, 30, 4, 1, 1] 416.7634048461914\n",
      "Iteration finished / 786.5547521181965 [1, 1, 1, 4, 31, 4, 33, 30, 1, 1, 31, 30, 33, 4, 1, 30, 1, 30, 1, 4, 4, 1, 1, 31, 1, 30, 33, 4, 4, 30, 31, 30, 33, 1, 1, 1, 4, 1, 4, 30, 1, 1, 4, 30, 31, 31, 31, 1, 4, 1, 1, 30, 4, 1, 1] 409.2798237800598\n",
      "Iteration finished / 785.5997281241646 [1, 1, 1, 4, 31, 4, 33, 30, 1, 1, 31, 30, 33, 4, 1, 30, 1, 4, 1, 4, 4, 1, 1, 31, 1, 30, 33, 31, 4, 30, 31, 30, 33, 1, 1, 1, 4, 1, 4, 30, 1, 1, 4, 30, 31, 4, 31, 1, 4, 4, 1, 30, 4, 1, 1] 409.0331697463989\n",
      "Iteration finished / 785.3449760820348 [1, 1, 4, 4, 31, 4, 33, 30, 1, 1, 31, 30, 33, 4, 1, 30, 1, 30, 1, 4, 4, 1, 1, 31, 1, 30, 33, 4, 4, 30, 31, 30, 33, 1, 1, 1, 4, 1, 4, 30, 1, 1, 4, 30, 31, 4, 31, 1, 4, 1, 1, 30, 4, 1, 1] 459.1752038002014\n",
      "Iteration finished / 791.9472144174371 [1, 1, 1, 4, 5, 4, 27, 30, 1, 1, 5, 30, 27, 4, 1, 30, 1, 4, 1, 4, 4, 1, 1, 5, 1, 30, 27, 4, 4, 30, 4, 30, 27, 1, 1, 1, 4, 1, 4, 30, 1, 1, 4, 30, 4, 4, 1, 1, 4, 4, 1, 30, 4, 1, 1] 461.12323093414307\n",
      "Iteration finished / 788.6685283504694 [1, 1, 1, 4, 5, 4, 33, 30, 1, 1, 5, 30, 33, 4, 1, 30, 1, 4, 1, 4, 4, 1, 1, 5, 1, 30, 33, 4, 4, 30, 4, 30, 33, 1, 1, 1, 4, 1, 4, 30, 1, 1, 4, 30, 4, 4, 4, 1, 4, 4, 1, 30, 4, 1, 1] 430.6873731613159\n",
      "Iteration finished / 792.3301272044473 [1, 1, 1, 4, 5, 4, 27, 30, 1, 1, 5, 30, 27, 4, 1, 30, 1, 4, 1, 4, 4, 1, 1, 5, 1, 30, 27, 4, 4, 30, 4, 30, 27, 1, 1, 1, 4, 1, 4, 30, 1, 1, 4, 30, 4, 4, 4, 1, 30, 1, 1, 30, 4, 1, 1] 411.35886311531067\n",
      "Iteration finished / 784.9292502652636 [1, 1, 4, 4, 31, 4, 33, 30, 1, 1, 31, 30, 30, 4, 1, 30, 1, 30, 1, 4, 4, 1, 1, 31, 1, 30, 33, 4, 4, 30, 31, 30, 33, 1, 1, 1, 4, 1, 4, 30, 1, 1, 4, 30, 31, 31, 31, 1, 4, 1, 1, 30, 4, 1, 1] 462.3316659927368\n",
      "Iteration finished / 787.3785642165521 [1, 1, 1, 4, 31, 4, 30, 30, 31, 1, 31, 30, 30, 4, 1, 30, 1, 4, 1, 4, 4, 1, 1, 31, 1, 30, 27, 4, 4, 30, 31, 4, 27, 1, 1, 1, 4, 1, 4, 30, 1, 1, 4, 30, 31, 4, 31, 1, 4, 1, 4, 30, 4, 1, 1] 508.98689818382263\n",
      "All finished\n"
     ]
    }
   ],
   "source": [
    "replication = 0\n",
    "n_replication = 10\n",
    "global_best_solution = []\n",
    "\n",
    "while replication < n_replication:\n",
    "    best_solution = {}\n",
    "    best_run_cost, best_sol , runtime= GA(0, 10, 1000, 0.9, 55, 5, flow_TR_55_list, cost_TR_55_list, 0.8, 100)\n",
    "    best_solution['solution'] = best_sol\n",
    "    best_solution['cost'] = best_run_cost\n",
    "    global_best_solution.append(best_solution)\n",
    "    replication += 1\n",
    "    print('Iteration finished /',best_run_cost, best_sol , runtime)\n",
    "print('All finished')   "
   ]
  },
  {
   "cell_type": "code",
   "execution_count": 423,
   "metadata": {},
   "outputs": [
    {
     "name": "stdout",
     "output_type": "stream",
     "text": [
      "TR55:  Best solution : 783.9638484058839  gap:  0.6643444838639394 %\n"
     ]
    }
   ],
   "source": [
    "best_cost = min(global_best_solution, key = lambda item: item['cost'])['cost']\n",
    "best_solution = min(global_best_solution, key = lambda item: item['cost'])['solution']\n",
    "gap = (best_cost-778.79)*100/778.79\n",
    "print('TR55: ','Best solution :',str(best_cost),' gap: ',gap,'%')"
   ]
  },
  {
   "cell_type": "code",
   "execution_count": 424,
   "metadata": {},
   "outputs": [],
   "source": [
    "TR55_5_8 = global_best_solution.copy()"
   ]
  },
  {
   "cell_type": "code",
   "execution_count": 425,
   "metadata": {},
   "outputs": [],
   "source": [
    "pd.DataFrame(TR55_5_8).to_csv('TR55_5_8.csv')"
   ]
  },
  {
   "cell_type": "code",
   "execution_count": 426,
   "metadata": {},
   "outputs": [],
   "source": [
    "pd.DataFrame(TR55_5_8).to_csv('TR55_5_8_t.csv')"
   ]
  },
  {
   "cell_type": "code",
   "execution_count": 427,
   "metadata": {},
   "outputs": [
    {
     "data": {
      "text/plain": [
       "788.6184123438808"
      ]
     },
     "execution_count": 427,
     "metadata": {},
     "output_type": "execute_result"
    }
   ],
   "source": [
    "pd.DataFrame(global_best_solution)['cost'].mean()"
   ]
  },
  {
   "cell_type": "code",
   "execution_count": 394,
   "metadata": {},
   "outputs": [
    {
     "name": "stdout",
     "output_type": "stream",
     "text": [
      "Iteration finished / 513.4423413061137 [1, 1, 20, 25, 6, 6, 20, 25, 20, 20, 34, 25, 25, 6, 20, 34, 34, 6, 6, 20, 25, 34, 25, 25, 25, 6, 1, 25, 25, 25, 1, 20, 1, 34, 20, 25, 6, 6, 34, 6, 34, 6, 20, 1, 20, 1, 25, 20, 25, 6, 1, 25, 25, 34, 6, 25, 6, 1, 34, 6, 25, 25, 1, 20, 25, 6, 6, 6, 25, 1, 6, 25, 25, 6, 25, 25, 34, 6, 1, 1, 34] 274.953617811203\n",
      "Iteration finished / 526.6208456249386 [80, 80, 20, 72, 71, 71, 20, 72, 20, 20, 34, 72, 72, 34, 20, 34, 34, 71, 71, 20, 72, 34, 72, 72, 72, 71, 80, 71, 72, 72, 80, 20, 80, 34, 20, 72, 71, 71, 34, 71, 34, 71, 20, 80, 20, 80, 72, 20, 72, 71, 71, 71, 72, 34, 71, 72, 71, 71, 34, 71, 72, 72, 80, 20, 72, 71, 34, 71, 72, 80, 71, 72, 72, 71, 72, 72, 34, 71, 80, 80, 34] 275.2513937950134\n",
      "Iteration finished / 536.1108619810008 [80, 80, 3, 12, 58, 3, 3, 12, 3, 41, 41, 12, 12, 41, 3, 41, 41, 41, 58, 3, 12, 41, 12, 58, 12, 3, 80, 58, 58, 12, 80, 3, 80, 41, 3, 12, 41, 58, 41, 58, 41, 3, 3, 12, 3, 80, 12, 3, 12, 58, 80, 58, 58, 41, 58, 12, 58, 58, 41, 58, 58, 12, 80, 3, 12, 58, 41, 80, 12, 3, 3, 12, 12, 41, 12, 12, 41, 41, 80, 80, 41] 275.03347396850586\n",
      "Iteration finished / 530.1540049313109 [2, 2, 64, 28, 71, 71, 64, 28, 64, 64, 34, 2, 2, 34, 64, 34, 34, 71, 71, 64, 2, 34, 2, 28, 28, 64, 2, 28, 28, 2, 2, 64, 2, 34, 64, 28, 71, 71, 34, 71, 34, 71, 64, 2, 64, 2, 2, 64, 2, 71, 71, 28, 28, 34, 28, 2, 28, 28, 34, 28, 28, 2, 2, 64, 2, 71, 34, 71, 28, 71, 71, 2, 2, 71, 28, 28, 34, 71, 2, 2, 34] 275.1896779537201\n",
      "Iteration finished / 558.669758523634 [50, 2, 9, 2, 55, 50, 9, 55, 9, 9, 34, 2, 2, 34, 9, 34, 34, 50, 55, 9, 2, 34, 2, 55, 2, 34, 2, 55, 55, 2, 2, 9, 50, 34, 9, 2, 55, 50, 34, 50, 34, 50, 34, 2, 9, 2, 2, 9, 2, 50, 50, 55, 55, 34, 55, 2, 55, 50, 34, 55, 55, 2, 2, 9, 2, 50, 34, 50, 55, 50, 50, 2, 2, 34, 55, 2, 34, 34, 2, 2, 34] 275.4985327720642\n",
      "Iteration finished / 518.5497103400528 [27, 27, 45, 28, 71, 71, 45, 28, 45, 45, 34, 27, 27, 34, 45, 34, 34, 71, 71, 45, 27, 34, 27, 28, 28, 71, 27, 28, 28, 27, 27, 45, 27, 34, 45, 28, 71, 71, 34, 71, 34, 71, 45, 27, 45, 27, 27, 45, 27, 71, 71, 28, 28, 34, 28, 27, 28, 28, 34, 28, 28, 28, 27, 45, 27, 71, 34, 71, 28, 71, 71, 27, 27, 71, 28, 28, 34, 71, 27, 27, 34] 275.7938268184662\n",
      "Iteration finished / 513.6884115202023 [80, 80, 6, 25, 6, 6, 45, 25, 45, 45, 41, 25, 25, 41, 45, 41, 45, 6, 6, 45, 25, 41, 25, 25, 25, 41, 80, 25, 25, 25, 80, 45, 80, 41, 45, 25, 6, 6, 41, 6, 41, 6, 41, 80, 45, 80, 25, 45, 25, 6, 80, 25, 25, 41, 6, 25, 6, 25, 41, 6, 25, 25, 80, 45, 25, 6, 41, 6, 25, 6, 6, 25, 25, 6, 25, 25, 41, 6, 80, 80, 41] 274.9174151420593\n",
      "Iteration finished / 521.096443187204 [1, 1, 64, 12, 6, 6, 64, 12, 64, 64, 41, 12, 12, 41, 64, 41, 41, 6, 6, 64, 12, 41, 12, 12, 12, 64, 1, 12, 12, 12, 1, 64, 1, 41, 64, 12, 6, 6, 41, 6, 41, 6, 64, 12, 64, 1, 12, 64, 12, 6, 1, 6, 12, 41, 6, 12, 6, 1, 41, 6, 12, 12, 12, 64, 12, 6, 41, 6, 12, 1, 6, 12, 12, 6, 12, 12, 41, 6, 1, 1, 41] 273.34250497817993\n",
      "Iteration finished / 511.7554994491319 [1, 21, 64, 21, 6, 6, 64, 21, 64, 64, 34, 21, 21, 6, 64, 34, 34, 6, 6, 64, 21, 34, 21, 21, 21, 64, 1, 6, 21, 21, 1, 64, 1, 34, 64, 21, 6, 6, 34, 6, 34, 6, 64, 21, 64, 1, 21, 64, 21, 6, 1, 6, 21, 34, 6, 21, 6, 1, 34, 6, 21, 21, 21, 64, 21, 6, 6, 6, 21, 1, 6, 21, 21, 6, 21, 21, 34, 6, 1, 1, 34] 273.56836915016174\n",
      "Iteration finished / 521.4555978524614 [80, 80, 20, 12, 40, 40, 20, 12, 20, 20, 34, 12, 12, 34, 20, 34, 34, 40, 40, 20, 12, 34, 12, 12, 12, 34, 80, 12, 12, 12, 80, 20, 80, 34, 20, 12, 40, 40, 34, 40, 34, 40, 20, 12, 20, 80, 12, 20, 12, 40, 40, 40, 12, 34, 40, 12, 40, 40, 34, 40, 12, 12, 80, 20, 12, 40, 34, 40, 12, 40, 40, 12, 12, 34, 12, 12, 34, 34, 80, 80, 34] 275.1185920238495\n",
      "All finished\n"
     ]
    }
   ],
   "source": [
    "replication = 0\n",
    "n_replication = 10\n",
    "global_best_solution = []\n",
    "\n",
    "while replication < n_replication:\n",
    "    best_solution = {}\n",
    "    best_run_cost, best_sol , runtime= GA(0, 3, 500, 0.9, 81, 5, flow_TR_81_list, cost_TR_81_list, 0.2, 100)\n",
    "    best_solution['solution'] = best_sol\n",
    "    best_solution['cost'] = best_run_cost\n",
    "    global_best_solution.append(best_solution)\n",
    "    replication += 1\n",
    "    print('Iteration finished /',best_run_cost, best_sol , runtime)\n",
    "print('All finished')   "
   ]
  },
  {
   "cell_type": "code",
   "execution_count": 395,
   "metadata": {},
   "outputs": [
    {
     "name": "stdout",
     "output_type": "stream",
     "text": [
      "TR81:  Best solution : 511.7554994491319  gap:  1.973796841512776 %\n"
     ]
    }
   ],
   "source": [
    "best_cost = min(global_best_solution, key = lambda item: item['cost'])['cost']\n",
    "best_solution = min(global_best_solution, key = lambda item: item['cost'])['solution']\n",
    "gap = (best_cost-501.85)*100/501.85\n",
    "print('TR81: ','Best solution :',str(best_cost),' gap: ',gap,'%')"
   ]
  },
  {
   "cell_type": "code",
   "execution_count": 396,
   "metadata": {},
   "outputs": [],
   "source": [
    "TR81_5_2 = global_best_solution.copy()"
   ]
  },
  {
   "cell_type": "code",
   "execution_count": 336,
   "metadata": {},
   "outputs": [],
   "source": [
    "pd.DataFrame(TR81_5_2).to_csv('TR81_5_2.csv')"
   ]
  },
  {
   "cell_type": "code",
   "execution_count": 397,
   "metadata": {},
   "outputs": [],
   "source": [
    "pd.DataFrame(TR81_5_2).to_csv('TR81_5_2_t.csv')"
   ]
  },
  {
   "cell_type": "code",
   "execution_count": 398,
   "metadata": {},
   "outputs": [
    {
     "data": {
      "text/plain": [
       "525.154347471605"
      ]
     },
     "execution_count": 398,
     "metadata": {},
     "output_type": "execute_result"
    }
   ],
   "source": [
    "pd.DataFrame(global_best_solution)['cost'].mean()"
   ]
  },
  {
   "cell_type": "code",
   "execution_count": 379,
   "metadata": {},
   "outputs": [
    {
     "name": "stdout",
     "output_type": "stream",
     "text": [
      "Iteration finished / 830.5182777609477 [1, 1, 3, 58, 58, 6, 3, 58, 3, 41, 41, 58, 58, 41, 3, 41, 41, 6, 6, 3, 58, 41, 58, 58, 58, 3, 1, 58, 58, 1, 1, 3, 1, 41, 3, 58, 6, 58, 41, 6, 41, 3, 3, 58, 3, 1, 1, 3, 58, 6, 1, 58, 58, 41, 58, 58, 6, 58, 41, 58, 58, 58, 1, 3, 58, 6, 41, 6, 58, 1, 6, 58, 1, 6, 58, 58, 41, 6, 1, 1, 41] 310.4712989330292\n",
      "Iteration finished / 839.596059408471 [46, 46, 3, 5, 5, 71, 3, 5, 3, 41, 41, 46, 46, 41, 3, 41, 41, 71, 5, 3, 46, 41, 46, 5, 5, 3, 46, 5, 5, 46, 46, 3, 46, 41, 3, 5, 71, 71, 41, 71, 41, 3, 3, 46, 3, 46, 46, 3, 46, 71, 71, 5, 5, 41, 5, 46, 5, 5, 41, 5, 5, 46, 46, 3, 46, 71, 41, 71, 5, 3, 71, 46, 46, 41, 5, 5, 41, 41, 46, 46, 41] 284.3464140892029\n",
      "Iteration finished / 830.5182777609477 [1, 1, 3, 58, 58, 6, 3, 58, 3, 41, 41, 58, 58, 41, 3, 41, 41, 6, 6, 3, 58, 41, 58, 58, 58, 3, 1, 58, 58, 1, 1, 3, 1, 41, 3, 58, 6, 58, 41, 6, 41, 3, 3, 58, 3, 1, 1, 3, 58, 6, 1, 58, 58, 41, 58, 58, 6, 58, 41, 58, 58, 58, 1, 3, 58, 6, 41, 6, 58, 1, 6, 58, 1, 6, 58, 58, 41, 6, 1, 1, 41] 278.78648591041565\n",
      "Iteration finished / 837.8344240434774 [1, 1, 3, 60, 60, 71, 3, 60, 3, 41, 41, 60, 1, 41, 3, 41, 41, 71, 71, 3, 1, 41, 60, 60, 60, 3, 1, 60, 60, 1, 1, 3, 1, 41, 3, 60, 71, 71, 41, 71, 41, 3, 3, 60, 3, 1, 1, 3, 60, 71, 1, 60, 60, 41, 60, 1, 60, 60, 41, 60, 60, 60, 1, 3, 1, 71, 41, 71, 60, 1, 71, 1, 1, 41, 60, 60, 41, 41, 1, 1, 41] 277.956787109375\n",
      "Iteration finished / 840.2979806750569 [46, 46, 3, 5, 5, 71, 3, 5, 3, 54, 54, 46, 46, 54, 3, 54, 54, 71, 5, 3, 46, 54, 46, 5, 5, 3, 46, 5, 5, 46, 46, 3, 46, 54, 3, 5, 71, 71, 54, 71, 54, 3, 3, 46, 3, 46, 46, 3, 46, 71, 71, 5, 5, 54, 5, 46, 5, 5, 54, 5, 5, 46, 46, 3, 46, 71, 54, 71, 5, 3, 71, 46, 46, 54, 5, 5, 54, 54, 46, 46, 54] 278.9428961277008\n",
      "Iteration finished / 832.0966398206755 [1, 1, 64, 58, 58, 6, 64, 58, 64, 64, 54, 58, 58, 54, 64, 54, 54, 6, 6, 64, 58, 54, 58, 58, 58, 54, 1, 58, 58, 1, 1, 64, 1, 54, 64, 58, 6, 58, 54, 6, 54, 6, 64, 58, 64, 1, 1, 64, 58, 6, 1, 58, 58, 54, 58, 58, 6, 58, 54, 58, 58, 58, 1, 64, 58, 6, 54, 6, 58, 1, 6, 58, 1, 54, 58, 58, 54, 6, 1, 1, 54] 277.50385093688965\n",
      "Iteration finished / 830.5182777609477 [1, 1, 3, 58, 58, 6, 3, 58, 3, 41, 41, 58, 58, 41, 3, 41, 41, 6, 6, 3, 58, 41, 58, 58, 58, 3, 1, 58, 58, 1, 1, 3, 1, 41, 3, 58, 6, 58, 41, 6, 41, 3, 3, 58, 3, 1, 1, 3, 58, 6, 1, 58, 58, 41, 58, 58, 6, 58, 41, 58, 58, 58, 1, 3, 58, 6, 41, 6, 58, 1, 6, 58, 1, 6, 58, 58, 41, 6, 1, 1, 41] 275.1694881916046\n",
      "Iteration finished / 848.9176690036533 [1, 1, 64, 38, 6, 6, 64, 38, 64, 64, 41, 38, 1, 41, 64, 41, 41, 6, 6, 64, 1, 41, 38, 38, 38, 64, 1, 38, 38, 1, 1, 64, 1, 41, 64, 38, 6, 38, 41, 38, 41, 6, 64, 38, 64, 1, 1, 64, 38, 38, 38, 38, 38, 41, 6, 1, 6, 38, 41, 38, 38, 38, 1, 64, 1, 38, 41, 38, 38, 1, 6, 1, 1, 6, 38, 38, 41, 6, 1, 1, 41] 274.75727224349976\n",
      "Iteration finished / 865.9263191099908 [1, 1, 15, 58, 58, 71, 15, 58, 15, 54, 54, 58, 58, 54, 15, 54, 54, 71, 71, 15, 58, 54, 58, 58, 58, 54, 1, 58, 58, 1, 1, 15, 1, 54, 15, 58, 71, 58, 54, 71, 54, 71, 54, 58, 15, 1, 1, 15, 58, 71, 1, 58, 58, 54, 58, 58, 71, 58, 54, 58, 58, 58, 1, 15, 58, 71, 54, 71, 58, 1, 71, 58, 1, 54, 58, 58, 54, 54, 1, 1, 54] 275.82016491889954\n",
      "Iteration finished / 847.2117784312313 [80, 80, 43, 58, 58, 6, 43, 58, 43, 43, 43, 58, 80, 41, 43, 41, 41, 6, 6, 43, 80, 41, 58, 58, 58, 43, 80, 58, 58, 80, 80, 43, 80, 41, 43, 58, 6, 58, 41, 6, 41, 6, 43, 58, 43, 80, 80, 43, 58, 6, 80, 58, 58, 41, 58, 80, 6, 58, 41, 58, 58, 58, 80, 43, 58, 6, 41, 6, 58, 6, 6, 80, 80, 6, 58, 58, 41, 6, 80, 80, 41] 276.25807523727417\n",
      "All finished\n"
     ]
    }
   ],
   "source": [
    "replication = 0\n",
    "n_replication = 10\n",
    "global_best_solution = []\n",
    "\n",
    "while replication < n_replication:\n",
    "    best_solution = {}\n",
    "    best_run_cost, best_sol , runtime= GA(0, 3, 500, 0.9, 81, 5, flow_TR_81_list, cost_TR_81_list, 0.8, 100)\n",
    "    best_solution['solution'] = best_sol\n",
    "    best_solution['cost'] = best_run_cost\n",
    "    global_best_solution.append(best_solution)\n",
    "    replication += 1\n",
    "    print('Iteration finished /',best_run_cost, best_sol , runtime)\n",
    "print('All finished')   "
   ]
  },
  {
   "cell_type": "code",
   "execution_count": 380,
   "metadata": {},
   "outputs": [
    {
     "name": "stdout",
     "output_type": "stream",
     "text": [
      "TR81:  Best solution : 830.5182777609477  gap:  0.7238224196164921 %\n"
     ]
    }
   ],
   "source": [
    "best_cost = min(global_best_solution, key = lambda item: item['cost'])['cost']\n",
    "best_solution = min(global_best_solution, key = lambda item: item['cost'])['solution']\n",
    "gap = (best_cost-824.55)*100/824.55\n",
    "print('TR81: ','Best solution :',str(best_cost),' gap: ',gap,'%')"
   ]
  },
  {
   "cell_type": "code",
   "execution_count": 381,
   "metadata": {},
   "outputs": [],
   "source": [
    "TR81_5_8 = global_best_solution.copy()"
   ]
  },
  {
   "cell_type": "code",
   "execution_count": 352,
   "metadata": {},
   "outputs": [],
   "source": [
    "pd.DataFrame(TR81_5_8).to_csv('TR81_5_8.csv')"
   ]
  },
  {
   "cell_type": "code",
   "execution_count": 382,
   "metadata": {},
   "outputs": [],
   "source": [
    "pd.DataFrame(TR81_5_8).to_csv('TR81_5_8_t.csv')"
   ]
  },
  {
   "cell_type": "code",
   "execution_count": 383,
   "metadata": {},
   "outputs": [
    {
     "data": {
      "text/plain": [
       "840.34357037754"
      ]
     },
     "execution_count": 383,
     "metadata": {},
     "output_type": "execute_result"
    }
   ],
   "source": [
    "pd.DataFrame(global_best_solution)['cost'].mean()"
   ]
  },
  {
   "cell_type": "code",
   "execution_count": 399,
   "metadata": {},
   "outputs": [
    {
     "name": "stdout",
     "output_type": "stream",
     "text": [
      "Iteration finished / 445.75232610339197 [80, 80, 6, 29, 66, 6, 35, 29, 35, 35, 34, 47, 47, 6, 35, 34, 34, 6, 66, 35, 47, 34, 47, 29, 29, 6, 80, 29, 29, 47, 80, 35, 80, 34, 35, 29, 6, 66, 34, 66, 34, 6, 6, 80, 35, 80, 47, 35, 47, 66, 66, 29, 29, 34, 66, 47, 66, 66, 34, 66, 29, 29, 47, 35, 47, 66, 6, 66, 29, 6, 6, 47, 47, 6, 29, 29, 34, 6, 80, 80, 34] 277.4181571006775\n",
      "Iteration finished / 449.419682018469 [46, 46, 20, 13, 6, 6, 20, 28, 20, 41, 41, 13, 13, 41, 20, 41, 34, 6, 6, 20, 13, 34, 46, 28, 13, 41, 46, 28, 28, 13, 46, 20, 46, 34, 20, 13, 6, 46, 34, 6, 41, 6, 41, 46, 20, 46, 13, 20, 13, 6, 6, 28, 28, 41, 28, 13, 28, 28, 34, 28, 28, 13, 46, 20, 13, 6, 41, 6, 28, 6, 6, 13, 13, 6, 13, 13, 41, 6, 46, 46, 41] 277.35833501815796\n",
      "Iteration finished / 423.950838603711 [1, 21, 43, 21, 52, 6, 43, 52, 45, 45, 43, 21, 21, 6, 43, 43, 34, 6, 6, 45, 21, 34, 21, 52, 21, 43, 1, 52, 52, 21, 1, 43, 1, 34, 45, 21, 6, 6, 34, 6, 34, 6, 43, 21, 45, 1, 21, 45, 21, 6, 1, 52, 52, 34, 52, 21, 52, 52, 34, 52, 52, 21, 21, 43, 21, 6, 6, 6, 52, 1, 6, 21, 21, 6, 52, 21, 34, 6, 1, 1, 34] 275.63303804397583\n",
      "Iteration finished / 446.5258377117083 [80, 80, 26, 23, 71, 71, 26, 28, 35, 35, 26, 23, 23, 34, 26, 26, 34, 71, 71, 35, 23, 34, 23, 23, 23, 26, 80, 28, 28, 23, 80, 26, 80, 34, 35, 23, 71, 71, 34, 71, 34, 71, 26, 23, 35, 80, 23, 35, 23, 71, 71, 28, 28, 34, 28, 23, 28, 28, 34, 28, 28, 23, 80, 35, 23, 71, 34, 71, 28, 80, 71, 23, 23, 71, 28, 23, 34, 71, 80, 80, 34] 277.4134359359741\n",
      "Iteration finished / 444.08172255151146 [46, 46, 3, 49, 5, 6, 3, 49, 45, 45, 3, 49, 49, 6, 3, 34, 34, 6, 5, 45, 49, 34, 49, 5, 49, 3, 46, 5, 5, 49, 46, 3, 46, 34, 45, 49, 6, 46, 34, 6, 34, 3, 3, 46, 45, 46, 49, 45, 49, 6, 6, 5, 5, 34, 5, 49, 5, 5, 34, 5, 5, 49, 46, 3, 49, 5, 6, 6, 49, 3, 6, 49, 49, 6, 49, 49, 34, 6, 46, 46, 34] 276.9679970741272\n",
      "Iteration finished / 446.63984573705835 [1, 21, 35, 21, 55, 71, 35, 21, 35, 35, 41, 21, 21, 41, 35, 41, 34, 71, 71, 35, 21, 34, 21, 21, 21, 41, 1, 55, 55, 21, 1, 35, 1, 34, 35, 21, 71, 71, 34, 71, 41, 71, 41, 21, 35, 1, 21, 35, 21, 71, 1, 55, 55, 41, 55, 21, 55, 55, 34, 55, 55, 21, 21, 35, 21, 71, 41, 71, 21, 1, 71, 21, 21, 41, 21, 21, 41, 41, 1, 1, 41] 275.4914779663086\n",
      "Iteration finished / 435.5033906049762 [80, 80, 3, 12, 52, 6, 3, 52, 35, 35, 41, 12, 12, 41, 3, 41, 35, 6, 6, 35, 12, 41, 12, 12, 12, 3, 80, 52, 52, 12, 80, 3, 80, 41, 35, 12, 6, 6, 41, 6, 41, 3, 3, 12, 35, 80, 12, 35, 12, 6, 80, 52, 52, 41, 52, 12, 52, 52, 41, 52, 52, 12, 80, 3, 12, 6, 41, 6, 52, 3, 6, 12, 12, 6, 12, 12, 41, 6, 80, 80, 41] 277.14981484413147\n",
      "Iteration finished / 437.1894671725742 [33, 27, 6, 12, 52, 6, 45, 52, 45, 45, 34, 12, 12, 6, 45, 34, 34, 6, 6, 45, 12, 34, 12, 12, 12, 6, 27, 52, 52, 12, 27, 45, 33, 34, 45, 12, 6, 6, 34, 6, 34, 6, 6, 12, 45, 27, 12, 45, 12, 6, 33, 52, 52, 34, 52, 12, 52, 52, 34, 52, 52, 12, 27, 45, 12, 6, 6, 6, 52, 33, 6, 12, 12, 6, 12, 12, 34, 6, 27, 27, 34] 279.5471439361572\n",
      "Iteration finished / 449.06222995490566 [1, 21, 26, 21, 5, 26, 42, 21, 35, 35, 26, 21, 21, 34, 26, 26, 34, 5, 5, 35, 21, 34, 21, 5, 21, 26, 1, 5, 5, 21, 1, 42, 1, 34, 35, 21, 5, 42, 34, 42, 34, 42, 26, 21, 35, 1, 21, 35, 21, 42, 1, 5, 5, 34, 5, 21, 5, 5, 34, 5, 5, 21, 21, 35, 21, 5, 34, 42, 21, 42, 5, 21, 21, 34, 21, 21, 34, 5, 1, 1, 34] 275.9011058807373\n",
      "Iteration finished / 446.3039595983181 [80, 21, 64, 21, 71, 71, 64, 52, 45, 45, 41, 21, 21, 41, 64, 41, 45, 71, 71, 64, 21, 41, 21, 52, 21, 64, 80, 52, 52, 21, 80, 64, 80, 41, 45, 21, 71, 71, 41, 71, 41, 71, 64, 21, 45, 80, 21, 45, 21, 71, 71, 52, 52, 41, 52, 21, 52, 52, 41, 52, 52, 21, 21, 64, 21, 71, 41, 71, 52, 80, 71, 21, 21, 41, 52, 21, 41, 41, 80, 80, 41] 277.2387127876282\n",
      "All finished\n"
     ]
    }
   ],
   "source": [
    "replication = 0\n",
    "n_replication = 10\n",
    "global_best_solution = []\n",
    "\n",
    "while replication < n_replication:\n",
    "    best_solution = {}\n",
    "    best_run_cost, best_sol , runtime= GA(0, 3, 500, 0.9, 81, 7, flow_TR_81_list, cost_TR_81_list, 0.2, 100)\n",
    "    best_solution['solution'] = best_sol\n",
    "    best_solution['cost'] = best_run_cost\n",
    "    global_best_solution.append(best_solution)\n",
    "    replication += 1\n",
    "    print('Iteration finished /',best_run_cost, best_sol , runtime)\n",
    "print('All finished')   "
   ]
  },
  {
   "cell_type": "code",
   "execution_count": 400,
   "metadata": {},
   "outputs": [
    {
     "name": "stdout",
     "output_type": "stream",
     "text": [
      "TR81:  Best solution : 423.950838603711  gap:  0.703303784819357 %\n"
     ]
    }
   ],
   "source": [
    "best_cost = min(global_best_solution, key = lambda item: item['cost'])['cost']\n",
    "best_solution = min(global_best_solution, key = lambda item: item['cost'])['solution']\n",
    "gap = (best_cost-420.99)*100/420.99\n",
    "print('TR81: ','Best solution :',str(best_cost),' gap: ',gap,'%')"
   ]
  },
  {
   "cell_type": "code",
   "execution_count": 401,
   "metadata": {},
   "outputs": [],
   "source": [
    "TR81_7_2 = global_best_solution.copy()"
   ]
  },
  {
   "cell_type": "code",
   "execution_count": 395,
   "metadata": {},
   "outputs": [],
   "source": [
    "pd.DataFrame(TR81_7_2).to_csv('TR81_7_2.csv')"
   ]
  },
  {
   "cell_type": "code",
   "execution_count": 402,
   "metadata": {},
   "outputs": [],
   "source": [
    "pd.DataFrame(TR81_7_2).to_csv('TR81_7_2_t.csv')"
   ]
  },
  {
   "cell_type": "code",
   "execution_count": 403,
   "metadata": {},
   "outputs": [
    {
     "data": {
      "text/plain": [
       "442.4429300056624"
      ]
     },
     "execution_count": 403,
     "metadata": {},
     "output_type": "execute_result"
    }
   ],
   "source": [
    "pd.DataFrame(global_best_solution)['cost'].mean()"
   ]
  },
  {
   "cell_type": "code",
   "execution_count": 404,
   "metadata": {},
   "outputs": [
    {
     "name": "stdout",
     "output_type": "stream",
     "text": [
      "Iteration finished / 820.6019760268621 [80, 80, 64, 12, 6, 6, 64, 24, 64, 64, 54, 12, 12, 54, 64, 54, 54, 6, 6, 64, 12, 54, 12, 24, 12, 54, 80, 24, 24, 12, 80, 64, 80, 54, 64, 12, 6, 38, 54, 38, 54, 6, 64, 12, 64, 80, 12, 64, 12, 38, 38, 24, 24, 54, 6, 12, 6, 38, 54, 38, 24, 24, 80, 64, 12, 38, 54, 38, 24, 38, 6, 12, 12, 54, 12, 12, 54, 6, 80, 80, 54] 277.86526584625244\n",
      "Iteration finished / 813.2859574244252 [33, 46, 3, 60, 60, 71, 3, 60, 3, 54, 54, 46, 46, 54, 3, 54, 54, 71, 71, 3, 46, 54, 46, 60, 60, 3, 46, 60, 60, 46, 80, 3, 33, 54, 3, 60, 71, 71, 54, 71, 54, 3, 3, 46, 3, 46, 46, 3, 46, 71, 33, 60, 60, 54, 60, 46, 60, 60, 54, 60, 60, 60, 46, 3, 46, 71, 54, 71, 60, 33, 71, 46, 46, 54, 60, 60, 54, 54, 46, 80, 54] 278.67369079589844\n",
      "Iteration finished / 796.3157376730636 [1, 44, 64, 44, 60, 6, 64, 60, 64, 64, 41, 44, 44, 41, 64, 41, 41, 6, 60, 64, 44, 41, 44, 60, 44, 64, 1, 60, 60, 44, 1, 64, 1, 41, 64, 44, 6, 40, 41, 40, 41, 6, 64, 44, 64, 1, 44, 64, 44, 40, 40, 60, 60, 41, 60, 44, 60, 60, 41, 60, 60, 44, 44, 64, 44, 40, 41, 40, 60, 1, 6, 44, 44, 6, 44, 44, 41, 6, 1, 1, 41] 276.0130877494812\n",
      "Iteration finished / 796.9471921079677 [1, 46, 3, 44, 60, 6, 3, 60, 3, 41, 41, 44, 44, 41, 3, 41, 41, 6, 60, 3, 44, 41, 44, 60, 44, 3, 46, 60, 60, 44, 46, 3, 1, 41, 3, 44, 6, 60, 41, 6, 41, 3, 3, 44, 3, 46, 44, 3, 44, 6, 1, 60, 60, 41, 60, 44, 60, 60, 41, 60, 60, 44, 46, 3, 44, 60, 41, 6, 60, 1, 6, 44, 44, 6, 44, 44, 41, 6, 46, 1, 41] 276.56075620651245\n",
      "Iteration finished / 790.102168824445 [1, 44, 3, 44, 60, 6, 3, 60, 3, 41, 41, 44, 44, 41, 3, 41, 41, 6, 60, 3, 44, 41, 44, 60, 44, 3, 1, 60, 60, 44, 1, 3, 1, 41, 3, 44, 6, 68, 41, 68, 41, 68, 3, 44, 3, 1, 44, 3, 44, 68, 68, 60, 60, 41, 60, 44, 60, 60, 41, 60, 60, 44, 44, 3, 44, 60, 41, 68, 60, 68, 6, 44, 44, 6, 44, 44, 41, 6, 1, 1, 41] 275.63078689575195\n",
      "Iteration finished / 797.3472127664851 [1, 44, 3, 24, 5, 71, 3, 24, 3, 41, 41, 44, 44, 41, 3, 41, 41, 71, 5, 3, 44, 41, 44, 24, 24, 3, 1, 24, 24, 44, 1, 3, 1, 41, 3, 24, 71, 71, 41, 71, 41, 3, 3, 44, 3, 1, 44, 3, 44, 71, 1, 5, 24, 41, 5, 44, 5, 5, 41, 5, 24, 24, 44, 3, 44, 71, 41, 71, 24, 1, 71, 44, 44, 41, 24, 24, 41, 41, 1, 1, 41] 275.93133521080017\n",
      "Iteration finished / 809.6708845503408 [51, 27, 64, 60, 60, 6, 64, 60, 64, 64, 41, 27, 27, 41, 64, 41, 41, 6, 60, 64, 27, 41, 27, 60, 60, 64, 27, 60, 60, 27, 27, 64, 51, 41, 64, 60, 6, 51, 41, 51, 41, 42, 64, 27, 64, 27, 27, 64, 27, 51, 51, 60, 60, 41, 60, 27, 60, 60, 41, 60, 60, 60, 27, 64, 27, 60, 41, 51, 60, 42, 6, 27, 27, 6, 60, 60, 41, 6, 27, 27, 41] 277.0608172416687\n",
      "Iteration finished / 794.247193428145 [1, 44, 3, 52, 5, 6, 3, 52, 3, 41, 41, 44, 44, 41, 3, 41, 41, 6, 5, 3, 44, 41, 44, 52, 52, 3, 1, 52, 52, 44, 1, 3, 1, 41, 3, 52, 6, 6, 41, 6, 41, 3, 3, 44, 3, 1, 44, 3, 44, 6, 1, 52, 52, 41, 5, 44, 5, 5, 41, 5, 52, 44, 44, 3, 44, 5, 41, 6, 52, 1, 6, 44, 44, 6, 52, 52, 41, 6, 1, 1, 41] 275.41567182540894\n",
      "Iteration finished / 808.602764082871 [80, 80, 3, 12, 55, 6, 3, 12, 3, 41, 41, 12, 12, 41, 3, 41, 41, 6, 55, 3, 12, 41, 12, 12, 12, 3, 80, 55, 55, 12, 80, 3, 80, 41, 3, 12, 6, 42, 41, 6, 41, 42, 3, 12, 3, 80, 12, 3, 12, 42, 42, 55, 55, 41, 55, 12, 55, 55, 41, 55, 55, 12, 80, 3, 12, 6, 41, 42, 12, 42, 6, 12, 12, 6, 12, 12, 41, 6, 80, 80, 41] 277.97763872146606\n",
      "Iteration finished / 800.9705375170371 [80, 80, 3, 23, 60, 6, 3, 23, 3, 41, 41, 23, 23, 41, 3, 41, 41, 71, 71, 3, 23, 41, 23, 23, 23, 3, 80, 60, 60, 23, 80, 3, 80, 41, 3, 23, 71, 71, 41, 71, 41, 3, 3, 23, 3, 80, 23, 3, 23, 71, 71, 60, 60, 41, 60, 23, 60, 60, 41, 60, 60, 23, 80, 3, 23, 71, 41, 71, 23, 3, 71, 23, 23, 6, 23, 23, 41, 6, 80, 80, 41] 277.20934891700745\n",
      "All finished\n"
     ]
    }
   ],
   "source": [
    "global_best_solution = []\n",
    "replication = 0\n",
    "n_replication = 10\n",
    "\n",
    "while replication < n_replication:\n",
    "    best_solution = {}\n",
    "    best_run_cost, best_sol , runtime= GA(0, 3, 500, 0.9, 81, 7, flow_TR_81_list, cost_TR_81_list, 0.8, 100)\n",
    "    best_solution['solution'] = best_sol\n",
    "    best_solution['cost'] = best_run_cost\n",
    "    global_best_solution.append(best_solution)\n",
    "    replication += 1\n",
    "    print('Iteration finished /',best_run_cost, best_sol , runtime)\n",
    "print('All finished')   "
   ]
  },
  {
   "cell_type": "code",
   "execution_count": 56,
   "metadata": {},
   "outputs": [
    {
     "name": "stdout",
     "output_type": "stream",
     "text": [
      "Iteration finished / 795.1445771892749 [1, 44, 3, 24, 60, 6, 3, 24, 3, 54, 54, 44, 44, 54, 3, 54, 54, 6, 60, 3, 44, 54, 44, 24, 24, 3, 1, 60, 24, 44, 1, 3, 1, 54, 3, 24, 6, 60, 54, 6, 54, 3, 3, 44, 3, 1, 44, 3, 44, 6, 1, 60, 24, 54, 60, 44, 60, 60, 54, 60, 24, 24, 44, 3, 44, 60, 54, 6, 24, 1, 6, 44, 44, 54, 24, 24, 54, 6, 1, 1, 54] 1391.023931980133\n",
      "Iteration finished / 798.0295782333661 [1, 27, 3, 24, 5, 6, 3, 24, 3, 54, 54, 24, 24, 54, 3, 54, 54, 6, 5, 3, 27, 54, 24, 24, 24, 3, 27, 24, 24, 27, 1, 3, 1, 54, 3, 24, 6, 6, 54, 6, 54, 3, 3, 27, 3, 27, 27, 3, 24, 6, 1, 5, 24, 54, 5, 27, 5, 5, 54, 5, 24, 24, 27, 3, 24, 5, 54, 6, 24, 1, 6, 27, 27, 54, 24, 24, 54, 6, 27, 1, 54] 1385.7694919109344\n",
      "Iteration finished / 803.578062090194 [1, 46, 64, 58, 58, 6, 64, 58, 64, 64, 54, 46, 46, 54, 64, 54, 54, 6, 6, 64, 46, 54, 46, 58, 58, 54, 46, 58, 58, 46, 46, 64, 1, 54, 64, 58, 6, 68, 54, 68, 54, 68, 64, 46, 64, 46, 46, 64, 46, 68, 68, 58, 58, 54, 58, 46, 6, 58, 54, 58, 58, 58, 46, 64, 46, 6, 54, 68, 58, 68, 6, 46, 46, 54, 58, 58, 54, 6, 46, 1, 54] 1385.3548440933228\n",
      "Iteration finished / 791.7099321965293 [1, 44, 3, 44, 60, 6, 3, 60, 3, 54, 54, 44, 44, 54, 3, 54, 54, 6, 60, 3, 44, 54, 44, 60, 44, 3, 1, 60, 60, 44, 1, 3, 1, 54, 3, 44, 6, 68, 54, 68, 54, 68, 3, 44, 3, 1, 44, 3, 44, 68, 68, 60, 60, 54, 60, 44, 60, 60, 54, 60, 60, 44, 44, 3, 44, 60, 54, 68, 60, 68, 6, 44, 44, 54, 44, 44, 54, 6, 1, 1, 54] 1396.6405971050262\n",
      "Iteration finished / 801.0023523940135 [1, 27, 3, 5, 5, 6, 3, 5, 3, 54, 54, 27, 27, 54, 3, 54, 54, 6, 5, 3, 27, 54, 27, 5, 5, 3, 27, 5, 5, 27, 1, 3, 1, 54, 3, 5, 6, 68, 54, 68, 54, 68, 3, 27, 3, 27, 27, 3, 27, 68, 68, 5, 5, 54, 5, 27, 5, 5, 54, 5, 5, 27, 27, 3, 27, 5, 54, 68, 5, 68, 6, 27, 27, 54, 5, 5, 54, 6, 27, 1, 54] 1383.7431910037994\n",
      "Iteration finished / 801.1660399248605 [80, 80, 3, 23, 55, 6, 3, 23, 3, 54, 54, 23, 23, 54, 3, 54, 54, 6, 55, 3, 23, 54, 23, 23, 23, 3, 80, 55, 55, 23, 80, 3, 80, 54, 3, 23, 6, 38, 54, 38, 54, 3, 3, 23, 3, 80, 23, 3, 23, 38, 38, 55, 55, 54, 55, 23, 55, 38, 54, 55, 55, 23, 80, 3, 23, 38, 54, 38, 23, 38, 6, 23, 23, 54, 23, 23, 54, 6, 80, 80, 54] 1391.3248319625854\n",
      "Iteration finished / 792.7962802150762 [1, 44, 3, 44, 5, 6, 3, 44, 3, 41, 41, 44, 44, 41, 3, 41, 41, 6, 5, 3, 44, 41, 44, 44, 44, 3, 1, 5, 5, 44, 1, 3, 1, 41, 3, 44, 6, 68, 41, 68, 41, 68, 3, 44, 3, 1, 44, 3, 44, 68, 68, 5, 5, 41, 5, 44, 5, 5, 41, 5, 5, 44, 44, 3, 44, 5, 41, 68, 5, 68, 6, 44, 44, 6, 44, 44, 41, 6, 1, 1, 41] 1396.6973390579224\n",
      "Iteration finished / 798.9302993311228 [1, 44, 64, 44, 19, 6, 64, 44, 64, 64, 54, 44, 44, 54, 64, 54, 54, 6, 19, 64, 44, 54, 44, 44, 44, 54, 1, 19, 44, 44, 1, 64, 1, 54, 64, 44, 19, 68, 54, 68, 54, 68, 64, 44, 64, 1, 44, 64, 44, 68, 68, 19, 19, 54, 19, 44, 19, 44, 54, 19, 19, 44, 44, 64, 44, 19, 54, 68, 44, 68, 6, 44, 44, 54, 44, 44, 54, 6, 1, 1, 54] 1396.7717189788818\n",
      "Iteration finished / 798.8634611795908 [1, 44, 3, 44, 55, 6, 3, 55, 3, 41, 41, 44, 44, 41, 3, 41, 41, 6, 55, 3, 44, 41, 44, 58, 44, 3, 1, 55, 58, 44, 1, 3, 1, 41, 3, 44, 6, 58, 41, 6, 41, 3, 3, 44, 3, 1, 44, 3, 44, 6, 1, 55, 55, 41, 55, 44, 55, 58, 41, 58, 55, 44, 44, 3, 44, 6, 41, 6, 58, 1, 6, 44, 44, 6, 44, 44, 41, 6, 1, 1, 41] 1395.433572769165\n",
      "Iteration finished / 798.3487330155918 [33, 46, 3, 23, 60, 6, 3, 23, 3, 41, 41, 23, 23, 41, 3, 41, 41, 6, 60, 3, 23, 41, 23, 23, 23, 3, 46, 60, 60, 23, 46, 3, 33, 41, 3, 23, 6, 60, 41, 6, 41, 3, 3, 23, 3, 46, 23, 3, 23, 6, 33, 60, 60, 41, 60, 23, 60, 60, 41, 60, 60, 23, 46, 3, 23, 60, 41, 6, 23, 33, 6, 23, 23, 6, 23, 23, 41, 6, 46, 46, 41] 1390.9674780368805\n",
      "All finished\n"
     ]
    }
   ],
   "source": [
    "global_best_solution = []\n",
    "replication = 0\n",
    "n_replication = 10\n",
    "\n",
    "while replication < n_replication:\n",
    "    best_solution = {}\n",
    "    best_run_cost, best_sol , runtime= GA(0, 3, 500, 0.9, 81, 7, flow_TR_81_list, cost_TR_81_list, 0.8, 500)\n",
    "    best_solution['solution'] = best_sol\n",
    "    best_solution['cost'] = best_run_cost\n",
    "    global_best_solution.append(best_solution)\n",
    "    replication += 1\n",
    "    print('Iteration finished /',best_run_cost, best_sol , runtime)\n",
    "print('All finished')   "
   ]
  },
  {
   "cell_type": "code",
   "execution_count": 42,
   "metadata": {},
   "outputs": [
    {
     "data": {
      "text/plain": [
       "781.8070423708383"
      ]
     },
     "execution_count": 42,
     "metadata": {},
     "output_type": "execute_result"
    }
   ],
   "source": [
    "solution_test = [1, 1, 3, 60, 60, 6, 3, 60, 45, 45, 3, 23, 23, 6, 3, 41, 41, 6, 6, 3, 23, 41, 23, 60, 60, 3, 1, 60, 60, 23, 1, 3, 1, 41, 45, 60, 6, 6, 41, 6, 41, 6, 3, 23, 45, 1, 23, 3, 23, 6, 6, 60, 60, 41, 60, 23, 60, 60, 41, 60, 60, 60, 1, 3, 23, 6, 6, 6, 60, 6, 6, 23, 23, 6, 60, 23, 41, 6, 1, 1, 41]\n",
    "total_network_cost(solution_test, 81, flow_TR_81_list, cost_TR_81_list, 0.8)\n"
   ]
  },
  {
   "cell_type": "code",
   "execution_count": 405,
   "metadata": {},
   "outputs": [
    {
     "name": "stdout",
     "output_type": "stream",
     "text": [
      "TR81:  Best solution : 790.102168824445  gap:  0.6140699908879691 %\n"
     ]
    }
   ],
   "source": [
    "best_cost = min(global_best_solution, key = lambda item: item['cost'])['cost']\n",
    "best_solution = min(global_best_solution, key = lambda item: item['cost'])['solution']\n",
    "gap = (best_cost-785.28)*100/785.28\n",
    "print('TR81: ','Best solution :',str(best_cost),' gap: ',gap,'%')"
   ]
  },
  {
   "cell_type": "code",
   "execution_count": 406,
   "metadata": {},
   "outputs": [],
   "source": [
    "TR81_7_8 = global_best_solution.copy()"
   ]
  },
  {
   "cell_type": "code",
   "execution_count": 414,
   "metadata": {},
   "outputs": [],
   "source": [
    "pd.DataFrame(TR81_7_8).to_csv('TR81_7_8.csv')"
   ]
  },
  {
   "cell_type": "code",
   "execution_count": 407,
   "metadata": {},
   "outputs": [],
   "source": [
    "pd.DataFrame(TR81_7_8).to_csv('TR81_7_8_t.csv')"
   ]
  },
  {
   "cell_type": "code",
   "execution_count": 408,
   "metadata": {},
   "outputs": [
    {
     "data": {
      "text/plain": [
       "802.8091624401642"
      ]
     },
     "execution_count": 408,
     "metadata": {},
     "output_type": "execute_result"
    }
   ],
   "source": [
    "pd.DataFrame(global_best_solution)['cost'].mean()"
   ]
  },
  {
   "cell_type": "code",
   "execution_count": 433,
   "metadata": {},
   "outputs": [
    {
     "name": "stdout",
     "output_type": "stream",
     "text": [
      "Iteration finished / 1273.285350322742 [1, 1, 1, 20, 14, 20, 20, 97, 20, 12, 14, 12, 14, 14, 14, 17, 17, 12, 1, 20, 17, 12, 1, 14, 17, 17, 12, 1, 17, 1, 17, 97, 1, 20, 17, 17, 14, 97, 1, 1, 1, 14, 17, 14, 97, 1, 47, 1, 12, 12, 17, 17, 20, 20, 97, 17, 17, 1, 17, 1, 14, 12, 20, 20, 97, 1, 17, 17, 97, 12, 20, 47, 20, 20, 47, 97, 14, 20, 47, 1, 47, 12, 1, 17, 97, 1, 47, 14, 12, 1, 1, 47, 97, 47, 14, 47, 97, 17, 47, 14] 422.43046712875366\n",
      "Iteration finished / 1277.9576853765209 [79, 54, 8, 55, 49, 8, 55, 8, 49, 54, 55, 79, 55, 55, 79, 79, 72, 39, 79, 79, 54, 72, 54, 72, 54, 8, 79, 72, 79, 8, 79, 72, 55, 79, 79, 72, 8, 54, 39, 55, 55, 54, 39, 49, 79, 79, 54, 79, 49, 55, 8, 54, 72, 54, 55, 49, 54, 8, 79, 39, 55, 39, 79, 55, 55, 39, 55, 55, 39, 49, 72, 72, 49, 54, 8, 72, 39, 39, 79, 8, 79, 54, 49, 8, 49, 49, 72, 79, 55, 8, 54, 49, 39, 72, 39, 72, 55, 54, 55, 8] 420.62121295928955\n",
      "Iteration finished / 1279.9773970445679 [18, 94, 52, 4, 74, 52, 4, 33, 33, 4, 4, 4, 94, 88, 88, 18, 94, 18, 88, 4, 74, 4, 88, 52, 94, 33, 88, 52, 94, 18, 88, 74, 33, 88, 74, 94, 52, 33, 18, 52, 4, 4, 94, 4, 33, 4, 18, 88, 94, 52, 88, 52, 33, 74, 33, 4, 18, 4, 4, 18, 94, 74, 52, 4, 88, 74, 94, 74, 52, 88, 33, 52, 88, 74, 33, 4, 94, 74, 88, 18, 74, 4, 18, 94, 88, 52, 74, 88, 18, 74, 4, 33, 33, 94, 74, 74, 18, 18, 52, 94] 421.25504875183105\n",
      "Iteration finished / 1277.914739324128 [20, 54, 54, 20, 64, 20, 73, 8, 20, 54, 17, 64, 73, 54, 76, 76, 17, 64, 73, 20, 54, 54, 54, 20, 8, 17, 8, 73, 73, 76, 17, 76, 54, 20, 17, 64, 8, 20, 73, 76, 76, 54, 64, 64, 76, 73, 73, 54, 73, 76, 8, 54, 20, 54, 54, 8, 17, 8, 17, 73, 76, 76, 20, 64, 54, 73, 17, 17, 8, 76, 76, 17, 73, 20, 8, 76, 20, 20, 8, 8, 73, 8, 73, 8, 54, 17, 76, 20, 17, 8, 64, 64, 54, 64, 20, 64, 73, 64, 17, 64] 420.49337697029114\n",
      "Iteration finished / 1271.6325467869624 [73, 15, 76, 4, 15, 20, 73, 97, 20, 73, 17, 4, 4, 15, 15, 76, 17, 73, 15, 20, 17, 4, 73, 20, 15, 17, 73, 73, 4, 76, 17, 76, 73, 20, 73, 15, 73, 15, 15, 76, 76, 97, 17, 4, 97, 4, 73, 4, 73, 76, 73, 17, 20, 20, 15, 17, 17, 4, 17, 73, 20, 76, 20, 20, 97, 73, 76, 17, 97, 76, 76, 76, 73, 20, 4, 76, 20, 20, 20, 73, 15, 73, 73, 17, 4, 17, 73, 20, 17, 97, 4, 4, 97, 4, 20, 15, 97, 17, 20, 76] 420.94331073760986\n",
      "Iteration finished / 1269.355729981514 [58, 48, 9, 4, 48, 20, 76, 20, 9, 4, 17, 4, 4, 9, 76, 17, 17, 4, 9, 20, 17, 4, 9, 58, 48, 17, 58, 58, 4, 58, 58, 76, 58, 20, 17, 58, 17, 20, 9, 76, 48, 4, 9, 4, 58, 4, 17, 48, 58, 76, 58, 17, 20, 20, 4, 9, 17, 58, 17, 48, 9, 76, 20, 9, 9, 48, 48, 9, 4, 76, 76, 76, 20, 20, 58, 76, 20, 20, 20, 48, 9, 17, 58, 9, 58, 17, 76, 58, 58, 48, 20, 4, 9, 4, 20, 4, 4, 48, 17, 9] 421.5372540950775\n",
      "Iteration finished / 1278.4276430914967 [73, 48, 9, 4, 48, 9, 73, 58, 9, 61, 58, 4, 61, 9, 76, 76, 61, 4, 9, 76, 9, 4, 9, 58, 48, 61, 58, 58, 4, 58, 58, 76, 58, 76, 4, 58, 73, 9, 73, 76, 48, 73, 9, 4, 61, 4, 73, 48, 73, 76, 73, 58, 48, 48, 4, 9, 76, 58, 4, 48, 61, 76, 76, 9, 9, 73, 48, 9, 4, 76, 76, 76, 73, 9, 58, 76, 48, 61, 48, 48, 73, 73, 73, 9, 58, 76, 76, 61, 58, 48, 76, 4, 9, 4, 61, 61, 4, 48, 76, 9] 420.6227357387543\n",
      "Iteration finished / 1274.7424877460503 [1, 1, 1, 20, 38, 20, 73, 97, 20, 34, 17, 34, 38, 38, 38, 17, 17, 73, 1, 20, 17, 34, 1, 73, 17, 17, 20, 1, 17, 1, 17, 34, 38, 34, 17, 17, 73, 38, 1, 1, 1, 34, 17, 73, 97, 1, 73, 1, 73, 34, 73, 17, 20, 38, 97, 17, 17, 1, 17, 1, 73, 20, 97, 38, 97, 1, 1, 17, 97, 38, 73, 17, 73, 34, 34, 97, 20, 20, 20, 1, 17, 73, 34, 17, 97, 1, 73, 34, 38, 38, 1, 17, 97, 73, 20, 34, 97, 17, 17, 73] 419.3284521102905\n",
      "Iteration finished / 1276.0530328050104 [1, 1, 9, 20, 74, 20, 20, 21, 9, 1, 14, 14, 14, 14, 14, 20, 1, 9, 1, 20, 21, 21, 54, 14, 14, 9, 14, 1, 20, 1, 1, 74, 54, 74, 14, 9, 14, 74, 1, 74, 1, 54, 74, 14, 74, 14, 54, 21, 9, 9, 1, 54, 20, 54, 54, 9, 21, 1, 20, 1, 14, 74, 20, 9, 9, 1, 21, 9, 14, 9, 74, 9, 20, 74, 20, 1, 14, 21, 20, 1, 74, 74, 21, 9, 54, 1, 74, 21, 21, 1, 1, 21, 54, 20, 14, 74, 14, 21, 14, 9] 420.4663460254669\n",
      "Iteration finished / 1264.4757633671045 [1, 1, 8, 22, 74, 8, 33, 8, 33, 22, 1, 22, 94, 94, 22, 22, 94, 22, 1, 1, 33, 22, 1, 8, 8, 8, 42, 1, 94, 1, 1, 94, 33, 22, 94, 22, 8, 33, 1, 22, 1, 42, 94, 94, 33, 1, 33, 94, 8, 42, 8, 94, 74, 42, 33, 8, 94, 1, 1, 1, 94, 22, 42, 8, 42, 1, 94, 22, 8, 22, 33, 22, 42, 74, 33, 1, 94, 74, 33, 1, 74, 22, 42, 94, 22, 1, 74, 22, 74, 1, 1, 33, 33, 94, 22, 74, 42, 33, 42, 94] 419.5076599121094\n",
      "All finished\n"
     ]
    }
   ],
   "source": [
    "global_best_solution = []\n",
    "replication = 0\n",
    "n_replication = 10\n",
    "\n",
    "while replication < n_replication:\n",
    "    best_solution = {}\n",
    "    best_run_cost, best_sol , runtime= GA(0, 3, 500, 0.9, 100, 7, flow_RGP_100_list, cost_RGP_100_list, 0.2, 100)\n",
    "    best_solution['solution'] = best_sol\n",
    "    best_solution['cost'] = best_run_cost\n",
    "    global_best_solution.append(best_solution)\n",
    "    replication += 1\n",
    "    print('Iteration finished /',best_run_cost, best_sol , runtime)\n",
    "print('All finished')   "
   ]
  },
  {
   "cell_type": "code",
   "execution_count": 434,
   "metadata": {},
   "outputs": [
    {
     "name": "stdout",
     "output_type": "stream",
     "text": [
      "RGP100:  Best solution : 1264.4757633671045  gap:  2.6737306816914974 %\n"
     ]
    }
   ],
   "source": [
    "best_cost = min(global_best_solution, key = lambda item: item['cost'])['cost']\n",
    "best_solution = min(global_best_solution, key = lambda item: item['cost'])['solution']\n",
    "gap = (best_cost-1231.5475)*100/1231.5475\n",
    "print('RGP100: ','Best solution :',str(best_cost),' gap: ',gap,'%')"
   ]
  },
  {
   "cell_type": "code",
   "execution_count": 435,
   "metadata": {},
   "outputs": [],
   "source": [
    "RGP100_7_2 = global_best_solution.copy()"
   ]
  },
  {
   "cell_type": "code",
   "execution_count": 436,
   "metadata": {},
   "outputs": [],
   "source": [
    "pd.DataFrame(RGP100_7_2).to_csv('RGP100_7_2.csv')"
   ]
  },
  {
   "cell_type": "code",
   "execution_count": 437,
   "metadata": {},
   "outputs": [
    {
     "data": {
      "text/plain": [
       "1274.3822375846098"
      ]
     },
     "execution_count": 437,
     "metadata": {},
     "output_type": "execute_result"
    }
   ],
   "source": [
    "pd.DataFrame(global_best_solution)['cost'].mean()"
   ]
  },
  {
   "cell_type": "code",
   "execution_count": 312,
   "metadata": {},
   "outputs": [
    {
     "name": "stdout",
     "output_type": "stream",
     "text": [
      "Iteration finished / 1607.4092913549969 [14, 24, 88, 4, 14, 20, 20, 24, 20, 4, 11, 4, 4, 14, 14, 20, 11, 4, 79, 20, 24, 4, 88, 24, 14, 24, 88, 88, 4, 14, 88, 88, 88, 11, 24, 11, 14, 20, 14, 79, 4, 14, 20, 14, 79, 14, 79, 79, 11, 11, 88, 24, 88, 20, 4, 11, 24, 4, 4, 79, 14, 20, 20, 79, 88, 14, 11, 88, 14, 88, 20, 4, 88, 20, 24, 4, 14, 20, 79, 11, 79, 11, 88, 4, 11, 88, 88, 88, 11, 11, 14, 4, 4, 4, 88, 79, 4, 11, 14, 14] 429.777626991272\n",
      "Iteration finished / 1598.527752606068 [58, 24, 52, 4, 91, 20, 4, 24, 20, 4, 58, 4, 91, 4, 4, 20, 52, 4, 24, 20, 24, 4, 52, 24, 28, 24, 58, 28, 4, 58, 58, 58, 24, 52, 24, 58, 52, 20, 28, 52, 52, 4, 20, 24, 58, 4, 4, 24, 58, 52, 28, 52, 20, 20, 4, 4, 24, 58, 4, 52, 24, 20, 20, 20, 58, 28, 58, 58, 4, 58, 52, 52, 91, 20, 58, 4, 20, 20, 4, 58, 91, 58, 52, 4, 58, 52, 4, 28, 58, 91, 91, 4, 4, 4, 28, 91, 4, 52, 52, 52] 432.98930191993713\n",
      "Iteration finished / 1607.1430976499485 [58, 24, 52, 4, 4, 20, 28, 24, 20, 4, 52, 4, 91, 28, 4, 20, 52, 4, 24, 20, 24, 4, 52, 24, 58, 24, 58, 28, 4, 58, 58, 58, 24, 52, 24, 58, 52, 20, 28, 52, 4, 4, 20, 24, 58, 4, 4, 24, 58, 52, 28, 52, 20, 20, 4, 4, 24, 58, 4, 52, 24, 20, 20, 20, 58, 28, 58, 58, 4, 58, 52, 52, 91, 20, 58, 4, 20, 20, 52, 28, 91, 58, 52, 91, 58, 52, 4, 28, 58, 91, 91, 4, 4, 4, 28, 91, 4, 52, 52, 52] 436.6546711921692\n",
      "Iteration finished / 1607.1430976499485 [58, 24, 52, 4, 4, 20, 28, 24, 20, 4, 52, 4, 91, 28, 4, 20, 52, 4, 24, 20, 24, 4, 52, 24, 58, 24, 58, 28, 4, 58, 58, 58, 24, 52, 24, 58, 52, 20, 28, 52, 4, 4, 20, 24, 58, 4, 4, 24, 58, 52, 28, 52, 20, 20, 4, 4, 24, 58, 4, 52, 24, 20, 20, 20, 58, 28, 58, 58, 4, 58, 52, 52, 91, 20, 58, 4, 20, 20, 52, 28, 91, 58, 52, 91, 58, 52, 4, 28, 58, 91, 91, 4, 4, 4, 28, 91, 4, 52, 52, 52] 435.77909207344055\n",
      "Iteration finished / 1613.3298922569206 [1, 4, 58, 4, 14, 20, 76, 20, 20, 4, 14, 4, 91, 14, 76, 76, 20, 4, 1, 20, 58, 4, 1, 58, 14, 1, 58, 1, 4, 58, 58, 76, 1, 20, 14, 58, 14, 20, 1, 91, 76, 14, 20, 14, 58, 1, 4, 1, 58, 76, 91, 4, 20, 20, 4, 4, 91, 58, 4, 1, 14, 76, 20, 20, 58, 1, 58, 58, 14, 76, 76, 76, 91, 20, 58, 76, 14, 20, 91, 91, 14, 58, 1, 1, 58, 1, 76, 20, 58, 91, 91, 4, 4, 4, 20, 91, 4, 1, 91, 91] 436.31529998779297\n",
      "Iteration finished / 1606.90468031812 [58, 24, 91, 4, 4, 20, 28, 24, 20, 4, 52, 4, 91, 28, 4, 20, 52, 4, 24, 20, 24, 4, 52, 24, 58, 24, 58, 28, 4, 58, 58, 58, 24, 52, 4, 58, 52, 20, 28, 52, 4, 4, 20, 24, 58, 4, 4, 24, 58, 58, 28, 52, 20, 20, 4, 4, 24, 58, 4, 52, 24, 4, 20, 20, 58, 52, 58, 58, 4, 58, 20, 52, 91, 20, 58, 4, 20, 20, 24, 28, 91, 58, 52, 4, 58, 52, 4, 28, 58, 91, 91, 4, 4, 4, 28, 91, 4, 52, 52, 52] 437.12075901031494\n",
      "Iteration finished / 1601.4721877413263 [58, 24, 24, 4, 4, 20, 28, 52, 20, 4, 52, 4, 91, 28, 4, 20, 52, 4, 24, 20, 24, 4, 28, 24, 58, 24, 58, 28, 4, 58, 58, 58, 58, 52, 24, 58, 52, 20, 28, 52, 4, 4, 20, 24, 58, 4, 4, 24, 58, 4, 28, 52, 20, 20, 4, 4, 24, 58, 4, 52, 24, 20, 20, 20, 58, 91, 58, 58, 4, 58, 52, 24, 91, 20, 58, 4, 20, 20, 52, 28, 91, 58, 52, 4, 58, 52, 4, 28, 58, 91, 91, 4, 4, 4, 4, 91, 4, 52, 52, 52] 435.5503821372986\n",
      "Iteration finished / 1614.628575088528 [1, 1, 58, 4, 76, 20, 76, 20, 20, 4, 58, 4, 91, 58, 76, 76, 1, 4, 1, 20, 4, 4, 1, 58, 1, 1, 29, 1, 29, 29, 58, 76, 1, 20, 29, 58, 29, 20, 1, 76, 76, 4, 20, 91, 58, 1, 4, 1, 58, 76, 91, 58, 20, 20, 4, 4, 91, 58, 29, 1, 76, 76, 4, 20, 58, 1, 58, 58, 4, 76, 76, 76, 91, 20, 58, 76, 20, 20, 4, 91, 91, 58, 1, 91, 58, 1, 76, 58, 58, 91, 91, 4, 4, 29, 76, 91, 76, 1, 29, 1] 436.5695822238922\n",
      "Iteration finished / 1610.9248350949001 [1, 1, 1, 4, 76, 20, 76, 28, 20, 4, 58, 4, 91, 28, 76, 76, 20, 4, 1, 20, 28, 4, 1, 58, 58, 20, 58, 28, 4, 58, 58, 76, 1, 20, 1, 58, 91, 20, 1, 76, 76, 4, 20, 91, 58, 1, 4, 1, 58, 76, 28, 58, 20, 20, 4, 4, 91, 58, 4, 1, 76, 76, 20, 20, 58, 1, 58, 58, 4, 76, 76, 76, 91, 20, 58, 76, 20, 20, 20, 91, 91, 58, 1, 91, 58, 1, 76, 91, 58, 1, 91, 4, 4, 4, 76, 91, 4, 1, 91, 91] 439.4999010562897\n",
      "Iteration finished / 1602.693302982647 [58, 24, 52, 4, 4, 20, 4, 24, 20, 4, 52, 4, 91, 28, 4, 58, 52, 4, 24, 20, 24, 4, 52, 24, 58, 24, 58, 28, 4, 58, 58, 58, 58, 52, 24, 58, 28, 20, 28, 58, 52, 4, 20, 24, 58, 4, 4, 24, 58, 52, 28, 52, 20, 20, 4, 4, 24, 58, 4, 52, 24, 20, 58, 20, 58, 28, 4, 58, 4, 58, 52, 52, 20, 20, 58, 4, 20, 20, 52, 28, 91, 58, 52, 91, 58, 52, 4, 28, 58, 91, 91, 4, 4, 4, 28, 91, 4, 52, 52, 52] 437.14767599105835\n",
      "All finished\n"
     ]
    }
   ],
   "source": [
    "global_best_solution = []\n",
    "replication = 0\n",
    "n_replication = 10\n",
    "\n",
    "while replication < n_replication:\n",
    "    best_solution = {}\n",
    "    best_run_cost, best_sol , runtime= GA(0, 10, 1000, 0.2, 100, 7, flow_RGP_100_list, cost_RGP_100_list, 0.8, 50)\n",
    "    best_solution['solution'] = best_sol\n",
    "    best_solution['cost'] = best_run_cost\n",
    "    global_best_solution.append(best_solution)\n",
    "    replication += 1\n",
    "    print('Iteration finished /',best_run_cost, best_sol , runtime)\n",
    "print('All finished')   "
   ]
  },
  {
   "cell_type": "code",
   "execution_count": 313,
   "metadata": {},
   "outputs": [
    {
     "name": "stdout",
     "output_type": "stream",
     "text": [
      "RGP100:  Best solution : 1598.527752606068  gap:  12.694928710931137 %\n"
     ]
    }
   ],
   "source": [
    "best_cost = min(global_best_solution, key = lambda item: item['cost'])['cost']\n",
    "best_solution = min(global_best_solution, key = lambda item: item['cost'])['solution']\n",
    "gap = (best_cost-1418.4558)*100/1418.4558 \n",
    "print('RGP100: ','Best solution :',str(best_cost),' gap: ',gap,'%')"
   ]
  },
  {
   "cell_type": "code",
   "execution_count": 314,
   "metadata": {},
   "outputs": [],
   "source": [
    "RGP100_7_8 = global_best_solution.copy()"
   ]
  },
  {
   "cell_type": "code",
   "execution_count": 315,
   "metadata": {},
   "outputs": [],
   "source": [
    "pd.DataFrame(RGP100_7_8).to_csv('RGP100_7_8.csv')"
   ]
  },
  {
   "cell_type": "code",
   "execution_count": 316,
   "metadata": {},
   "outputs": [
    {
     "data": {
      "text/plain": [
       "1607.0176712743405"
      ]
     },
     "execution_count": 316,
     "metadata": {},
     "output_type": "execute_result"
    }
   ],
   "source": [
    "pd.DataFrame(global_best_solution)['cost'].mean()"
   ]
  },
  {
   "cell_type": "code",
   "execution_count": 438,
   "metadata": {},
   "outputs": [
    {
     "name": "stdout",
     "output_type": "stream",
     "text": [
      "Iteration finished / 1213.8208281995676 [1, 1, 15, 20, 74, 20, 20, 97, 20, 15, 27, 27, 38, 15, 15, 15, 94, 18, 1, 20, 29, 38, 27, 38, 15, 29, 27, 1, 29, 18, 1, 94, 38, 74, 29, 15, 97, 38, 1, 27, 27, 97, 94, 94, 97, 1, 18, 94, 38, 29, 18, 94, 20, 38, 15, 20, 18, 1, 29, 1, 94, 74, 20, 38, 97, 1, 97, 74, 97, 38, 74, 27, 20, 74, 97, 97, 94, 74, 29, 1, 74, 38, 18, 94, 97, 1, 74, 27, 38, 38, 1, 27, 97, 94, 20, 74, 97, 18, 29, 94] 480.4019367694855\n",
      "Iteration finished / 1211.9303881976116 [76, 24, 15, 4, 15, 20, 76, 24, 20, 15, 11, 4, 4, 15, 15, 76, 52, 4, 79, 20, 24, 4, 88, 24, 15, 24, 88, 52, 4, 76, 88, 76, 88, 52, 24, 11, 52, 20, 15, 76, 76, 4, 20, 24, 79, 4, 79, 79, 49, 76, 88, 52, 88, 20, 15, 11, 24, 4, 4, 79, 76, 76, 20, 79, 88, 76, 11, 88, 4, 76, 76, 49, 49, 20, 24, 76, 88, 20, 79, 11, 79, 49, 49, 76, 11, 52, 76, 88, 11, 11, 20, 4, 4, 4, 88, 15, 4, 52, 52, 52] 493.91161489486694\n",
      "Iteration finished / 1213.0095727580274 [1, 1, 15, 20, 15, 20, 20, 24, 20, 15, 79, 79, 38, 15, 15, 15, 52, 15, 79, 20, 24, 34, 1, 24, 15, 24, 88, 1, 29, 29, 88, 88, 38, 34, 24, 15, 52, 38, 1, 52, 1, 34, 20, 24, 79, 1, 79, 79, 38, 34, 88, 52, 88, 38, 15, 20, 24, 1, 29, 1, 88, 20, 20, 79, 88, 1, 34, 38, 52, 38, 52, 52, 88, 20, 34, 1, 88, 20, 79, 1, 79, 38, 34, 34, 88, 52, 88, 88, 38, 38, 1, 24, 88, 29, 88, 34, 15, 52, 29, 52] 496.59971499443054\n",
      "Iteration finished / 1208.7486229664946 [1, 1, 15, 20, 74, 20, 7, 21, 20, 15, 17, 94, 38, 15, 15, 17, 17, 15, 1, 20, 21, 21, 1, 38, 7, 17, 42, 1, 94, 1, 7, 94, 38, 74, 17, 15, 21, 38, 1, 74, 1, 42, 94, 94, 74, 1, 17, 94, 38, 42, 7, 17, 20, 38, 15, 7, 7, 1, 17, 1, 94, 74, 20, 38, 42, 1, 17, 17, 42, 38, 74, 17, 7, 74, 20, 7, 94, 21, 20, 1, 74, 38, 42, 94, 21, 1, 74, 21, 21, 38, 7, 7, 42, 94, 7, 74, 42, 7, 7, 94] 495.3149480819702\n",
      "Iteration finished / 1210.0146514576284 [1, 1, 15, 20, 15, 20, 20, 24, 20, 15, 11, 79, 94, 15, 15, 15, 52, 11, 79, 20, 24, 15, 1, 24, 15, 24, 88, 1, 24, 1, 88, 94, 88, 52, 24, 11, 52, 20, 1, 52, 1, 83, 94, 24, 79, 1, 79, 94, 83, 11, 88, 52, 88, 20, 15, 11, 24, 1, 52, 1, 94, 20, 20, 79, 88, 1, 11, 88, 52, 88, 52, 52, 83, 20, 24, 1, 94, 20, 79, 11, 79, 11, 83, 94, 11, 52, 88, 88, 11, 1, 1, 24, 88, 94, 88, 15, 83, 52, 52, 52] 484.25947403907776\n",
      "Iteration finished / 1213.0860016791191 [1, 48, 1, 20, 48, 20, 76, 24, 20, 54, 11, 34, 1, 11, 76, 76, 11, 11, 1, 20, 24, 34, 54, 24, 48, 24, 29, 1, 29, 29, 48, 76, 54, 34, 24, 11, 97, 97, 1, 76, 48, 54, 20, 24, 97, 1, 54, 48, 54, 76, 11, 54, 20, 54, 54, 11, 24, 1, 29, 1, 76, 76, 20, 20, 97, 1, 48, 34, 97, 76, 76, 76, 20, 20, 34, 76, 20, 20, 29, 48, 34, 54, 34, 48, 97, 1, 76, 34, 11, 48, 1, 24, 54, 29, 24, 34, 97, 48, 29, 1] 488.2313690185547\n",
      "Iteration finished / 1211.8910604067069 [1, 1, 8, 11, 74, 8, 33, 8, 33, 42, 11, 11, 94, 11, 88, 17, 17, 11, 49, 17, 17, 33, 1, 11, 8, 17, 88, 1, 94, 1, 88, 94, 33, 11, 17, 11, 8, 33, 1, 74, 1, 42, 94, 94, 33, 1, 33, 94, 49, 42, 8, 17, 88, 42, 33, 11, 11, 1, 17, 1, 94, 74, 42, 8, 88, 1, 11, 17, 8, 88, 33, 49, 49, 74, 11, 17, 94, 74, 33, 11, 74, 17, 49, 94, 11, 1, 74, 88, 74, 1, 1, 49, 33, 94, 88, 74, 42, 11, 42, 94] 484.09990882873535\n",
      "Iteration finished / 1216.0066666644616 [79, 24, 15, 4, 15, 20, 7, 24, 20, 15, 11, 4, 7, 15, 15, 15, 52, 4, 79, 20, 24, 4, 88, 24, 7, 24, 88, 52, 4, 7, 88, 94, 88, 52, 24, 11, 52, 20, 15, 52, 4, 4, 94, 24, 79, 4, 79, 94, 11, 11, 88, 52, 88, 20, 15, 7, 24, 4, 4, 79, 94, 20, 20, 79, 88, 7, 11, 88, 4, 88, 52, 52, 7, 20, 24, 7, 94, 20, 79, 11, 79, 11, 88, 94, 11, 52, 88, 88, 11, 11, 7, 7, 4, 94, 7, 15, 94, 52, 7, 52] 494.82465529441833\n",
      "Iteration finished / 1208.240750938131 [76, 24, 15, 20, 15, 20, 76, 24, 20, 12, 11, 12, 61, 15, 15, 76, 52, 11, 79, 20, 24, 12, 88, 24, 15, 24, 88, 52, 24, 76, 88, 76, 88, 52, 24, 11, 52, 20, 15, 76, 76, 61, 20, 24, 79, 24, 79, 79, 12, 76, 88, 52, 88, 20, 15, 11, 24, 20, 52, 79, 61, 12, 20, 79, 88, 76, 11, 88, 52, 76, 76, 52, 88, 20, 24, 76, 88, 61, 79, 11, 79, 12, 88, 76, 11, 52, 76, 88, 12, 11, 20, 24, 76, 61, 88, 15, 15, 52, 52, 52] 487.6066081523895\n",
      "Iteration finished / 1212.834567262597 [1, 1, 8, 20, 76, 20, 76, 8, 20, 12, 11, 12, 1, 11, 76, 76, 52, 11, 1, 20, 54, 12, 54, 11, 8, 29, 12, 1, 29, 29, 1, 76, 54, 34, 29, 11, 8, 20, 1, 76, 76, 54, 20, 52, 76, 1, 54, 1, 12, 76, 8, 52, 20, 54, 54, 11, 11, 1, 29, 1, 76, 12, 20, 8, 12, 1, 34, 34, 52, 76, 76, 52, 20, 20, 34, 76, 20, 20, 52, 11, 34, 12, 34, 34, 11, 52, 76, 34, 12, 1, 1, 11, 54, 29, 20, 34, 76, 52, 29, 52] 489.6080892086029\n",
      "All finished\n"
     ]
    }
   ],
   "source": [
    "global_best_solution = []\n",
    "replication = 0\n",
    "n_replication = 10\n",
    "\n",
    "while replication < n_replication:\n",
    "    best_solution = {}\n",
    "    best_run_cost, best_sol , runtime= GA(0, 10, 500, 0.2, 100, 10, flow_RGP_100_list, cost_RGP_100_list, 0.2, 100)\n",
    "    best_solution['solution'] = best_sol\n",
    "    best_solution['cost'] = best_run_cost\n",
    "    global_best_solution.append(best_solution)\n",
    "    replication += 1\n",
    "    print('Iteration finished /',best_run_cost, best_sol , runtime)\n",
    "print('All finished')   "
   ]
  },
  {
   "cell_type": "code",
   "execution_count": 439,
   "metadata": {},
   "outputs": [
    {
     "name": "stdout",
     "output_type": "stream",
     "text": [
      "RGP100:  Best solution : 1208.240750938131  gap:  2.4495444055829725 %\n"
     ]
    }
   ],
   "source": [
    "best_cost = min(global_best_solution, key = lambda item: item['cost'])['cost']\n",
    "best_solution = min(global_best_solution, key = lambda item: item['cost'])['solution']\n",
    "gap = (best_cost-1179.352)*100/1179.352\n",
    "print('RGP100: ','Best solution :',str(best_cost),' gap: ',gap,'%')"
   ]
  },
  {
   "cell_type": "code",
   "execution_count": 440,
   "metadata": {},
   "outputs": [],
   "source": [
    "RGP100_10_2 = global_best_solution.copy()"
   ]
  },
  {
   "cell_type": "code",
   "execution_count": 441,
   "metadata": {},
   "outputs": [],
   "source": [
    "pd.DataFrame(RGP100_10_2).to_csv('RGP100_10_2.csv')"
   ]
  },
  {
   "cell_type": "code",
   "execution_count": 442,
   "metadata": {},
   "outputs": [
    {
     "data": {
      "text/plain": [
       "1211.9583110530345"
      ]
     },
     "execution_count": 442,
     "metadata": {},
     "output_type": "execute_result"
    }
   ],
   "source": [
    "pd.DataFrame(global_best_solution)['cost'].mean()"
   ]
  },
  {
   "cell_type": "code",
   "execution_count": 318,
   "metadata": {},
   "outputs": [
    {
     "name": "stdout",
     "output_type": "stream",
     "text": [
      "Iteration finished / 1594.4300272568273 [76, 54, 36, 4, 5, 20, 76, 24, 20, 15, 36, 4, 4, 15, 15, 76, 52, 4, 4, 20, 24, 4, 54, 24, 15, 24, 24, 52, 4, 5, 76, 76, 54, 36, 24, 36, 97, 97, 15, 76, 36, 54, 5, 24, 97, 4, 5, 5, 15, 76, 76, 52, 20, 54, 15, 5, 24, 4, 4, 36, 76, 76, 20, 5, 97, 36, 97, 5, 97, 76, 76, 76, 20, 5, 36, 76, 36, 20, 20, 5, 15, 36, 36, 76, 36, 52, 36, 52, 5, 4, 54, 4, 54, 36, 36, 15, 97, 52, 52, 52] 479.0997009277344\n",
      "Iteration finished / 1596.670394602193 [1, 1, 58, 20, 14, 20, 73, 24, 20, 54, 11, 11, 14, 14, 14, 20, 11, 11, 1, 20, 24, 34, 54, 24, 14, 24, 29, 1, 29, 54, 73, 58, 29, 34, 24, 11, 73, 20, 1, 34, 1, 54, 20, 14, 58, 1, 73, 1, 73, 34, 73, 54, 20, 54, 54, 11, 24, 58, 29, 1, 14, 20, 20, 20, 58, 1, 34, 58, 14, 34, 1, 11, 73, 20, 11, 1, 14, 20, 29, 11, 73, 54, 34, 73, 11, 1, 73, 34, 1, 1, 1, 24, 54, 29, 20, 34, 73, 11, 29, 14] 481.59674406051636\n",
      "Iteration finished / 1590.4489126613018 [76, 5, 15, 4, 5, 20, 76, 24, 20, 15, 52, 4, 4, 15, 15, 76, 52, 4, 88, 20, 24, 4, 88, 24, 15, 24, 88, 72, 4, 5, 88, 72, 88, 52, 24, 15, 97, 97, 15, 76, 76, 97, 5, 24, 97, 4, 5, 5, 15, 76, 88, 52, 88, 20, 15, 5, 24, 4, 4, 72, 76, 76, 20, 5, 88, 76, 97, 5, 97, 76, 76, 72, 88, 5, 97, 76, 88, 20, 52, 5, 15, 76, 88, 76, 97, 52, 5, 88, 5, 4, 20, 4, 72, 4, 88, 15, 97, 52, 52, 52] 484.55909514427185\n",
      "Iteration finished / 1585.0186271829903 [72, 5, 15, 4, 5, 97, 24, 24, 15, 15, 27, 4, 38, 15, 15, 15, 52, 4, 88, 4, 24, 4, 27, 24, 15, 24, 27, 72, 4, 5, 88, 72, 38, 52, 24, 15, 97, 38, 15, 27, 27, 97, 5, 24, 97, 4, 5, 5, 38, 52, 88, 52, 88, 38, 15, 5, 24, 38, 4, 72, 88, 24, 97, 38, 88, 5, 97, 38, 97, 38, 72, 72, 88, 27, 97, 97, 88, 27, 52, 5, 15, 38, 88, 27, 97, 52, 5, 88, 38, 38, 4, 27, 72, 4, 88, 15, 97, 52, 52, 52] 494.6535921096802\n",
      "Iteration finished / 1585.0186271829903 [72, 5, 15, 4, 5, 97, 24, 24, 15, 15, 27, 4, 38, 15, 15, 15, 52, 4, 88, 4, 24, 4, 27, 24, 15, 24, 27, 72, 4, 5, 88, 72, 38, 52, 24, 15, 97, 38, 15, 27, 27, 97, 5, 24, 97, 4, 5, 5, 38, 52, 88, 52, 88, 38, 15, 5, 24, 38, 4, 72, 88, 24, 97, 38, 88, 5, 97, 38, 97, 38, 72, 72, 88, 27, 97, 97, 88, 27, 52, 5, 15, 38, 88, 27, 97, 52, 5, 88, 38, 38, 4, 27, 72, 4, 88, 15, 97, 52, 52, 52] 498.7208173274994\n",
      "Iteration finished / 1597.1069067929047 [1, 1, 8, 4, 76, 20, 76, 8, 20, 34, 17, 4, 38, 38, 76, 17, 17, 4, 1, 20, 17, 4, 1, 26, 8, 26, 58, 1, 4, 58, 58, 76, 38, 34, 17, 58, 8, 38, 1, 76, 76, 34, 17, 4, 58, 1, 17, 1, 58, 76, 8, 17, 20, 38, 4, 8, 26, 58, 17, 1, 76, 76, 20, 38, 58, 1, 34, 58, 4, 38, 76, 76, 20, 20, 34, 76, 20, 20, 8, 1, 26, 38, 34, 17, 58, 1, 76, 34, 38, 38, 1, 4, 4, 4, 20, 34, 4, 17, 17, 26] 484.6213722229004\n",
      "Iteration finished / 1597.152505698316 [58, 54, 8, 20, 64, 20, 64, 8, 9, 54, 17, 64, 49, 9, 49, 20, 17, 9, 49, 20, 54, 38, 54, 38, 8, 17, 38, 72, 54, 58, 58, 72, 38, 20, 17, 9, 8, 38, 49, 64, 38, 54, 64, 64, 58, 38, 17, 9, 49, 9, 8, 54, 20, 54, 54, 9, 17, 58, 17, 72, 9, 8, 20, 64, 9, 9, 17, 9, 8, 38, 72, 72, 49, 38, 20, 20, 20, 20, 8, 8, 49, 54, 49, 9, 54, 49, 49, 58, 38, 38, 64, 64, 54, 64, 20, 72, 38, 64, 17, 9] 491.8158197402954\n",
      "Iteration finished / 1593.7423291599548 [58, 24, 15, 4, 15, 20, 20, 24, 20, 15, 11, 4, 38, 15, 15, 15, 11, 4, 49, 20, 24, 4, 27, 24, 15, 24, 27, 58, 29, 29, 58, 58, 38, 11, 24, 11, 27, 38, 15, 27, 27, 4, 27, 24, 58, 4, 4, 27, 49, 11, 58, 58, 20, 38, 15, 11, 24, 58, 29, 38, 11, 20, 20, 38, 58, 38, 11, 58, 4, 38, 58, 27, 49, 27, 58, 4, 20, 27, 29, 11, 49, 38, 49, 27, 11, 49, 4, 27, 38, 38, 20, 27, 4, 29, 24, 29, 27, 11, 29, 27] 502.6016628742218\n",
      "Iteration finished / 1582.6207578924448 [76, 5, 15, 4, 5, 97, 76, 52, 15, 15, 52, 4, 4, 15, 15, 76, 52, 15, 88, 4, 4, 4, 88, 24, 15, 4, 88, 72, 4, 5, 88, 72, 55, 52, 24, 15, 97, 97, 15, 76, 76, 97, 5, 24, 97, 4, 5, 5, 15, 76, 88, 52, 88, 55, 55, 76, 24, 4, 4, 76, 76, 76, 97, 5, 55, 76, 97, 5, 97, 76, 76, 72, 88, 5, 97, 76, 15, 15, 52, 5, 15, 76, 88, 76, 97, 52, 5, 88, 5, 5, 76, 4, 72, 4, 88, 15, 97, 52, 15, 52] 487.87422013282776\n",
      "Iteration finished / 1594.3305685195476 [1, 1, 58, 4, 14, 20, 76, 24, 20, 4, 11, 4, 91, 14, 76, 76, 11, 4, 1, 20, 24, 4, 1, 24, 14, 24, 58, 1, 4, 30, 58, 76, 30, 11, 24, 11, 14, 20, 1, 76, 76, 14, 20, 14, 58, 1, 4, 1, 58, 76, 91, 58, 20, 20, 4, 11, 24, 58, 4, 1, 14, 76, 20, 20, 30, 1, 11, 58, 14, 76, 76, 76, 91, 20, 58, 76, 14, 20, 91, 11, 91, 58, 30, 91, 11, 1, 76, 58, 11, 30, 91, 4, 4, 4, 30, 91, 4, 11, 91, 91] 505.58063197135925\n",
      "All finished\n"
     ]
    }
   ],
   "source": [
    "global_best_solution = []\n",
    "replication = 0\n",
    "n_replication = 10\n",
    "\n",
    "while replication < n_replication:\n",
    "    best_solution = {}\n",
    "    best_run_cost, best_sol , runtime= GA(0, 10, 500, 0.2, 100, 10, flow_RGP_100_list, cost_RGP_100_list, 0.8, 100)\n",
    "    best_solution['solution'] = best_sol\n",
    "    best_solution['cost'] = best_run_cost\n",
    "    global_best_solution.append(best_solution)\n",
    "    replication += 1\n",
    "    print('Iteration finished /',best_run_cost, best_sol , runtime)\n",
    "print('All finished')   "
   ]
  },
  {
   "cell_type": "code",
   "execution_count": 319,
   "metadata": {},
   "outputs": [
    {
     "name": "stdout",
     "output_type": "stream",
     "text": [
      "RGP100:  Best solution : 1582.6207578924448  gap:  12.385767280749953 %\n"
     ]
    }
   ],
   "source": [
    "best_cost = min(global_best_solution, key = lambda item: item['cost'])['cost']\n",
    "best_solution = min(global_best_solution, key = lambda item: item['cost'])['solution']\n",
    "gap = (best_cost-1408.2039)*100/1408.2039\n",
    "print('RGP100: ','Best solution :',str(best_cost),' gap: ',gap,'%')"
   ]
  },
  {
   "cell_type": "code",
   "execution_count": 320,
   "metadata": {},
   "outputs": [],
   "source": [
    "RGP100_10_8 = global_best_solution.copy()"
   ]
  },
  {
   "cell_type": "code",
   "execution_count": 321,
   "metadata": {},
   "outputs": [],
   "source": [
    "pd.DataFrame(RGP100_10_8).to_csv('RGP100_10_8.csv')"
   ]
  },
  {
   "cell_type": "code",
   "execution_count": 322,
   "metadata": {},
   "outputs": [
    {
     "data": {
      "text/plain": [
       "1591.653965694947"
      ]
     },
     "execution_count": 322,
     "metadata": {},
     "output_type": "execute_result"
    }
   ],
   "source": [
    "pd.DataFrame(global_best_solution)['cost'].mean()"
   ]
  },
  {
   "cell_type": "code",
   "execution_count": 443,
   "metadata": {},
   "outputs": [
    {
     "name": "stdout",
     "output_type": "stream",
     "text": [
      "Iteration finished / 1301.2231211078422 [95, 99, 95, 99, 10, 111, 17, 111, 17, 10, 17, 10, 38, 17, 111, 99, 17, 10, 99, 10, 111, 38, 99, 99, 17, 10, 10, 17, 17, 10, 99, 17, 111, 17, 95, 111, 17, 38, 111, 95, 95, 123, 95, 38, 123, 99, 99, 10, 111, 111, 17, 17, 17, 123, 17, 111, 17, 99, 95, 95, 111, 10, 123, 10, 38, 38, 10, 17, 10, 99, 99, 10, 99, 99, 17, 123, 38, 111, 17, 123, 95, 123, 17, 10, 95, 111, 17, 123, 17, 95, 99, 99, 95, 38, 95, 99, 111, 123, 99, 10, 10, 95, 99, 99, 111, 95, 123, 38, 17, 10, 111, 123, 99, 17, 95, 99, 38, 38, 10, 10, 17, 10, 123, 17, 10, 95, 111, 123, 95, 99] 714.8017110824585\n",
      "Iteration finished / 1315.8668368697167 [45, 123, 4, 4, 4, 45, 17, 106, 17, 106, 17, 93, 16, 17, 123, 16, 17, 106, 106, 106, 106, 106, 4, 106, 17, 106, 123, 17, 4, 45, 4, 17, 93, 17, 45, 93, 16, 16, 45, 106, 93, 123, 106, 45, 45, 106, 106, 106, 4, 16, 106, 17, 17, 123, 17, 106, 17, 17, 45, 45, 17, 16, 123, 93, 45, 45, 4, 93, 17, 4, 45, 93, 123, 93, 4, 123, 93, 4, 17, 123, 106, 123, 17, 4, 123, 45, 106, 4, 45, 4, 93, 45, 93, 45, 17, 16, 4, 123, 17, 45, 45, 45, 4, 4, 45, 106, 16, 106, 16, 16, 123, 16, 106, 45, 4, 16, 123, 4, 106, 45, 17, 45, 123, 45, 16, 4, 16, 123, 45, 93] 712.3057169914246\n",
      "Iteration finished / 1312.6037753348405 [45, 14, 45, 128, 128, 45, 94, 74, 74, 45, 49, 45, 14, 14, 128, 74, 128, 40, 49, 74, 74, 40, 40, 94, 49, 74, 14, 14, 94, 40, 94, 74, 49, 128, 45, 14, 128, 94, 45, 40, 40, 94, 14, 45, 45, 94, 14, 94, 49, 74, 14, 14, 40, 94, 14, 128, 14, 40, 74, 45, 94, 40, 94, 14, 49, 45, 45, 14, 40, 74, 45, 14, 94, 74, 94, 49, 14, 45, 74, 14, 40, 14, 45, 14, 40, 40, 40, 49, 49, 40, 49, 94, 74, 94, 74, 14, 40, 128, 94, 45, 45, 45, 14, 94, 45, 49, 74, 40, 128, 128, 49, 128, 128, 45, 128, 74, 74, 74, 94, 40, 74, 40, 128, 74, 128, 14, 94, 128, 45, 128] 717.0811259746552\n",
      "Iteration finished / 1308.4936471999247 [93, 99, 95, 99, 10, 93, 17, 58, 17, 10, 17, 10, 93, 17, 58, 99, 17, 10, 99, 10, 10, 58, 99, 58, 17, 10, 10, 17, 17, 10, 99, 17, 93, 17, 95, 95, 17, 10, 123, 95, 93, 123, 95, 93, 123, 99, 99, 10, 58, 99, 17, 17, 17, 123, 17, 99, 58, 58, 95, 95, 17, 10, 123, 93, 58, 93, 10, 93, 10, 58, 99, 10, 99, 93, 17, 123, 93, 58, 17, 123, 95, 123, 17, 10, 95, 123, 17, 123, 17, 95, 93, 99, 93, 58, 95, 93, 17, 123, 99, 10, 10, 95, 58, 99, 10, 95, 123, 58, 17, 10, 123, 123, 99, 17, 95, 99, 123, 95, 10, 10, 17, 10, 123, 58, 10, 95, 123, 123, 95, 99] 715.6865530014038\n",
      "Iteration finished / 1294.7762953511701 [87, 122, 114, 122, 87, 95, 17, 114, 114, 95, 17, 87, 123, 17, 123, 87, 17, 37, 114, 87, 87, 87, 37, 122, 17, 114, 114, 114, 17, 37, 87, 17, 37, 17, 95, 122, 37, 122, 87, 87, 95, 123, 114, 87, 123, 95, 87, 114, 95, 87, 114, 17, 37, 123, 17, 114, 87, 17, 95, 95, 37, 37, 123, 87, 37, 87, 95, 122, 17, 122, 114, 37, 95, 37, 17, 123, 114, 114, 122, 123, 95, 123, 114, 37, 95, 87, 87, 87, 37, 95, 95, 114, 95, 37, 95, 114, 17, 123, 122, 114, 87, 95, 114, 87, 114, 95, 122, 122, 17, 122, 123, 87, 87, 114, 37, 37, 122, 122, 87, 122, 17, 122, 123, 87, 122, 95, 87, 123, 95, 37] 719.012876033783\n",
      "Iteration finished / 1298.7490196483734 [87, 99, 95, 99, 87, 10, 105, 87, 76, 10, 76, 10, 105, 105, 105, 99, 99, 10, 76, 87, 87, 87, 99, 76, 120, 10, 10, 76, 120, 10, 87, 120, 95, 99, 95, 76, 87, 10, 87, 120, 120, 99, 87, 87, 120, 99, 99, 105, 76, 76, 105, 87, 95, 105, 95, 105, 87, 105, 95, 120, 105, 10, 105, 87, 105, 87, 76, 120, 105, 120, 99, 10, 99, 99, 10, 76, 120, 105, 105, 120, 95, 95, 105, 76, 95, 87, 87, 87, 105, 95, 99, 99, 95, 76, 95, 99, 105, 95, 99, 10, 10, 95, 105, 99, 105, 95, 76, 105, 105, 76, 95, 87, 87, 76, 95, 99, 120, 95, 10, 120, 10, 10, 10, 87, 10, 95, 87, 120, 95, 99] 714.9847187995911\n",
      "Iteration finished / 1304.6827250855847 [87, 99, 37, 99, 87, 87, 87, 13, 87, 10, 10, 87, 13, 49, 13, 99, 99, 10, 99, 87, 87, 87, 99, 10, 49, 10, 10, 99, 13, 10, 99, 49, 49, 99, 95, 13, 37, 10, 87, 49, 95, 13, 13, 87, 37, 99, 95, 10, 49, 87, 13, 87, 37, 87, 95, 99, 87, 10, 95, 13, 37, 10, 10, 87, 49, 87, 10, 37, 13, 37, 99, 10, 99, 99, 10, 99, 87, 37, 87, 37, 95, 13, 13, 37, 95, 87, 87, 49, 37, 13, 10, 99, 95, 37, 95, 99, 95, 37, 99, 10, 10, 95, 99, 13, 87, 95, 49, 10, 13, 99, 49, 87, 87, 13, 13, 10, 87, 95, 10, 10, 99, 99, 10, 87, 10, 95, 87, 10, 95, 99] 714.2511191368103\n",
      "Iteration finished / 1302.4056915969513 [87, 99, 95, 99, 87, 117, 105, 87, 87, 117, 87, 87, 43, 105, 105, 43, 43, 43, 117, 117, 87, 40, 99, 99, 95, 95, 117, 99, 87, 40, 87, 117, 95, 99, 95, 95, 87, 87, 117, 40, 95, 99, 43, 87, 117, 43, 117, 43, 95, 87, 105, 87, 40, 105, 95, 43, 87, 43, 95, 95, 105, 40, 105, 87, 105, 87, 43, 87, 105, 99, 99, 99, 99, 99, 40, 99, 87, 105, 105, 117, 117, 95, 105, 99, 95, 87, 87, 87, 105, 40, 99, 99, 95, 40, 95, 117, 105, 95, 99, 117, 87, 95, 105, 99, 105, 95, 105, 105, 43, 95, 95, 87, 87, 43, 95, 99, 117, 40, 43, 40, 43, 43, 87, 87, 87, 95, 117, 95, 95, 117] 717.3074460029602\n",
      "Iteration finished / 1293.953004444638 [87, 122, 95, 122, 87, 111, 17, 87, 17, 10, 17, 10, 105, 105, 111, 87, 17, 10, 95, 87, 87, 87, 87, 111, 17, 10, 10, 17, 17, 10, 87, 17, 111, 17, 95, 122, 87, 10, 87, 87, 95, 111, 122, 87, 95, 95, 87, 105, 111, 111, 105, 17, 17, 105, 17, 105, 87, 105, 95, 95, 105, 10, 122, 87, 105, 87, 10, 122, 105, 122, 10, 10, 95, 111, 17, 105, 87, 111, 122, 111, 95, 95, 105, 10, 95, 87, 87, 87, 105, 95, 95, 111, 95, 17, 95, 111, 111, 111, 122, 10, 10, 95, 105, 87, 105, 95, 122, 105, 17, 122, 111, 87, 87, 17, 95, 105, 122, 122, 10, 10, 17, 122, 10, 87, 122, 95, 87, 10, 95, 105] 716.7480330467224\n",
      "Iteration finished / 1292.929336673016 [87, 99, 37, 99, 87, 95, 17, 87, 87, 95, 17, 87, 123, 17, 123, 99, 17, 37, 99, 87, 37, 87, 99, 99, 17, 17, 123, 17, 87, 37, 17, 17, 37, 17, 95, 122, 37, 122, 87, 87, 95, 123, 122, 87, 123, 99, 99, 87, 95, 87, 17, 99, 37, 123, 17, 99, 87, 17, 95, 95, 37, 37, 123, 87, 37, 87, 95, 122, 17, 122, 99, 37, 99, 99, 17, 17, 37, 95, 122, 123, 95, 123, 17, 37, 95, 87, 87, 87, 37, 95, 99, 99, 95, 37, 95, 99, 37, 123, 99, 87, 87, 95, 37, 99, 122, 95, 122, 122, 17, 122, 123, 87, 87, 17, 37, 37, 122, 122, 87, 122, 17, 122, 123, 37, 122, 95, 87, 123, 95, 99] 714.7029941082001\n",
      "All finished\n"
     ]
    }
   ],
   "source": [
    "global_best_solution = []\n",
    "replication = 0\n",
    "n_replication = 10\n",
    "\n",
    "while replication < n_replication:\n",
    "    best_solution = {}\n",
    "    best_run_cost, best_sol , runtime= GA(0, 3, 500, 0.9, 130, 7, flow_RGP_130_list, cost_RGP_130_list, 0.2, 100)\n",
    "    best_solution['solution'] = best_sol\n",
    "    best_solution['cost'] = best_run_cost\n",
    "    global_best_solution.append(best_solution)\n",
    "    replication += 1\n",
    "    print('Iteration finished /',best_run_cost, best_sol , runtime)\n",
    "print('All finished')   "
   ]
  },
  {
   "cell_type": "code",
   "execution_count": 444,
   "metadata": {},
   "outputs": [
    {
     "name": "stdout",
     "output_type": "stream",
     "text": [
      "RGP130:  Best solution : 1292.929336673016  gap:  3.2217349330954956 %\n"
     ]
    }
   ],
   "source": [
    "best_cost = min(global_best_solution, key = lambda item: item['cost'])['cost']\n",
    "best_solution = min(global_best_solution, key = lambda item: item['cost'])['solution']\n",
    "gap = (best_cost-1252.5747)*100/1252.5747\n",
    "print('RGP130: ','Best solution :',str(best_cost),' gap: ',gap,'%')"
   ]
  },
  {
   "cell_type": "code",
   "execution_count": 445,
   "metadata": {},
   "outputs": [],
   "source": [
    "RGP130_7_2 = global_best_solution.copy()"
   ]
  },
  {
   "cell_type": "code",
   "execution_count": 446,
   "metadata": {},
   "outputs": [],
   "source": [
    "pd.DataFrame(RGP130_7_2).to_csv('RGP130_7_2.csv')"
   ]
  },
  {
   "cell_type": "code",
   "execution_count": 447,
   "metadata": {},
   "outputs": [
    {
     "data": {
      "text/plain": [
       "1302.5683453312058"
      ]
     },
     "execution_count": 447,
     "metadata": {},
     "output_type": "execute_result"
    }
   ],
   "source": [
    "pd.DataFrame(global_best_solution)['cost'].mean()"
   ]
  },
  {
   "cell_type": "code",
   "execution_count": 328,
   "metadata": {},
   "outputs": [
    {
     "name": "stdout",
     "output_type": "stream",
     "text": [
      "Iteration finished / 1638.0458575374287 [87, 99, 95, 99, 87, 111, 105, 87, 122, 10, 10, 10, 105, 105, 111, 99, 99, 10, 99, 87, 87, 87, 99, 99, 95, 10, 10, 111, 87, 10, 87, 99, 111, 99, 95, 122, 87, 10, 87, 87, 95, 99, 122, 87, 95, 99, 99, 105, 111, 111, 105, 87, 95, 105, 95, 105, 87, 105, 95, 95, 105, 10, 122, 87, 105, 87, 10, 122, 105, 122, 99, 10, 99, 99, 122, 99, 87, 111, 122, 111, 95, 95, 105, 10, 95, 87, 87, 87, 105, 95, 99, 99, 95, 99, 95, 99, 111, 111, 99, 10, 10, 95, 105, 99, 105, 95, 122, 105, 122, 122, 111, 87, 87, 95, 95, 99, 122, 122, 10, 10, 10, 122, 10, 87, 122, 95, 87, 10, 95, 99] 713.081326007843\n",
      "Iteration finished / 1641.3827389402768 [8, 122, 95, 122, 10, 8, 8, 8, 122, 10, 10, 10, 8, 26, 122, 10, 26, 10, 8, 10, 10, 95, 8, 26, 95, 26, 10, 26, 95, 10, 10, 8, 95, 102, 95, 122, 26, 10, 8, 122, 95, 26, 122, 102, 102, 121, 26, 10, 102, 102, 26, 102, 121, 8, 8, 26, 8, 102, 95, 95, 26, 10, 122, 10, 121, 122, 10, 122, 10, 122, 10, 10, 95, 102, 8, 8, 8, 122, 26, 121, 95, 26, 8, 102, 95, 8, 10, 102, 122, 95, 26, 102, 95, 26, 95, 26, 26, 102, 122, 10, 102, 102, 122, 102, 10, 95, 122, 122, 122, 122, 95, 8, 26, 95, 95, 8, 121, 121, 10, 10, 121, 122, 10, 8, 122, 26, 122, 10, 95, 10] 714.8758461475372\n",
      "Iteration finished / 1672.0186442438428 [45, 99, 37, 99, 122, 45, 94, 122, 45, 118, 99, 45, 40, 118, 122, 99, 99, 118, 99, 99, 118, 40, 99, 118, 118, 37, 37, 99, 37, 40, 99, 99, 37, 99, 45, 118, 37, 122, 37, 40, 40, 118, 122, 45, 45, 99, 99, 94, 37, 99, 94, 45, 37, 94, 122, 40, 122, 40, 99, 45, 94, 118, 122, 122, 37, 45, 37, 122, 40, 122, 45, 118, 99, 99, 94, 99, 122, 45, 122, 37, 40, 118, 45, 37, 40, 40, 40, 40, 37, 40, 99, 94, 99, 94, 118, 99, 40, 37, 99, 45, 45, 45, 37, 94, 45, 118, 122, 122, 122, 122, 99, 122, 118, 45, 37, 99, 122, 118, 94, 40, 99, 122, 118, 37, 122, 118, 122, 37, 45, 99] 712.9520769119263\n",
      "Iteration finished / 1652.105294873462 [93, 99, 99, 99, 120, 93, 17, 10, 122, 10, 17, 10, 93, 17, 122, 10, 17, 10, 99, 95, 99, 95, 99, 10, 17, 10, 10, 17, 120, 10, 99, 93, 93, 122, 95, 122, 17, 10, 17, 120, 93, 120, 122, 99, 120, 99, 120, 10, 95, 95, 122, 17, 10, 122, 17, 120, 122, 17, 95, 120, 17, 10, 122, 120, 17, 93, 10, 122, 10, 120, 99, 10, 99, 93, 17, 99, 99, 95, 122, 120, 95, 95, 17, 10, 95, 10, 17, 99, 99, 95, 93, 99, 93, 17, 95, 93, 10, 122, 99, 10, 10, 95, 10, 99, 10, 95, 93, 122, 122, 122, 10, 122, 99, 17, 95, 17, 122, 122, 10, 120, 17, 122, 10, 17, 10, 95, 122, 95, 95, 99] 712.1873278617859\n",
      "Iteration finished / 1664.3441341134805 [125, 125, 120, 122, 10, 125, 123, 13, 82, 10, 10, 10, 13, 123, 13, 13, 82, 82, 82, 10, 10, 82, 13, 82, 125, 10, 10, 125, 120, 10, 123, 120, 120, 82, 125, 13, 82, 10, 13, 120, 120, 123, 122, 13, 120, 120, 125, 10, 82, 13, 13, 82, 120, 125, 122, 120, 122, 125, 13, 120, 13, 10, 123, 120, 82, 122, 10, 122, 10, 120, 10, 10, 82, 82, 82, 123, 125, 82, 122, 123, 82, 82, 13, 10, 123, 123, 82, 125, 122, 13, 10, 82, 10, 82, 123, 125, 13, 123, 122, 125, 10, 125, 13, 13, 10, 123, 122, 82, 125, 122, 123, 122, 82, 13, 13, 123, 122, 122, 10, 120, 123, 122, 123, 82, 125, 82, 122, 123, 82, 82] 713.3119277954102\n",
      "Iteration finished / 1642.5936453173465 [87, 8, 87, 8, 87, 111, 8, 8, 123, 10, 21, 10, 8, 21, 111, 87, 21, 10, 21, 10, 21, 87, 8, 111, 84, 10, 10, 111, 87, 10, 87, 8, 111, 10, 8, 111, 87, 10, 8, 87, 84, 123, 84, 87, 123, 84, 21, 21, 111, 111, 111, 84, 21, 123, 8, 111, 84, 21, 84, 8, 111, 84, 123, 87, 10, 87, 10, 84, 10, 8, 84, 10, 84, 8, 8, 123, 8, 21, 111, 123, 84, 123, 8, 84, 123, 87, 87, 21, 8, 123, 10, 111, 10, 21, 123, 84, 111, 123, 87, 10, 10, 8, 21, 21, 111, 123, 21, 8, 111, 10, 111, 8, 87, 21, 84, 84, 10, 21, 87, 10, 123, 10, 123, 87, 8, 87, 111, 123, 10, 21] 713.8272559642792\n",
      "Iteration finished / 1631.2733394797856 [21, 122, 95, 122, 95, 111, 8, 8, 95, 10, 10, 10, 8, 21, 111, 127, 21, 10, 122, 10, 21, 95, 8, 111, 95, 10, 10, 111, 127, 10, 10, 8, 127, 122, 95, 122, 10, 10, 8, 122, 95, 127, 122, 21, 8, 95, 21, 21, 111, 111, 21, 21, 21, 8, 8, 111, 8, 21, 95, 95, 111, 10, 127, 21, 8, 122, 111, 122, 10, 122, 10, 10, 95, 21, 8, 8, 8, 111, 122, 111, 21, 95, 127, 8, 95, 111, 10, 21, 122, 21, 127, 111, 95, 21, 95, 127, 111, 111, 122, 10, 10, 122, 122, 8, 111, 95, 21, 10, 122, 122, 111, 122, 21, 21, 95, 8, 122, 21, 10, 122, 10, 122, 10, 127, 122, 127, 127, 10, 95, 21] 714.295392036438\n",
      "Iteration finished / 1658.0999168000806 [87, 50, 95, 99, 87, 50, 17, 87, 17, 95, 17, 87, 121, 17, 111, 99, 17, 87, 121, 87, 87, 87, 99, 99, 17, 50, 50, 17, 50, 17, 87, 17, 111, 17, 95, 111, 87, 121, 87, 87, 95, 99, 87, 87, 121, 99, 99, 50, 111, 50, 17, 17, 121, 87, 17, 111, 87, 50, 95, 95, 111, 50, 17, 87, 121, 87, 95, 17, 121, 99, 99, 99, 99, 99, 17, 99, 87, 111, 17, 111, 95, 95, 17, 111, 95, 87, 87, 87, 17, 95, 99, 99, 95, 50, 95, 99, 111, 111, 99, 111, 87, 95, 50, 99, 111, 95, 121, 87, 17, 95, 111, 87, 87, 50, 95, 99, 121, 121, 87, 95, 121, 99, 87, 87, 121, 95, 87, 95, 95, 99] 714.3795959949493\n",
      "Iteration finished / 1633.0222379885608 [127, 122, 95, 122, 10, 8, 8, 8, 127, 10, 10, 10, 8, 10, 127, 127, 82, 82, 82, 10, 127, 82, 8, 82, 120, 10, 10, 120, 120, 10, 10, 120, 127, 82, 95, 127, 82, 10, 8, 120, 127, 82, 122, 82, 120, 120, 127, 10, 95, 127, 82, 82, 95, 8, 8, 120, 8, 8, 95, 120, 10, 10, 127, 120, 82, 122, 10, 122, 10, 120, 10, 10, 95, 8, 82, 8, 8, 82, 122, 120, 82, 82, 8, 8, 95, 8, 82, 82, 122, 95, 127, 82, 95, 82, 95, 127, 95, 122, 122, 10, 10, 95, 122, 8, 10, 95, 122, 82, 122, 122, 95, 8, 82, 95, 82, 8, 122, 122, 10, 120, 10, 122, 10, 127, 122, 95, 127, 120, 82, 82] 713.4076988697052\n",
      "Iteration finished / 1642.8630614465337 [87, 95, 95, 95, 87, 10, 17, 87, 17, 10, 17, 10, 105, 105, 123, 87, 17, 10, 95, 87, 87, 87, 30, 10, 17, 10, 30, 17, 17, 30, 87, 17, 30, 17, 95, 30, 87, 30, 87, 87, 95, 123, 87, 30, 123, 95, 30, 105, 30, 87, 105, 17, 17, 105, 17, 105, 87, 105, 30, 95, 105, 10, 123, 87, 105, 87, 10, 30, 105, 30, 10, 10, 95, 87, 17, 123, 87, 105, 17, 123, 95, 123, 105, 30, 95, 87, 87, 87, 105, 95, 95, 30, 95, 17, 95, 123, 105, 123, 87, 10, 10, 95, 105, 87, 105, 95, 105, 105, 30, 10, 123, 87, 87, 17, 95, 123, 123, 95, 10, 10, 17, 30, 123, 87, 10, 30, 87, 123, 95, 30] 712.6337039470673\n",
      "All finished\n"
     ]
    }
   ],
   "source": [
    "global_best_solution = []\n",
    "replication = 0\n",
    "n_replication = 10\n",
    "\n",
    "while replication < n_replication:\n",
    "    best_solution = {}\n",
    "    best_run_cost, best_sol , runtime= GA(0, 10, 500, 0.9, 130, 7, flow_RGP_130_list, cost_RGP_130_list, 0.8, 100)\n",
    "    best_solution['solution'] = best_sol\n",
    "    best_solution['cost'] = best_run_cost\n",
    "    global_best_solution.append(best_solution)\n",
    "    replication += 1\n",
    "    print('Iteration finished /',best_run_cost, best_sol , runtime)\n",
    "print('All finished')   "
   ]
  },
  {
   "cell_type": "code",
   "execution_count": 329,
   "metadata": {},
   "outputs": [
    {
     "name": "stdout",
     "output_type": "stream",
     "text": [
      "RGP130:  Best solution : 1631.2733394797856  gap:  13.764505471622044 %\n"
     ]
    }
   ],
   "source": [
    "best_cost = min(global_best_solution, key = lambda item: item['cost'])['cost']\n",
    "best_solution = min(global_best_solution, key = lambda item: item['cost'])['solution']\n",
    "gap = (best_cost-1433.9036 )*100/1433.9036 \n",
    "print('RGP130: ','Best solution :',str(best_cost),' gap: ',gap,'%')"
   ]
  },
  {
   "cell_type": "code",
   "execution_count": 330,
   "metadata": {},
   "outputs": [],
   "source": [
    "RGP130_7_8 = global_best_solution.copy()"
   ]
  },
  {
   "cell_type": "code",
   "execution_count": 331,
   "metadata": {},
   "outputs": [],
   "source": [
    "pd.DataFrame(RGP130_7_8).to_csv('RGP130_7_8.csv')"
   ]
  },
  {
   "cell_type": "code",
   "execution_count": 332,
   "metadata": {},
   "outputs": [
    {
     "data": {
      "text/plain": [
       "1647.5748870740797"
      ]
     },
     "execution_count": 332,
     "metadata": {},
     "output_type": "execute_result"
    }
   ],
   "source": [
    "pd.DataFrame(global_best_solution)['cost'].mean()"
   ]
  },
  {
   "cell_type": "code",
   "execution_count": 450,
   "metadata": {},
   "outputs": [
    {
     "name": "stdout",
     "output_type": "stream",
     "text": [
      "Iteration finished / 1261.078507122809 [45, 123, 37, 93, 87, 45, 17, 87, 17, 10, 17, 10, 43, 17, 123, 43, 17, 43, 76, 87, 87, 87, 37, 26, 17, 26, 10, 26, 17, 10, 87, 17, 93, 17, 45, 76, 37, 10, 87, 87, 93, 123, 43, 87, 45, 43, 26, 43, 76, 76, 17, 17, 37, 123, 17, 43, 87, 43, 76, 45, 26, 10, 123, 93, 37, 45, 76, 93, 10, 37, 45, 10, 76, 93, 17, 76, 93, 45, 26, 123, 26, 26, 17, 37, 26, 87, 87, 87, 37, 93, 26, 45, 93, 45, 17, 26, 76, 123, 76, 45, 45, 45, 37, 87, 45, 17, 76, 45, 17, 76, 123, 87, 87, 43, 37, 37, 123, 43, 43, 10, 17, 43, 123, 87, 10, 26, 87, 123, 45, 43] 745.9593088626862\n",
      "Iteration finished / 1265.3882127007112 [87, 50, 95, 95, 87, 50, 17, 114, 114, 95, 17, 87, 13, 105, 13, 13, 17, 119, 114, 87, 87, 87, 13, 100, 17, 114, 114, 119, 50, 17, 87, 17, 95, 17, 112, 13, 87, 119, 119, 100, 95, 13, 114, 119, 112, 100, 100, 87, 95, 50, 13, 119, 17, 100, 17, 114, 50, 112, 95, 100, 112, 50, 100, 87, 105, 87, 95, 112, 105, 50, 114, 105, 119, 119, 17, 112, 114, 114, 112, 112, 95, 112, 13, 119, 95, 87, 87, 100, 17, 13, 105, 114, 95, 119, 95, 114, 105, 50, 100, 100, 87, 95, 114, 87, 105, 95, 105, 105, 17, 119, 95, 112, 87, 114, 13, 114, 100, 95, 119, 100, 17, 95, 13, 87, 100, 95, 87, 95, 95, 100] 723.1691272258759\n",
      "Iteration finished / 1275.68182829696 [1, 63, 114, 95, 87, 63, 17, 114, 67, 10, 17, 10, 1, 17, 1, 67, 17, 10, 117, 117, 87, 87, 63, 10, 17, 114, 114, 114, 63, 63, 87, 17, 67, 17, 95, 96, 63, 10, 67, 117, 95, 63, 114, 1, 117, 1, 117, 114, 63, 87, 114, 17, 17, 96, 17, 114, 87, 67, 95, 95, 1, 10, 63, 87, 87, 63, 67, 67, 10, 1, 114, 10, 63, 117, 17, 63, 114, 114, 1, 117, 67, 1, 114, 96, 95, 87, 87, 87, 96, 95, 95, 114, 95, 63, 95, 96, 96, 95, 96, 114, 10, 95, 96, 87, 114, 95, 17, 117, 17, 1, 67, 87, 87, 114, 95, 114, 117, 96, 10, 10, 17, 10, 10, 87, 10, 95, 117, 10, 95, 1] 721.4735381603241\n",
      "Iteration finished / 1269.8987633639967 [93, 125, 37, 122, 10, 6, 105, 6, 93, 10, 10, 10, 90, 105, 105, 10, 122, 10, 122, 10, 90, 90, 36, 6, 71, 10, 10, 125, 6, 10, 105, 93, 93, 36, 36, 36, 37, 10, 6, 122, 93, 93, 122, 125, 37, 90, 125, 105, 6, 6, 90, 36, 37, 105, 122, 105, 122, 125, 71, 10, 105, 10, 122, 93, 105, 93, 10, 122, 105, 122, 71, 10, 93, 93, 122, 36, 93, 122, 71, 37, 90, 71, 105, 37, 71, 37, 6, 90, 37, 90, 90, 36, 93, 37, 10, 90, 105, 37, 122, 125, 10, 125, 105, 37, 105, 122, 122, 105, 71, 122, 10, 122, 125, 125, 37, 37, 122, 122, 10, 10, 10, 122, 10, 36, 125, 71, 122, 10, 36, 125] 726.353807926178\n",
      "Iteration finished / 1258.5136771726102 [21, 125, 112, 122, 87, 125, 8, 8, 127, 10, 10, 10, 8, 21, 111, 127, 21, 10, 21, 87, 21, 87, 8, 111, 112, 10, 10, 112, 87, 10, 87, 8, 127, 122, 112, 127, 87, 10, 8, 87, 127, 127, 122, 44, 44, 44, 125, 21, 111, 111, 87, 112, 21, 125, 8, 112, 8, 21, 8, 8, 112, 10, 127, 87, 8, 87, 10, 122, 10, 44, 10, 10, 44, 8, 8, 112, 8, 111, 112, 125, 21, 112, 111, 8, 112, 87, 87, 21, 112, 127, 112, 44, 10, 21, 10, 44, 44, 111, 122, 125, 10, 125, 122, 87, 111, 44, 21, 122, 44, 122, 111, 112, 87, 125, 8, 8, 44, 21, 10, 10, 112, 122, 10, 87, 125, 87, 127, 44, 10, 21] 726.2069897651672\n",
      "Iteration finished / 1272.1221285822608 [127, 3, 3, 120, 87, 119, 17, 127, 127, 95, 17, 87, 105, 105, 105, 127, 17, 119, 95, 87, 127, 87, 119, 3, 17, 39, 119, 17, 120, 17, 87, 32, 127, 17, 39, 127, 87, 119, 39, 120, 127, 127, 87, 87, 120, 120, 87, 119, 32, 87, 105, 119, 17, 105, 17, 105, 32, 32, 95, 120, 105, 119, 127, 87, 105, 87, 120, 120, 105, 120, 39, 32, 119, 119, 3, 32, 39, 39, 39, 120, 95, 95, 105, 39, 95, 87, 87, 87, 105, 95, 127, 120, 95, 119, 95, 3, 105, 3, 87, 120, 87, 95, 39, 87, 105, 95, 39, 105, 17, 119, 95, 87, 87, 39, 119, 39, 3, 95, 119, 120, 17, 39, 87, 87, 32, 95, 127, 120, 95, 127] 726.9192848205566\n",
      "Iteration finished / 1270.5560761815532 [87, 63, 37, 122, 87, 63, 105, 87, 122, 10, 10, 10, 105, 105, 105, 37, 120, 10, 117, 63, 87, 87, 36, 106, 63, 106, 10, 37, 120, 117, 87, 120, 106, 36, 36, 36, 37, 10, 105, 120, 120, 106, 122, 87, 117, 106, 36, 106, 37, 87, 106, 36, 37, 105, 122, 10, 87, 122, 87, 120, 105, 10, 63, 87, 105, 63, 37, 122, 105, 120, 36, 10, 63, 117, 10, 36, 106, 106, 122, 63, 117, 120, 105, 37, 36, 87, 87, 87, 37, 10, 37, 36, 10, 63, 10, 117, 105, 37, 122, 120, 10, 117, 105, 87, 105, 106, 122, 117, 105, 122, 10, 87, 106, 10, 36, 105, 117, 122, 10, 120, 10, 122, 10, 87, 36, 87, 87, 120, 36, 117] 730.9940659999847\n",
      "Iteration finished / 1261.1677159804226 [87, 125, 95, 99, 87, 125, 17, 87, 17, 95, 100, 87, 51, 17, 111, 16, 17, 87, 99, 87, 87, 87, 99, 100, 17, 51, 111, 17, 17, 17, 87, 17, 111, 17, 95, 122, 87, 16, 51, 100, 95, 99, 122, 87, 100, 99, 125, 100, 111, 111, 51, 17, 17, 100, 17, 111, 87, 125, 95, 100, 111, 51, 100, 87, 87, 87, 95, 122, 17, 122, 99, 99, 99, 99, 17, 99, 125, 111, 122, 125, 95, 95, 17, 111, 95, 87, 87, 100, 122, 95, 100, 99, 95, 16, 95, 16, 111, 111, 99, 100, 87, 16, 122, 99, 111, 95, 122, 122, 16, 122, 111, 87, 87, 125, 95, 99, 122, 122, 87, 100, 17, 122, 87, 87, 125, 95, 16, 95, 95, 100] 727.449982881546\n",
      "Iteration finished / 1260.7656085698243 [87, 125, 114, 122, 87, 101, 17, 114, 114, 10, 17, 10, 51, 17, 123, 87, 17, 10, 114, 101, 87, 87, 125, 101, 17, 114, 114, 114, 17, 10, 87, 17, 95, 17, 95, 122, 87, 10, 51, 87, 95, 123, 114, 87, 123, 101, 125, 114, 101, 87, 51, 17, 17, 125, 17, 114, 87, 125, 95, 95, 101, 51, 123, 87, 101, 87, 10, 122, 10, 122, 114, 10, 95, 51, 17, 123, 125, 114, 122, 123, 95, 123, 114, 10, 95, 87, 87, 87, 122, 101, 51, 114, 95, 114, 95, 114, 101, 123, 101, 114, 101, 125, 114, 87, 114, 95, 122, 122, 101, 122, 123, 87, 87, 114, 95, 114, 122, 122, 10, 10, 17, 122, 123, 87, 125, 95, 87, 123, 95, 101] 728.2395939826965\n",
      "Iteration finished / 1269.948166053321 [87, 5, 95, 99, 5, 64, 17, 13, 17, 95, 64, 87, 13, 17, 13, 99, 17, 87, 99, 87, 87, 87, 99, 100, 49, 64, 64, 17, 17, 64, 87, 64, 49, 17, 64, 13, 87, 13, 51, 100, 95, 13, 100, 87, 100, 5, 51, 100, 49, 87, 51, 17, 17, 100, 17, 99, 87, 5, 5, 100, 17, 51, 100, 64, 49, 87, 95, 51, 17, 99, 99, 5, 99, 99, 17, 99, 5, 5, 64, 51, 95, 13, 13, 99, 95, 87, 87, 100, 49, 13, 100, 99, 95, 64, 95, 5, 17, 95, 99, 100, 5, 95, 64, 99, 100, 95, 5, 49, 17, 64, 49, 87, 87, 13, 13, 99, 100, 95, 87, 100, 17, 99, 64, 87, 5, 95, 87, 95, 95, 100] 727.3594238758087\n",
      "All finished\n"
     ]
    }
   ],
   "source": [
    "global_best_solution = []\n",
    "replication = 0\n",
    "n_replication = 10\n",
    "\n",
    "while replication < n_replication:\n",
    "    best_solution = {}\n",
    "    best_run_cost, best_sol , runtime= GA(0, 3, 500, 0.9, 130, 10, flow_RGP_130_list, cost_RGP_130_list, 0.2, 100)\n",
    "    best_solution['solution'] = best_sol\n",
    "    best_solution['cost'] = best_run_cost\n",
    "    global_best_solution.append(best_solution)\n",
    "    replication += 1\n",
    "    print('Iteration finished /',best_run_cost, best_sol , runtime)\n",
    "print('All finished')   "
   ]
  },
  {
   "cell_type": "code",
   "execution_count": 455,
   "metadata": {},
   "outputs": [
    {
     "name": "stdout",
     "output_type": "stream",
     "text": [
      "RGP130:  Best solution : 1258.5136771726102  gap:  3.907290866463459 %\n"
     ]
    }
   ],
   "source": [
    "best_cost = min(global_best_solution, key = lambda item: item['cost'])['cost']\n",
    "best_solution = min(global_best_solution, key = lambda item: item['cost'])['solution']\n",
    "gap = (best_cost-1211.189 )*100/1211.189 \n",
    "print('RGP130: ','Best solution :',str(best_cost),' gap: ',gap,'%')"
   ]
  },
  {
   "cell_type": "code",
   "execution_count": 452,
   "metadata": {},
   "outputs": [],
   "source": [
    "RGP130_10_2 = global_best_solution.copy()"
   ]
  },
  {
   "cell_type": "code",
   "execution_count": 453,
   "metadata": {},
   "outputs": [],
   "source": [
    "pd.DataFrame(RGP130_10_2).to_csv('RGP130_10_2.csv')"
   ]
  },
  {
   "cell_type": "code",
   "execution_count": 454,
   "metadata": {},
   "outputs": [
    {
     "data": {
      "text/plain": [
       "1266.5120684024466"
      ]
     },
     "execution_count": 454,
     "metadata": {},
     "output_type": "execute_result"
    }
   ],
   "source": [
    "pd.DataFrame(global_best_solution)['cost'].mean()"
   ]
  },
  {
   "cell_type": "code",
   "execution_count": 39,
   "metadata": {},
   "outputs": [
    {
     "name": "stdout",
     "output_type": "stream",
     "text": [
      "Iteration finished / 1651.0864704646688 [91, 99, 3, 99, 91, 103, 103, 103, 93, 10, 10, 95, 16, 93, 3, 16, 99, 10, 121, 10, 10, 95, 99, 3, 10, 10, 10, 99, 95, 10, 99, 95, 93, 99, 3, 122, 16, 10, 103, 91, 95, 91, 122, 91, 91, 99, 10, 16, 95, 16, 99, 99, 103, 122, 95, 122, 91, 3, 103, 95, 91, 10, 122, 93, 121, 93, 10, 122, 10, 122, 99, 10, 99, 93, 95, 99, 93, 122, 122, 91, 91, 95, 103, 10, 95, 10, 99, 103, 91, 122, 91, 99, 93, 16, 95, 3, 95, 93, 99, 10, 10, 16, 103, 91, 91, 95, 122, 122, 16, 122, 99, 91, 99, 103, 95, 99, 122, 121, 10, 10, 121, 122, 10, 95, 122, 95, 16, 103, 95, 99] 729.3996059894562\n",
      "Iteration finished / 1634.514118684081 [21, 20, 75, 122, 87, 69, 17, 8, 17, 82, 17, 87, 20, 17, 123, 20, 17, 82, 82, 20, 21, 87, 8, 82, 17, 8, 69, 20, 20, 17, 87, 17, 69, 17, 75, 122, 87, 75, 8, 75, 21, 123, 122, 87, 123, 20, 21, 20, 75, 20, 17, 17, 17, 123, 17, 8, 69, 21, 75, 69, 75, 75, 123, 87, 82, 75, 75, 122, 69, 122, 69, 123, 82, 8, 75, 123, 8, 82, 20, 123, 82, 82, 17, 20, 75, 87, 87, 21, 122, 21, 69, 82, 17, 69, 17, 123, 75, 123, 122, 20, 20, 75, 20, 87, 69, 17, 21, 82, 17, 69, 123, 8, 87, 21, 82, 8, 75, 21, 87, 20, 17, 122, 123, 87, 122, 20, 87, 69, 82, 82] 735.441771030426\n",
      "Iteration finished / 1651.2186058007346 [1, 86, 114, 122, 10, 114, 12, 114, 86, 10, 1, 12, 10, 108, 1, 12, 114, 10, 12, 10, 90, 86, 86, 90, 108, 114, 114, 114, 12, 86, 108, 12, 90, 1, 115, 122, 108, 10, 90, 86, 95, 12, 114, 1, 86, 12, 12, 114, 95, 95, 90, 12, 95, 86, 108, 114, 108, 95, 95, 114, 90, 10, 122, 10, 115, 122, 10, 122, 10, 122, 114, 10, 95, 12, 86, 86, 114, 114, 1, 108, 90, 86, 114, 10, 95, 86, 12, 12, 122, 90, 90, 114, 115, 122, 95, 114, 1, 86, 122, 114, 10, 95, 114, 1, 114, 95, 122, 108, 12, 95, 95, 122, 12, 114, 115, 114, 122, 122, 10, 10, 10, 122, 10, 108, 122, 115, 1, 10, 90, 108] 728.8217239379883\n",
      "Iteration finished / 1655.5404644896482 [127, 86, 37, 122, 87, 10, 68, 127, 86, 10, 10, 10, 10, 68, 15, 127, 122, 10, 122, 87, 127, 86, 86, 15, 86, 10, 68, 112, 68, 86, 87, 15, 127, 122, 115, 127, 37, 10, 87, 86, 127, 127, 122, 112, 37, 15, 112, 68, 37, 86, 87, 112, 37, 86, 122, 112, 87, 115, 68, 115, 112, 10, 127, 87, 115, 87, 10, 68, 10, 122, 10, 10, 15, 37, 86, 112, 87, 122, 112, 37, 68, 112, 86, 37, 15, 86, 87, 68, 37, 127, 112, 68, 115, 15, 10, 68, 86, 86, 122, 10, 10, 10, 86, 87, 10, 68, 122, 15, 115, 122, 86, 112, 87, 115, 115, 37, 122, 122, 10, 10, 112, 122, 10, 87, 122, 115, 127, 10, 68, 68] 735.5217227935791\n",
      "Iteration finished / 1646.03729321263 [45, 86, 37, 122, 87, 8, 8, 8, 86, 10, 10, 10, 8, 68, 122, 127, 122, 10, 8, 23, 127, 86, 23, 10, 86, 10, 68, 37, 68, 86, 87, 8, 127, 122, 45, 127, 37, 10, 8, 86, 127, 127, 122, 87, 45, 86, 87, 23, 127, 86, 87, 45, 23, 86, 8, 127, 8, 8, 68, 45, 37, 10, 127, 87, 37, 45, 10, 68, 10, 68, 45, 10, 23, 8, 8, 86, 8, 45, 122, 23, 68, 86, 86, 37, 122, 86, 87, 86, 37, 10, 127, 45, 37, 45, 10, 68, 86, 122, 122, 45, 45, 45, 86, 87, 122, 68, 122, 86, 122, 122, 86, 8, 87, 45, 37, 37, 122, 122, 10, 10, 10, 122, 10, 86, 122, 87, 127, 10, 45, 8] 732.5263521671295\n",
      "Iteration finished / 1643.081762972316 [59, 59, 114, 59, 87, 64, 17, 114, 67, 30, 64, 87, 59, 17, 112, 59, 17, 87, 21, 87, 21, 87, 64, 76, 17, 114, 64, 114, 17, 30, 87, 64, 30, 17, 112, 30, 87, 30, 67, 87, 64, 112, 114, 30, 30, 64, 30, 21, 76, 76, 114, 112, 17, 30, 17, 112, 87, 21, 59, 114, 112, 30, 67, 64, 87, 87, 67, 59, 17, 30, 114, 64, 114, 64, 17, 76, 114, 114, 64, 21, 67, 112, 114, 59, 67, 87, 87, 21, 59, 21, 112, 114, 17, 76, 17, 114, 76, 59, 59, 114, 87, 59, 64, 87, 114, 17, 21, 67, 30, 76, 67, 112, 59, 114, 64, 114, 17, 59, 87, 64, 17, 30, 64, 87, 114, 30, 87, 59, 30, 21] 733.8474130630493\n",
      "Iteration finished / 1640.6165934748387 [21, 20, 37, 99, 87, 111, 17, 87, 17, 95, 17, 87, 38, 17, 111, 20, 17, 37, 21, 20, 21, 87, 99, 99, 17, 37, 84, 20, 20, 37, 87, 17, 111, 17, 95, 111, 37, 38, 87, 87, 95, 99, 87, 87, 95, 99, 84, 87, 111, 111, 17, 17, 37, 20, 17, 111, 87, 21, 95, 95, 111, 111, 17, 87, 20, 99, 37, 20, 17, 37, 99, 84, 99, 99, 17, 99, 87, 111, 20, 37, 84, 20, 17, 84, 99, 87, 87, 21, 37, 95, 99, 99, 95, 20, 95, 99, 111, 111, 99, 20, 20, 95, 20, 87, 111, 95, 21, 38, 17, 20, 111, 111, 87, 20, 84, 21, 21, 21, 87, 20, 17, 99, 87, 87, 84, 20, 87, 95, 95, 21] 736.6298959255219\n",
      "Iteration finished / 1638.5479352233315 [21, 112, 114, 8, 87, 8, 8, 8, 127, 127, 21, 87, 8, 21, 75, 127, 75, 126, 21, 117, 21, 87, 8, 112, 112, 114, 114, 127, 126, 45, 87, 8, 127, 126, 112, 127, 87, 75, 8, 112, 127, 127, 114, 112, 45, 114, 112, 21, 75, 126, 87, 112, 75, 8, 8, 112, 8, 21, 87, 45, 112, 75, 127, 87, 8, 45, 87, 75, 21, 8, 114, 126, 114, 8, 75, 112, 8, 114, 112, 21, 126, 112, 114, 8, 75, 87, 87, 126, 112, 126, 112, 114, 126, 45, 126, 114, 75, 117, 87, 114, 112, 45, 114, 87, 45, 127, 21, 8, 126, 75, 8, 112, 87, 114, 126, 8, 117, 21, 117, 45, 112, 8, 8, 21, 114, 126, 127, 112, 45, 126] 734.3705711364746\n",
      "Iteration finished / 1622.4041582753732 [21, 98, 95, 122, 87, 31, 17, 87, 17, 10, 17, 10, 10, 17, 123, 87, 17, 31, 31, 87, 21, 87, 31, 10, 17, 10, 30, 17, 17, 30, 31, 17, 30, 17, 95, 30, 87, 30, 87, 87, 95, 123, 122, 30, 123, 98, 30, 98, 30, 31, 17, 17, 17, 123, 17, 30, 87, 21, 98, 31, 17, 10, 123, 87, 31, 87, 10, 122, 10, 122, 10, 10, 95, 21, 17, 123, 87, 122, 122, 123, 21, 123, 17, 21, 95, 87, 87, 21, 30, 95, 95, 30, 95, 31, 95, 123, 98, 98, 122, 10, 10, 95, 122, 87, 10, 95, 21, 122, 30, 122, 123, 21, 87, 21, 31, 21, 122, 21, 31, 10, 17, 122, 123, 87, 122, 30, 87, 123, 95, 31] 732.6519050598145\n",
      "Iteration finished / 1638.0453234383149 [87, 63, 37, 95, 87, 6, 17, 87, 17, 10, 17, 10, 20, 17, 111, 20, 17, 10, 95, 20, 87, 87, 63, 6, 6, 10, 10, 20, 20, 63, 87, 17, 49, 17, 95, 111, 37, 10, 87, 49, 95, 63, 87, 87, 37, 49, 87, 20, 49, 111, 17, 17, 37, 20, 17, 6, 87, 49, 95, 95, 111, 10, 63, 87, 49, 63, 10, 20, 10, 37, 10, 10, 63, 37, 17, 49, 20, 111, 20, 37, 95, 20, 17, 20, 95, 87, 87, 49, 37, 95, 95, 63, 95, 20, 95, 63, 111, 111, 87, 10, 10, 95, 20, 87, 111, 95, 49, 49, 17, 20, 111, 87, 87, 17, 37, 37, 63, 95, 10, 10, 17, 10, 10, 87, 10, 20, 87, 10, 95, 20] 733.9154260158539\n",
      "All finished\n"
     ]
    }
   ],
   "source": [
    "global_best_solution = []\n",
    "replication = 0\n",
    "n_replication = 10\n",
    "\n",
    "while replication < n_replication:\n",
    "    best_solution = {}\n",
    "    best_run_cost, best_sol , runtime= GA(0, 3, 500, 0.9, 130, 10, flow_RGP_130_list, cost_RGP_130_list, 0.8, 100)\n",
    "    best_solution['solution'] = best_sol\n",
    "    best_solution['cost'] = best_run_cost\n",
    "    global_best_solution.append(best_solution)\n",
    "    replication += 1\n",
    "    print('Iteration finished /',best_run_cost, best_sol , runtime)\n",
    "print('All finished')   "
   ]
  },
  {
   "cell_type": "code",
   "execution_count": 335,
   "metadata": {},
   "outputs": [
    {
     "name": "stdout",
     "output_type": "stream",
     "text": [
      "RGP130:  Best solution : 1616.1070992582686  gap:  14.264698073301636 %\n"
     ]
    }
   ],
   "source": [
    "best_cost = min(global_best_solution, key = lambda item: item['cost'])['cost']\n",
    "best_solution = min(global_best_solution, key = lambda item: item['cost'])['solution']\n",
    "gap = (best_cost-1414.3538)*100/1414.3538\n",
    "print('RGP130: ','Best solution :',str(best_cost),' gap: ',gap,'%')"
   ]
  },
  {
   "cell_type": "code",
   "execution_count": 336,
   "metadata": {},
   "outputs": [],
   "source": [
    "RGP130_10_8 = global_best_solution.copy()"
   ]
  },
  {
   "cell_type": "code",
   "execution_count": 337,
   "metadata": {},
   "outputs": [],
   "source": [
    "pd.DataFrame(RGP130_10_8).to_csv('RGP130_10_8.csv')"
   ]
  },
  {
   "cell_type": "code",
   "execution_count": 338,
   "metadata": {},
   "outputs": [
    {
     "data": {
      "text/plain": [
       "1638.5296644581715"
      ]
     },
     "execution_count": 338,
     "metadata": {},
     "output_type": "execute_result"
    }
   ],
   "source": [
    "pd.DataFrame(global_best_solution)['cost'].mean()"
   ]
  },
  {
   "cell_type": "code",
   "execution_count": null,
   "metadata": {},
   "outputs": [],
   "source": []
  }
 ],
 "metadata": {
  "kernelspec": {
   "display_name": "Python 3",
   "language": "python",
   "name": "python3"
  },
  "language_info": {
   "codemirror_mode": {
    "name": "ipython",
    "version": 3
   },
   "file_extension": ".py",
   "mimetype": "text/x-python",
   "name": "python",
   "nbconvert_exporter": "python",
   "pygments_lexer": "ipython3",
   "version": "3.8.5"
  }
 },
 "nbformat": 4,
 "nbformat_minor": 5
}
