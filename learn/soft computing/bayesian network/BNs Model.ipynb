{
 "cells": [
  {
   "cell_type": "markdown",
   "metadata": {},
   "source": [
    "## Importing libraries"
   ]
  },
  {
   "cell_type": "code",
   "execution_count": 2,
   "metadata": {},
   "outputs": [
    {
     "name": "stdout",
     "output_type": "stream",
     "text": [
      "Collecting pybbn\n",
      "  Downloading pybbn-3.2.1.tar.gz (35 kB)\n",
      "Requirement already satisfied: numpy in /Users/avicenna/opt/anaconda3/lib/python3.8/site-packages (from pybbn) (1.19.2)\n",
      "Requirement already satisfied: scipy in /Users/avicenna/opt/anaconda3/lib/python3.8/site-packages (from pybbn) (1.5.2)\n",
      "Requirement already satisfied: networkx in /Users/avicenna/opt/anaconda3/lib/python3.8/site-packages (from pybbn) (2.5)\n",
      "Requirement already satisfied: pandas in /Users/avicenna/opt/anaconda3/lib/python3.8/site-packages (from pybbn) (1.1.3)\n",
      "Requirement already satisfied: decorator>=4.3.0 in /Users/avicenna/opt/anaconda3/lib/python3.8/site-packages (from networkx->pybbn) (4.4.2)\n",
      "Requirement already satisfied: python-dateutil>=2.7.3 in /Users/avicenna/opt/anaconda3/lib/python3.8/site-packages (from pandas->pybbn) (2.8.1)\n",
      "Requirement already satisfied: pytz>=2017.2 in /Users/avicenna/opt/anaconda3/lib/python3.8/site-packages (from pandas->pybbn) (2020.1)\n",
      "Requirement already satisfied: six>=1.5 in /Users/avicenna/opt/anaconda3/lib/python3.8/site-packages (from python-dateutil>=2.7.3->pandas->pybbn) (1.15.0)\n",
      "Building wheels for collected packages: pybbn\n",
      "  Building wheel for pybbn (setup.py) ... \u001b[?25ldone\n",
      "\u001b[?25h  Created wheel for pybbn: filename=pybbn-3.2.1-py3-none-any.whl size=39725 sha256=c9b47867c2577b7bcbc0b2e08fbb4d90cf8382398a9b3d861cbc3703774e24fc\n",
      "  Stored in directory: /Users/avicenna/Library/Caches/pip/wheels/06/80/2f/0e63fe5497b2917af3b7bdcbb142985ba4e5e5ef9a2c0b14b9\n",
      "Successfully built pybbn\n",
      "Installing collected packages: pybbn\n",
      "Successfully installed pybbn-3.2.1\n"
     ]
    }
   ],
   "source": [
    "import pandas as pd # for data manipulation \n",
    "import networkx as nx # for drawing graphs\n",
    "import matplotlib.pyplot as plt # for drawing graphs\n",
    "\n",
    "# for creating Bayesian Belief Networks (BBN)\n",
    "!pip install pybbn\n",
    "from pybbn.graph.dag import Bbn\n",
    "from pybbn.graph.edge import Edge, EdgeType\n",
    "from pybbn.graph.jointree import EvidenceBuilder\n",
    "from pybbn.graph.node import BbnNode\n",
    "from pybbn.graph.variable import Variable\n",
    "from pybbn.pptc.inferencecontroller import InferenceController"
   ]
  },
  {
   "cell_type": "code",
   "execution_count": null,
   "metadata": {},
   "outputs": [],
   "source": []
  }
 ],
 "metadata": {
  "kernelspec": {
   "display_name": "Python 3",
   "language": "python",
   "name": "python3"
  },
  "language_info": {
   "codemirror_mode": {
    "name": "ipython",
    "version": 3
   },
   "file_extension": ".py",
   "mimetype": "text/x-python",
   "name": "python",
   "nbconvert_exporter": "python",
   "pygments_lexer": "ipython3",
   "version": "3.8.5"
  }
 },
 "nbformat": 4,
 "nbformat_minor": 4
}
